{
 "cells": [
  {
   "cell_type": "markdown",
   "metadata": {},
   "source": [
    "# Health Insurance | Job-A-Thon\n",
    "Author: Miguel Santana\n",
    "\n",
    "### Project Methodology\n",
    "FinMan Company is looking to leverage their client base by cross selling insurance products to existing customers. Insurance policies are offered to prospective and existing clients based on website landing and consumer election to fill out additional information forms. FinMan company would like to leverage their acquired information to classify positive leads for outreach programs using machine learning classifiers. \n",
    "\n",
    "### Data and Analytical Structure\n",
    "The project dataset is provided by Analytics Vidhya via Kaggle. Data includes demographic features, policy features (for current customers) and example positive classifications for ML model validation and interpretation. The source can be found [here.](https://www.kaggle.com/imsparsh/jobathon-analytics-vidhya?select=sample_submission.csv) The project analysis will follow the OSEMN framework: Obtain, Scrub, Explore, Model and Interpret."
   ]
  },
  {
   "cell_type": "markdown",
   "metadata": {},
   "source": [
    "# Data & Packages | Obtain"
   ]
  },
  {
   "cell_type": "code",
   "execution_count": 1,
   "metadata": {
    "ExecuteTime": {
     "end_time": "2021-03-31T22:38:39.966157Z",
     "start_time": "2021-03-31T22:38:38.380667Z"
    }
   },
   "outputs": [],
   "source": [
    "import pandas as pd\n",
    "import matplotlib.pyplot as plt\n",
    "import seaborn as sns\n",
    "import numpy as np\n",
    "pd.set_option('display.max_columns',50)"
   ]
  },
  {
   "cell_type": "code",
   "execution_count": 2,
   "metadata": {
    "ExecuteTime": {
     "end_time": "2021-03-31T22:38:39.969989Z",
     "start_time": "2021-03-31T22:38:39.967854Z"
    }
   },
   "outputs": [],
   "source": [
    "import warnings\n",
    "warnings.filterwarnings('ignore')"
   ]
  },
  {
   "cell_type": "code",
   "execution_count": 3,
   "metadata": {
    "ExecuteTime": {
     "end_time": "2021-03-31T22:38:40.039145Z",
     "start_time": "2021-03-31T22:38:39.972012Z"
    }
   },
   "outputs": [],
   "source": [
    "df = pd.read_csv('train.csv')"
   ]
  },
  {
   "cell_type": "code",
   "execution_count": 4,
   "metadata": {
    "ExecuteTime": {
     "end_time": "2021-03-31T22:38:40.057323Z",
     "start_time": "2021-03-31T22:38:40.041059Z"
    }
   },
   "outputs": [
    {
     "name": "stdout",
     "output_type": "stream",
     "text": [
      "(50882, 14)\n"
     ]
    },
    {
     "data": {
      "text/html": [
       "<div>\n",
       "<style scoped>\n",
       "    .dataframe tbody tr th:only-of-type {\n",
       "        vertical-align: middle;\n",
       "    }\n",
       "\n",
       "    .dataframe tbody tr th {\n",
       "        vertical-align: top;\n",
       "    }\n",
       "\n",
       "    .dataframe thead th {\n",
       "        text-align: right;\n",
       "    }\n",
       "</style>\n",
       "<table border=\"1\" class=\"dataframe\">\n",
       "  <thead>\n",
       "    <tr style=\"text-align: right;\">\n",
       "      <th></th>\n",
       "      <th>ID</th>\n",
       "      <th>City_Code</th>\n",
       "      <th>Region_Code</th>\n",
       "      <th>Accomodation_Type</th>\n",
       "      <th>Reco_Insurance_Type</th>\n",
       "      <th>Upper_Age</th>\n",
       "      <th>Lower_Age</th>\n",
       "      <th>Is_Spouse</th>\n",
       "      <th>Health Indicator</th>\n",
       "      <th>Holding_Policy_Duration</th>\n",
       "      <th>Holding_Policy_Type</th>\n",
       "      <th>Reco_Policy_Cat</th>\n",
       "      <th>Reco_Policy_Premium</th>\n",
       "      <th>Response</th>\n",
       "    </tr>\n",
       "  </thead>\n",
       "  <tbody>\n",
       "    <tr>\n",
       "      <th>0</th>\n",
       "      <td>1</td>\n",
       "      <td>C3</td>\n",
       "      <td>3213</td>\n",
       "      <td>Rented</td>\n",
       "      <td>Individual</td>\n",
       "      <td>36</td>\n",
       "      <td>36</td>\n",
       "      <td>No</td>\n",
       "      <td>X1</td>\n",
       "      <td>14+</td>\n",
       "      <td>3.0</td>\n",
       "      <td>22</td>\n",
       "      <td>11628.0</td>\n",
       "      <td>0</td>\n",
       "    </tr>\n",
       "    <tr>\n",
       "      <th>1</th>\n",
       "      <td>2</td>\n",
       "      <td>C5</td>\n",
       "      <td>1117</td>\n",
       "      <td>Owned</td>\n",
       "      <td>Joint</td>\n",
       "      <td>75</td>\n",
       "      <td>22</td>\n",
       "      <td>No</td>\n",
       "      <td>X2</td>\n",
       "      <td>NaN</td>\n",
       "      <td>NaN</td>\n",
       "      <td>22</td>\n",
       "      <td>30510.0</td>\n",
       "      <td>0</td>\n",
       "    </tr>\n",
       "    <tr>\n",
       "      <th>2</th>\n",
       "      <td>3</td>\n",
       "      <td>C5</td>\n",
       "      <td>3732</td>\n",
       "      <td>Owned</td>\n",
       "      <td>Individual</td>\n",
       "      <td>32</td>\n",
       "      <td>32</td>\n",
       "      <td>No</td>\n",
       "      <td>NaN</td>\n",
       "      <td>1.0</td>\n",
       "      <td>1.0</td>\n",
       "      <td>19</td>\n",
       "      <td>7450.0</td>\n",
       "      <td>1</td>\n",
       "    </tr>\n",
       "  </tbody>\n",
       "</table>\n",
       "</div>"
      ],
      "text/plain": [
       "   ID City_Code  Region_Code Accomodation_Type Reco_Insurance_Type  Upper_Age  \\\n",
       "0   1        C3         3213            Rented          Individual         36   \n",
       "1   2        C5         1117             Owned               Joint         75   \n",
       "2   3        C5         3732             Owned          Individual         32   \n",
       "\n",
       "   Lower_Age Is_Spouse Health Indicator Holding_Policy_Duration  \\\n",
       "0         36        No               X1                     14+   \n",
       "1         22        No               X2                     NaN   \n",
       "2         32        No              NaN                     1.0   \n",
       "\n",
       "   Holding_Policy_Type  Reco_Policy_Cat  Reco_Policy_Premium  Response  \n",
       "0                  3.0               22              11628.0         0  \n",
       "1                  NaN               22              30510.0         0  \n",
       "2                  1.0               19               7450.0         1  "
      ]
     },
     "execution_count": 4,
     "metadata": {},
     "output_type": "execute_result"
    }
   ],
   "source": [
    "print(df.shape)\n",
    "df.head(3)"
   ]
  },
  {
   "cell_type": "markdown",
   "metadata": {},
   "source": [
    "# Data Cleaning | Scrub\n",
    "\n",
    "## Missing Values"
   ]
  },
  {
   "cell_type": "code",
   "execution_count": 5,
   "metadata": {
    "ExecuteTime": {
     "end_time": "2021-03-31T22:38:40.073696Z",
     "start_time": "2021-03-31T22:38:40.058817Z"
    }
   },
   "outputs": [
    {
     "data": {
      "text/plain": [
       "ID                             0\n",
       "City_Code                      0\n",
       "Region_Code                    0\n",
       "Accomodation_Type              0\n",
       "Reco_Insurance_Type            0\n",
       "Upper_Age                      0\n",
       "Lower_Age                      0\n",
       "Is_Spouse                      0\n",
       "Health Indicator           11691\n",
       "Holding_Policy_Duration    20251\n",
       "Holding_Policy_Type        20251\n",
       "Reco_Policy_Cat                0\n",
       "Reco_Policy_Premium            0\n",
       "Response                       0\n",
       "dtype: int64"
      ]
     },
     "execution_count": 5,
     "metadata": {},
     "output_type": "execute_result"
    }
   ],
   "source": [
    "df.isnull().sum()"
   ]
  },
  {
   "cell_type": "markdown",
   "metadata": {},
   "source": [
    "With many of these prospects not clearly identified as current clients, its safe to assume that null values in the 'Policy Duration' and 'Policy Type' columns are tied to non existing accounts and may be filled with zeros."
   ]
  },
  {
   "cell_type": "markdown",
   "metadata": {
    "ExecuteTime": {
     "end_time": "2021-03-18T17:55:00.337592Z",
     "start_time": "2021-03-18T17:55:00.333536Z"
    }
   },
   "source": [
    "**Filling Null Values**"
   ]
  },
  {
   "cell_type": "code",
   "execution_count": 6,
   "metadata": {
    "ExecuteTime": {
     "end_time": "2021-03-31T22:38:40.081260Z",
     "start_time": "2021-03-31T22:38:40.075047Z"
    }
   },
   "outputs": [],
   "source": [
    "nonclients = ['Holding_Policy_Duration','Holding_Policy_Type']\n",
    "\n",
    "for col in nonclients:\n",
    "    df[col] = df[col].fillna(0)"
   ]
  },
  {
   "cell_type": "markdown",
   "metadata": {
    "ExecuteTime": {
     "end_time": "2021-03-18T14:45:09.949102Z",
     "start_time": "2021-03-18T14:45:09.938716Z"
    }
   },
   "source": [
    "Null values in the 'Health Indicator' columns will be filled prior to one hot encoding. \n"
   ]
  },
  {
   "cell_type": "markdown",
   "metadata": {},
   "source": [
    "## Feature Conversions"
   ]
  },
  {
   "cell_type": "code",
   "execution_count": 7,
   "metadata": {
    "ExecuteTime": {
     "end_time": "2021-03-31T22:38:40.084426Z",
     "start_time": "2021-03-31T22:38:40.082602Z"
    }
   },
   "outputs": [],
   "source": [
    "# df.select_dtypes('O').columns"
   ]
  },
  {
   "cell_type": "markdown",
   "metadata": {},
   "source": [
    "\n",
    "Convert to numerical: Holding_Policy_Duration\n",
    "    \n",
    "* Feature engineer long term customers\n",
    "* Convert '14+' to '15' / convert to numerical\n",
    "\n",
    "Note: (**after EDA**) Convert to binary | Accomodation_Type, Reco_Insurance_Type, Is_Spouse\n",
    "\n",
    "#### Categorical Features | Feature Engineering"
   ]
  },
  {
   "cell_type": "code",
   "execution_count": 8,
   "metadata": {
    "ExecuteTime": {
     "end_time": "2021-03-31T22:38:40.101734Z",
     "start_time": "2021-03-31T22:38:40.087324Z"
    }
   },
   "outputs": [],
   "source": [
    "df['Long_Term_Cust'] = df['Holding_Policy_Duration'].apply(lambda x: 'Yes' if x == '14+' else 'No')\n",
    "df['Holding_Policy_Duration'] = df['Holding_Policy_Duration'].replace('14+',15).astype(float).astype(int)"
   ]
  },
  {
   "cell_type": "markdown",
   "metadata": {},
   "source": [
    "#### Binary Feature Conversion"
   ]
  },
  {
   "cell_type": "markdown",
   "metadata": {},
   "source": [
    "Features 'Accommodation Type', 'Reco Insurance Type', 'Is Spouse' will be converted to binary (0 and 1) after our exploratory data analysis. "
   ]
  },
  {
   "cell_type": "markdown",
   "metadata": {},
   "source": [
    "#### Numerical Feature Conversion"
   ]
  },
  {
   "cell_type": "code",
   "execution_count": 9,
   "metadata": {
    "ExecuteTime": {
     "end_time": "2021-03-31T22:38:40.105789Z",
     "start_time": "2021-03-31T22:38:40.103994Z"
    }
   },
   "outputs": [],
   "source": [
    "# df.select_dtypes('number').columns"
   ]
  },
  {
   "cell_type": "markdown",
   "metadata": {},
   "source": [
    "The two feature that stand out are 'Holding Policy Type' and 'Reco Policy Cat' which are listed under numerical but most likely correspond to type and category of policy in existing customers. As such, the features will be converted to categorical variables and compared against the policy premium during exploratory data analysis. "
   ]
  },
  {
   "cell_type": "markdown",
   "metadata": {},
   "source": [
    "## Feature Engineering | Age\n",
    "Typically, insurance products are priced and underwritten based on the age of the applicant or applicants. This is especially the case in most health insurance pricing. To reflect this and retain data, an average age feature will be created and the original two features will be dropped. As the data shows, individual insurance types reflect the same age for lower and upper categories. This conversion will only effect joint accounts with large variations in age being represented in the 'Is_Spouse' feature which will be converted to binary after EDA. For aesthetics, the category will be renamed 'Married'."
   ]
  },
  {
   "cell_type": "code",
   "execution_count": 10,
   "metadata": {
    "ExecuteTime": {
     "end_time": "2021-03-31T22:38:40.122077Z",
     "start_time": "2021-03-31T22:38:40.107195Z"
    }
   },
   "outputs": [],
   "source": [
    "# Conversion\n",
    "df.rename(columns={'Is_Spouse':'Married','Health Indicator':'Health_Indicator'},inplace=True)\n",
    "# Average Age\n",
    "df['Avg_Age'] = (df['Upper_Age'] + df['Lower_Age']) / 2"
   ]
  },
  {
   "cell_type": "markdown",
   "metadata": {},
   "source": [
    "## Dropping Features"
   ]
  },
  {
   "cell_type": "code",
   "execution_count": 11,
   "metadata": {
    "ExecuteTime": {
     "end_time": "2021-03-31T22:38:40.133206Z",
     "start_time": "2021-03-31T22:38:40.123384Z"
    }
   },
   "outputs": [
    {
     "name": "stdout",
     "output_type": "stream",
     "text": [
      "Unique policy types: 5\n",
      "Unique policy categories: 22\n",
      "Unique city codes: 36\n",
      "Unique region codes: 5316\n"
     ]
    }
   ],
   "source": [
    "print(f'Unique policy types: {len(df.Holding_Policy_Type.value_counts())}')\n",
    "print(f'Unique policy categories: {len(df.Reco_Policy_Cat.value_counts())}')\n",
    "print(f'Unique city codes: {len(df.City_Code.value_counts())}')\n",
    "print(f'Unique region codes: {len(df.Region_Code.value_counts())}')"
   ]
  },
  {
   "cell_type": "markdown",
   "metadata": {},
   "source": [
    "The unique 'ID' and 'Region Code' columns will be dropped in order to simplify the data. 'Region Code' consists of far too many categorical values which would need to be one hot encoded. The feature is dropped as the data still retains the 'City Code' feature to capture some level of geographical distinction. In addition, the upper and lower age features will be dropped being represented by average age. \n"
   ]
  },
  {
   "cell_type": "markdown",
   "metadata": {},
   "source": [
    "#### Health Indicator Missing Values"
   ]
  },
  {
   "cell_type": "code",
   "execution_count": 12,
   "metadata": {
    "ExecuteTime": {
     "end_time": "2021-03-31T22:38:40.156518Z",
     "start_time": "2021-03-31T22:38:40.134507Z"
    }
   },
   "outputs": [
    {
     "name": "stdout",
     "output_type": "stream",
     "text": [
      "There are 2349 missing Health Indicators with joint policy types.\n",
      "There are 9342 missing Health Indicators with individual policy types.\n"
     ]
    }
   ],
   "source": [
    "joint = len(df[ (df['Health_Indicator'].isnull()) & (df['Reco_Insurance_Type']=='Joint')])\n",
    "indiv = len(df[ (df['Health_Indicator'].isnull()) & (df['Reco_Insurance_Type']=='Individual')])\n",
    "\n",
    "print(f'There are {joint} missing Health Indicators with joint policy types.')\n",
    "print(f'There are {indiv} missing Health Indicators with individual policy types.')"
   ]
  },
  {
   "cell_type": "markdown",
   "metadata": {
    "ExecuteTime": {
     "end_time": "2021-03-18T21:23:31.629391Z",
     "start_time": "2021-03-18T21:23:31.615194Z"
    }
   },
   "source": [
    "The missing health indicators in the joint policy types represent less than 5% of the dataset and will be dropped. The remaining values will be filled using the mode. \n"
   ]
  },
  {
   "cell_type": "code",
   "execution_count": 13,
   "metadata": {
    "ExecuteTime": {
     "end_time": "2021-03-31T22:38:40.171224Z",
     "start_time": "2021-03-31T22:38:40.158383Z"
    }
   },
   "outputs": [],
   "source": [
    "# dropping partial nulls\n",
    "indexvals = df[ (df['Health_Indicator'].isnull()) & (df['Reco_Insurance_Type']=='Joint')].index\n",
    "df.drop(indexvals, inplace=True)"
   ]
  },
  {
   "cell_type": "code",
   "execution_count": 14,
   "metadata": {
    "ExecuteTime": {
     "end_time": "2021-03-31T22:38:40.179696Z",
     "start_time": "2021-03-31T22:38:40.172560Z"
    }
   },
   "outputs": [],
   "source": [
    "# filling remaining nulls\n",
    "df['Health_Indicator'] = df['Health_Indicator'].fillna(df['Health_Indicator'].mode()[0])"
   ]
  },
  {
   "cell_type": "code",
   "execution_count": 15,
   "metadata": {
    "ExecuteTime": {
     "end_time": "2021-03-31T22:38:40.189025Z",
     "start_time": "2021-03-31T22:38:40.181429Z"
    }
   },
   "outputs": [],
   "source": [
    "# for clustering\n",
    "dfc = df[['City_Code','Region_Code']].copy()\n",
    "# dropping columns\n",
    "df.drop(['ID','City_Code','Region_Code','Upper_Age','Lower_Age'],axis=1,inplace=True)"
   ]
  },
  {
   "cell_type": "code",
   "execution_count": 16,
   "metadata": {
    "ExecuteTime": {
     "end_time": "2021-03-31T22:38:40.199363Z",
     "start_time": "2021-03-31T22:38:40.190623Z"
    }
   },
   "outputs": [],
   "source": [
    "# numerical conversion / float to int\n",
    "for col in df.select_dtypes('number').columns:\n",
    "    df[col] = df[col].astype(int)"
   ]
  },
  {
   "cell_type": "markdown",
   "metadata": {},
   "source": [
    "# Exploratory Data Analysis"
   ]
  },
  {
   "cell_type": "code",
   "execution_count": 17,
   "metadata": {
    "ExecuteTime": {
     "end_time": "2021-03-31T22:38:40.507326Z",
     "start_time": "2021-03-31T22:38:40.200794Z"
    }
   },
   "outputs": [
    {
     "data": {
      "image/png": "[encoded data removed]",
      "text/plain": [
       "<Figure size 864x720 with 2 Axes>"
      ]
     },
     "metadata": {
      "needs_background": "light"
     },
     "output_type": "display_data"
    }
   ],
   "source": [
    "corr = df.corr() # analyzing correlation\n",
    "fig, ax = plt.subplots(figsize=(12,10))\n",
    "mask = np.triu(np.ones_like(corr, dtype=np.bool))\n",
    "sns.heatmap(corr, mask=mask, square=True, annot=True, cmap='YlGnBu')\n",
    "ax.patch.set_edgecolor('black')  \n",
    "ax.patch.set_linewidth('1')\n",
    "ax.set_title('Correlation & Heat Map', fontsize=15, fontfamily='serif')\n",
    "plt.show()"
   ]
  },
  {
   "cell_type": "code",
   "execution_count": 56,
   "metadata": {
    "ExecuteTime": {
     "end_time": "2021-03-31T22:47:43.140393Z",
     "start_time": "2021-03-31T22:47:43.138187Z"
    }
   },
   "outputs": [],
   "source": [
    "# targetdf = df.groupby('Response').mean().head()\n",
    "# targetdf.style.background_gradient(cmap='Reds')"
   ]
  },
  {
   "cell_type": "code",
   "execution_count": 19,
   "metadata": {
    "ExecuteTime": {
     "end_time": "2021-03-31T22:38:40.903203Z",
     "start_time": "2021-03-31T22:38:40.900998Z"
    }
   },
   "outputs": [],
   "source": [
    "# sns.catplot(data=df, x='Reco_Policy_Premium',y='Health Indicator')\n",
    "# sns.countplot(data=df[df['Holding_Policy_Type']!=0],x='Holding_Policy_Type',hue='Response')\n",
    "# sns.violinplot(data=df[df['Holding_Policy_Duration']!=0],x='Holding_Policy_Duration',y='Avg_Age')\n",
    "# sns.violinplot(data=df[df['Holding_Policy_Type']!=0],x='Holding_Policy_Type',y='Avg_Age',hue='Response')"
   ]
  },
  {
   "cell_type": "markdown",
   "metadata": {
    "ExecuteTime": {
     "end_time": "2021-03-18T21:52:24.139788Z",
     "start_time": "2021-03-18T21:52:24.122779Z"
    }
   },
   "source": [
    "## Final Updates\n",
    "* Binary Conversions: 'Accomodation_Type', 'Reco_Insurance_Type' and 'Married'\n",
    "* Numerical Conversions: 'Holding Policy Type' and 'Reco Policy Cat' \n",
    "* Final conversions for ML modeling"
   ]
  },
  {
   "cell_type": "code",
   "execution_count": 20,
   "metadata": {
    "ExecuteTime": {
     "end_time": "2021-03-31T22:38:40.906540Z",
     "start_time": "2021-03-31T22:38:40.904753Z"
    }
   },
   "outputs": [],
   "source": [
    "# Exporting for dashboard analysis\n",
    "# df.to_csv('jobathondashboard.csv')"
   ]
  },
  {
   "cell_type": "markdown",
   "metadata": {},
   "source": [
    "#### Binary Conversion"
   ]
  },
  {
   "cell_type": "code",
   "execution_count": 21,
   "metadata": {
    "ExecuteTime": {
     "end_time": "2021-03-31T22:38:40.971591Z",
     "start_time": "2021-03-31T22:38:40.907951Z"
    }
   },
   "outputs": [],
   "source": [
    "vals = {'Rented':1,'Owned':2,'Individual':1,'Joint':2,'No':0,'Yes':1}\n",
    "cols = ['Accomodation_Type','Reco_Insurance_Type','Married','Long_Term_Cust']\n",
    "\n",
    "for col in cols:\n",
    "    df[col] = df[col].replace(vals)"
   ]
  },
  {
   "cell_type": "markdown",
   "metadata": {},
   "source": [
    "#### Numerical Conversion"
   ]
  },
  {
   "cell_type": "code",
   "execution_count": 22,
   "metadata": {
    "ExecuteTime": {
     "end_time": "2021-03-31T22:38:40.979161Z",
     "start_time": "2021-03-31T22:38:40.973030Z"
    }
   },
   "outputs": [],
   "source": [
    "# Converting ordinal features to categories\n",
    "ordinal = ['Holding_Policy_Type','Reco_Policy_Cat']\n",
    "for col in ordinal:\n",
    "    df[col] = df[col].astype('O')"
   ]
  },
  {
   "cell_type": "markdown",
   "metadata": {},
   "source": [
    "#### Final ML Model Updates"
   ]
  },
  {
   "cell_type": "code",
   "execution_count": 23,
   "metadata": {
    "ExecuteTime": {
     "end_time": "2021-03-31T22:38:40.987335Z",
     "start_time": "2021-03-31T22:38:40.984272Z"
    }
   },
   "outputs": [],
   "source": [
    "# List | categorical variables in ordinal columns\n",
    "cat_vars = [var for var in df.columns if df[var].dtype == 'O']"
   ]
  },
  {
   "cell_type": "code",
   "execution_count": 24,
   "metadata": {
    "ExecuteTime": {
     "end_time": "2021-03-31T22:38:40.994292Z",
     "start_time": "2021-03-31T22:38:40.991242Z"
    }
   },
   "outputs": [],
   "source": [
    "def replace_categories(df, var, target):\n",
    "    # Order variable categories | lowest to highest against target (price)\n",
    "    ordered_labels = df.groupby([var])[target].mean().sort_values().index\n",
    "\n",
    "    # Dictionary of ordered categories to integer values\n",
    "    ordinal_label = {k: i for i, k in enumerate(ordered_labels, 0)}\n",
    "\n",
    "    # Replace the categorical strings by integers using dictionary\n",
    "    df[var] = df[var].map(ordinal_label)"
   ]
  },
  {
   "cell_type": "code",
   "execution_count": 25,
   "metadata": {
    "ExecuteTime": {
     "end_time": "2021-03-31T22:38:41.022141Z",
     "start_time": "2021-03-31T22:38:40.995871Z"
    }
   },
   "outputs": [],
   "source": [
    "# Ordinal variable conversion\n",
    "for var in cat_vars:\n",
    "    replace_categories(df, var, 'Avg_Age')"
   ]
  },
  {
   "cell_type": "markdown",
   "metadata": {},
   "source": [
    "# Cluster | Geographic Data"
   ]
  },
  {
   "cell_type": "code",
   "execution_count": 26,
   "metadata": {
    "ExecuteTime": {
     "end_time": "2021-03-31T22:38:41.423533Z",
     "start_time": "2021-03-31T22:38:41.023535Z"
    }
   },
   "outputs": [],
   "source": [
    "from sklearn import preprocessing\n",
    "from sklearn.cluster import KMeans\n",
    "from sklearn import cluster"
   ]
  },
  {
   "cell_type": "code",
   "execution_count": 27,
   "metadata": {
    "ExecuteTime": {
     "end_time": "2021-03-31T22:38:41.427362Z",
     "start_time": "2021-03-31T22:38:41.425101Z"
    }
   },
   "outputs": [],
   "source": [
    "labelencoder = preprocessing.LabelEncoder()\n",
    "scaler = preprocessing.StandardScaler()"
   ]
  },
  {
   "cell_type": "code",
   "execution_count": 28,
   "metadata": {
    "ExecuteTime": {
     "end_time": "2021-03-31T22:38:41.443933Z",
     "start_time": "2021-03-31T22:38:41.428774Z"
    }
   },
   "outputs": [],
   "source": [
    "for col in dfc.columns:\n",
    "    dfc[f'LE_{col}'] = labelencoder.fit_transform(dfc[col])"
   ]
  },
  {
   "cell_type": "code",
   "execution_count": 29,
   "metadata": {
    "ExecuteTime": {
     "end_time": "2021-03-31T22:38:41.455649Z",
     "start_time": "2021-03-31T22:38:41.445574Z"
    }
   },
   "outputs": [],
   "source": [
    "df2 = dfc[['LE_City_Code','LE_Region_Code']].copy()\n",
    "df_scaled = scaler.fit_transform(df2)"
   ]
  },
  {
   "cell_type": "code",
   "execution_count": 30,
   "metadata": {
    "ExecuteTime": {
     "end_time": "2021-03-31T22:38:41.460334Z",
     "start_time": "2021-03-31T22:38:41.457428Z"
    }
   },
   "outputs": [],
   "source": [
    "cluster_df = pd.DataFrame(data = df_scaled, columns=['LE_City_Code','LE_Region_Code'])"
   ]
  },
  {
   "cell_type": "code",
   "execution_count": 31,
   "metadata": {
    "ExecuteTime": {
     "end_time": "2021-03-31T22:38:57.469393Z",
     "start_time": "2021-03-31T22:38:41.461833Z"
    }
   },
   "outputs": [],
   "source": [
    "scores = [] # scores for elbow method\n",
    "range_values = range(1,25)\n",
    "for i in range_values:\n",
    "    kmeans = KMeans(n_clusters=i)\n",
    "    kmeans.fit(cluster_df)\n",
    "    scores.append(kmeans.inertia_) # inertia is the WCSS parameter"
   ]
  },
  {
   "cell_type": "code",
   "execution_count": 32,
   "metadata": {
    "ExecuteTime": {
     "end_time": "2021-03-31T22:38:57.655255Z",
     "start_time": "2021-03-31T22:38:57.471563Z"
    }
   },
   "outputs": [
    {
     "data": {
      "image/png": "[encoded data removed]",
      "text/plain": [
       "<Figure size 720x720 with 1 Axes>"
      ]
     },
     "metadata": {
      "needs_background": "light"
     },
     "output_type": "display_data"
    }
   ],
   "source": [
    "# Cluster Observation\n",
    "plt.figure(figsize=(10,10))\n",
    "plt.plot(scores)\n",
    "plt.title('Cluster Observation | Elbow Method')\n",
    "plt.xlabel('Clusters')\n",
    "plt.ylabel('Scores (WCSS)')\n",
    "plt.show()"
   ]
  },
  {
   "cell_type": "markdown",
   "metadata": {},
   "source": [
    "## K-Means Clustering"
   ]
  },
  {
   "cell_type": "code",
   "execution_count": 33,
   "metadata": {
    "ExecuteTime": {
     "end_time": "2021-03-31T22:38:58.021895Z",
     "start_time": "2021-03-31T22:38:57.657390Z"
    }
   },
   "outputs": [],
   "source": [
    "# 7 Clusters\n",
    "km = cluster.KMeans(n_clusters=7, max_iter=300, random_state=101)\n",
    "cluster_df['Seven_Clusters'] = km.fit_predict(cluster_df)"
   ]
  },
  {
   "cell_type": "code",
   "execution_count": 34,
   "metadata": {
    "ExecuteTime": {
     "end_time": "2021-03-31T22:38:58.851679Z",
     "start_time": "2021-03-31T22:38:58.024061Z"
    }
   },
   "outputs": [
    {
     "data": {
      "image/png": "[encoded data removed]",
      "text/plain": [
       "<Figure size 516.5x432 with 1 Axes>"
      ]
     },
     "metadata": {
      "needs_background": "light"
     },
     "output_type": "display_data"
    }
   ],
   "source": [
    "sns.lmplot(x='LE_City_Code', y='LE_Region_Code', data=cluster_df, fit_reg=False, hue='Seven_Clusters',\n",
    "           palette='Paired',size=6,aspect=1);"
   ]
  },
  {
   "cell_type": "code",
   "execution_count": 35,
   "metadata": {
    "ExecuteTime": {
     "end_time": "2021-03-31T22:38:58.856652Z",
     "start_time": "2021-03-31T22:38:58.853542Z"
    }
   },
   "outputs": [],
   "source": [
    "cluster_df['Seven_Clusters'] = cluster_df['Seven_Clusters'].astype(float).astype(int)"
   ]
  },
  {
   "cell_type": "markdown",
   "metadata": {},
   "source": [
    "### Merge Data"
   ]
  },
  {
   "cell_type": "code",
   "execution_count": 36,
   "metadata": {
    "ExecuteTime": {
     "end_time": "2021-03-31T22:38:58.864347Z",
     "start_time": "2021-03-31T22:38:58.858120Z"
    }
   },
   "outputs": [],
   "source": [
    "df = df.join(cluster_df)"
   ]
  },
  {
   "cell_type": "code",
   "execution_count": 37,
   "metadata": {
    "ExecuteTime": {
     "end_time": "2021-03-31T22:38:58.873537Z",
     "start_time": "2021-03-31T22:38:58.865756Z"
    }
   },
   "outputs": [],
   "source": [
    "ncols = ['LE_City_Code', 'LE_Region_Code', 'Seven_Clusters']\n",
    "for col in ncols:\n",
    "    df[col] = df[col].fillna(df[col].mode()[0]).astype(int)"
   ]
  },
  {
   "cell_type": "markdown",
   "metadata": {
    "ExecuteTime": {
     "end_time": "2021-03-10T22:37:25.632959Z",
     "start_time": "2021-03-10T22:37:25.623427Z"
    }
   },
   "source": [
    "# Pycaret Model"
   ]
  },
  {
   "cell_type": "code",
   "execution_count": 38,
   "metadata": {
    "ExecuteTime": {
     "end_time": "2021-03-31T22:38:59.472839Z",
     "start_time": "2021-03-31T22:38:58.874928Z"
    }
   },
   "outputs": [],
   "source": [
    "import pycaret\n",
    "import pycaret.preprocess as preprocess\n",
    "from pycaret.datasets import get_data\n",
    "from pycaret.classification import *\n",
    "import pycaret.preprocess as preprocess"
   ]
  },
  {
   "cell_type": "code",
   "execution_count": 39,
   "metadata": {
    "ExecuteTime": {
     "end_time": "2021-03-31T22:38:59.477772Z",
     "start_time": "2021-03-31T22:38:59.474561Z"
    }
   },
   "outputs": [],
   "source": [
    "dataset = df.copy()"
   ]
  },
  {
   "cell_type": "code",
   "execution_count": 40,
   "metadata": {
    "ExecuteTime": {
     "end_time": "2021-03-31T22:38:59.499222Z",
     "start_time": "2021-03-31T22:38:59.479191Z"
    }
   },
   "outputs": [
    {
     "name": "stdout",
     "output_type": "stream",
     "text": [
      "Data for Modeling: (38826, 14)\n",
      "Unseen Data For Predictions: (9707, 14)\n"
     ]
    }
   ],
   "source": [
    "data = dataset.sample(frac=0.80, random_state=786)\n",
    "data_unseen = dataset.drop(data.index).reset_index(drop=True)\n",
    "\n",
    "print('Data for Modeling: ' + str(data.shape))\n",
    "print('Unseen Data For Predictions: ' + str(data_unseen.shape))"
   ]
  },
  {
   "cell_type": "code",
   "execution_count": 41,
   "metadata": {
    "ExecuteTime": {
     "end_time": "2021-03-31T22:39:19.157731Z",
     "start_time": "2021-03-31T22:38:59.500799Z"
    }
   },
   "outputs": [
    {
     "name": "stdout",
     "output_type": "stream",
     "text": [
      "Setup Succesfully Completed!\n"
     ]
    },
    {
     "data": {
      "text/html": [
       "<style  type=\"text/css\" >\n",
       "</style><table id=\"T_ee45940a_9271_11eb_b2ea_acde48001122\" ><thead>    <tr>        <th class=\"blank level0\" ></th>        <th class=\"col_heading level0 col0\" >Description</th>        <th class=\"col_heading level0 col1\" >Value</th>    </tr></thead><tbody>\n",
       "                <tr>\n",
       "                        <th id=\"T_ee45940a_9271_11eb_b2ea_acde48001122level0_row0\" class=\"row_heading level0 row0\" >0</th>\n",
       "                        <td id=\"T_ee45940a_9271_11eb_b2ea_acde48001122row0_col0\" class=\"data row0 col0\" >session_id</td>\n",
       "                        <td id=\"T_ee45940a_9271_11eb_b2ea_acde48001122row0_col1\" class=\"data row0 col1\" >123</td>\n",
       "            </tr>\n",
       "            <tr>\n",
       "                        <th id=\"T_ee45940a_9271_11eb_b2ea_acde48001122level0_row1\" class=\"row_heading level0 row1\" >1</th>\n",
       "                        <td id=\"T_ee45940a_9271_11eb_b2ea_acde48001122row1_col0\" class=\"data row1 col0\" >Target Type</td>\n",
       "                        <td id=\"T_ee45940a_9271_11eb_b2ea_acde48001122row1_col1\" class=\"data row1 col1\" >Binary</td>\n",
       "            </tr>\n",
       "            <tr>\n",
       "                        <th id=\"T_ee45940a_9271_11eb_b2ea_acde48001122level0_row2\" class=\"row_heading level0 row2\" >2</th>\n",
       "                        <td id=\"T_ee45940a_9271_11eb_b2ea_acde48001122row2_col0\" class=\"data row2 col0\" >Label Encoded</td>\n",
       "                        <td id=\"T_ee45940a_9271_11eb_b2ea_acde48001122row2_col1\" class=\"data row2 col1\" >0: 0, 1: 1</td>\n",
       "            </tr>\n",
       "            <tr>\n",
       "                        <th id=\"T_ee45940a_9271_11eb_b2ea_acde48001122level0_row3\" class=\"row_heading level0 row3\" >3</th>\n",
       "                        <td id=\"T_ee45940a_9271_11eb_b2ea_acde48001122row3_col0\" class=\"data row3 col0\" >Original Data</td>\n",
       "                        <td id=\"T_ee45940a_9271_11eb_b2ea_acde48001122row3_col1\" class=\"data row3 col1\" >(38826, 14)</td>\n",
       "            </tr>\n",
       "            <tr>\n",
       "                        <th id=\"T_ee45940a_9271_11eb_b2ea_acde48001122level0_row4\" class=\"row_heading level0 row4\" >4</th>\n",
       "                        <td id=\"T_ee45940a_9271_11eb_b2ea_acde48001122row4_col0\" class=\"data row4 col0\" >Missing Values </td>\n",
       "                        <td id=\"T_ee45940a_9271_11eb_b2ea_acde48001122row4_col1\" class=\"data row4 col1\" >False</td>\n",
       "            </tr>\n",
       "            <tr>\n",
       "                        <th id=\"T_ee45940a_9271_11eb_b2ea_acde48001122level0_row5\" class=\"row_heading level0 row5\" >5</th>\n",
       "                        <td id=\"T_ee45940a_9271_11eb_b2ea_acde48001122row5_col0\" class=\"data row5 col0\" >Numeric Features </td>\n",
       "                        <td id=\"T_ee45940a_9271_11eb_b2ea_acde48001122row5_col1\" class=\"data row5 col1\" >13</td>\n",
       "            </tr>\n",
       "            <tr>\n",
       "                        <th id=\"T_ee45940a_9271_11eb_b2ea_acde48001122level0_row6\" class=\"row_heading level0 row6\" >6</th>\n",
       "                        <td id=\"T_ee45940a_9271_11eb_b2ea_acde48001122row6_col0\" class=\"data row6 col0\" >Categorical Features </td>\n",
       "                        <td id=\"T_ee45940a_9271_11eb_b2ea_acde48001122row6_col1\" class=\"data row6 col1\" >0</td>\n",
       "            </tr>\n",
       "            <tr>\n",
       "                        <th id=\"T_ee45940a_9271_11eb_b2ea_acde48001122level0_row7\" class=\"row_heading level0 row7\" >7</th>\n",
       "                        <td id=\"T_ee45940a_9271_11eb_b2ea_acde48001122row7_col0\" class=\"data row7 col0\" >Ordinal Features </td>\n",
       "                        <td id=\"T_ee45940a_9271_11eb_b2ea_acde48001122row7_col1\" class=\"data row7 col1\" >False</td>\n",
       "            </tr>\n",
       "            <tr>\n",
       "                        <th id=\"T_ee45940a_9271_11eb_b2ea_acde48001122level0_row8\" class=\"row_heading level0 row8\" >8</th>\n",
       "                        <td id=\"T_ee45940a_9271_11eb_b2ea_acde48001122row8_col0\" class=\"data row8 col0\" >High Cardinality Features </td>\n",
       "                        <td id=\"T_ee45940a_9271_11eb_b2ea_acde48001122row8_col1\" class=\"data row8 col1\" >False</td>\n",
       "            </tr>\n",
       "            <tr>\n",
       "                        <th id=\"T_ee45940a_9271_11eb_b2ea_acde48001122level0_row9\" class=\"row_heading level0 row9\" >9</th>\n",
       "                        <td id=\"T_ee45940a_9271_11eb_b2ea_acde48001122row9_col0\" class=\"data row9 col0\" >High Cardinality Method </td>\n",
       "                        <td id=\"T_ee45940a_9271_11eb_b2ea_acde48001122row9_col1\" class=\"data row9 col1\" >None</td>\n",
       "            </tr>\n",
       "            <tr>\n",
       "                        <th id=\"T_ee45940a_9271_11eb_b2ea_acde48001122level0_row10\" class=\"row_heading level0 row10\" >10</th>\n",
       "                        <td id=\"T_ee45940a_9271_11eb_b2ea_acde48001122row10_col0\" class=\"data row10 col0\" >Sampled Data</td>\n",
       "                        <td id=\"T_ee45940a_9271_11eb_b2ea_acde48001122row10_col1\" class=\"data row10 col1\" >(31060, 14)</td>\n",
       "            </tr>\n",
       "            <tr>\n",
       "                        <th id=\"T_ee45940a_9271_11eb_b2ea_acde48001122level0_row11\" class=\"row_heading level0 row11\" >11</th>\n",
       "                        <td id=\"T_ee45940a_9271_11eb_b2ea_acde48001122row11_col0\" class=\"data row11 col0\" >Transformed Train Set</td>\n",
       "                        <td id=\"T_ee45940a_9271_11eb_b2ea_acde48001122row11_col1\" class=\"data row11 col1\" >(21741, 13)</td>\n",
       "            </tr>\n",
       "            <tr>\n",
       "                        <th id=\"T_ee45940a_9271_11eb_b2ea_acde48001122level0_row12\" class=\"row_heading level0 row12\" >12</th>\n",
       "                        <td id=\"T_ee45940a_9271_11eb_b2ea_acde48001122row12_col0\" class=\"data row12 col0\" >Transformed Test Set</td>\n",
       "                        <td id=\"T_ee45940a_9271_11eb_b2ea_acde48001122row12_col1\" class=\"data row12 col1\" >(9319, 13)</td>\n",
       "            </tr>\n",
       "            <tr>\n",
       "                        <th id=\"T_ee45940a_9271_11eb_b2ea_acde48001122level0_row13\" class=\"row_heading level0 row13\" >13</th>\n",
       "                        <td id=\"T_ee45940a_9271_11eb_b2ea_acde48001122row13_col0\" class=\"data row13 col0\" >Numeric Imputer </td>\n",
       "                        <td id=\"T_ee45940a_9271_11eb_b2ea_acde48001122row13_col1\" class=\"data row13 col1\" >mean</td>\n",
       "            </tr>\n",
       "            <tr>\n",
       "                        <th id=\"T_ee45940a_9271_11eb_b2ea_acde48001122level0_row14\" class=\"row_heading level0 row14\" >14</th>\n",
       "                        <td id=\"T_ee45940a_9271_11eb_b2ea_acde48001122row14_col0\" class=\"data row14 col0\" >Categorical Imputer </td>\n",
       "                        <td id=\"T_ee45940a_9271_11eb_b2ea_acde48001122row14_col1\" class=\"data row14 col1\" >constant</td>\n",
       "            </tr>\n",
       "            <tr>\n",
       "                        <th id=\"T_ee45940a_9271_11eb_b2ea_acde48001122level0_row15\" class=\"row_heading level0 row15\" >15</th>\n",
       "                        <td id=\"T_ee45940a_9271_11eb_b2ea_acde48001122row15_col0\" class=\"data row15 col0\" >Normalize </td>\n",
       "                        <td id=\"T_ee45940a_9271_11eb_b2ea_acde48001122row15_col1\" class=\"data row15 col1\" >False</td>\n",
       "            </tr>\n",
       "            <tr>\n",
       "                        <th id=\"T_ee45940a_9271_11eb_b2ea_acde48001122level0_row16\" class=\"row_heading level0 row16\" >16</th>\n",
       "                        <td id=\"T_ee45940a_9271_11eb_b2ea_acde48001122row16_col0\" class=\"data row16 col0\" >Normalize Method </td>\n",
       "                        <td id=\"T_ee45940a_9271_11eb_b2ea_acde48001122row16_col1\" class=\"data row16 col1\" >None</td>\n",
       "            </tr>\n",
       "            <tr>\n",
       "                        <th id=\"T_ee45940a_9271_11eb_b2ea_acde48001122level0_row17\" class=\"row_heading level0 row17\" >17</th>\n",
       "                        <td id=\"T_ee45940a_9271_11eb_b2ea_acde48001122row17_col0\" class=\"data row17 col0\" >Transformation </td>\n",
       "                        <td id=\"T_ee45940a_9271_11eb_b2ea_acde48001122row17_col1\" class=\"data row17 col1\" >False</td>\n",
       "            </tr>\n",
       "            <tr>\n",
       "                        <th id=\"T_ee45940a_9271_11eb_b2ea_acde48001122level0_row18\" class=\"row_heading level0 row18\" >18</th>\n",
       "                        <td id=\"T_ee45940a_9271_11eb_b2ea_acde48001122row18_col0\" class=\"data row18 col0\" >Transformation Method </td>\n",
       "                        <td id=\"T_ee45940a_9271_11eb_b2ea_acde48001122row18_col1\" class=\"data row18 col1\" >None</td>\n",
       "            </tr>\n",
       "            <tr>\n",
       "                        <th id=\"T_ee45940a_9271_11eb_b2ea_acde48001122level0_row19\" class=\"row_heading level0 row19\" >19</th>\n",
       "                        <td id=\"T_ee45940a_9271_11eb_b2ea_acde48001122row19_col0\" class=\"data row19 col0\" >PCA </td>\n",
       "                        <td id=\"T_ee45940a_9271_11eb_b2ea_acde48001122row19_col1\" class=\"data row19 col1\" >False</td>\n",
       "            </tr>\n",
       "            <tr>\n",
       "                        <th id=\"T_ee45940a_9271_11eb_b2ea_acde48001122level0_row20\" class=\"row_heading level0 row20\" >20</th>\n",
       "                        <td id=\"T_ee45940a_9271_11eb_b2ea_acde48001122row20_col0\" class=\"data row20 col0\" >PCA Method </td>\n",
       "                        <td id=\"T_ee45940a_9271_11eb_b2ea_acde48001122row20_col1\" class=\"data row20 col1\" >None</td>\n",
       "            </tr>\n",
       "            <tr>\n",
       "                        <th id=\"T_ee45940a_9271_11eb_b2ea_acde48001122level0_row21\" class=\"row_heading level0 row21\" >21</th>\n",
       "                        <td id=\"T_ee45940a_9271_11eb_b2ea_acde48001122row21_col0\" class=\"data row21 col0\" >PCA Components </td>\n",
       "                        <td id=\"T_ee45940a_9271_11eb_b2ea_acde48001122row21_col1\" class=\"data row21 col1\" >None</td>\n",
       "            </tr>\n",
       "            <tr>\n",
       "                        <th id=\"T_ee45940a_9271_11eb_b2ea_acde48001122level0_row22\" class=\"row_heading level0 row22\" >22</th>\n",
       "                        <td id=\"T_ee45940a_9271_11eb_b2ea_acde48001122row22_col0\" class=\"data row22 col0\" >Ignore Low Variance </td>\n",
       "                        <td id=\"T_ee45940a_9271_11eb_b2ea_acde48001122row22_col1\" class=\"data row22 col1\" >False</td>\n",
       "            </tr>\n",
       "            <tr>\n",
       "                        <th id=\"T_ee45940a_9271_11eb_b2ea_acde48001122level0_row23\" class=\"row_heading level0 row23\" >23</th>\n",
       "                        <td id=\"T_ee45940a_9271_11eb_b2ea_acde48001122row23_col0\" class=\"data row23 col0\" >Combine Rare Levels </td>\n",
       "                        <td id=\"T_ee45940a_9271_11eb_b2ea_acde48001122row23_col1\" class=\"data row23 col1\" >False</td>\n",
       "            </tr>\n",
       "            <tr>\n",
       "                        <th id=\"T_ee45940a_9271_11eb_b2ea_acde48001122level0_row24\" class=\"row_heading level0 row24\" >24</th>\n",
       "                        <td id=\"T_ee45940a_9271_11eb_b2ea_acde48001122row24_col0\" class=\"data row24 col0\" >Rare Level Threshold </td>\n",
       "                        <td id=\"T_ee45940a_9271_11eb_b2ea_acde48001122row24_col1\" class=\"data row24 col1\" >None</td>\n",
       "            </tr>\n",
       "            <tr>\n",
       "                        <th id=\"T_ee45940a_9271_11eb_b2ea_acde48001122level0_row25\" class=\"row_heading level0 row25\" >25</th>\n",
       "                        <td id=\"T_ee45940a_9271_11eb_b2ea_acde48001122row25_col0\" class=\"data row25 col0\" >Numeric Binning </td>\n",
       "                        <td id=\"T_ee45940a_9271_11eb_b2ea_acde48001122row25_col1\" class=\"data row25 col1\" >False</td>\n",
       "            </tr>\n",
       "            <tr>\n",
       "                        <th id=\"T_ee45940a_9271_11eb_b2ea_acde48001122level0_row26\" class=\"row_heading level0 row26\" >26</th>\n",
       "                        <td id=\"T_ee45940a_9271_11eb_b2ea_acde48001122row26_col0\" class=\"data row26 col0\" >Remove Outliers </td>\n",
       "                        <td id=\"T_ee45940a_9271_11eb_b2ea_acde48001122row26_col1\" class=\"data row26 col1\" >False</td>\n",
       "            </tr>\n",
       "            <tr>\n",
       "                        <th id=\"T_ee45940a_9271_11eb_b2ea_acde48001122level0_row27\" class=\"row_heading level0 row27\" >27</th>\n",
       "                        <td id=\"T_ee45940a_9271_11eb_b2ea_acde48001122row27_col0\" class=\"data row27 col0\" >Outliers Threshold </td>\n",
       "                        <td id=\"T_ee45940a_9271_11eb_b2ea_acde48001122row27_col1\" class=\"data row27 col1\" >None</td>\n",
       "            </tr>\n",
       "            <tr>\n",
       "                        <th id=\"T_ee45940a_9271_11eb_b2ea_acde48001122level0_row28\" class=\"row_heading level0 row28\" >28</th>\n",
       "                        <td id=\"T_ee45940a_9271_11eb_b2ea_acde48001122row28_col0\" class=\"data row28 col0\" >Remove Multicollinearity </td>\n",
       "                        <td id=\"T_ee45940a_9271_11eb_b2ea_acde48001122row28_col1\" class=\"data row28 col1\" >False</td>\n",
       "            </tr>\n",
       "            <tr>\n",
       "                        <th id=\"T_ee45940a_9271_11eb_b2ea_acde48001122level0_row29\" class=\"row_heading level0 row29\" >29</th>\n",
       "                        <td id=\"T_ee45940a_9271_11eb_b2ea_acde48001122row29_col0\" class=\"data row29 col0\" >Multicollinearity Threshold </td>\n",
       "                        <td id=\"T_ee45940a_9271_11eb_b2ea_acde48001122row29_col1\" class=\"data row29 col1\" >None</td>\n",
       "            </tr>\n",
       "            <tr>\n",
       "                        <th id=\"T_ee45940a_9271_11eb_b2ea_acde48001122level0_row30\" class=\"row_heading level0 row30\" >30</th>\n",
       "                        <td id=\"T_ee45940a_9271_11eb_b2ea_acde48001122row30_col0\" class=\"data row30 col0\" >Clustering </td>\n",
       "                        <td id=\"T_ee45940a_9271_11eb_b2ea_acde48001122row30_col1\" class=\"data row30 col1\" >False</td>\n",
       "            </tr>\n",
       "            <tr>\n",
       "                        <th id=\"T_ee45940a_9271_11eb_b2ea_acde48001122level0_row31\" class=\"row_heading level0 row31\" >31</th>\n",
       "                        <td id=\"T_ee45940a_9271_11eb_b2ea_acde48001122row31_col0\" class=\"data row31 col0\" >Clustering Iteration </td>\n",
       "                        <td id=\"T_ee45940a_9271_11eb_b2ea_acde48001122row31_col1\" class=\"data row31 col1\" >None</td>\n",
       "            </tr>\n",
       "            <tr>\n",
       "                        <th id=\"T_ee45940a_9271_11eb_b2ea_acde48001122level0_row32\" class=\"row_heading level0 row32\" >32</th>\n",
       "                        <td id=\"T_ee45940a_9271_11eb_b2ea_acde48001122row32_col0\" class=\"data row32 col0\" >Polynomial Features </td>\n",
       "                        <td id=\"T_ee45940a_9271_11eb_b2ea_acde48001122row32_col1\" class=\"data row32 col1\" >False</td>\n",
       "            </tr>\n",
       "            <tr>\n",
       "                        <th id=\"T_ee45940a_9271_11eb_b2ea_acde48001122level0_row33\" class=\"row_heading level0 row33\" >33</th>\n",
       "                        <td id=\"T_ee45940a_9271_11eb_b2ea_acde48001122row33_col0\" class=\"data row33 col0\" >Polynomial Degree </td>\n",
       "                        <td id=\"T_ee45940a_9271_11eb_b2ea_acde48001122row33_col1\" class=\"data row33 col1\" >None</td>\n",
       "            </tr>\n",
       "            <tr>\n",
       "                        <th id=\"T_ee45940a_9271_11eb_b2ea_acde48001122level0_row34\" class=\"row_heading level0 row34\" >34</th>\n",
       "                        <td id=\"T_ee45940a_9271_11eb_b2ea_acde48001122row34_col0\" class=\"data row34 col0\" >Trignometry Features </td>\n",
       "                        <td id=\"T_ee45940a_9271_11eb_b2ea_acde48001122row34_col1\" class=\"data row34 col1\" >False</td>\n",
       "            </tr>\n",
       "            <tr>\n",
       "                        <th id=\"T_ee45940a_9271_11eb_b2ea_acde48001122level0_row35\" class=\"row_heading level0 row35\" >35</th>\n",
       "                        <td id=\"T_ee45940a_9271_11eb_b2ea_acde48001122row35_col0\" class=\"data row35 col0\" >Polynomial Threshold </td>\n",
       "                        <td id=\"T_ee45940a_9271_11eb_b2ea_acde48001122row35_col1\" class=\"data row35 col1\" >None</td>\n",
       "            </tr>\n",
       "            <tr>\n",
       "                        <th id=\"T_ee45940a_9271_11eb_b2ea_acde48001122level0_row36\" class=\"row_heading level0 row36\" >36</th>\n",
       "                        <td id=\"T_ee45940a_9271_11eb_b2ea_acde48001122row36_col0\" class=\"data row36 col0\" >Group Features </td>\n",
       "                        <td id=\"T_ee45940a_9271_11eb_b2ea_acde48001122row36_col1\" class=\"data row36 col1\" >False</td>\n",
       "            </tr>\n",
       "            <tr>\n",
       "                        <th id=\"T_ee45940a_9271_11eb_b2ea_acde48001122level0_row37\" class=\"row_heading level0 row37\" >37</th>\n",
       "                        <td id=\"T_ee45940a_9271_11eb_b2ea_acde48001122row37_col0\" class=\"data row37 col0\" >Feature Selection </td>\n",
       "                        <td id=\"T_ee45940a_9271_11eb_b2ea_acde48001122row37_col1\" class=\"data row37 col1\" >False</td>\n",
       "            </tr>\n",
       "            <tr>\n",
       "                        <th id=\"T_ee45940a_9271_11eb_b2ea_acde48001122level0_row38\" class=\"row_heading level0 row38\" >38</th>\n",
       "                        <td id=\"T_ee45940a_9271_11eb_b2ea_acde48001122row38_col0\" class=\"data row38 col0\" >Features Selection Threshold </td>\n",
       "                        <td id=\"T_ee45940a_9271_11eb_b2ea_acde48001122row38_col1\" class=\"data row38 col1\" >None</td>\n",
       "            </tr>\n",
       "            <tr>\n",
       "                        <th id=\"T_ee45940a_9271_11eb_b2ea_acde48001122level0_row39\" class=\"row_heading level0 row39\" >39</th>\n",
       "                        <td id=\"T_ee45940a_9271_11eb_b2ea_acde48001122row39_col0\" class=\"data row39 col0\" >Feature Interaction </td>\n",
       "                        <td id=\"T_ee45940a_9271_11eb_b2ea_acde48001122row39_col1\" class=\"data row39 col1\" >False</td>\n",
       "            </tr>\n",
       "            <tr>\n",
       "                        <th id=\"T_ee45940a_9271_11eb_b2ea_acde48001122level0_row40\" class=\"row_heading level0 row40\" >40</th>\n",
       "                        <td id=\"T_ee45940a_9271_11eb_b2ea_acde48001122row40_col0\" class=\"data row40 col0\" >Feature Ratio </td>\n",
       "                        <td id=\"T_ee45940a_9271_11eb_b2ea_acde48001122row40_col1\" class=\"data row40 col1\" >False</td>\n",
       "            </tr>\n",
       "            <tr>\n",
       "                        <th id=\"T_ee45940a_9271_11eb_b2ea_acde48001122level0_row41\" class=\"row_heading level0 row41\" >41</th>\n",
       "                        <td id=\"T_ee45940a_9271_11eb_b2ea_acde48001122row41_col0\" class=\"data row41 col0\" >Interaction Threshold </td>\n",
       "                        <td id=\"T_ee45940a_9271_11eb_b2ea_acde48001122row41_col1\" class=\"data row41 col1\" >None</td>\n",
       "            </tr>\n",
       "            <tr>\n",
       "                        <th id=\"T_ee45940a_9271_11eb_b2ea_acde48001122level0_row42\" class=\"row_heading level0 row42\" >42</th>\n",
       "                        <td id=\"T_ee45940a_9271_11eb_b2ea_acde48001122row42_col0\" class=\"data row42 col0\" >Fix Imbalance</td>\n",
       "                        <td id=\"T_ee45940a_9271_11eb_b2ea_acde48001122row42_col1\" class=\"data row42 col1\" >False</td>\n",
       "            </tr>\n",
       "            <tr>\n",
       "                        <th id=\"T_ee45940a_9271_11eb_b2ea_acde48001122level0_row43\" class=\"row_heading level0 row43\" >43</th>\n",
       "                        <td id=\"T_ee45940a_9271_11eb_b2ea_acde48001122row43_col0\" class=\"data row43 col0\" >Fix Imbalance Method</td>\n",
       "                        <td id=\"T_ee45940a_9271_11eb_b2ea_acde48001122row43_col1\" class=\"data row43 col1\" >SMOTE</td>\n",
       "            </tr>\n",
       "    </tbody></table>"
      ],
      "text/plain": [
       "<pandas.io.formats.style.Styler at 0x7fe1f2b09b38>"
      ]
     },
     "metadata": {},
     "output_type": "display_data"
    }
   ],
   "source": [
    "clf1 = setup(data=data,target='Response',session_id=123,numeric_features=['LE_Region_Code','LE_City_Code','Seven_Clusters','Long_Term_Cust','Health_Indicator','Accomodation_Type','Reco_Insurance_Type','Married','Holding_Policy_Duration','Holding_Policy_Type'])"
   ]
  },
  {
   "cell_type": "code",
   "execution_count": 42,
   "metadata": {
    "ExecuteTime": {
     "end_time": "2021-03-31T22:42:02.043679Z",
     "start_time": "2021-03-31T22:39:19.159420Z"
    }
   },
   "outputs": [
    {
     "data": {
      "text/html": [
       "<style  type=\"text/css\" >\n",
       "    #T_4f57e554_9272_11eb_8d02_acde48001122 th {\n",
       "          text-align: left;\n",
       "    }#T_4f57e554_9272_11eb_8d02_acde48001122row0_col0,#T_4f57e554_9272_11eb_8d02_acde48001122row0_col2,#T_4f57e554_9272_11eb_8d02_acde48001122row0_col3,#T_4f57e554_9272_11eb_8d02_acde48001122row0_col4,#T_4f57e554_9272_11eb_8d02_acde48001122row0_col5,#T_4f57e554_9272_11eb_8d02_acde48001122row0_col6,#T_4f57e554_9272_11eb_8d02_acde48001122row0_col7,#T_4f57e554_9272_11eb_8d02_acde48001122row1_col0,#T_4f57e554_9272_11eb_8d02_acde48001122row1_col2,#T_4f57e554_9272_11eb_8d02_acde48001122row1_col3,#T_4f57e554_9272_11eb_8d02_acde48001122row1_col4,#T_4f57e554_9272_11eb_8d02_acde48001122row1_col5,#T_4f57e554_9272_11eb_8d02_acde48001122row1_col6,#T_4f57e554_9272_11eb_8d02_acde48001122row1_col7,#T_4f57e554_9272_11eb_8d02_acde48001122row2_col0,#T_4f57e554_9272_11eb_8d02_acde48001122row2_col2,#T_4f57e554_9272_11eb_8d02_acde48001122row2_col3,#T_4f57e554_9272_11eb_8d02_acde48001122row2_col4,#T_4f57e554_9272_11eb_8d02_acde48001122row2_col5,#T_4f57e554_9272_11eb_8d02_acde48001122row2_col6,#T_4f57e554_9272_11eb_8d02_acde48001122row2_col7,#T_4f57e554_9272_11eb_8d02_acde48001122row3_col0,#T_4f57e554_9272_11eb_8d02_acde48001122row3_col2,#T_4f57e554_9272_11eb_8d02_acde48001122row3_col3,#T_4f57e554_9272_11eb_8d02_acde48001122row3_col4,#T_4f57e554_9272_11eb_8d02_acde48001122row3_col5,#T_4f57e554_9272_11eb_8d02_acde48001122row3_col6,#T_4f57e554_9272_11eb_8d02_acde48001122row3_col7,#T_4f57e554_9272_11eb_8d02_acde48001122row4_col0,#T_4f57e554_9272_11eb_8d02_acde48001122row4_col1,#T_4f57e554_9272_11eb_8d02_acde48001122row4_col2,#T_4f57e554_9272_11eb_8d02_acde48001122row4_col3,#T_4f57e554_9272_11eb_8d02_acde48001122row4_col4,#T_4f57e554_9272_11eb_8d02_acde48001122row4_col5,#T_4f57e554_9272_11eb_8d02_acde48001122row4_col6,#T_4f57e554_9272_11eb_8d02_acde48001122row4_col7,#T_4f57e554_9272_11eb_8d02_acde48001122row5_col0,#T_4f57e554_9272_11eb_8d02_acde48001122row5_col1,#T_4f57e554_9272_11eb_8d02_acde48001122row5_col2,#T_4f57e554_9272_11eb_8d02_acde48001122row5_col3,#T_4f57e554_9272_11eb_8d02_acde48001122row5_col5,#T_4f57e554_9272_11eb_8d02_acde48001122row5_col6,#T_4f57e554_9272_11eb_8d02_acde48001122row5_col7,#T_4f57e554_9272_11eb_8d02_acde48001122row6_col0,#T_4f57e554_9272_11eb_8d02_acde48001122row6_col1,#T_4f57e554_9272_11eb_8d02_acde48001122row6_col3,#T_4f57e554_9272_11eb_8d02_acde48001122row6_col4,#T_4f57e554_9272_11eb_8d02_acde48001122row6_col5,#T_4f57e554_9272_11eb_8d02_acde48001122row6_col6,#T_4f57e554_9272_11eb_8d02_acde48001122row6_col7,#T_4f57e554_9272_11eb_8d02_acde48001122row7_col0,#T_4f57e554_9272_11eb_8d02_acde48001122row7_col1,#T_4f57e554_9272_11eb_8d02_acde48001122row7_col2,#T_4f57e554_9272_11eb_8d02_acde48001122row7_col3,#T_4f57e554_9272_11eb_8d02_acde48001122row7_col4,#T_4f57e554_9272_11eb_8d02_acde48001122row7_col5,#T_4f57e554_9272_11eb_8d02_acde48001122row7_col6,#T_4f57e554_9272_11eb_8d02_acde48001122row7_col7,#T_4f57e554_9272_11eb_8d02_acde48001122row8_col0,#T_4f57e554_9272_11eb_8d02_acde48001122row8_col1,#T_4f57e554_9272_11eb_8d02_acde48001122row8_col2,#T_4f57e554_9272_11eb_8d02_acde48001122row8_col3,#T_4f57e554_9272_11eb_8d02_acde48001122row8_col4,#T_4f57e554_9272_11eb_8d02_acde48001122row8_col5,#T_4f57e554_9272_11eb_8d02_acde48001122row8_col6,#T_4f57e554_9272_11eb_8d02_acde48001122row8_col7,#T_4f57e554_9272_11eb_8d02_acde48001122row9_col0,#T_4f57e554_9272_11eb_8d02_acde48001122row9_col1,#T_4f57e554_9272_11eb_8d02_acde48001122row9_col2,#T_4f57e554_9272_11eb_8d02_acde48001122row9_col3,#T_4f57e554_9272_11eb_8d02_acde48001122row9_col4,#T_4f57e554_9272_11eb_8d02_acde48001122row9_col5,#T_4f57e554_9272_11eb_8d02_acde48001122row9_col6,#T_4f57e554_9272_11eb_8d02_acde48001122row9_col7,#T_4f57e554_9272_11eb_8d02_acde48001122row10_col0,#T_4f57e554_9272_11eb_8d02_acde48001122row10_col1,#T_4f57e554_9272_11eb_8d02_acde48001122row10_col2,#T_4f57e554_9272_11eb_8d02_acde48001122row10_col3,#T_4f57e554_9272_11eb_8d02_acde48001122row10_col4,#T_4f57e554_9272_11eb_8d02_acde48001122row10_col5,#T_4f57e554_9272_11eb_8d02_acde48001122row10_col6,#T_4f57e554_9272_11eb_8d02_acde48001122row10_col7,#T_4f57e554_9272_11eb_8d02_acde48001122row11_col0,#T_4f57e554_9272_11eb_8d02_acde48001122row11_col1,#T_4f57e554_9272_11eb_8d02_acde48001122row11_col2,#T_4f57e554_9272_11eb_8d02_acde48001122row11_col3,#T_4f57e554_9272_11eb_8d02_acde48001122row11_col4,#T_4f57e554_9272_11eb_8d02_acde48001122row11_col5,#T_4f57e554_9272_11eb_8d02_acde48001122row11_col6,#T_4f57e554_9272_11eb_8d02_acde48001122row11_col7,#T_4f57e554_9272_11eb_8d02_acde48001122row12_col0,#T_4f57e554_9272_11eb_8d02_acde48001122row12_col1,#T_4f57e554_9272_11eb_8d02_acde48001122row12_col2,#T_4f57e554_9272_11eb_8d02_acde48001122row12_col3,#T_4f57e554_9272_11eb_8d02_acde48001122row12_col4,#T_4f57e554_9272_11eb_8d02_acde48001122row12_col5,#T_4f57e554_9272_11eb_8d02_acde48001122row12_col6,#T_4f57e554_9272_11eb_8d02_acde48001122row12_col7,#T_4f57e554_9272_11eb_8d02_acde48001122row13_col0,#T_4f57e554_9272_11eb_8d02_acde48001122row13_col1,#T_4f57e554_9272_11eb_8d02_acde48001122row13_col2,#T_4f57e554_9272_11eb_8d02_acde48001122row13_col4,#T_4f57e554_9272_11eb_8d02_acde48001122row14_col0,#T_4f57e554_9272_11eb_8d02_acde48001122row14_col1,#T_4f57e554_9272_11eb_8d02_acde48001122row14_col2,#T_4f57e554_9272_11eb_8d02_acde48001122row14_col3,#T_4f57e554_9272_11eb_8d02_acde48001122row14_col4,#T_4f57e554_9272_11eb_8d02_acde48001122row14_col5,#T_4f57e554_9272_11eb_8d02_acde48001122row14_col6,#T_4f57e554_9272_11eb_8d02_acde48001122row14_col7{\n",
       "            text-align:  left;\n",
       "        }#T_4f57e554_9272_11eb_8d02_acde48001122row0_col1,#T_4f57e554_9272_11eb_8d02_acde48001122row1_col1,#T_4f57e554_9272_11eb_8d02_acde48001122row2_col1,#T_4f57e554_9272_11eb_8d02_acde48001122row3_col1,#T_4f57e554_9272_11eb_8d02_acde48001122row5_col4,#T_4f57e554_9272_11eb_8d02_acde48001122row6_col2,#T_4f57e554_9272_11eb_8d02_acde48001122row13_col3,#T_4f57e554_9272_11eb_8d02_acde48001122row13_col5,#T_4f57e554_9272_11eb_8d02_acde48001122row13_col6,#T_4f57e554_9272_11eb_8d02_acde48001122row13_col7{\n",
       "            background-color:  yellow;\n",
       "            text-align:  left;\n",
       "        }#T_4f57e554_9272_11eb_8d02_acde48001122row0_col8,#T_4f57e554_9272_11eb_8d02_acde48001122row1_col8,#T_4f57e554_9272_11eb_8d02_acde48001122row2_col8,#T_4f57e554_9272_11eb_8d02_acde48001122row3_col8,#T_4f57e554_9272_11eb_8d02_acde48001122row4_col8,#T_4f57e554_9272_11eb_8d02_acde48001122row5_col8,#T_4f57e554_9272_11eb_8d02_acde48001122row6_col8,#T_4f57e554_9272_11eb_8d02_acde48001122row7_col8,#T_4f57e554_9272_11eb_8d02_acde48001122row8_col8,#T_4f57e554_9272_11eb_8d02_acde48001122row9_col8,#T_4f57e554_9272_11eb_8d02_acde48001122row10_col8,#T_4f57e554_9272_11eb_8d02_acde48001122row11_col8,#T_4f57e554_9272_11eb_8d02_acde48001122row12_col8,#T_4f57e554_9272_11eb_8d02_acde48001122row13_col8,#T_4f57e554_9272_11eb_8d02_acde48001122row14_col8{\n",
       "            background-color:  lightgrey;\n",
       "            text-align:  left;\n",
       "        }</style><table id=\"T_4f57e554_9272_11eb_8d02_acde48001122\" ><thead>    <tr>        <th class=\"blank level0\" ></th>        <th class=\"col_heading level0 col0\" >Model</th>        <th class=\"col_heading level0 col1\" >Accuracy</th>        <th class=\"col_heading level0 col2\" >AUC</th>        <th class=\"col_heading level0 col3\" >Recall</th>        <th class=\"col_heading level0 col4\" >Prec.</th>        <th class=\"col_heading level0 col5\" >F1</th>        <th class=\"col_heading level0 col6\" >Kappa</th>        <th class=\"col_heading level0 col7\" >MCC</th>        <th class=\"col_heading level0 col8\" >TT (Sec)</th>    </tr></thead><tbody>\n",
       "                <tr>\n",
       "                        <th id=\"T_4f57e554_9272_11eb_8d02_acde48001122level0_row0\" class=\"row_heading level0 row0\" >0</th>\n",
       "                        <td id=\"T_4f57e554_9272_11eb_8d02_acde48001122row0_col0\" class=\"data row0 col0\" >Logistic Regression</td>\n",
       "                        <td id=\"T_4f57e554_9272_11eb_8d02_acde48001122row0_col1\" class=\"data row0 col1\" >0.7595</td>\n",
       "                        <td id=\"T_4f57e554_9272_11eb_8d02_acde48001122row0_col2\" class=\"data row0 col2\" >0.4973</td>\n",
       "                        <td id=\"T_4f57e554_9272_11eb_8d02_acde48001122row0_col3\" class=\"data row0 col3\" >0.0000</td>\n",
       "                        <td id=\"T_4f57e554_9272_11eb_8d02_acde48001122row0_col4\" class=\"data row0 col4\" >0.0000</td>\n",
       "                        <td id=\"T_4f57e554_9272_11eb_8d02_acde48001122row0_col5\" class=\"data row0 col5\" >0.0000</td>\n",
       "                        <td id=\"T_4f57e554_9272_11eb_8d02_acde48001122row0_col6\" class=\"data row0 col6\" >0.0000</td>\n",
       "                        <td id=\"T_4f57e554_9272_11eb_8d02_acde48001122row0_col7\" class=\"data row0 col7\" >0.0000</td>\n",
       "                        <td id=\"T_4f57e554_9272_11eb_8d02_acde48001122row0_col8\" class=\"data row0 col8\" >0.0749</td>\n",
       "            </tr>\n",
       "            <tr>\n",
       "                        <th id=\"T_4f57e554_9272_11eb_8d02_acde48001122level0_row1\" class=\"row_heading level0 row1\" >1</th>\n",
       "                        <td id=\"T_4f57e554_9272_11eb_8d02_acde48001122row1_col0\" class=\"data row1 col0\" >Naive Bayes</td>\n",
       "                        <td id=\"T_4f57e554_9272_11eb_8d02_acde48001122row1_col1\" class=\"data row1 col1\" >0.7595</td>\n",
       "                        <td id=\"T_4f57e554_9272_11eb_8d02_acde48001122row1_col2\" class=\"data row1 col2\" >0.5103</td>\n",
       "                        <td id=\"T_4f57e554_9272_11eb_8d02_acde48001122row1_col3\" class=\"data row1 col3\" >0.0000</td>\n",
       "                        <td id=\"T_4f57e554_9272_11eb_8d02_acde48001122row1_col4\" class=\"data row1 col4\" >0.0000</td>\n",
       "                        <td id=\"T_4f57e554_9272_11eb_8d02_acde48001122row1_col5\" class=\"data row1 col5\" >0.0000</td>\n",
       "                        <td id=\"T_4f57e554_9272_11eb_8d02_acde48001122row1_col6\" class=\"data row1 col6\" >0.0000</td>\n",
       "                        <td id=\"T_4f57e554_9272_11eb_8d02_acde48001122row1_col7\" class=\"data row1 col7\" >0.0000</td>\n",
       "                        <td id=\"T_4f57e554_9272_11eb_8d02_acde48001122row1_col8\" class=\"data row1 col8\" >0.0051</td>\n",
       "            </tr>\n",
       "            <tr>\n",
       "                        <th id=\"T_4f57e554_9272_11eb_8d02_acde48001122level0_row2\" class=\"row_heading level0 row2\" >2</th>\n",
       "                        <td id=\"T_4f57e554_9272_11eb_8d02_acde48001122row2_col0\" class=\"data row2 col0\" >Ridge Classifier</td>\n",
       "                        <td id=\"T_4f57e554_9272_11eb_8d02_acde48001122row2_col1\" class=\"data row2 col1\" >0.7595</td>\n",
       "                        <td id=\"T_4f57e554_9272_11eb_8d02_acde48001122row2_col2\" class=\"data row2 col2\" >0.0000</td>\n",
       "                        <td id=\"T_4f57e554_9272_11eb_8d02_acde48001122row2_col3\" class=\"data row2 col3\" >0.0000</td>\n",
       "                        <td id=\"T_4f57e554_9272_11eb_8d02_acde48001122row2_col4\" class=\"data row2 col4\" >0.0000</td>\n",
       "                        <td id=\"T_4f57e554_9272_11eb_8d02_acde48001122row2_col5\" class=\"data row2 col5\" >0.0000</td>\n",
       "                        <td id=\"T_4f57e554_9272_11eb_8d02_acde48001122row2_col6\" class=\"data row2 col6\" >0.0000</td>\n",
       "                        <td id=\"T_4f57e554_9272_11eb_8d02_acde48001122row2_col7\" class=\"data row2 col7\" >0.0000</td>\n",
       "                        <td id=\"T_4f57e554_9272_11eb_8d02_acde48001122row2_col8\" class=\"data row2 col8\" >0.0081</td>\n",
       "            </tr>\n",
       "            <tr>\n",
       "                        <th id=\"T_4f57e554_9272_11eb_8d02_acde48001122level0_row3\" class=\"row_heading level0 row3\" >3</th>\n",
       "                        <td id=\"T_4f57e554_9272_11eb_8d02_acde48001122row3_col0\" class=\"data row3 col0\" >Linear Discriminant Analysis</td>\n",
       "                        <td id=\"T_4f57e554_9272_11eb_8d02_acde48001122row3_col1\" class=\"data row3 col1\" >0.7595</td>\n",
       "                        <td id=\"T_4f57e554_9272_11eb_8d02_acde48001122row3_col2\" class=\"data row3 col2\" >0.5035</td>\n",
       "                        <td id=\"T_4f57e554_9272_11eb_8d02_acde48001122row3_col3\" class=\"data row3 col3\" >0.0000</td>\n",
       "                        <td id=\"T_4f57e554_9272_11eb_8d02_acde48001122row3_col4\" class=\"data row3 col4\" >0.0000</td>\n",
       "                        <td id=\"T_4f57e554_9272_11eb_8d02_acde48001122row3_col5\" class=\"data row3 col5\" >0.0000</td>\n",
       "                        <td id=\"T_4f57e554_9272_11eb_8d02_acde48001122row3_col6\" class=\"data row3 col6\" >0.0000</td>\n",
       "                        <td id=\"T_4f57e554_9272_11eb_8d02_acde48001122row3_col7\" class=\"data row3 col7\" >0.0000</td>\n",
       "                        <td id=\"T_4f57e554_9272_11eb_8d02_acde48001122row3_col8\" class=\"data row3 col8\" >0.0369</td>\n",
       "            </tr>\n",
       "            <tr>\n",
       "                        <th id=\"T_4f57e554_9272_11eb_8d02_acde48001122level0_row4\" class=\"row_heading level0 row4\" >4</th>\n",
       "                        <td id=\"T_4f57e554_9272_11eb_8d02_acde48001122row4_col0\" class=\"data row4 col0\" >Ada Boost Classifier</td>\n",
       "                        <td id=\"T_4f57e554_9272_11eb_8d02_acde48001122row4_col1\" class=\"data row4 col1\" >0.7594</td>\n",
       "                        <td id=\"T_4f57e554_9272_11eb_8d02_acde48001122row4_col2\" class=\"data row4 col2\" >0.6170</td>\n",
       "                        <td id=\"T_4f57e554_9272_11eb_8d02_acde48001122row4_col3\" class=\"data row4 col3\" >0.0000</td>\n",
       "                        <td id=\"T_4f57e554_9272_11eb_8d02_acde48001122row4_col4\" class=\"data row4 col4\" >0.0000</td>\n",
       "                        <td id=\"T_4f57e554_9272_11eb_8d02_acde48001122row4_col5\" class=\"data row4 col5\" >0.0000</td>\n",
       "                        <td id=\"T_4f57e554_9272_11eb_8d02_acde48001122row4_col6\" class=\"data row4 col6\" >-0.0001</td>\n",
       "                        <td id=\"T_4f57e554_9272_11eb_8d02_acde48001122row4_col7\" class=\"data row4 col7\" >-0.0012</td>\n",
       "                        <td id=\"T_4f57e554_9272_11eb_8d02_acde48001122row4_col8\" class=\"data row4 col8\" >0.3735</td>\n",
       "            </tr>\n",
       "            <tr>\n",
       "                        <th id=\"T_4f57e554_9272_11eb_8d02_acde48001122level0_row5\" class=\"row_heading level0 row5\" >5</th>\n",
       "                        <td id=\"T_4f57e554_9272_11eb_8d02_acde48001122row5_col0\" class=\"data row5 col0\" >Extreme Gradient Boosting</td>\n",
       "                        <td id=\"T_4f57e554_9272_11eb_8d02_acde48001122row5_col1\" class=\"data row5 col1\" >0.7591</td>\n",
       "                        <td id=\"T_4f57e554_9272_11eb_8d02_acde48001122row5_col2\" class=\"data row5 col2\" >0.6353</td>\n",
       "                        <td id=\"T_4f57e554_9272_11eb_8d02_acde48001122row5_col3\" class=\"data row5 col3\" >0.0101</td>\n",
       "                        <td id=\"T_4f57e554_9272_11eb_8d02_acde48001122row5_col4\" class=\"data row5 col4\" >0.5285</td>\n",
       "                        <td id=\"T_4f57e554_9272_11eb_8d02_acde48001122row5_col5\" class=\"data row5 col5\" >0.0198</td>\n",
       "                        <td id=\"T_4f57e554_9272_11eb_8d02_acde48001122row5_col6\" class=\"data row5 col6\" >0.0097</td>\n",
       "                        <td id=\"T_4f57e554_9272_11eb_8d02_acde48001122row5_col7\" class=\"data row5 col7\" >0.0410</td>\n",
       "                        <td id=\"T_4f57e554_9272_11eb_8d02_acde48001122row5_col8\" class=\"data row5 col8\" >0.3858</td>\n",
       "            </tr>\n",
       "            <tr>\n",
       "                        <th id=\"T_4f57e554_9272_11eb_8d02_acde48001122level0_row6\" class=\"row_heading level0 row6\" >6</th>\n",
       "                        <td id=\"T_4f57e554_9272_11eb_8d02_acde48001122row6_col0\" class=\"data row6 col0\" >Gradient Boosting Classifier</td>\n",
       "                        <td id=\"T_4f57e554_9272_11eb_8d02_acde48001122row6_col1\" class=\"data row6 col1\" >0.7588</td>\n",
       "                        <td id=\"T_4f57e554_9272_11eb_8d02_acde48001122row6_col2\" class=\"data row6 col2\" >0.6359</td>\n",
       "                        <td id=\"T_4f57e554_9272_11eb_8d02_acde48001122row6_col3\" class=\"data row6 col3\" >0.0099</td>\n",
       "                        <td id=\"T_4f57e554_9272_11eb_8d02_acde48001122row6_col4\" class=\"data row6 col4\" >0.4505</td>\n",
       "                        <td id=\"T_4f57e554_9272_11eb_8d02_acde48001122row6_col5\" class=\"data row6 col5\" >0.0194</td>\n",
       "                        <td id=\"T_4f57e554_9272_11eb_8d02_acde48001122row6_col6\" class=\"data row6 col6\" >0.0088</td>\n",
       "                        <td id=\"T_4f57e554_9272_11eb_8d02_acde48001122row6_col7\" class=\"data row6 col7\" >0.0342</td>\n",
       "                        <td id=\"T_4f57e554_9272_11eb_8d02_acde48001122row6_col8\" class=\"data row6 col8\" >1.2627</td>\n",
       "            </tr>\n",
       "            <tr>\n",
       "                        <th id=\"T_4f57e554_9272_11eb_8d02_acde48001122level0_row7\" class=\"row_heading level0 row7\" >7</th>\n",
       "                        <td id=\"T_4f57e554_9272_11eb_8d02_acde48001122row7_col0\" class=\"data row7 col0\" >Light Gradient Boosting Machine</td>\n",
       "                        <td id=\"T_4f57e554_9272_11eb_8d02_acde48001122row7_col1\" class=\"data row7 col1\" >0.7578</td>\n",
       "                        <td id=\"T_4f57e554_9272_11eb_8d02_acde48001122row7_col2\" class=\"data row7 col2\" >0.6298</td>\n",
       "                        <td id=\"T_4f57e554_9272_11eb_8d02_acde48001122row7_col3\" class=\"data row7 col3\" >0.0247</td>\n",
       "                        <td id=\"T_4f57e554_9272_11eb_8d02_acde48001122row7_col4\" class=\"data row7 col4\" >0.4443</td>\n",
       "                        <td id=\"T_4f57e554_9272_11eb_8d02_acde48001122row7_col5\" class=\"data row7 col5\" >0.0466</td>\n",
       "                        <td id=\"T_4f57e554_9272_11eb_8d02_acde48001122row7_col6\" class=\"data row7 col6\" >0.0216</td>\n",
       "                        <td id=\"T_4f57e554_9272_11eb_8d02_acde48001122row7_col7\" class=\"data row7 col7\" >0.0547</td>\n",
       "                        <td id=\"T_4f57e554_9272_11eb_8d02_acde48001122row7_col8\" class=\"data row7 col8\" >0.4236</td>\n",
       "            </tr>\n",
       "            <tr>\n",
       "                        <th id=\"T_4f57e554_9272_11eb_8d02_acde48001122level0_row8\" class=\"row_heading level0 row8\" >8</th>\n",
       "                        <td id=\"T_4f57e554_9272_11eb_8d02_acde48001122row8_col0\" class=\"data row8 col0\" >CatBoost Classifier</td>\n",
       "                        <td id=\"T_4f57e554_9272_11eb_8d02_acde48001122row8_col1\" class=\"data row8 col1\" >0.7570</td>\n",
       "                        <td id=\"T_4f57e554_9272_11eb_8d02_acde48001122row8_col2\" class=\"data row8 col2\" >0.6287</td>\n",
       "                        <td id=\"T_4f57e554_9272_11eb_8d02_acde48001122row8_col3\" class=\"data row8 col3\" >0.0273</td>\n",
       "                        <td id=\"T_4f57e554_9272_11eb_8d02_acde48001122row8_col4\" class=\"data row8 col4\" >0.4174</td>\n",
       "                        <td id=\"T_4f57e554_9272_11eb_8d02_acde48001122row8_col5\" class=\"data row8 col5\" >0.0512</td>\n",
       "                        <td id=\"T_4f57e554_9272_11eb_8d02_acde48001122row8_col6\" class=\"data row8 col6\" >0.0225</td>\n",
       "                        <td id=\"T_4f57e554_9272_11eb_8d02_acde48001122row8_col7\" class=\"data row8 col7\" >0.0523</td>\n",
       "                        <td id=\"T_4f57e554_9272_11eb_8d02_acde48001122row8_col8\" class=\"data row8 col8\" >11.6407</td>\n",
       "            </tr>\n",
       "            <tr>\n",
       "                        <th id=\"T_4f57e554_9272_11eb_8d02_acde48001122level0_row9\" class=\"row_heading level0 row9\" >9</th>\n",
       "                        <td id=\"T_4f57e554_9272_11eb_8d02_acde48001122row9_col0\" class=\"data row9 col0\" >Quadratic Discriminant Analysis</td>\n",
       "                        <td id=\"T_4f57e554_9272_11eb_8d02_acde48001122row9_col1\" class=\"data row9 col1\" >0.7456</td>\n",
       "                        <td id=\"T_4f57e554_9272_11eb_8d02_acde48001122row9_col2\" class=\"data row9 col2\" >0.5235</td>\n",
       "                        <td id=\"T_4f57e554_9272_11eb_8d02_acde48001122row9_col3\" class=\"data row9 col3\" >0.0369</td>\n",
       "                        <td id=\"T_4f57e554_9272_11eb_8d02_acde48001122row9_col4\" class=\"data row9 col4\" >0.2791</td>\n",
       "                        <td id=\"T_4f57e554_9272_11eb_8d02_acde48001122row9_col5\" class=\"data row9 col5\" >0.0650</td>\n",
       "                        <td id=\"T_4f57e554_9272_11eb_8d02_acde48001122row9_col6\" class=\"data row9 col6\" >0.0097</td>\n",
       "                        <td id=\"T_4f57e554_9272_11eb_8d02_acde48001122row9_col7\" class=\"data row9 col7\" >0.0165</td>\n",
       "                        <td id=\"T_4f57e554_9272_11eb_8d02_acde48001122row9_col8\" class=\"data row9 col8\" >0.0094</td>\n",
       "            </tr>\n",
       "            <tr>\n",
       "                        <th id=\"T_4f57e554_9272_11eb_8d02_acde48001122level0_row10\" class=\"row_heading level0 row10\" >10</th>\n",
       "                        <td id=\"T_4f57e554_9272_11eb_8d02_acde48001122row10_col0\" class=\"data row10 col0\" >Extra Trees Classifier</td>\n",
       "                        <td id=\"T_4f57e554_9272_11eb_8d02_acde48001122row10_col1\" class=\"data row10 col1\" >0.7389</td>\n",
       "                        <td id=\"T_4f57e554_9272_11eb_8d02_acde48001122row10_col2\" class=\"data row10 col2\" >0.5525</td>\n",
       "                        <td id=\"T_4f57e554_9272_11eb_8d02_acde48001122row10_col3\" class=\"data row10 col3\" >0.0782</td>\n",
       "                        <td id=\"T_4f57e554_9272_11eb_8d02_acde48001122row10_col4\" class=\"data row10 col4\" >0.3232</td>\n",
       "                        <td id=\"T_4f57e554_9272_11eb_8d02_acde48001122row10_col5\" class=\"data row10 col5\" >0.1258</td>\n",
       "                        <td id=\"T_4f57e554_9272_11eb_8d02_acde48001122row10_col6\" class=\"data row10 col6\" >0.0356</td>\n",
       "                        <td id=\"T_4f57e554_9272_11eb_8d02_acde48001122row10_col7\" class=\"data row10 col7\" >0.0481</td>\n",
       "                        <td id=\"T_4f57e554_9272_11eb_8d02_acde48001122row10_col8\" class=\"data row10 col8\" >0.3638</td>\n",
       "            </tr>\n",
       "            <tr>\n",
       "                        <th id=\"T_4f57e554_9272_11eb_8d02_acde48001122level0_row11\" class=\"row_heading level0 row11\" >11</th>\n",
       "                        <td id=\"T_4f57e554_9272_11eb_8d02_acde48001122row11_col0\" class=\"data row11 col0\" >Random Forest Classifier</td>\n",
       "                        <td id=\"T_4f57e554_9272_11eb_8d02_acde48001122row11_col1\" class=\"data row11 col1\" >0.7345</td>\n",
       "                        <td id=\"T_4f57e554_9272_11eb_8d02_acde48001122row11_col2\" class=\"data row11 col2\" >0.5543</td>\n",
       "                        <td id=\"T_4f57e554_9272_11eb_8d02_acde48001122row11_col3\" class=\"data row11 col3\" >0.0683</td>\n",
       "                        <td id=\"T_4f57e554_9272_11eb_8d02_acde48001122row11_col4\" class=\"data row11 col4\" >0.2835</td>\n",
       "                        <td id=\"T_4f57e554_9272_11eb_8d02_acde48001122row11_col5\" class=\"data row11 col5\" >0.1099</td>\n",
       "                        <td id=\"T_4f57e554_9272_11eb_8d02_acde48001122row11_col6\" class=\"data row11 col6\" >0.0185</td>\n",
       "                        <td id=\"T_4f57e554_9272_11eb_8d02_acde48001122row11_col7\" class=\"data row11 col7\" >0.0250</td>\n",
       "                        <td id=\"T_4f57e554_9272_11eb_8d02_acde48001122row11_col8\" class=\"data row11 col8\" >0.1114</td>\n",
       "            </tr>\n",
       "            <tr>\n",
       "                        <th id=\"T_4f57e554_9272_11eb_8d02_acde48001122level0_row12\" class=\"row_heading level0 row12\" >12</th>\n",
       "                        <td id=\"T_4f57e554_9272_11eb_8d02_acde48001122row12_col0\" class=\"data row12 col0\" >K Neighbors Classifier</td>\n",
       "                        <td id=\"T_4f57e554_9272_11eb_8d02_acde48001122row12_col1\" class=\"data row12 col1\" >0.7098</td>\n",
       "                        <td id=\"T_4f57e554_9272_11eb_8d02_acde48001122row12_col2\" class=\"data row12 col2\" >0.5059</td>\n",
       "                        <td id=\"T_4f57e554_9272_11eb_8d02_acde48001122row12_col3\" class=\"data row12 col3\" >0.1006</td>\n",
       "                        <td id=\"T_4f57e554_9272_11eb_8d02_acde48001122row12_col4\" class=\"data row12 col4\" >0.2475</td>\n",
       "                        <td id=\"T_4f57e554_9272_11eb_8d02_acde48001122row12_col5\" class=\"data row12 col5\" >0.1428</td>\n",
       "                        <td id=\"T_4f57e554_9272_11eb_8d02_acde48001122row12_col6\" class=\"data row12 col6\" >0.0042</td>\n",
       "                        <td id=\"T_4f57e554_9272_11eb_8d02_acde48001122row12_col7\" class=\"data row12 col7\" >0.0050</td>\n",
       "                        <td id=\"T_4f57e554_9272_11eb_8d02_acde48001122row12_col8\" class=\"data row12 col8\" >0.0161</td>\n",
       "            </tr>\n",
       "            <tr>\n",
       "                        <th id=\"T_4f57e554_9272_11eb_8d02_acde48001122level0_row13\" class=\"row_heading level0 row13\" >13</th>\n",
       "                        <td id=\"T_4f57e554_9272_11eb_8d02_acde48001122row13_col0\" class=\"data row13 col0\" >Decision Tree Classifier</td>\n",
       "                        <td id=\"T_4f57e554_9272_11eb_8d02_acde48001122row13_col1\" class=\"data row13 col1\" >0.6495</td>\n",
       "                        <td id=\"T_4f57e554_9272_11eb_8d02_acde48001122row13_col2\" class=\"data row13 col2\" >0.5312</td>\n",
       "                        <td id=\"T_4f57e554_9272_11eb_8d02_acde48001122row13_col3\" class=\"data row13 col3\" >0.3033</td>\n",
       "                        <td id=\"T_4f57e554_9272_11eb_8d02_acde48001122row13_col4\" class=\"data row13 col4\" >0.2850</td>\n",
       "                        <td id=\"T_4f57e554_9272_11eb_8d02_acde48001122row13_col5\" class=\"data row13 col5\" >0.2938</td>\n",
       "                        <td id=\"T_4f57e554_9272_11eb_8d02_acde48001122row13_col6\" class=\"data row13 col6\" >0.0611</td>\n",
       "                        <td id=\"T_4f57e554_9272_11eb_8d02_acde48001122row13_col7\" class=\"data row13 col7\" >0.0611</td>\n",
       "                        <td id=\"T_4f57e554_9272_11eb_8d02_acde48001122row13_col8\" class=\"data row13 col8\" >0.0745</td>\n",
       "            </tr>\n",
       "            <tr>\n",
       "                        <th id=\"T_4f57e554_9272_11eb_8d02_acde48001122level0_row14\" class=\"row_heading level0 row14\" >14</th>\n",
       "                        <td id=\"T_4f57e554_9272_11eb_8d02_acde48001122row14_col0\" class=\"data row14 col0\" >SVM - Linear Kernel</td>\n",
       "                        <td id=\"T_4f57e554_9272_11eb_8d02_acde48001122row14_col1\" class=\"data row14 col1\" >0.6038</td>\n",
       "                        <td id=\"T_4f57e554_9272_11eb_8d02_acde48001122row14_col2\" class=\"data row14 col2\" >0.0000</td>\n",
       "                        <td id=\"T_4f57e554_9272_11eb_8d02_acde48001122row14_col3\" class=\"data row14 col3\" >0.3000</td>\n",
       "                        <td id=\"T_4f57e554_9272_11eb_8d02_acde48001122row14_col4\" class=\"data row14 col4\" >0.0722</td>\n",
       "                        <td id=\"T_4f57e554_9272_11eb_8d02_acde48001122row14_col5\" class=\"data row14 col5\" >0.1164</td>\n",
       "                        <td id=\"T_4f57e554_9272_11eb_8d02_acde48001122row14_col6\" class=\"data row14 col6\" >0.0000</td>\n",
       "                        <td id=\"T_4f57e554_9272_11eb_8d02_acde48001122row14_col7\" class=\"data row14 col7\" >0.0000</td>\n",
       "                        <td id=\"T_4f57e554_9272_11eb_8d02_acde48001122row14_col8\" class=\"data row14 col8\" >0.2635</td>\n",
       "            </tr>\n",
       "    </tbody></table>"
      ],
      "text/plain": [
       "<pandas.io.formats.style.Styler at 0x7fe1c935bc18>"
      ]
     },
     "metadata": {},
     "output_type": "display_data"
    },
    {
     "data": {
      "text/plain": [
       "LogisticRegression(C=1.0, class_weight=None, dual=False, fit_intercept=True,\n",
       "                   intercept_scaling=1, l1_ratio=None, max_iter=100,\n",
       "                   multi_class='auto', n_jobs=None, penalty='l2',\n",
       "                   random_state=123, solver='lbfgs', tol=0.0001, verbose=0,\n",
       "                   warm_start=False)"
      ]
     },
     "execution_count": 42,
     "metadata": {},
     "output_type": "execute_result"
    }
   ],
   "source": [
    "compare_models()"
   ]
  },
  {
   "cell_type": "markdown",
   "metadata": {},
   "source": [
    "# XGBoost Model"
   ]
  },
  {
   "cell_type": "code",
   "execution_count": 43,
   "metadata": {
    "ExecuteTime": {
     "end_time": "2021-03-31T22:42:02.049868Z",
     "start_time": "2021-03-31T22:42:02.045858Z"
    }
   },
   "outputs": [],
   "source": [
    "from xgboost import XGBClassifier\n",
    "from sklearn.model_selection import train_test_split\n",
    "from sklearn.metrics import accuracy_score\n",
    "from sklearn.model_selection import GridSearchCV\n",
    "from sklearn.metrics import classification_report\n",
    "import sklearn.metrics as metrics"
   ]
  },
  {
   "cell_type": "code",
   "execution_count": 44,
   "metadata": {
    "ExecuteTime": {
     "end_time": "2021-03-31T22:42:02.057478Z",
     "start_time": "2021-03-31T22:42:02.051961Z"
    }
   },
   "outputs": [],
   "source": [
    "def model_visuals (model, X_test, y_test):\n",
    "    '''Plots the confusion matrix and ROC-AUC plot'''\n",
    "    fig, axes = plt.subplots(figsize = (12, 6), ncols = 2)  # confusion matrix\n",
    "    metrics.plot_confusion_matrix(model, X_test, y_test, normalize = 'true', \n",
    "                          cmap = 'Blues', ax = axes[0])\n",
    "    axes[0].set_title('Confusion Matrix');\n",
    "    # ROC-AUC Curve\n",
    "    roc_auc = metrics.plot_roc_curve(model, X_test, y_test,ax=axes[1])\n",
    "    axes[1].plot([0,1],[0,1],ls=':')\n",
    "    axes[1].set_title('ROC-AUC Plot')\n",
    "    axes[1].grid()\n",
    "    axes[1].legend()\n",
    "    fig.tight_layout()\n",
    "    plt.show()"
   ]
  },
  {
   "cell_type": "markdown",
   "metadata": {},
   "source": [
    "#### Test Train Split"
   ]
  },
  {
   "cell_type": "code",
   "execution_count": 45,
   "metadata": {
    "ExecuteTime": {
     "end_time": "2021-03-31T22:42:02.072031Z",
     "start_time": "2021-03-31T22:42:02.059483Z"
    }
   },
   "outputs": [],
   "source": [
    "y = df['Response']\n",
    "X = df.drop(columns=['Response'],axis=1)\n",
    "\n",
    "X_train, X_test, y_train, y_test = train_test_split(X, y, test_size=0.2, random_state=42)"
   ]
  },
  {
   "cell_type": "markdown",
   "metadata": {},
   "source": [
    "## GridSearchCV"
   ]
  },
  {
   "cell_type": "code",
   "execution_count": 46,
   "metadata": {
    "ExecuteTime": {
     "end_time": "2021-03-31T22:42:05.363947Z",
     "start_time": "2021-03-31T22:42:02.074228Z"
    }
   },
   "outputs": [
    {
     "data": {
      "text/plain": [
       "XGBClassifier(base_score=0.5, booster='gbtree', colsample_bylevel=1,\n",
       "              colsample_bynode=1, colsample_bytree=1, gamma=0,\n",
       "              learning_rate=0.1, max_delta_step=0, max_depth=3,\n",
       "              min_child_weight=1, missing=None, n_estimators=100, n_jobs=1,\n",
       "              nthread=None, objective='binary:logistic', random_state=42,\n",
       "              reg_alpha=0, reg_lambda=1, scale_pos_weight=1, seed=None,\n",
       "              silent=None, subsample=1, verbosity=1)"
      ]
     },
     "execution_count": 46,
     "metadata": {},
     "output_type": "execute_result"
    }
   ],
   "source": [
    "xclf = XGBClassifier(random_state=42)\n",
    "xclf.fit(X_train,y_train)"
   ]
  },
  {
   "cell_type": "code",
   "execution_count": 47,
   "metadata": {
    "ExecuteTime": {
     "end_time": "2021-03-31T22:42:05.368401Z",
     "start_time": "2021-03-31T22:42:05.365569Z"
    }
   },
   "outputs": [],
   "source": [
    "param_grid = {\n",
    "    'learning_rate': [0.1,0.2],\n",
    "    'max_depth': [6],\n",
    "    'min_child_weight': [1,2],\n",
    "    'subsample': [0.5,0.7],\n",
    "    'n_estimators': [100]\n",
    "}"
   ]
  },
  {
   "cell_type": "code",
   "execution_count": 48,
   "metadata": {
    "ExecuteTime": {
     "end_time": "2021-03-31T22:44:29.972993Z",
     "start_time": "2021-03-31T22:42:05.370027Z"
    }
   },
   "outputs": [
    {
     "name": "stdout",
     "output_type": "stream",
     "text": [
      "Grid search found the following optimal parameters: \n",
      "learning_rate: 0.1\n",
      "max_depth: 6\n",
      "min_child_weight: 2\n",
      "n_estimators: 100\n",
      "subsample: 0.7\n",
      "\n",
      "Training Accuracy: 76.88%\n",
      "Validation Accuracy: 75.83%\n"
     ]
    }
   ],
   "source": [
    "grid_xclf = GridSearchCV(xclf,param_grid,scoring='accuracy',cv=None,n_jobs=1)\n",
    "grid_xclf.fit(X_train,y_train)\n",
    "\n",
    "best_parameters = grid_xclf.best_params_\n",
    "\n",
    "print('Grid search found the following optimal parameters: ')\n",
    "for param_name in sorted(best_parameters.keys()):\n",
    "    print('%s: %r' % (param_name,best_parameters[param_name]))\n",
    "    \n",
    "training_preds = grid_xclf.predict(X_train)\n",
    "test_preds = grid_xclf.predict(X_test)\n",
    "training_accuracy = accuracy_score(y_train,training_preds)\n",
    "test_accuracy = accuracy_score(y_test,test_preds)\n",
    "\n",
    "print('')\n",
    "print('Training Accuracy: {:.4}%'.format(training_accuracy*100))\n",
    "print('Validation Accuracy: {:.4}%'.format(test_accuracy*100))"
   ]
  },
  {
   "cell_type": "markdown",
   "metadata": {},
   "source": [
    "## Final Model"
   ]
  },
  {
   "cell_type": "code",
   "execution_count": 49,
   "metadata": {
    "ExecuteTime": {
     "end_time": "2021-03-31T22:44:34.162194Z",
     "start_time": "2021-03-31T22:44:29.974910Z"
    }
   },
   "outputs": [],
   "source": [
    "xclf = XGBClassifier(max_depth=6,learning_rate=0.1,min_child_weight=2,n_estimators=100,subsample=0.8,random_state=42)\n",
    "xclf.fit(X_train,y_train)\n",
    "# predict\n",
    "training_preds = xclf.predict(X_train)\n",
    "test_preds = xclf.predict(X_test)\n",
    "# accuracy\n",
    "training_accuracy = accuracy_score(y_train,training_preds)\n",
    "test_accuracy = accuracy_score(y_test,test_preds)"
   ]
  },
  {
   "cell_type": "markdown",
   "metadata": {},
   "source": [
    "### Model Validation"
   ]
  },
  {
   "cell_type": "code",
   "execution_count": 50,
   "metadata": {
    "ExecuteTime": {
     "end_time": "2021-03-31T22:44:34.166772Z",
     "start_time": "2021-03-31T22:44:34.163542Z"
    }
   },
   "outputs": [
    {
     "name": "stdout",
     "output_type": "stream",
     "text": [
      "Training Accuracy: 76.86%\n",
      "Validation Accuracy: 75.92%\n"
     ]
    }
   ],
   "source": [
    "print('Training Accuracy: {:.4}%'.format(training_accuracy*100))\n",
    "print('Validation Accuracy: {:.4}%'.format(test_accuracy*100))"
   ]
  },
  {
   "cell_type": "code",
   "execution_count": 51,
   "metadata": {
    "ExecuteTime": {
     "end_time": "2021-03-31T22:44:34.607391Z",
     "start_time": "2021-03-31T22:44:34.168692Z"
    }
   },
   "outputs": [
    {
     "name": "stdout",
     "output_type": "stream",
     "text": [
      "Accuracy Percentage: 76.86% \n",
      "\n",
      "              precision    recall  f1-score   support\n",
      "\n",
      "           0       0.76      0.99      0.86      7375\n",
      "           1       0.48      0.02      0.04      2332\n",
      "\n",
      "    accuracy                           0.76      9707\n",
      "   macro avg       0.62      0.51      0.45      9707\n",
      "weighted avg       0.69      0.76      0.66      9707\n",
      " \n",
      "\n",
      "\n"
     ]
    },
    {
     "data": {
      "image/png": "[encoded data removed]",
      "text/plain": [
       "<Figure size 864x432 with 3 Axes>"
      ]
     },
     "metadata": {
      "needs_background": "light"
     },
     "output_type": "display_data"
    }
   ],
   "source": [
    "print('Accuracy Percentage: {:.4}%'.format(training_accuracy*100),'\\n')\n",
    "print(classification_report(y_test, test_preds), '\\n\\n')\n",
    "model_visuals (xclf, X_test, y_test) # class report / plots"
   ]
  },
  {
   "cell_type": "markdown",
   "metadata": {},
   "source": [
    "# Interpret Model\n",
    "### Feature Importance"
   ]
  },
  {
   "cell_type": "code",
   "execution_count": 52,
   "metadata": {
    "ExecuteTime": {
     "end_time": "2021-03-31T22:44:34.637485Z",
     "start_time": "2021-03-31T22:44:34.609112Z"
    }
   },
   "outputs": [
    {
     "name": "stdout",
     "output_type": "stream",
     "text": [
      "XGBoost Classifier Top 10 Features\n"
     ]
    },
    {
     "data": {
      "text/html": [
       "<div>\n",
       "<style scoped>\n",
       "    .dataframe tbody tr th:only-of-type {\n",
       "        vertical-align: middle;\n",
       "    }\n",
       "\n",
       "    .dataframe tbody tr th {\n",
       "        vertical-align: top;\n",
       "    }\n",
       "\n",
       "    .dataframe thead th {\n",
       "        text-align: right;\n",
       "    }\n",
       "</style>\n",
       "<table border=\"1\" class=\"dataframe\">\n",
       "  <thead>\n",
       "    <tr style=\"text-align: right;\">\n",
       "      <th></th>\n",
       "      <th>Importance</th>\n",
       "      <th>Column</th>\n",
       "    </tr>\n",
       "  </thead>\n",
       "  <tbody>\n",
       "    <tr>\n",
       "      <th>6</th>\n",
       "      <td>0.235367</td>\n",
       "      <td>Reco_Policy_Cat</td>\n",
       "    </tr>\n",
       "    <tr>\n",
       "      <th>5</th>\n",
       "      <td>0.123337</td>\n",
       "      <td>Holding_Policy_Type</td>\n",
       "    </tr>\n",
       "    <tr>\n",
       "      <th>4</th>\n",
       "      <td>0.081261</td>\n",
       "      <td>Holding_Policy_Duration</td>\n",
       "    </tr>\n",
       "    <tr>\n",
       "      <th>0</th>\n",
       "      <td>0.080803</td>\n",
       "      <td>Accomodation_Type</td>\n",
       "    </tr>\n",
       "    <tr>\n",
       "      <th>7</th>\n",
       "      <td>0.065834</td>\n",
       "      <td>Reco_Policy_Premium</td>\n",
       "    </tr>\n",
       "    <tr>\n",
       "      <th>9</th>\n",
       "      <td>0.065619</td>\n",
       "      <td>Avg_Age</td>\n",
       "    </tr>\n",
       "    <tr>\n",
       "      <th>3</th>\n",
       "      <td>0.064933</td>\n",
       "      <td>Health_Indicator</td>\n",
       "    </tr>\n",
       "    <tr>\n",
       "      <th>1</th>\n",
       "      <td>0.063983</td>\n",
       "      <td>Reco_Insurance_Type</td>\n",
       "    </tr>\n",
       "    <tr>\n",
       "      <th>11</th>\n",
       "      <td>0.057750</td>\n",
       "      <td>LE_Region_Code</td>\n",
       "    </tr>\n",
       "    <tr>\n",
       "      <th>12</th>\n",
       "      <td>0.055332</td>\n",
       "      <td>Seven_Clusters</td>\n",
       "    </tr>\n",
       "  </tbody>\n",
       "</table>\n",
       "</div>"
      ],
      "text/plain": [
       "    Importance                   Column\n",
       "6     0.235367          Reco_Policy_Cat\n",
       "5     0.123337      Holding_Policy_Type\n",
       "4     0.081261  Holding_Policy_Duration\n",
       "0     0.080803        Accomodation_Type\n",
       "7     0.065834      Reco_Policy_Premium\n",
       "9     0.065619                  Avg_Age\n",
       "3     0.064933         Health_Indicator\n",
       "1     0.063983      Reco_Insurance_Type\n",
       "11    0.057750           LE_Region_Code\n",
       "12    0.055332           Seven_Clusters"
      ]
     },
     "execution_count": 52,
     "metadata": {},
     "output_type": "execute_result"
    }
   ],
   "source": [
    "# Feature Importance\n",
    "xclf_feature = pd.DataFrame({'Importance': xclf.feature_importances_, 'Column': X.columns})\n",
    "xclf_feature = xclf_feature.sort_values(by='Importance', ascending=False) \n",
    "print('XGBoost Classifier Top 10 Features')\n",
    "xclf_feature[:10] # top 10 features"
   ]
  },
  {
   "cell_type": "code",
   "execution_count": 53,
   "metadata": {
    "ExecuteTime": {
     "end_time": "2021-03-31T22:44:34.829132Z",
     "start_time": "2021-03-31T22:44:34.639237Z"
    }
   },
   "outputs": [
    {
     "data": {
      "image/png": "[encoded data removed]",
      "text/plain": [
       "<Figure size 1440x720 with 1 Axes>"
      ]
     },
     "metadata": {
      "needs_background": "light"
     },
     "output_type": "display_data"
    }
   ],
   "source": [
    "xclf_feature = xclf_feature[:10] # top 10 features\n",
    "xclf_feature.plot(kind='barh', x='Column', y='Importance', figsize=(20, 10), cmap = 'coolwarm')\n",
    "plt.title('XGBoost Feature Importance \\n', fontsize=16)\n",
    "plt.show()"
   ]
  },
  {
   "cell_type": "code",
   "execution_count": 54,
   "metadata": {
    "ExecuteTime": {
     "end_time": "2021-03-31T22:44:34.832847Z",
     "start_time": "2021-03-31T22:44:34.831005Z"
    }
   },
   "outputs": [],
   "source": [
    "# sns.catplot(data=df, x='Reco_Policy_Premium',y='Health Indicator')\n",
    "# sns.countplot(data=df[df['Holding_Policy_Type']!=0],x='Holding_Policy_Type',hue='Response')\n",
    "# sns.violinplot(data=df[df['Holding_Policy_Duration']!=0],x='Holding_Policy_Duration',y='Avg_Age')\n",
    "# sns.violinplot(data=df[df['Holding_Policy_Type']!=0],x='Holding_Policy_Type',y='Avg_Age',hue='Response')"
   ]
  },
  {
   "cell_type": "code",
   "execution_count": null,
   "metadata": {},
   "outputs": [],
   "source": []
  },
  {
   "cell_type": "code",
   "execution_count": null,
   "metadata": {},
   "outputs": [],
   "source": []
  },
  {
   "cell_type": "code",
   "execution_count": 55,
   "metadata": {
    "ExecuteTime": {
     "end_time": "2021-03-31T22:44:35.873834Z",
     "start_time": "2021-03-31T22:44:34.834513Z"
    }
   },
   "outputs": [
    {
     "ename": "NameError",
     "evalue": "name 'train_df' is not defined",
     "output_type": "error",
     "traceback": [
      "\u001b[0;31m---------------------------------------------------------------------------\u001b[0m",
      "\u001b[0;31mNameError\u001b[0m                                 Traceback (most recent call last)",
      "\u001b[0;32m<ipython-input-55-42dcc7583950>\u001b[0m in \u001b[0;36m<module>\u001b[0;34m\u001b[0m\n\u001b[1;32m      1\u001b[0m \u001b[0;31m# submission\u001b[0m\u001b[0;34m\u001b[0m\u001b[0;34m\u001b[0m\u001b[0;34m\u001b[0m\u001b[0m\n\u001b[0;32m----> 2\u001b[0;31m def prepare_submission_one_model(clf, train_df=train_df, test_df=test_df,\n\u001b[0m\u001b[1;32m      3\u001b[0m                                  features=selected_features, target=target):\n\u001b[1;32m      4\u001b[0m     \u001b[0mclf\u001b[0m\u001b[0;34m.\u001b[0m\u001b[0mfit\u001b[0m\u001b[0;34m(\u001b[0m\u001b[0mtrain_df\u001b[0m\u001b[0;34m[\u001b[0m\u001b[0mfeatures\u001b[0m\u001b[0;34m]\u001b[0m\u001b[0;34m,\u001b[0m \u001b[0mtrain_df\u001b[0m\u001b[0;34m[\u001b[0m\u001b[0mtarget\u001b[0m\u001b[0;34m]\u001b[0m\u001b[0;34m.\u001b[0m\u001b[0mvalues\u001b[0m\u001b[0;34m.\u001b[0m\u001b[0mravel\u001b[0m\u001b[0;34m(\u001b[0m\u001b[0;34m)\u001b[0m\u001b[0;34m)\u001b[0m\u001b[0;34m\u001b[0m\u001b[0;34m\u001b[0m\u001b[0m\n\u001b[1;32m      5\u001b[0m     \u001b[0mpreds\u001b[0m \u001b[0;34m=\u001b[0m \u001b[0mclf\u001b[0m\u001b[0;34m.\u001b[0m\u001b[0mpredict_proba\u001b[0m\u001b[0;34m(\u001b[0m\u001b[0mtest_df\u001b[0m\u001b[0;34m[\u001b[0m\u001b[0mfeatures\u001b[0m\u001b[0;34m]\u001b[0m\u001b[0;34m)\u001b[0m\u001b[0;34m[\u001b[0m\u001b[0;34m:\u001b[0m\u001b[0;34m,\u001b[0m \u001b[0;36m1\u001b[0m\u001b[0;34m]\u001b[0m\u001b[0;34m\u001b[0m\u001b[0;34m\u001b[0m\u001b[0m\n",
      "\u001b[0;31mNameError\u001b[0m: name 'train_df' is not defined"
     ]
    }
   ],
   "source": [
    "# # submission\n",
    "# def prepare_submission_one_model(clf, train_df=train_df, test_df=test_df,\n",
    "#                                  features=selected_features, target=target):\n",
    "#     clf.fit(train_df[features], train_df[target].values.ravel())\n",
    "#     preds = clf.predict_proba(test_df[features])[:, 1]\n",
    "#     output = pd.DataFrame({'ID': test_df['ID'],\n",
    "#                            'Response': preds})\n",
    "#     output.to_csv('submission.csv', index=False)\n",
    "#     print('Prediction file saved. All the Best!')"
   ]
  },
  {
   "cell_type": "code",
   "execution_count": null,
   "metadata": {},
   "outputs": [],
   "source": []
  },
  {
   "cell_type": "code",
   "execution_count": null,
   "metadata": {},
   "outputs": [],
   "source": []
  }
 ],
 "metadata": {
  "kernelspec": {
   "display_name": "Python [conda env:learn-env] *",
   "language": "python",
   "name": "conda-env-learn-env-py"
  },
  "language_info": {
   "codemirror_mode": {
    "name": "ipython",
    "version": 3
   },
   "file_extension": ".py",
   "mimetype": "text/x-python",
   "name": "python",
   "nbconvert_exporter": "python",
   "pygments_lexer": "ipython3",
   "version": "3.6.9"
  },
  "toc": {
   "base_numbering": 1,
   "nav_menu": {},
   "number_sections": true,
   "sideBar": true,
   "skip_h1_title": false,
   "title_cell": "Table of Contents",
   "title_sidebar": "Contents",
   "toc_cell": false,
   "toc_position": {
    "height": "calc(100% - 180px)",
    "left": "10px",
    "top": "150px",
    "width": "165px"
   },
   "toc_section_display": true,
   "toc_window_display": true
  }
 },
 "nbformat": 4,
 "nbformat_minor": 2
}
