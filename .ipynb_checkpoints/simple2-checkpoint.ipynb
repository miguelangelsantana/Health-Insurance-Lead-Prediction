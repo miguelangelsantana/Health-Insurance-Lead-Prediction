{
 "cells": [
  {
   "cell_type": "markdown",
   "metadata": {},
   "source": [
    "# Health Insurance | Job-A-Thon\n",
    "Author: Miguel Santana\n",
    "\n",
    "### Project Methodology\n",
    "FinMan Company is looking to leverage their client base by cross selling insurance products to existing customers. Insurance policies are offered to prospective and existing clients based on website landing and consumer election to fill out additional information forms. FinMan company would like to leverage their acquired information to classify positive leads for outreach programs using machine learning classifiers. \n",
    "\n",
    "### Data and Analytical Structure\n",
    "The project dataset is provided by Analytics Vidhya via Kaggle. Data includes demographic features, policy features (for current customers) and example positive classifications for ML model validation and interpretation. The source can be found [here.](https://www.kaggle.com/imsparsh/jobathon-analytics-vidhya?select=sample_submission.csv) The project analysis will follow the OSEMN framework: Obtain, Scrub, Explore, Model and Interpret.\n",
    "\n",
    "# Data & Packages | Obtain"
   ]
  },
  {
   "cell_type": "code",
   "execution_count": null,
   "metadata": {
    "ExecuteTime": {
     "end_time": "2021-04-01T19:26:38.200415Z",
     "start_time": "2021-04-01T19:26:37.293617Z"
    }
   },
   "outputs": [],
   "source": [
    "import pandas as pd\n",
    "import matplotlib.pyplot as plt\n",
    "import seaborn as sns\n",
    "import numpy as np\n",
    "pd.set_option('display.max_columns',50)"
   ]
  },
  {
   "cell_type": "code",
   "execution_count": null,
   "metadata": {
    "ExecuteTime": {
     "end_time": "2021-04-01T19:26:38.582284Z",
     "start_time": "2021-04-01T19:26:38.202266Z"
    }
   },
   "outputs": [],
   "source": [
    "from sklearn import preprocessing\n",
    "import warnings\n",
    "warnings.filterwarnings('ignore')"
   ]
  },
  {
   "cell_type": "code",
   "execution_count": null,
   "metadata": {
    "ExecuteTime": {
     "end_time": "2021-04-01T19:26:38.678555Z",
     "start_time": "2021-04-01T19:26:38.584133Z"
    }
   },
   "outputs": [],
   "source": [
    "traindf = pd.read_csv('train.csv')\n",
    "testdf = pd.read_csv('test.csv')\n",
    "\n",
    "print(traindf.shape)\n",
    "traindf.head(3)"
   ]
  },
  {
   "cell_type": "markdown",
   "metadata": {},
   "source": [
    "# Data Cleaning | Scrub\n",
    "\n",
    "## Null Values"
   ]
  },
  {
   "cell_type": "code",
   "execution_count": null,
   "metadata": {
    "ExecuteTime": {
     "end_time": "2021-04-01T19:26:38.695482Z",
     "start_time": "2021-04-01T19:26:38.680573Z"
    }
   },
   "outputs": [],
   "source": [
    "traindf.isnull().sum()"
   ]
  },
  {
   "cell_type": "code",
   "execution_count": null,
   "metadata": {
    "ExecuteTime": {
     "end_time": "2021-04-01T19:26:38.705232Z",
     "start_time": "2021-04-01T19:26:38.696942Z"
    }
   },
   "outputs": [],
   "source": [
    "nonclients = ['Holding_Policy_Duration','Holding_Policy_Type']\n",
    "for col in nonclients:\n",
    "    traindf[col] = traindf[col].fillna(0)\n",
    "    testdf[col] = testdf[col].fillna(0)"
   ]
  },
  {
   "cell_type": "code",
   "execution_count": null,
   "metadata": {
    "ExecuteTime": {
     "end_time": "2021-04-01T19:26:38.715969Z",
     "start_time": "2021-04-01T19:26:38.706571Z"
    }
   },
   "outputs": [],
   "source": [
    "traindf['Health Indicator'] = traindf['Health Indicator'].fillna(traindf['Health Indicator'].mode()[0])\n",
    "testdf['Health Indicator'] = testdf['Health Indicator'].fillna(testdf['Health Indicator'].mode()[0])"
   ]
  },
  {
   "cell_type": "markdown",
   "metadata": {},
   "source": [
    "With many of these prospects not clearly identified as current clients, its safe to assume that null values in the 'Policy Duration' and 'Policy Type' columns are tied to non existing accounts and may be filled with zeros.\n",
    "\n",
    "## Feature Engineering\n",
    "\n",
    "Convert to numerical: Holding_Policy_Duration\n",
    "    \n",
    "* Feature engineer long term customers\n",
    "* Convert '14+' to '15' / convert to numerical\n",
    "\n",
    "Note: (**after EDA**) Convert to binary | Accomodation_Type, Reco_Insurance_Type, Is_Spouse\n",
    "\n",
    "#### Categorical Features "
   ]
  },
  {
   "cell_type": "code",
   "execution_count": null,
   "metadata": {
    "ExecuteTime": {
     "end_time": "2021-04-01T19:26:38.739511Z",
     "start_time": "2021-04-01T19:26:38.717373Z"
    }
   },
   "outputs": [],
   "source": [
    "traindf['Long_Term_Cust'] = traindf['Holding_Policy_Duration'].apply(lambda x: 'Yes' if x == '14+' else 'No')\n",
    "testdf['Long_Term_Cust'] = testdf['Holding_Policy_Duration'].apply(lambda x: 'Yes' if x == '14+' else 'No')\n",
    "\n",
    "traindf['Holding_Policy_Duration'] = traindf['Holding_Policy_Duration'].replace('14+',15).astype(float).astype(int)\n",
    "testdf['Holding_Policy_Duration'] = testdf['Holding_Policy_Duration'].replace('14+',15).astype(float).astype(int)"
   ]
  },
  {
   "cell_type": "markdown",
   "metadata": {},
   "source": [
    "#### Renaming Features"
   ]
  },
  {
   "cell_type": "code",
   "execution_count": null,
   "metadata": {
    "ExecuteTime": {
     "end_time": "2021-04-01T19:26:38.753891Z",
     "start_time": "2021-04-01T19:26:38.742509Z"
    }
   },
   "outputs": [],
   "source": [
    "traindf.rename(columns={'Is_Spouse':'Married','Health Indicator':'Health_Indicator'},inplace=True)\n",
    "testdf.rename(columns={'Is_Spouse':'Married','Health Indicator':'Health_Indicator'},inplace=True)\n",
    "\n",
    "traindf['Avg_Age'] = (traindf['Upper_Age'] + traindf['Lower_Age']) / 2\n",
    "testdf['Avg_Age'] = (testdf['Upper_Age'] + testdf['Lower_Age']) / 2"
   ]
  },
  {
   "cell_type": "markdown",
   "metadata": {},
   "source": [
    "Typically, insurance products are priced and underwritten based on the age of the applicant or applicants. This is especially the case in most health insurance pricing. To reflect this and retain data, an average age feature will be created and the original two features will be dropped. "
   ]
  },
  {
   "cell_type": "code",
   "execution_count": null,
   "metadata": {
    "ExecuteTime": {
     "end_time": "2021-04-01T19:26:38.760759Z",
     "start_time": "2021-04-01T19:26:38.756493Z"
    }
   },
   "outputs": [],
   "source": [
    "# feature engineering\n",
    "traindf['Prim_Prem_Ratio'] = traindf['Reco_Policy_Premium'] / traindf['Upper_Age']\n",
    "testdf['Prim_Prem_Ratio'] = testdf['Reco_Policy_Premium'] / testdf['Upper_Age']"
   ]
  },
  {
   "cell_type": "markdown",
   "metadata": {},
   "source": [
    "## Feature Selection"
   ]
  },
  {
   "cell_type": "code",
   "execution_count": null,
   "metadata": {
    "ExecuteTime": {
     "end_time": "2021-04-01T19:26:38.780716Z",
     "start_time": "2021-04-01T19:26:38.762038Z"
    }
   },
   "outputs": [],
   "source": [
    "traindf.drop(['ID','Region_Code','Upper_Age','Lower_Age'],axis=1,inplace=True)\n",
    "testdf2 = testdf.copy()\n",
    "testdf.drop(['ID','Region_Code','Upper_Age','Lower_Age'],axis=1,inplace=True)"
   ]
  },
  {
   "cell_type": "markdown",
   "metadata": {},
   "source": [
    "The unique 'ID' and 'Region Code' columns will be dropped in order to simplify the data. 'Region Code' consists of far too many categorical values which would need to be one hot encoded. The feature is dropped as the data still retains the 'City Code' feature to capture some level of geographical distinction. In addition, the upper and lower age features will be dropped being represented by average age. "
   ]
  },
  {
   "cell_type": "code",
   "execution_count": null,
   "metadata": {
    "ExecuteTime": {
     "end_time": "2021-04-01T19:26:38.792116Z",
     "start_time": "2021-04-01T19:26:38.782150Z"
    }
   },
   "outputs": [],
   "source": [
    "numcols = testdf.select_dtypes('number').columns\n",
    "for col in numcols:\n",
    "    traindf[col] = traindf[col].astype(int)\n",
    "    testdf[col] = testdf[col].astype(int)"
   ]
  },
  {
   "cell_type": "code",
   "execution_count": null,
   "metadata": {
    "ExecuteTime": {
     "end_time": "2021-04-01T19:26:38.797961Z",
     "start_time": "2021-04-01T19:26:38.793500Z"
    }
   },
   "outputs": [],
   "source": [
    "# copy for final analysis\n",
    "df = traindf.copy()"
   ]
  },
  {
   "cell_type": "code",
   "execution_count": null,
   "metadata": {
    "ExecuteTime": {
     "end_time": "2021-04-01T19:26:38.901557Z",
     "start_time": "2021-04-01T19:26:38.799339Z"
    }
   },
   "outputs": [],
   "source": [
    "vals = {'Rented':1,'Owned':2,'Individual':1,'Joint':2,'No':0,'Yes':1}\n",
    "cols = ['Accomodation_Type','Reco_Insurance_Type','Married','Long_Term_Cust']\n",
    "\n",
    "for col in cols:\n",
    "    traindf[col] = traindf[col].replace(vals)\n",
    "    testdf[col] = testdf[col].replace(vals)"
   ]
  },
  {
   "cell_type": "markdown",
   "metadata": {},
   "source": [
    "Features 'Accommodation Type', 'Reco Insurance Type', 'Is Spouse' will be converted to binary (0 and 1)."
   ]
  },
  {
   "cell_type": "code",
   "execution_count": null,
   "metadata": {
    "ExecuteTime": {
     "end_time": "2021-04-01T19:26:38.909195Z",
     "start_time": "2021-04-01T19:26:38.902915Z"
    }
   },
   "outputs": [],
   "source": [
    "ordinal = ['Holding_Policy_Type','Reco_Policy_Cat']\n",
    "for col in ordinal:\n",
    "    traindf[col] = traindf[col].astype('O')\n",
    "    testdf[col] = testdf[col].astype('O')"
   ]
  },
  {
   "cell_type": "markdown",
   "metadata": {},
   "source": [
    "The two feature that stand out are 'Holding Policy Type' and 'Reco Policy Cat' which are listed under numerical but most likely correspond to type and category of policy in existing customers. "
   ]
  },
  {
   "cell_type": "markdown",
   "metadata": {},
   "source": [
    "# Exploratory Data Analysis"
   ]
  },
  {
   "cell_type": "code",
   "execution_count": null,
   "metadata": {
    "ExecuteTime": {
     "end_time": "2021-04-01T19:26:39.400379Z",
     "start_time": "2021-04-01T19:26:38.910556Z"
    }
   },
   "outputs": [],
   "source": [
    "corr = traindf.corr() # analyzing correlation\n",
    "fig, ax = plt.subplots(figsize=(12,10))\n",
    "mask = np.triu(np.ones_like(corr, dtype=np.bool))\n",
    "sns.heatmap(corr, mask=mask, square=True, annot=True, cmap='YlGnBu')\n",
    "ax.patch.set_edgecolor('black')  \n",
    "ax.patch.set_linewidth('1')\n",
    "ax.set_title('Correlation & Heat Map', fontsize=15, fontfamily='serif')\n",
    "plt.show()"
   ]
  },
  {
   "cell_type": "code",
   "execution_count": null,
   "metadata": {
    "ExecuteTime": {
     "end_time": "2021-04-01T19:26:39.418095Z",
     "start_time": "2021-04-01T19:26:39.402133Z"
    }
   },
   "outputs": [],
   "source": [
    "traindf.drop(['Married'],axis=1,inplace=True)\n",
    "testdf.drop(['Married'],axis=1,inplace=True)"
   ]
  },
  {
   "cell_type": "markdown",
   "metadata": {},
   "source": [
    "Final feature selection due to multicollinearity. "
   ]
  },
  {
   "cell_type": "code",
   "execution_count": null,
   "metadata": {
    "ExecuteTime": {
     "end_time": "2021-04-01T19:26:39.504623Z",
     "start_time": "2021-04-01T19:26:39.419550Z"
    }
   },
   "outputs": [],
   "source": [
    "targetdf = df.groupby('Response').mean().head()\n",
    "targetdf.style.background_gradient(cmap='Reds')"
   ]
  },
  {
   "cell_type": "markdown",
   "metadata": {},
   "source": [
    "Customers who elect to receive additional information typically hold existing policies longer and are classified under a larger policy category with a slightly larger premium. "
   ]
  },
  {
   "cell_type": "code",
   "execution_count": null,
   "metadata": {
    "ExecuteTime": {
     "end_time": "2021-04-01T19:26:39.951465Z",
     "start_time": "2021-04-01T19:26:39.506668Z"
    }
   },
   "outputs": [],
   "source": [
    "fig, ax = plt.subplots(figsize=(10,6))\n",
    "ax = sns.countplot(data=df[df['Holding_Policy_Type']!=0],x='Holding_Policy_Type',hue='Response',palette='mako');\n",
    "for p in ax.patches:\n",
    "        ax.annotate(p.get_height(),(p.get_x()+0.09, p.get_height()+75))\n",
    "fig.savefig('policytypecount.jpg',dpi=200,bbox_inches='tight')"
   ]
  },
  {
   "cell_type": "markdown",
   "metadata": {},
   "source": [
    "Holding Policy Type three has the highest number of positive responses but all four of the categories have approximately 30% positive to negative client responses.  "
   ]
  },
  {
   "cell_type": "code",
   "execution_count": null,
   "metadata": {
    "ExecuteTime": {
     "end_time": "2021-04-01T19:26:39.955590Z",
     "start_time": "2021-04-01T19:26:39.953704Z"
    }
   },
   "outputs": [],
   "source": [
    "# fig, ax = plt.subplots(figsize=(10,6))\n",
    "# sns.countplot(data=df[df['Holding_Policy_Type']!=0],x='Holding_Policy_Type',hue='Response',palette='mako');\n",
    "# plt.title('Top 10 Stores | Sales Performance', size=18)\n",
    "# plt.show()\n",
    "# fig.savefig('top10Xsales.jpg',dpi=200,bbox_inches='tight')"
   ]
  },
  {
   "cell_type": "code",
   "execution_count": null,
   "metadata": {
    "ExecuteTime": {
     "end_time": "2021-04-01T19:26:40.601884Z",
     "start_time": "2021-04-01T19:26:39.957149Z"
    }
   },
   "outputs": [],
   "source": [
    "fig, ax = plt.subplots(figsize=(10,6))\n",
    "sns.violinplot(data=df[df['Holding_Policy_Type']!=0],x='Holding_Policy_Type',y='Avg_Age',hue='Response',palette='mako');\n",
    "fig.savefig('policytypexage.jpg',dpi=200,bbox_inches='tight')"
   ]
  },
  {
   "cell_type": "markdown",
   "metadata": {},
   "source": [
    "The violin plot gives an interesting take on Average Age versus Holding Policy Type. HPT 3 shows a pretty even distribution across age groups while HPT 1 is heavily made up of younger individuals. "
   ]
  },
  {
   "cell_type": "code",
   "execution_count": null,
   "metadata": {
    "ExecuteTime": {
     "end_time": "2021-04-01T19:26:40.608227Z",
     "start_time": "2021-04-01T19:26:40.604146Z"
    }
   },
   "outputs": [],
   "source": [
    "traincat_vars = [var for var in traindf.columns if traindf[var].dtype == 'O']\n",
    "testcat_vars = [var for var in testdf.columns if testdf[var].dtype == 'O']"
   ]
  },
  {
   "cell_type": "markdown",
   "metadata": {},
   "source": [
    "## Final Transformations"
   ]
  },
  {
   "cell_type": "code",
   "execution_count": null,
   "metadata": {
    "ExecuteTime": {
     "end_time": "2021-04-01T19:26:40.612994Z",
     "start_time": "2021-04-01T19:26:40.609970Z"
    }
   },
   "outputs": [],
   "source": [
    "def replace_categories(df, var, target):\n",
    "    # Order variable categories | lowest to highest against target (price)\n",
    "    ordered_labels = df.groupby([var])[target].mean().sort_values().index\n",
    "    # Dictionary of ordered categories to integer values\n",
    "    ordinal_label = {k: i for i, k in enumerate(ordered_labels, 0)}\n",
    "    # Replace the categorical strings by integers using dictionary\n",
    "    df[var] = df[var].map(ordinal_label)"
   ]
  },
  {
   "cell_type": "code",
   "execution_count": null,
   "metadata": {
    "ExecuteTime": {
     "end_time": "2021-04-01T19:26:40.650066Z",
     "start_time": "2021-04-01T19:26:40.617996Z"
    }
   },
   "outputs": [],
   "source": [
    "for var in traincat_vars:\n",
    "    replace_categories(traindf, var, 'Avg_Age')"
   ]
  },
  {
   "cell_type": "code",
   "execution_count": null,
   "metadata": {
    "ExecuteTime": {
     "end_time": "2021-04-01T19:26:40.672641Z",
     "start_time": "2021-04-01T19:26:40.653194Z"
    }
   },
   "outputs": [],
   "source": [
    "for var in testcat_vars:\n",
    "    replace_categories(testdf, var, 'Avg_Age')"
   ]
  },
  {
   "cell_type": "markdown",
   "metadata": {
    "ExecuteTime": {
     "end_time": "2021-04-01T16:13:11.174592Z",
     "start_time": "2021-04-01T16:13:11.161525Z"
    }
   },
   "source": [
    "With each of the categorical values mapped to values with respect to average age, the resulting values will end up on a similar scale as the rest of the dataset. In order to minimize data manipulation for modeling, no label encoding or standard scaling will occur. "
   ]
  },
  {
   "cell_type": "code",
   "execution_count": null,
   "metadata": {
    "ExecuteTime": {
     "end_time": "2021-04-01T19:26:40.676292Z",
     "start_time": "2021-04-01T19:26:40.674473Z"
    }
   },
   "outputs": [],
   "source": [
    "# labelencoder = preprocessing.LabelEncoder()\n",
    "# scaler = preprocessing.StandardScaler()"
   ]
  },
  {
   "cell_type": "code",
   "execution_count": null,
   "metadata": {
    "ExecuteTime": {
     "end_time": "2021-04-01T19:26:40.680119Z",
     "start_time": "2021-04-01T19:26:40.678353Z"
    }
   },
   "outputs": [],
   "source": [
    "# traindf['City_Code'] = labelencoder.fit_transform(traindf['City_Code'])\n",
    "# testdf['City_Code'] = labelencoder.fit_transform(testdf['City_Code'])\n",
    "# traindfscaled = scaler.fit_transform(traindf)\n",
    "# testdfscaled = scaler.fit_transform(testdf)"
   ]
  },
  {
   "cell_type": "markdown",
   "metadata": {},
   "source": [
    "# Model\n",
    "## Pycaret"
   ]
  },
  {
   "cell_type": "code",
   "execution_count": null,
   "metadata": {
    "ExecuteTime": {
     "end_time": "2021-04-01T19:26:41.189423Z",
     "start_time": "2021-04-01T19:26:40.681498Z"
    }
   },
   "outputs": [],
   "source": [
    "import pycaret\n",
    "import pycaret.preprocess as preprocess\n",
    "from pycaret.datasets import get_data\n",
    "from pycaret.classification import *\n",
    "import pycaret.preprocess as preprocess"
   ]
  },
  {
   "cell_type": "code",
   "execution_count": null,
   "metadata": {
    "ExecuteTime": {
     "end_time": "2021-04-01T19:26:41.216239Z",
     "start_time": "2021-04-01T19:26:41.190900Z"
    }
   },
   "outputs": [],
   "source": [
    "dataset = traindf.copy()\n",
    "data = dataset.sample(frac=0.80, random_state=786)\n",
    "data_unseen = dataset.drop(data.index).reset_index(drop=True)\n",
    "print('Data for Modeling: ' + str(data.shape))\n",
    "print('Unseen Data For Predictions: ' + str(data_unseen.shape))"
   ]
  },
  {
   "cell_type": "code",
   "execution_count": null,
   "metadata": {
    "ExecuteTime": {
     "end_time": "2021-04-01T19:26:42.025009Z",
     "start_time": "2021-04-01T19:26:41.217806Z"
    }
   },
   "outputs": [],
   "source": [
    "clf = setup(data=data,target='Response',session_id=123,numeric_features=['Long_Term_Cust','Health_Indicator','Accomodation_Type','Reco_Insurance_Type','Holding_Policy_Duration','Holding_Policy_Type'])"
   ]
  },
  {
   "cell_type": "code",
   "execution_count": null,
   "metadata": {
    "ExecuteTime": {
     "end_time": "2021-04-01T19:26:42.027375Z",
     "start_time": "2021-04-01T19:26:37.340Z"
    }
   },
   "outputs": [],
   "source": [
    "compare_models()"
   ]
  },
  {
   "cell_type": "code",
   "execution_count": null,
   "metadata": {
    "ExecuteTime": {
     "end_time": "2021-04-01T19:26:42.028873Z",
     "start_time": "2021-04-01T19:26:37.341Z"
    }
   },
   "outputs": [],
   "source": [
    "clf = setup(data=data,target='Response',session_id=123,fix_imbalance=True,numeric_features=['Long_Term_Cust','Health_Indicator','Accomodation_Type','Reco_Insurance_Type','Holding_Policy_Duration','Holding_Policy_Type'])"
   ]
  },
  {
   "cell_type": "markdown",
   "metadata": {},
   "source": [
    "#### SMOTE | Balanced Target"
   ]
  },
  {
   "cell_type": "code",
   "execution_count": null,
   "metadata": {
    "ExecuteTime": {
     "end_time": "2021-04-01T19:26:42.030130Z",
     "start_time": "2021-04-01T19:26:37.343Z"
    }
   },
   "outputs": [],
   "source": [
    "compare_models()"
   ]
  },
  {
   "cell_type": "markdown",
   "metadata": {},
   "source": [
    "Both cases gave very similar results. Light Gradient Boosting offered the highest AUC value in both scenarios. SMOTE will not be included in our final model. "
   ]
  },
  {
   "cell_type": "markdown",
   "metadata": {},
   "source": [
    "## Scikit-learn"
   ]
  },
  {
   "cell_type": "code",
   "execution_count": null,
   "metadata": {
    "ExecuteTime": {
     "end_time": "2021-04-01T19:26:42.031297Z",
     "start_time": "2021-04-01T19:26:37.345Z"
    }
   },
   "outputs": [],
   "source": [
    "from xgboost import XGBClassifier\n",
    "from sklearn.ensemble import GradientBoostingClassifier\n",
    "import sklearn.metrics as metrics\n",
    "from sklearn.model_selection import train_test_split, GridSearchCV\n",
    "from sklearn.metrics import accuracy_score, classification_report"
   ]
  },
  {
   "cell_type": "code",
   "execution_count": null,
   "metadata": {
    "ExecuteTime": {
     "end_time": "2021-04-01T19:26:42.032281Z",
     "start_time": "2021-04-01T19:26:37.346Z"
    }
   },
   "outputs": [],
   "source": [
    "def model_visuals (model, X_test, y_test):\n",
    "    '''Plots the confusion matrix and ROC-AUC plot'''\n",
    "    fig, axes = plt.subplots(figsize = (12, 6), ncols = 2)  # confusion matrix\n",
    "    metrics.plot_confusion_matrix(model, X_test, y_test, normalize = 'true', \n",
    "                          cmap = 'Blues', ax = axes[0])\n",
    "    axes[0].set_title('Confusion Matrix');\n",
    "    # ROC-AUC Curve\n",
    "    roc_auc = metrics.plot_roc_curve(model, X_test, y_test,ax=axes[1])\n",
    "    axes[1].plot([0,1],[0,1],ls=':')\n",
    "    axes[1].set_title('ROC-AUC Plot')\n",
    "    axes[1].grid()\n",
    "    axes[1].legend()\n",
    "    fig.tight_layout()\n",
    "    plt.show()"
   ]
  },
  {
   "cell_type": "code",
   "execution_count": null,
   "metadata": {
    "ExecuteTime": {
     "end_time": "2021-04-01T19:26:42.033233Z",
     "start_time": "2021-04-01T19:26:37.348Z"
    }
   },
   "outputs": [],
   "source": [
    "X_train, X_test, y_train, y_test = train_test_split(traindf.drop(columns=['Response'],axis=1),traindf['Response'],test_size=0.2, random_state=42)"
   ]
  },
  {
   "cell_type": "markdown",
   "metadata": {},
   "source": [
    "### GridSearchCV"
   ]
  },
  {
   "cell_type": "code",
   "execution_count": null,
   "metadata": {
    "ExecuteTime": {
     "end_time": "2021-04-01T19:26:42.034358Z",
     "start_time": "2021-04-01T19:26:37.350Z"
    }
   },
   "outputs": [],
   "source": [
    "gbclf = GradientBoostingClassifier(random_state=42)\n",
    "gbclf.fit(X_train,y_train)"
   ]
  },
  {
   "cell_type": "code",
   "execution_count": null,
   "metadata": {
    "ExecuteTime": {
     "end_time": "2021-04-01T19:26:42.035356Z",
     "start_time": "2021-04-01T19:26:37.351Z"
    }
   },
   "outputs": [],
   "source": [
    "param_grid = {\n",
    "    'learning_rate': [0.1,0.2],\n",
    "    'max_depth': [6],\n",
    "    'subsample': [0.5,0.7,1],\n",
    "    'n_estimators': [100]\n",
    "}"
   ]
  },
  {
   "cell_type": "code",
   "execution_count": null,
   "metadata": {
    "ExecuteTime": {
     "end_time": "2021-04-01T19:26:42.036385Z",
     "start_time": "2021-04-01T19:26:37.353Z"
    }
   },
   "outputs": [],
   "source": [
    "grid_clf = GridSearchCV(gbclf,param_grid,scoring='roc_auc',cv=None,n_jobs=1)\n",
    "grid_clf.fit(X_train,y_train)\n",
    "\n",
    "best_parameters = grid_clf.best_params_\n",
    "\n",
    "print('Grid search found the following optimal parameters: ')\n",
    "for param_name in sorted(best_parameters.keys()):\n",
    "    print('%s: %r' % (param_name,best_parameters[param_name]))\n",
    "    \n",
    "training_preds = grid_clf.predict(X_train)\n",
    "test_preds = grid_clf.predict(X_test)\n",
    "training_accuracy = accuracy_score(y_train,training_preds)\n",
    "test_accuracy = accuracy_score(y_test,test_preds)\n",
    "\n",
    "print('')\n",
    "print('Training Accuracy: {:.4}%'.format(training_accuracy*100))\n",
    "print('Validation Accuracy: {:.4}%'.format(test_accuracy*100))"
   ]
  },
  {
   "cell_type": "markdown",
   "metadata": {},
   "source": [
    "Similar accuracy in the training and test sets suggests minimal under/over fitting."
   ]
  },
  {
   "cell_type": "markdown",
   "metadata": {},
   "source": [
    "# Final Model"
   ]
  },
  {
   "cell_type": "code",
   "execution_count": null,
   "metadata": {
    "ExecuteTime": {
     "end_time": "2021-04-01T19:26:42.037379Z",
     "start_time": "2021-04-01T19:26:37.355Z"
    }
   },
   "outputs": [],
   "source": [
    "gbclf = GradientBoostingClassifier(max_depth=6,learning_rate=0.1,n_estimators=100,subsample=1,random_state=42)\n",
    "gbclf.fit(X_train,y_train)\n",
    "# predict\n",
    "training_preds = gbclf.predict(X_train)\n",
    "test_preds = gbclf.predict(X_test)\n",
    "# accuracy\n",
    "training_accuracy = accuracy_score(y_train,training_preds)\n",
    "test_accuracy = accuracy_score(y_test,test_preds)"
   ]
  },
  {
   "cell_type": "code",
   "execution_count": null,
   "metadata": {
    "ExecuteTime": {
     "end_time": "2021-04-01T19:26:42.038371Z",
     "start_time": "2021-04-01T19:26:37.356Z"
    }
   },
   "outputs": [],
   "source": [
    "print(classification_report(y_test, test_preds), '\\n\\n')\n",
    "model_visuals (gbclf, X_test, y_test) # class report / plots"
   ]
  },
  {
   "cell_type": "markdown",
   "metadata": {},
   "source": [
    "# Interpret Results\n",
    "## Feature Importance"
   ]
  },
  {
   "cell_type": "code",
   "execution_count": null,
   "metadata": {
    "ExecuteTime": {
     "end_time": "2021-04-01T19:26:42.039330Z",
     "start_time": "2021-04-01T19:26:37.358Z"
    }
   },
   "outputs": [],
   "source": [
    "# Feature Importance\n",
    "X = traindf.drop(columns=['Response'],axis=1)\n",
    "clf_feature = pd.DataFrame({'Importance':gbclf.feature_importances_,'Column':X.columns})\n",
    "clf_feature = clf_feature.sort_values(by='Importance',ascending=False) \n",
    "clf_feature = clf_feature[:8] # top 8 features\n",
    "clf_feature.plot(kind='barh',x='Column',y='Importance',figsize=(20, 10))\n",
    "plt.title('Gradient Boosting Feature Importance \\n',fontsize=16)\n",
    "plt.savefig('featureimportance.jpg',dpi=200,bbox_inches='tight')\n",
    "plt.show()"
   ]
  },
  {
   "cell_type": "markdown",
   "metadata": {},
   "source": [
    "### Reco Policy Category"
   ]
  },
  {
   "cell_type": "code",
   "execution_count": null,
   "metadata": {
    "ExecuteTime": {
     "end_time": "2021-04-01T19:26:42.040492Z",
     "start_time": "2021-04-01T19:26:37.360Z"
    }
   },
   "outputs": [],
   "source": [
    "df['Reco_Policy_Cat'] = df['Reco_Policy_Cat'].astype('O')\n",
    "\n",
    "fig, ax = plt.subplots(figsize=(10,6))\n",
    "sns.countplot(data=df,x='Reco_Policy_Cat',hue='Response',palette='mako');\n",
    "fig.savefig('policycategoryxresponse.jpg',dpi=200,bbox_inches='tight')"
   ]
  },
  {
   "cell_type": "markdown",
   "metadata": {},
   "source": [
    "This graph may be misleading as each policy category caries a significantly different client count. Lets break down the top five categories based on positive over total responses. "
   ]
  },
  {
   "cell_type": "code",
   "execution_count": null,
   "metadata": {
    "ExecuteTime": {
     "end_time": "2021-04-01T19:26:42.041576Z",
     "start_time": "2021-04-01T19:26:37.361Z"
    }
   },
   "outputs": [],
   "source": [
    "RPC = df.groupby(['Reco_Policy_Cat','Response'])['Response'].count().unstack()\n",
    "RPC['PositiveRatio'] = RPC[1] / (RPC[1] + RPC[0])\n",
    "RPC = RPC.sort_values(by='PositiveRatio', ascending=False)[:5].reset_index()\n",
    "# RPC\n",
    "fig, ax = plt.subplots(figsize=(10,6))\n",
    "plt.title('Top 5 Reco Policy Categories', fontdict={'fontsize': 14})\n",
    "sns.barplot(data=RPC,x='Reco_Policy_Cat',y='PositiveRatio',palette='mako');\n",
    "fig.savefig('top5categoryxresponse.jpg',dpi=200,bbox_inches='tight')"
   ]
  },
  {
   "cell_type": "markdown",
   "metadata": {},
   "source": [
    "Reco Policy Category 15 is the clear front runner"
   ]
  },
  {
   "cell_type": "markdown",
   "metadata": {},
   "source": [
    "### Reco Policy Premium"
   ]
  },
  {
   "cell_type": "code",
   "execution_count": null,
   "metadata": {
    "ExecuteTime": {
     "end_time": "2021-04-01T19:26:42.042527Z",
     "start_time": "2021-04-01T19:26:37.364Z"
    }
   },
   "outputs": [],
   "source": [
    "# Binning Ages for Visualizations\n",
    "df['Premium(bin)'] = df['Reco_Policy_Premium'].apply(lambda x: '0-9999' if x < 10000\n",
    "                                                     else '10000-14999' if x < 15000 \n",
    "                                                     else '15000-19999' if x < 20000 \n",
    "                                                     else '20000-24999' if x < 25000 \n",
    "                                                     else '25000-29999' if x < 30000 \n",
    "                                                     else '30000+')"
   ]
  },
  {
   "cell_type": "code",
   "execution_count": null,
   "metadata": {
    "ExecuteTime": {
     "end_time": "2021-04-01T19:26:42.043792Z",
     "start_time": "2021-04-01T19:26:37.365Z"
    }
   },
   "outputs": [],
   "source": [
    "# dashboard analysis\n",
    "df.to_csv('jobathondashboard.csv')"
   ]
  },
  {
   "cell_type": "code",
   "execution_count": null,
   "metadata": {
    "ExecuteTime": {
     "end_time": "2021-04-01T19:26:42.044815Z",
     "start_time": "2021-04-01T19:26:37.367Z"
    }
   },
   "outputs": [],
   "source": [
    "df = df.sort_values(['Premium(bin)'], ascending=True)\n",
    "fig, ax = plt.subplots(figsize=(10,6))\n",
    "sns.countplot(data=df,x='Premium(bin)',hue='Response',palette='mako');\n",
    "fig.savefig('premiumbin.jpg',dpi=200,bbox_inches='tight')"
   ]
  },
  {
   "cell_type": "markdown",
   "metadata": {},
   "source": [
    "Lets confirm the positive to total response ratios before we make a recommendation. "
   ]
  },
  {
   "cell_type": "code",
   "execution_count": null,
   "metadata": {
    "ExecuteTime": {
     "end_time": "2021-04-01T19:26:42.045818Z",
     "start_time": "2021-04-01T19:26:37.369Z"
    }
   },
   "outputs": [],
   "source": [
    "PRE = df.groupby(['Premium(bin)','Response'])['Response'].count().unstack()\n",
    "PRE['PositiveRatio'] = PRE[1] / (PRE[1] + PRE[0])\n",
    "PRE = PRE.sort_values(by='PositiveRatio', ascending=False)\n",
    "PRE"
   ]
  },
  {
   "cell_type": "code",
   "execution_count": null,
   "metadata": {
    "ExecuteTime": {
     "end_time": "2021-04-01T19:26:42.046762Z",
     "start_time": "2021-04-01T19:26:37.370Z"
    }
   },
   "outputs": [],
   "source": [
    "PRE = PRE.reset_index()\n",
    "fig, ax = plt.subplots(figsize=(10,6))\n",
    "plt.title('Top 5 Premium Bins', fontdict={'fontsize': 16})\n",
    "sns.barplot(data=PRE,x='Premium(bin)',y='PositiveRatio',palette='mako');\n",
    "fig.savefig('top5premiumbin.jpg',dpi=200,bbox_inches='tight')"
   ]
  },
  {
   "cell_type": "markdown",
   "metadata": {
    "ExecuteTime": {
     "end_time": "2021-04-01T17:38:21.060526Z",
     "start_time": "2021-04-01T17:38:07.611Z"
    }
   },
   "source": [
    "In this case, most of the ratios are extremely close so the recommendation would be to focus on individuals who pay an annual premium between 15,000 and 19,999 as they convert at approximately the same rate as the front runner but represent a much larger group of clients. The high conversion along with the larger client volume will lead to higher profit. "
   ]
  },
  {
   "cell_type": "markdown",
   "metadata": {},
   "source": [
    "### City Code"
   ]
  },
  {
   "cell_type": "code",
   "execution_count": null,
   "metadata": {
    "ExecuteTime": {
     "end_time": "2021-04-01T19:26:42.047970Z",
     "start_time": "2021-04-01T19:26:37.372Z"
    }
   },
   "outputs": [],
   "source": [
    "fig, ax = plt.subplots(figsize=(15,6))\n",
    "sns.countplot(data=df,x='City_Code',hue='Response',palette='mako');\n",
    "fig.savefig('citycode.jpg',dpi=200,bbox_inches='tight')"
   ]
  },
  {
   "cell_type": "code",
   "execution_count": null,
   "metadata": {
    "ExecuteTime": {
     "end_time": "2021-04-01T19:26:42.048889Z",
     "start_time": "2021-04-01T19:26:37.374Z"
    }
   },
   "outputs": [],
   "source": [
    "CITY = df.groupby(['City_Code','Response'])['Response'].count().unstack()\n",
    "CITY['PositiveRatio'] = CITY[1] / (CITY[1] + CITY[0])\n",
    "CITY = CITY.sort_values(by='PositiveRatio', ascending=False)[:11]\n",
    "CITY"
   ]
  },
  {
   "cell_type": "code",
   "execution_count": null,
   "metadata": {
    "ExecuteTime": {
     "end_time": "2021-04-01T19:26:42.049867Z",
     "start_time": "2021-04-01T19:26:37.375Z"
    }
   },
   "outputs": [],
   "source": [
    "CITY = CITY.reset_index()\n",
    "fig, ax = plt.subplots(figsize=(10,6))\n",
    "plt.title('Top 11 City Categories', fontdict={'fontsize': 16})\n",
    "sns.barplot(data=CITY,x='City_Code',y='PositiveRatio',palette='mako');\n",
    "fig.savefig('top11citycode.jpg',dpi=200,bbox_inches='tight')"
   ]
  },
  {
   "cell_type": "markdown",
   "metadata": {},
   "source": [
    "In this particular case I would recommend focusing on the top 11 scoring positive ratios. Ranks 10 and 11 are exponentially larger in volume than the first 9 and have the potential to yield high ROI with positive to total ratios close to 25%. "
   ]
  },
  {
   "cell_type": "markdown",
   "metadata": {},
   "source": [
    "### Submission"
   ]
  },
  {
   "cell_type": "code",
   "execution_count": null,
   "metadata": {
    "ExecuteTime": {
     "end_time": "2021-04-01T19:26:42.050956Z",
     "start_time": "2021-04-01T19:26:37.377Z"
    }
   },
   "outputs": [],
   "source": [
    "features = testdf.columns\n",
    "target = ['Response']"
   ]
  },
  {
   "cell_type": "code",
   "execution_count": null,
   "metadata": {
    "ExecuteTime": {
     "end_time": "2021-04-01T19:26:42.052809Z",
     "start_time": "2021-04-01T19:26:37.379Z"
    }
   },
   "outputs": [],
   "source": [
    "# preparing submission\n",
    "gbclf.fit(traindf[features], traindf[target].values.ravel())\n",
    "predictions = gbclf.predict_proba(testdf[features])[:,1]\n",
    "submission = pd.DataFrame({'ID': testdf2['ID'],'Response': predictions})"
   ]
  },
  {
   "cell_type": "code",
   "execution_count": null,
   "metadata": {
    "ExecuteTime": {
     "end_time": "2021-04-01T19:26:42.054758Z",
     "start_time": "2021-04-01T19:26:37.380Z"
    }
   },
   "outputs": [],
   "source": [
    "submission['Response'].describe()"
   ]
  },
  {
   "cell_type": "code",
   "execution_count": null,
   "metadata": {
    "ExecuteTime": {
     "end_time": "2021-04-01T19:26:42.055916Z",
     "start_time": "2021-04-01T19:26:37.382Z"
    }
   },
   "outputs": [],
   "source": [
    "submission['Response'] = submission['Response'].apply(lambda x: 0 if x < 0.3 else 1)"
   ]
  },
  {
   "cell_type": "markdown",
   "metadata": {},
   "source": [
    "In following the theme of the test and train datasets as well as presenting a client list of a respectable size, the cut off for positive response predictions will be 30%. "
   ]
  },
  {
   "cell_type": "code",
   "execution_count": null,
   "metadata": {
    "ExecuteTime": {
     "end_time": "2021-04-01T19:26:42.056883Z",
     "start_time": "2021-04-01T19:26:37.383Z"
    }
   },
   "outputs": [],
   "source": [
    "submission.to_csv('submission.csv', index=False)"
   ]
  },
  {
   "cell_type": "markdown",
   "metadata": {},
   "source": [
    "## Recommendations\n",
    "The model's top 3 features were Reco Policy Category, Reco Policy Premium and City Code. Within those three categories, subcategories yielded the highest positive to total response ratios. It is recommended to focus on clients in/with:\n",
    "\n",
    "City Codes: C1, C2, C13, C23\n",
    "Reco Policy Categories: 15, 22\n",
    "Reco Policy Premiums between: 15,000 & 19,000.\n",
    "\n",
    "#### Limitations\n",
    "The project was limited by the anonymity of the data. Specifically the geographic data that could have been used for additional feature engineering leading to higher scores.\n",
    "\n",
    "#### Future Work\n",
    "Future models can be created using more complicated feature engineering and analysis such as clustering of the geographic features. For the purposes of this project, doing so would have complicated the output and made it difficult to implement within a real workplace."
   ]
  },
  {
   "cell_type": "markdown",
   "metadata": {},
   "source": [
    "For any additional questions, please reach out via email at santana2.miguel@gmail.com, on [LinkedIn](https://www.linkedin.com/in/miguel-angel-santana-ii-mba-51467276/) or on [Twitter.](https://twitter.com/msantana_ds)"
   ]
  },
  {
   "cell_type": "code",
   "execution_count": null,
   "metadata": {},
   "outputs": [],
   "source": []
  }
 ],
 "metadata": {
  "kernelspec": {
   "display_name": "Python [conda env:learn-env] *",
   "language": "python",
   "name": "conda-env-learn-env-py"
  },
  "language_info": {
   "codemirror_mode": {
    "name": "ipython",
    "version": 3
   },
   "file_extension": ".py",
   "mimetype": "text/x-python",
   "name": "python",
   "nbconvert_exporter": "python",
   "pygments_lexer": "ipython3",
   "version": "3.6.9"
  },
  "toc": {
   "base_numbering": 1,
   "nav_menu": {},
   "number_sections": true,
   "sideBar": true,
   "skip_h1_title": false,
   "title_cell": "Table of Contents",
   "title_sidebar": "Contents",
   "toc_cell": false,
   "toc_position": {
    "height": "calc(100% - 180px)",
    "left": "10px",
    "top": "150px",
    "width": "165px"
   },
   "toc_section_display": true,
   "toc_window_display": true
  }
 },
 "nbformat": 4,
 "nbformat_minor": 2
}
