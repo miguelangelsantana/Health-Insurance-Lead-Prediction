{
 "cells": [
  {
   "cell_type": "markdown",
   "metadata": {},
   "source": [
    "# Health Insurance | Job-A-Thon\n",
    "Author: Miguel Santana\n",
    "\n",
    "### Project Methodology\n",
    "FinMan Company is looking to leverage their client base by cross selling insurance products to existing customers. Insurance policies are offered to prospective and existing clients based on website landing and consumer election to fill out additional information forms. FinMan company would like to leverage their acquired information to classify positive leads for outreach programs using machine learning classifiers. \n",
    "\n",
    "### Data and Analytical Structure\n",
    "The project dataset is provided by Analytics Vidhya via Kaggle. Data includes demographic features, policy features (for current customers) and example positive classifications for ML model validation and interpretation. The source can be found [here.](https://www.kaggle.com/imsparsh/jobathon-analytics-vidhya?select=sample_submission.csv) The project analysis will follow the OSEMN framework: Obtain, Scrub, Explore, Model and Interpret."
   ]
  },
  {
   "cell_type": "markdown",
   "metadata": {},
   "source": [
    "# Data & Packages | Obtain"
   ]
  },
  {
   "cell_type": "code",
   "execution_count": 1,
   "metadata": {
    "ExecuteTime": {
     "end_time": "2021-03-23T21:59:48.433185Z",
     "start_time": "2021-03-23T21:59:47.636397Z"
    }
   },
   "outputs": [],
   "source": [
    "import pandas as pd\n",
    "import matplotlib.pyplot as plt\n",
    "import seaborn as sns\n",
    "import numpy as np\n",
    "pd.set_option('display.max_columns',50)"
   ]
  },
  {
   "cell_type": "code",
   "execution_count": 2,
   "metadata": {
    "ExecuteTime": {
     "end_time": "2021-03-23T21:59:48.437107Z",
     "start_time": "2021-03-23T21:59:48.435222Z"
    }
   },
   "outputs": [],
   "source": [
    "import warnings\n",
    "warnings.filterwarnings('ignore')"
   ]
  },
  {
   "cell_type": "code",
   "execution_count": 3,
   "metadata": {
    "ExecuteTime": {
     "end_time": "2021-03-23T21:59:48.501807Z",
     "start_time": "2021-03-23T21:59:48.439178Z"
    }
   },
   "outputs": [],
   "source": [
    "df = pd.read_csv('train.csv')"
   ]
  },
  {
   "cell_type": "code",
   "execution_count": 4,
   "metadata": {
    "ExecuteTime": {
     "end_time": "2021-03-23T21:59:48.519941Z",
     "start_time": "2021-03-23T21:59:48.503942Z"
    }
   },
   "outputs": [
    {
     "name": "stdout",
     "output_type": "stream",
     "text": [
      "(50882, 14)\n"
     ]
    },
    {
     "data": {
      "text/html": [
       "<div>\n",
       "<style scoped>\n",
       "    .dataframe tbody tr th:only-of-type {\n",
       "        vertical-align: middle;\n",
       "    }\n",
       "\n",
       "    .dataframe tbody tr th {\n",
       "        vertical-align: top;\n",
       "    }\n",
       "\n",
       "    .dataframe thead th {\n",
       "        text-align: right;\n",
       "    }\n",
       "</style>\n",
       "<table border=\"1\" class=\"dataframe\">\n",
       "  <thead>\n",
       "    <tr style=\"text-align: right;\">\n",
       "      <th></th>\n",
       "      <th>ID</th>\n",
       "      <th>City_Code</th>\n",
       "      <th>Region_Code</th>\n",
       "      <th>Accomodation_Type</th>\n",
       "      <th>Reco_Insurance_Type</th>\n",
       "      <th>Upper_Age</th>\n",
       "      <th>Lower_Age</th>\n",
       "      <th>Is_Spouse</th>\n",
       "      <th>Health Indicator</th>\n",
       "      <th>Holding_Policy_Duration</th>\n",
       "      <th>Holding_Policy_Type</th>\n",
       "      <th>Reco_Policy_Cat</th>\n",
       "      <th>Reco_Policy_Premium</th>\n",
       "      <th>Response</th>\n",
       "    </tr>\n",
       "  </thead>\n",
       "  <tbody>\n",
       "    <tr>\n",
       "      <th>0</th>\n",
       "      <td>1</td>\n",
       "      <td>C3</td>\n",
       "      <td>3213</td>\n",
       "      <td>Rented</td>\n",
       "      <td>Individual</td>\n",
       "      <td>36</td>\n",
       "      <td>36</td>\n",
       "      <td>No</td>\n",
       "      <td>X1</td>\n",
       "      <td>14+</td>\n",
       "      <td>3.0</td>\n",
       "      <td>22</td>\n",
       "      <td>11628.0</td>\n",
       "      <td>0</td>\n",
       "    </tr>\n",
       "    <tr>\n",
       "      <th>1</th>\n",
       "      <td>2</td>\n",
       "      <td>C5</td>\n",
       "      <td>1117</td>\n",
       "      <td>Owned</td>\n",
       "      <td>Joint</td>\n",
       "      <td>75</td>\n",
       "      <td>22</td>\n",
       "      <td>No</td>\n",
       "      <td>X2</td>\n",
       "      <td>NaN</td>\n",
       "      <td>NaN</td>\n",
       "      <td>22</td>\n",
       "      <td>30510.0</td>\n",
       "      <td>0</td>\n",
       "    </tr>\n",
       "    <tr>\n",
       "      <th>2</th>\n",
       "      <td>3</td>\n",
       "      <td>C5</td>\n",
       "      <td>3732</td>\n",
       "      <td>Owned</td>\n",
       "      <td>Individual</td>\n",
       "      <td>32</td>\n",
       "      <td>32</td>\n",
       "      <td>No</td>\n",
       "      <td>NaN</td>\n",
       "      <td>1.0</td>\n",
       "      <td>1.0</td>\n",
       "      <td>19</td>\n",
       "      <td>7450.0</td>\n",
       "      <td>1</td>\n",
       "    </tr>\n",
       "  </tbody>\n",
       "</table>\n",
       "</div>"
      ],
      "text/plain": [
       "   ID City_Code  Region_Code Accomodation_Type Reco_Insurance_Type  Upper_Age  \\\n",
       "0   1        C3         3213            Rented          Individual         36   \n",
       "1   2        C5         1117             Owned               Joint         75   \n",
       "2   3        C5         3732             Owned          Individual         32   \n",
       "\n",
       "   Lower_Age Is_Spouse Health Indicator Holding_Policy_Duration  \\\n",
       "0         36        No               X1                     14+   \n",
       "1         22        No               X2                     NaN   \n",
       "2         32        No              NaN                     1.0   \n",
       "\n",
       "   Holding_Policy_Type  Reco_Policy_Cat  Reco_Policy_Premium  Response  \n",
       "0                  3.0               22              11628.0         0  \n",
       "1                  NaN               22              30510.0         0  \n",
       "2                  1.0               19               7450.0         1  "
      ]
     },
     "execution_count": 4,
     "metadata": {},
     "output_type": "execute_result"
    }
   ],
   "source": [
    "print(df.shape)\n",
    "df.head(3)"
   ]
  },
  {
   "cell_type": "markdown",
   "metadata": {},
   "source": [
    "# Data Cleaning | Scrub\n",
    "\n",
    "## Missing Values"
   ]
  },
  {
   "cell_type": "code",
   "execution_count": 5,
   "metadata": {
    "ExecuteTime": {
     "end_time": "2021-03-23T21:59:48.535932Z",
     "start_time": "2021-03-23T21:59:48.521501Z"
    }
   },
   "outputs": [
    {
     "data": {
      "text/plain": [
       "ID                             0\n",
       "City_Code                      0\n",
       "Region_Code                    0\n",
       "Accomodation_Type              0\n",
       "Reco_Insurance_Type            0\n",
       "Upper_Age                      0\n",
       "Lower_Age                      0\n",
       "Is_Spouse                      0\n",
       "Health Indicator           11691\n",
       "Holding_Policy_Duration    20251\n",
       "Holding_Policy_Type        20251\n",
       "Reco_Policy_Cat                0\n",
       "Reco_Policy_Premium            0\n",
       "Response                       0\n",
       "dtype: int64"
      ]
     },
     "execution_count": 5,
     "metadata": {},
     "output_type": "execute_result"
    }
   ],
   "source": [
    "df.isnull().sum()"
   ]
  },
  {
   "cell_type": "markdown",
   "metadata": {},
   "source": [
    "<div class=\"alert alert-success\">\n",
    "\n",
    "With many of these prospects not clearly identified as current clients, its safe to assume that null values in the 'Policy Duration' and 'Policy Type' columns are tied to non existing accounts and may be filled with zeros.\n",
    "\n",
    "</div> "
   ]
  },
  {
   "cell_type": "markdown",
   "metadata": {
    "ExecuteTime": {
     "end_time": "2021-03-18T17:55:00.337592Z",
     "start_time": "2021-03-18T17:55:00.333536Z"
    }
   },
   "source": [
    "**Filling Null Values**"
   ]
  },
  {
   "cell_type": "code",
   "execution_count": 6,
   "metadata": {
    "ExecuteTime": {
     "end_time": "2021-03-23T21:59:48.544029Z",
     "start_time": "2021-03-23T21:59:48.537512Z"
    }
   },
   "outputs": [],
   "source": [
    "nonclients = ['Holding_Policy_Duration','Holding_Policy_Type']\n",
    "\n",
    "for col in nonclients:\n",
    "    df[col] = df[col].fillna(0)"
   ]
  },
  {
   "cell_type": "markdown",
   "metadata": {
    "ExecuteTime": {
     "end_time": "2021-03-18T14:45:09.949102Z",
     "start_time": "2021-03-18T14:45:09.938716Z"
    }
   },
   "source": [
    "<div class=\"alert alert-success\">\n",
    "\n",
    "Null values in the 'Health Indicator' columns will be filled prior to one hot encoding. \n",
    "\n",
    "</div>"
   ]
  },
  {
   "cell_type": "markdown",
   "metadata": {},
   "source": [
    "## Feature Conversions"
   ]
  },
  {
   "cell_type": "code",
   "execution_count": 7,
   "metadata": {
    "ExecuteTime": {
     "end_time": "2021-03-23T21:59:48.547459Z",
     "start_time": "2021-03-23T21:59:48.545697Z"
    }
   },
   "outputs": [],
   "source": [
    "# df.select_dtypes('O').columns"
   ]
  },
  {
   "cell_type": "markdown",
   "metadata": {},
   "source": [
    "<div class=\"alert alert-success\">\n",
    "Convert to numerical: Holding_Policy_Duration\n",
    "    \n",
    "* Feature engineer long term customers\n",
    "* Convert '14+' to '15' / convert to numerical\n",
    "\n",
    "Note: (**after EDA**) Convert to binary | Accomodation_Type, Reco_Insurance_Type, Is_Spouse\n",
    "</div>\n",
    "\n",
    "#### Categorical Features | Feature Engineering"
   ]
  },
  {
   "cell_type": "code",
   "execution_count": 8,
   "metadata": {
    "ExecuteTime": {
     "end_time": "2021-03-23T21:59:48.565742Z",
     "start_time": "2021-03-23T21:59:48.550416Z"
    }
   },
   "outputs": [],
   "source": [
    "df['Long_Term_Cust'] = df['Holding_Policy_Duration'].apply(lambda x: 'Yes' if x == '14+' else 'No')\n",
    "df['Holding_Policy_Duration'] = df['Holding_Policy_Duration'].replace('14+',15).astype(float).astype(int)"
   ]
  },
  {
   "cell_type": "markdown",
   "metadata": {},
   "source": [
    "#### Binary Feature Conversion"
   ]
  },
  {
   "cell_type": "markdown",
   "metadata": {},
   "source": [
    "<div class=\"alert alert-block alert-info\">\n",
    "    \n",
    "Features 'Accomodation Type', 'Reco Insurance Type', 'Is Spouse' will be converted to binary (0 and 1) after our exploratory data analysis. \n",
    "\n",
    "</div>"
   ]
  },
  {
   "cell_type": "markdown",
   "metadata": {},
   "source": [
    "#### Numerical Feature Conversion"
   ]
  },
  {
   "cell_type": "code",
   "execution_count": 9,
   "metadata": {
    "ExecuteTime": {
     "end_time": "2021-03-23T21:59:48.570241Z",
     "start_time": "2021-03-23T21:59:48.568328Z"
    }
   },
   "outputs": [],
   "source": [
    "# df.select_dtypes('number').columns"
   ]
  },
  {
   "cell_type": "markdown",
   "metadata": {},
   "source": [
    "<div class=\"alert alert-block alert-info\">\n",
    "    \n",
    "The two feature that stand out are 'Holding Policy Type' and 'Reco Policy Cat' which are listed under numerical but most likely correspond to type and category of policy in existing customers. As such, the features will be converted to categorical variables and compared against the policy premium during exploratory data analysis. \n",
    "\n",
    "</div>"
   ]
  },
  {
   "cell_type": "markdown",
   "metadata": {},
   "source": [
    "## Feature Engineering | Age\n",
    "<div class=\"alert alert-success\">\n",
    "\n",
    "Typically, insurance products are priced and underwritten based on the age of the applicant or applicants. This is especially the case in most health insurance pricing. To reflect this and retain data, an average age feature will be created and the original two features will be dropped. As the data shows, individual insurance types reflect the same age for lower and upper categories. This conversion will only effect joint accounts with large variations in age being represented in the 'Is_Spouse' feature which will be converted to binary after EDA. For aesthetics, the category will be renamed 'Married'.\n",
    "\n",
    "</div>"
   ]
  },
  {
   "cell_type": "code",
   "execution_count": 10,
   "metadata": {
    "ExecuteTime": {
     "end_time": "2021-03-23T21:59:48.580654Z",
     "start_time": "2021-03-23T21:59:48.571710Z"
    }
   },
   "outputs": [],
   "source": [
    "# Conversion\n",
    "df.rename(columns={'Is_Spouse':'Married','Health Indicator':'Health_Indicator'},inplace=True)\n",
    "# Average Age\n",
    "df['Avg_Age'] = (df['Upper_Age'] + df['Lower_Age']) / 2"
   ]
  },
  {
   "cell_type": "markdown",
   "metadata": {},
   "source": [
    "## Dropping Features"
   ]
  },
  {
   "cell_type": "code",
   "execution_count": 11,
   "metadata": {
    "ExecuteTime": {
     "end_time": "2021-03-23T21:59:48.593002Z",
     "start_time": "2021-03-23T21:59:48.582061Z"
    }
   },
   "outputs": [
    {
     "name": "stdout",
     "output_type": "stream",
     "text": [
      "Unique policy types: 5\n",
      "Unique policy categories: 22\n",
      "Unique city codes: 36\n",
      "Unique region codes: 5316\n"
     ]
    }
   ],
   "source": [
    "print(f'Unique policy types: {len(df.Holding_Policy_Type.value_counts())}')\n",
    "print(f'Unique policy categories: {len(df.Reco_Policy_Cat.value_counts())}')\n",
    "print(f'Unique city codes: {len(df.City_Code.value_counts())}')\n",
    "print(f'Unique region codes: {len(df.Region_Code.value_counts())}')"
   ]
  },
  {
   "cell_type": "markdown",
   "metadata": {},
   "source": [
    "<div class=\"alert alert-success\">\n",
    "\n",
    "The unique 'ID' and 'Region Code' columns will be dropped in order to simplify the data. 'Region Code' consists of far too many categorical values which would need to be one hot encoded. The feature is dropped as the data still retains the 'City Code' feature to capture some level of geographical distinction. In addition, the upper and lower age features will be dropped being represented by average age. \n",
    "\n",
    "</div>"
   ]
  },
  {
   "cell_type": "markdown",
   "metadata": {},
   "source": [
    "#### Health Indicator Missing Values"
   ]
  },
  {
   "cell_type": "code",
   "execution_count": 12,
   "metadata": {
    "ExecuteTime": {
     "end_time": "2021-03-23T21:59:48.616372Z",
     "start_time": "2021-03-23T21:59:48.594608Z"
    }
   },
   "outputs": [
    {
     "name": "stdout",
     "output_type": "stream",
     "text": [
      "There are 2349 missing Health Indicators with joint policy types.\n",
      "There are 9342 missing Health Indicators with individual policy types.\n"
     ]
    }
   ],
   "source": [
    "joint = len(df[ (df['Health_Indicator'].isnull()) & (df['Reco_Insurance_Type']=='Joint')])\n",
    "indiv = len(df[ (df['Health_Indicator'].isnull()) & (df['Reco_Insurance_Type']=='Individual')])\n",
    "\n",
    "print(f'There are {joint} missing Health Indicators with joint policy types.')\n",
    "print(f'There are {indiv} missing Health Indicators with individual policy types.')"
   ]
  },
  {
   "cell_type": "markdown",
   "metadata": {
    "ExecuteTime": {
     "end_time": "2021-03-18T21:23:31.629391Z",
     "start_time": "2021-03-18T21:23:31.615194Z"
    }
   },
   "source": [
    "<div class=\"alert alert-success\">\n",
    "\n",
    "The missing health indicators in the joint policy types represent less than 5% of the dataset and will be dropped. The remaining values will be filled using the mode. \n",
    "\n",
    "</div>"
   ]
  },
  {
   "cell_type": "code",
   "execution_count": 13,
   "metadata": {
    "ExecuteTime": {
     "end_time": "2021-03-23T21:59:48.631247Z",
     "start_time": "2021-03-23T21:59:48.617919Z"
    }
   },
   "outputs": [],
   "source": [
    "# dropping partial nulls\n",
    "indexvals = df[ (df['Health_Indicator'].isnull()) & (df['Reco_Insurance_Type']=='Joint')].index\n",
    "df.drop(indexvals, inplace=True)"
   ]
  },
  {
   "cell_type": "code",
   "execution_count": 14,
   "metadata": {
    "ExecuteTime": {
     "end_time": "2021-03-23T21:59:48.639690Z",
     "start_time": "2021-03-23T21:59:48.632756Z"
    }
   },
   "outputs": [],
   "source": [
    "# filling remaining nulls\n",
    "df['Health_Indicator'] = df['Health_Indicator'].fillna(df['Health_Indicator'].mode()[0])"
   ]
  },
  {
   "cell_type": "code",
   "execution_count": 15,
   "metadata": {
    "ExecuteTime": {
     "end_time": "2021-03-23T21:59:48.648180Z",
     "start_time": "2021-03-23T21:59:48.641044Z"
    }
   },
   "outputs": [],
   "source": [
    "# for clustering\n",
    "dfc = df[['City_Code','Region_Code']].copy()\n",
    "# dropping columns\n",
    "df.drop(['ID','City_Code','Region_Code','Upper_Age','Lower_Age'],axis=1,inplace=True)"
   ]
  },
  {
   "cell_type": "code",
   "execution_count": 16,
   "metadata": {
    "ExecuteTime": {
     "end_time": "2021-03-23T21:59:48.657621Z",
     "start_time": "2021-03-23T21:59:48.649492Z"
    }
   },
   "outputs": [],
   "source": [
    "# numerical conversion / float to int\n",
    "for col in df.select_dtypes('number').columns:\n",
    "    df[col] = df[col].astype(int)"
   ]
  },
  {
   "cell_type": "markdown",
   "metadata": {},
   "source": [
    "# Exploratory Data Analysis"
   ]
  },
  {
   "cell_type": "code",
   "execution_count": 17,
   "metadata": {
    "ExecuteTime": {
     "end_time": "2021-03-23T21:59:48.952602Z",
     "start_time": "2021-03-23T21:59:48.659047Z"
    }
   },
   "outputs": [
    {
     "data": {
      "image/png": "[encoded data removed]",
      "text/plain": [
       "<Figure size 864x720 with 2 Axes>"
      ]
     },
     "metadata": {
      "needs_background": "light"
     },
     "output_type": "display_data"
    }
   ],
   "source": [
    "corr = df.corr() # analyzing correlation\n",
    "fig, ax = plt.subplots(figsize=(12,10))\n",
    "mask = np.triu(np.ones_like(corr, dtype=np.bool))\n",
    "sns.heatmap(corr, mask=mask, square=True, annot=True, cmap='YlGnBu')\n",
    "ax.patch.set_edgecolor('black')  \n",
    "ax.patch.set_linewidth('1')\n",
    "ax.set_title('Correlation & Heat Map', fontsize=15, fontfamily='serif')\n",
    "plt.show()"
   ]
  },
  {
   "cell_type": "code",
   "execution_count": 88,
   "metadata": {
    "ExecuteTime": {
     "end_time": "2021-03-23T23:11:32.943162Z",
     "start_time": "2021-03-23T23:11:32.906104Z"
    }
   },
   "outputs": [
    {
     "data": {
      "text/html": [
       "<style  type=\"text/css\" >\n",
       "#T_1b997a18_8c2d_11eb_bf0c_acde48001122row0_col0,#T_1b997a18_8c2d_11eb_bf0c_acde48001122row0_col1,#T_1b997a18_8c2d_11eb_bf0c_acde48001122row0_col2,#T_1b997a18_8c2d_11eb_bf0c_acde48001122row0_col3,#T_1b997a18_8c2d_11eb_bf0c_acde48001122row0_col4,#T_1b997a18_8c2d_11eb_bf0c_acde48001122row0_col5,#T_1b997a18_8c2d_11eb_bf0c_acde48001122row0_col7,#T_1b997a18_8c2d_11eb_bf0c_acde48001122row0_col8,#T_1b997a18_8c2d_11eb_bf0c_acde48001122row0_col9,#T_1b997a18_8c2d_11eb_bf0c_acde48001122row0_col12,#T_1b997a18_8c2d_11eb_bf0c_acde48001122row1_col6,#T_1b997a18_8c2d_11eb_bf0c_acde48001122row1_col10,#T_1b997a18_8c2d_11eb_bf0c_acde48001122row1_col11{\n",
       "            background-color:  #fff5f0;\n",
       "            color:  #000000;\n",
       "        }#T_1b997a18_8c2d_11eb_bf0c_acde48001122row0_col6,#T_1b997a18_8c2d_11eb_bf0c_acde48001122row0_col10,#T_1b997a18_8c2d_11eb_bf0c_acde48001122row0_col11,#T_1b997a18_8c2d_11eb_bf0c_acde48001122row1_col0,#T_1b997a18_8c2d_11eb_bf0c_acde48001122row1_col1,#T_1b997a18_8c2d_11eb_bf0c_acde48001122row1_col2,#T_1b997a18_8c2d_11eb_bf0c_acde48001122row1_col3,#T_1b997a18_8c2d_11eb_bf0c_acde48001122row1_col4,#T_1b997a18_8c2d_11eb_bf0c_acde48001122row1_col5,#T_1b997a18_8c2d_11eb_bf0c_acde48001122row1_col7,#T_1b997a18_8c2d_11eb_bf0c_acde48001122row1_col8,#T_1b997a18_8c2d_11eb_bf0c_acde48001122row1_col9,#T_1b997a18_8c2d_11eb_bf0c_acde48001122row1_col12{\n",
       "            background-color:  #67000d;\n",
       "            color:  #f1f1f1;\n",
       "        }</style><table id=\"T_1b997a18_8c2d_11eb_bf0c_acde48001122\" ><thead>    <tr>        <th class=\"blank level0\" ></th>        <th class=\"col_heading level0 col0\" >Accomodation_Type</th>        <th class=\"col_heading level0 col1\" >Reco_Insurance_Type</th>        <th class=\"col_heading level0 col2\" >Married</th>        <th class=\"col_heading level0 col3\" >Health_Indicator</th>        <th class=\"col_heading level0 col4\" >Holding_Policy_Duration</th>        <th class=\"col_heading level0 col5\" >Holding_Policy_Type</th>        <th class=\"col_heading level0 col6\" >Reco_Policy_Cat</th>        <th class=\"col_heading level0 col7\" >Reco_Policy_Premium</th>        <th class=\"col_heading level0 col8\" >Long_Term_Cust</th>        <th class=\"col_heading level0 col9\" >Avg_Age</th>        <th class=\"col_heading level0 col10\" >LE_City_Code</th>        <th class=\"col_heading level0 col11\" >LE_Region_Code</th>        <th class=\"col_heading level0 col12\" >Seven_Clusters</th>    </tr>    <tr>        <th class=\"index_name level0\" >Response</th>        <th class=\"blank\" ></th>        <th class=\"blank\" ></th>        <th class=\"blank\" ></th>        <th class=\"blank\" ></th>        <th class=\"blank\" ></th>        <th class=\"blank\" ></th>        <th class=\"blank\" ></th>        <th class=\"blank\" ></th>        <th class=\"blank\" ></th>        <th class=\"blank\" ></th>        <th class=\"blank\" ></th>        <th class=\"blank\" ></th>        <th class=\"blank\" ></th>    </tr></thead><tbody>\n",
       "                <tr>\n",
       "                        <th id=\"T_1b997a18_8c2d_11eb_bf0c_acde48001122level0_row0\" class=\"row_heading level0 row0\" >0</th>\n",
       "                        <td id=\"T_1b997a18_8c2d_11eb_bf0c_acde48001122row0_col0\" class=\"data row0 col0\" >1.537496</td>\n",
       "                        <td id=\"T_1b997a18_8c2d_11eb_bf0c_acde48001122row0_col1\" class=\"data row0 col1\" >1.162642</td>\n",
       "                        <td id=\"T_1b997a18_8c2d_11eb_bf0c_acde48001122row0_col2\" class=\"data row0 col2\" >0.132911</td>\n",
       "                        <td id=\"T_1b997a18_8c2d_11eb_bf0c_acde48001122row0_col3\" class=\"data row0 col3\" >2.775293</td>\n",
       "                        <td id=\"T_1b997a18_8c2d_11eb_bf0c_acde48001122row0_col4\" class=\"data row0 col4\" >3.618506</td>\n",
       "                        <td id=\"T_1b997a18_8c2d_11eb_bf0c_acde48001122row0_col5\" class=\"data row0 col5\" >1.447516</td>\n",
       "                        <td id=\"T_1b997a18_8c2d_11eb_bf0c_acde48001122row0_col6\" class=\"data row0 col6\" >11.485947</td>\n",
       "                        <td id=\"T_1b997a18_8c2d_11eb_bf0c_acde48001122row0_col7\" class=\"data row0 col7\" >13783.056725</td>\n",
       "                        <td id=\"T_1b997a18_8c2d_11eb_bf0c_acde48001122row0_col8\" class=\"data row0 col8\" >0.082229</td>\n",
       "                        <td id=\"T_1b997a18_8c2d_11eb_bf0c_acde48001122row0_col9\" class=\"data row0 col9\" >43.567092</td>\n",
       "                        <td id=\"T_1b997a18_8c2d_11eb_bf0c_acde48001122row0_col10\" class=\"data row0 col10\" >-0.020517</td>\n",
       "                        <td id=\"T_1b997a18_8c2d_11eb_bf0c_acde48001122row0_col11\" class=\"data row0 col11\" >0.015719</td>\n",
       "                        <td id=\"T_1b997a18_8c2d_11eb_bf0c_acde48001122row0_col12\" class=\"data row0 col12\" >2.457598</td>\n",
       "            </tr>\n",
       "            <tr>\n",
       "                        <th id=\"T_1b997a18_8c2d_11eb_bf0c_acde48001122level0_row1\" class=\"row_heading level0 row1\" >1</th>\n",
       "                        <td id=\"T_1b997a18_8c2d_11eb_bf0c_acde48001122row1_col0\" class=\"data row1 col0\" >1.545119</td>\n",
       "                        <td id=\"T_1b997a18_8c2d_11eb_bf0c_acde48001122row1_col1\" class=\"data row1 col1\" >1.171537</td>\n",
       "                        <td id=\"T_1b997a18_8c2d_11eb_bf0c_acde48001122row1_col2\" class=\"data row1 col2\" >0.137676</td>\n",
       "                        <td id=\"T_1b997a18_8c2d_11eb_bf0c_acde48001122row1_col3\" class=\"data row1 col3\" >2.795634</td>\n",
       "                        <td id=\"T_1b997a18_8c2d_11eb_bf0c_acde48001122row1_col4\" class=\"data row1 col4\" >3.769852</td>\n",
       "                        <td id=\"T_1b997a18_8c2d_11eb_bf0c_acde48001122row1_col5\" class=\"data row1 col5\" >1.467772</td>\n",
       "                        <td id=\"T_1b997a18_8c2d_11eb_bf0c_acde48001122row1_col6\" class=\"data row1 col6\" >11.437693</td>\n",
       "                        <td id=\"T_1b997a18_8c2d_11eb_bf0c_acde48001122row1_col7\" class=\"data row1 col7\" >13902.112925</td>\n",
       "                        <td id=\"T_1b997a18_8c2d_11eb_bf0c_acde48001122row1_col8\" class=\"data row1 col8\" >0.088003</td>\n",
       "                        <td id=\"T_1b997a18_8c2d_11eb_bf0c_acde48001122row1_col9\" class=\"data row1 col9\" >43.629770</td>\n",
       "                        <td id=\"T_1b997a18_8c2d_11eb_bf0c_acde48001122row1_col10\" class=\"data row1 col10\" >-0.021313</td>\n",
       "                        <td id=\"T_1b997a18_8c2d_11eb_bf0c_acde48001122row1_col11\" class=\"data row1 col11\" >0.014524</td>\n",
       "                        <td id=\"T_1b997a18_8c2d_11eb_bf0c_acde48001122row1_col12\" class=\"data row1 col12\" >2.476281</td>\n",
       "            </tr>\n",
       "    </tbody></table>"
      ],
      "text/plain": [
       "<pandas.io.formats.style.Styler at 0x7fbf1b1fcfd0>"
      ]
     },
     "execution_count": 88,
     "metadata": {},
     "output_type": "execute_result"
    }
   ],
   "source": [
    "targetdf = df.groupby('Response').mean().head()\n",
    "targetdf.style.background_gradient(cmap='Reds')"
   ]
  },
  {
   "cell_type": "code",
   "execution_count": 18,
   "metadata": {
    "ExecuteTime": {
     "end_time": "2021-03-23T21:59:48.956133Z",
     "start_time": "2021-03-23T21:59:48.954363Z"
    }
   },
   "outputs": [],
   "source": [
    "# sns.catplot(data=df, x='Reco_Policy_Premium',y='Health Indicator')\n",
    "# sns.countplot(data=df[df['Holding_Policy_Type']!=0],x='Holding_Policy_Type',hue='Response')\n",
    "# sns.violinplot(data=df[df['Holding_Policy_Duration']!=0],x='Holding_Policy_Duration',y='Avg_Age')\n",
    "# sns.violinplot(data=df[df['Holding_Policy_Type']!=0],x='Holding_Policy_Type',y='Avg_Age',hue='Response')"
   ]
  },
  {
   "cell_type": "markdown",
   "metadata": {},
   "source": [
    "<div class=\"alert alert-block alert-info\">\n",
    "\n",
    "**NOTE HERE**\n",
    "\n",
    "</div>"
   ]
  },
  {
   "cell_type": "markdown",
   "metadata": {
    "ExecuteTime": {
     "end_time": "2021-03-18T21:52:24.139788Z",
     "start_time": "2021-03-18T21:52:24.122779Z"
    }
   },
   "source": [
    "## Final Updates\n",
    "* Binary Conversions: 'Accomodation_Type', 'Reco_Insurance_Type' and 'Married'\n",
    "* Numerical Conversions: 'Holding Policy Type' and 'Reco Policy Cat' \n",
    "* Final conversions for ML modeling"
   ]
  },
  {
   "cell_type": "code",
   "execution_count": 22,
   "metadata": {
    "ExecuteTime": {
     "end_time": "2021-03-23T21:59:48.969052Z",
     "start_time": "2021-03-23T21:59:48.967370Z"
    }
   },
   "outputs": [],
   "source": [
    "# Exporting for dashboard analysis\n",
    "# df.to_csv('jobathondashboard.csv')"
   ]
  },
  {
   "cell_type": "markdown",
   "metadata": {},
   "source": [
    "#### Binary Conversion"
   ]
  },
  {
   "cell_type": "code",
   "execution_count": 23,
   "metadata": {
    "ExecuteTime": {
     "end_time": "2021-03-23T21:59:49.041527Z",
     "start_time": "2021-03-23T21:59:48.973701Z"
    }
   },
   "outputs": [],
   "source": [
    "vals = {'Rented':1,'Owned':2,'Individual':1,'Joint':2,'No':0,'Yes':1}\n",
    "cols = ['Accomodation_Type','Reco_Insurance_Type','Married','Long_Term_Cust']\n",
    "\n",
    "for col in cols:\n",
    "    df[col] = df[col].replace(vals)"
   ]
  },
  {
   "cell_type": "markdown",
   "metadata": {},
   "source": [
    "#### Numerical Conversion"
   ]
  },
  {
   "cell_type": "code",
   "execution_count": 24,
   "metadata": {
    "ExecuteTime": {
     "end_time": "2021-03-23T21:59:49.048815Z",
     "start_time": "2021-03-23T21:59:49.043719Z"
    }
   },
   "outputs": [],
   "source": [
    "# Converting ordinal features to categories\n",
    "ordinal = ['Holding_Policy_Type','Reco_Policy_Cat']\n",
    "for col in ordinal:\n",
    "    df[col] = df[col].astype('O')"
   ]
  },
  {
   "cell_type": "markdown",
   "metadata": {},
   "source": [
    "#### Final ML Model Updates"
   ]
  },
  {
   "cell_type": "code",
   "execution_count": 25,
   "metadata": {
    "ExecuteTime": {
     "end_time": "2021-03-23T21:59:49.052859Z",
     "start_time": "2021-03-23T21:59:49.050249Z"
    }
   },
   "outputs": [],
   "source": [
    "# List | categorical variables in ordinal columns\n",
    "cat_vars = [var for var in df.columns if df[var].dtype == 'O']"
   ]
  },
  {
   "cell_type": "code",
   "execution_count": 26,
   "metadata": {
    "ExecuteTime": {
     "end_time": "2021-03-23T21:59:49.057581Z",
     "start_time": "2021-03-23T21:59:49.054338Z"
    }
   },
   "outputs": [],
   "source": [
    "def replace_categories(df, var, target):\n",
    "    # Order variable categories | lowest to highest against target (price)\n",
    "    ordered_labels = df.groupby([var])[target].mean().sort_values().index\n",
    "\n",
    "    # Dictionary of ordered categories to integer values\n",
    "    ordinal_label = {k: i for i, k in enumerate(ordered_labels, 0)}\n",
    "\n",
    "    # Replace the categorical strings by integers using dictionary\n",
    "    df[var] = df[var].map(ordinal_label)"
   ]
  },
  {
   "cell_type": "code",
   "execution_count": 27,
   "metadata": {
    "ExecuteTime": {
     "end_time": "2021-03-23T21:59:49.082163Z",
     "start_time": "2021-03-23T21:59:49.059029Z"
    }
   },
   "outputs": [],
   "source": [
    "# Ordinal variable conversion\n",
    "for var in cat_vars:\n",
    "    replace_categories(df, var, 'Avg_Age')"
   ]
  },
  {
   "cell_type": "markdown",
   "metadata": {},
   "source": [
    "# Cluster | Geographic Data"
   ]
  },
  {
   "cell_type": "code",
   "execution_count": 28,
   "metadata": {
    "ExecuteTime": {
     "end_time": "2021-03-23T21:59:49.457024Z",
     "start_time": "2021-03-23T21:59:49.083558Z"
    }
   },
   "outputs": [],
   "source": [
    "from sklearn import preprocessing\n",
    "from sklearn.cluster import KMeans\n",
    "from sklearn import cluster"
   ]
  },
  {
   "cell_type": "code",
   "execution_count": 29,
   "metadata": {
    "ExecuteTime": {
     "end_time": "2021-03-23T21:59:49.461717Z",
     "start_time": "2021-03-23T21:59:49.459159Z"
    }
   },
   "outputs": [],
   "source": [
    "labelencoder = preprocessing.LabelEncoder()\n",
    "scaler = preprocessing.StandardScaler()"
   ]
  },
  {
   "cell_type": "code",
   "execution_count": 30,
   "metadata": {
    "ExecuteTime": {
     "end_time": "2021-03-23T21:59:49.480307Z",
     "start_time": "2021-03-23T21:59:49.463716Z"
    }
   },
   "outputs": [],
   "source": [
    "for col in dfc.columns:\n",
    "    dfc[f'LE_{col}'] = labelencoder.fit_transform(dfc[col])"
   ]
  },
  {
   "cell_type": "code",
   "execution_count": 31,
   "metadata": {
    "ExecuteTime": {
     "end_time": "2021-03-23T21:59:49.491712Z",
     "start_time": "2021-03-23T21:59:49.482100Z"
    }
   },
   "outputs": [],
   "source": [
    "df2 = dfc[['LE_City_Code','LE_Region_Code']].copy()\n",
    "df_scaled = scaler.fit_transform(df2)"
   ]
  },
  {
   "cell_type": "code",
   "execution_count": 32,
   "metadata": {
    "ExecuteTime": {
     "end_time": "2021-03-23T21:59:49.496027Z",
     "start_time": "2021-03-23T21:59:49.493180Z"
    }
   },
   "outputs": [],
   "source": [
    "cluster_df = pd.DataFrame(data = df_scaled, columns=['LE_City_Code','LE_Region_Code'])"
   ]
  },
  {
   "cell_type": "code",
   "execution_count": 33,
   "metadata": {
    "ExecuteTime": {
     "end_time": "2021-03-23T22:00:04.075713Z",
     "start_time": "2021-03-23T21:59:49.497516Z"
    }
   },
   "outputs": [],
   "source": [
    "scores = [] # scores for elbow method\n",
    "range_values = range(1,25)\n",
    "for i in range_values:\n",
    "    kmeans = KMeans(n_clusters=i)\n",
    "    kmeans.fit(cluster_df)\n",
    "    scores.append(kmeans.inertia_) # inertia is the WCSS parameter"
   ]
  },
  {
   "cell_type": "code",
   "execution_count": 34,
   "metadata": {
    "ExecuteTime": {
     "end_time": "2021-03-23T22:00:04.248413Z",
     "start_time": "2021-03-23T22:00:04.077736Z"
    }
   },
   "outputs": [
    {
     "data": {
      "image/png": "[encoded data removed]",
      "text/plain": [
       "<Figure size 720x720 with 1 Axes>"
      ]
     },
     "metadata": {
      "needs_background": "light"
     },
     "output_type": "display_data"
    }
   ],
   "source": [
    "# Cluster Observation\n",
    "plt.figure(figsize=(10,10))\n",
    "plt.plot(scores)\n",
    "plt.title('Cluster Observation | Elbow Method')\n",
    "plt.xlabel('Clusters')\n",
    "plt.ylabel('Scores (WCSS)')\n",
    "plt.show()"
   ]
  },
  {
   "cell_type": "markdown",
   "metadata": {},
   "source": [
    "## K-Means Clustering"
   ]
  },
  {
   "cell_type": "code",
   "execution_count": 35,
   "metadata": {
    "ExecuteTime": {
     "end_time": "2021-03-23T22:00:04.600124Z",
     "start_time": "2021-03-23T22:00:04.250474Z"
    }
   },
   "outputs": [],
   "source": [
    "# 7 Clusters\n",
    "km = cluster.KMeans(n_clusters=7, max_iter=300, random_state=101)\n",
    "cluster_df['Seven_Clusters'] = km.fit_predict(cluster_df)"
   ]
  },
  {
   "cell_type": "code",
   "execution_count": 36,
   "metadata": {
    "ExecuteTime": {
     "end_time": "2021-03-23T22:00:05.450415Z",
     "start_time": "2021-03-23T22:00:04.602242Z"
    }
   },
   "outputs": [
    {
     "data": {
      "image/png": "[encoded data removed]",
      "text/plain": [
       "<Figure size 516.5x432 with 1 Axes>"
      ]
     },
     "metadata": {
      "needs_background": "light"
     },
     "output_type": "display_data"
    }
   ],
   "source": [
    "sns.lmplot(x='LE_City_Code', y='LE_Region_Code', data=cluster_df, fit_reg=False, hue='Seven_Clusters',\n",
    "           palette='Paired',size=6,aspect=1);"
   ]
  },
  {
   "cell_type": "code",
   "execution_count": 37,
   "metadata": {
    "ExecuteTime": {
     "end_time": "2021-03-23T22:00:05.455761Z",
     "start_time": "2021-03-23T22:00:05.452322Z"
    }
   },
   "outputs": [],
   "source": [
    "cluster_df['Seven_Clusters'] = cluster_df['Seven_Clusters'].astype(float).astype(int)"
   ]
  },
  {
   "cell_type": "markdown",
   "metadata": {},
   "source": [
    "### Merge Data"
   ]
  },
  {
   "cell_type": "code",
   "execution_count": 38,
   "metadata": {
    "ExecuteTime": {
     "end_time": "2021-03-23T22:00:05.463560Z",
     "start_time": "2021-03-23T22:00:05.457408Z"
    }
   },
   "outputs": [],
   "source": [
    "df = df.join(cluster_df)"
   ]
  },
  {
   "cell_type": "code",
   "execution_count": 41,
   "metadata": {
    "ExecuteTime": {
     "end_time": "2021-03-23T22:01:30.414884Z",
     "start_time": "2021-03-23T22:01:30.405190Z"
    }
   },
   "outputs": [],
   "source": [
    "ncols = ['LE_City_Code', 'LE_Region_Code', 'Seven_Clusters']\n",
    "for col in ncols:\n",
    "    df[col] = df[col].fillna(df[col].mode()[0]).astype(int)"
   ]
  },
  {
   "cell_type": "markdown",
   "metadata": {
    "ExecuteTime": {
     "end_time": "2021-03-10T22:37:25.632959Z",
     "start_time": "2021-03-10T22:37:25.623427Z"
    }
   },
   "source": [
    "# Pycaret Model"
   ]
  },
  {
   "cell_type": "code",
   "execution_count": 43,
   "metadata": {
    "ExecuteTime": {
     "end_time": "2021-03-23T22:01:47.570194Z",
     "start_time": "2021-03-23T22:01:47.168465Z"
    }
   },
   "outputs": [],
   "source": [
    "import pycaret\n",
    "import pycaret.preprocess as preprocess\n",
    "from pycaret.datasets import get_data\n",
    "from pycaret.classification import *\n",
    "import pycaret.preprocess as preprocess"
   ]
  },
  {
   "cell_type": "code",
   "execution_count": 44,
   "metadata": {
    "ExecuteTime": {
     "end_time": "2021-03-23T22:01:48.659609Z",
     "start_time": "2021-03-23T22:01:48.654192Z"
    }
   },
   "outputs": [],
   "source": [
    "dataset = df.copy()"
   ]
  },
  {
   "cell_type": "code",
   "execution_count": 45,
   "metadata": {
    "ExecuteTime": {
     "end_time": "2021-03-23T22:01:49.698294Z",
     "start_time": "2021-03-23T22:01:49.676551Z"
    }
   },
   "outputs": [
    {
     "name": "stdout",
     "output_type": "stream",
     "text": [
      "Data for Modeling: (38826, 14)\n",
      "Unseen Data For Predictions: (9707, 14)\n"
     ]
    }
   ],
   "source": [
    "data = dataset.sample(frac=0.80, random_state=786)\n",
    "data_unseen = dataset.drop(data.index).reset_index(drop=True)\n",
    "\n",
    "print('Data for Modeling: ' + str(data.shape))\n",
    "print('Unseen Data For Predictions: ' + str(data_unseen.shape))"
   ]
  },
  {
   "cell_type": "code",
   "execution_count": null,
   "metadata": {},
   "outputs": [],
   "source": [
    "# fix imbalance FALSE\n",
    "clf1 = setup(data=data,target='Response',session_id=123,numeric_features=['LE_Region_Code','LE_City_Code','Seven_Clusters','Long_Term_Cust','Health_Indicator','Accomodation_Type','Reco_Insurance_Type','Married','Holding_Policy_Duration','Holding_Policy_Type'])"
   ]
  },
  {
   "cell_type": "code",
   "execution_count": 55,
   "metadata": {
    "ExecuteTime": {
     "end_time": "2021-03-23T22:22:52.643841Z",
     "start_time": "2021-03-23T22:22:52.641794Z"
    }
   },
   "outputs": [],
   "source": [
    "# # fix imbalance TRUE\n",
    "# clf1 = setup(data=data,target='Response',session_id=123,fix_imbalance=True,numeric_features=['LE_Region_Code','LE_City_Code','Seven_Clusters','Long_Term_Cust','Health_Indicator','Accomodation_Type','Reco_Insurance_Type','Married','Holding_Policy_Duration','Holding_Policy_Type'])"
   ]
  },
  {
   "cell_type": "code",
   "execution_count": 56,
   "metadata": {
    "ExecuteTime": {
     "end_time": "2021-03-23T22:22:55.383816Z",
     "start_time": "2021-03-23T22:22:55.381699Z"
    }
   },
   "outputs": [],
   "source": [
    "compare_models()"
   ]
  },
  {
   "cell_type": "code",
   "execution_count": null,
   "metadata": {
    "ExecuteTime": {
     "end_time": "2021-03-19T03:10:00.808795Z",
     "start_time": "2021-03-19T03:09:33.002400Z"
    }
   },
   "outputs": [],
   "source": [
    "GBC = create_model('gbc')"
   ]
  },
  {
   "cell_type": "code",
   "execution_count": null,
   "metadata": {
    "ExecuteTime": {
     "end_time": "2021-03-19T03:13:05.567709Z",
     "start_time": "2021-03-19T03:11:19.787130Z"
    }
   },
   "outputs": [],
   "source": [
    "tuned_gbc = tune_model(GBC)"
   ]
  },
  {
   "cell_type": "code",
   "execution_count": null,
   "metadata": {
    "ExecuteTime": {
     "end_time": "2021-03-19T03:14:44.124886Z",
     "start_time": "2021-03-19T03:13:49.534764Z"
    }
   },
   "outputs": [],
   "source": [
    "tuned_GBC = tune_model(GBC, optimize = 'AUC')\n",
    "print(tuned_GBC)"
   ]
  },
  {
   "cell_type": "code",
   "execution_count": null,
   "metadata": {},
   "outputs": [],
   "source": [
    "# plot_model(tuned_GBC, plot = 'auc')\n",
    "# plot_model(tuned_GBC, plot = 'confusion_matrix')\n",
    "# # Final check using the unseen data / test\n",
    "# predict_model(tuned_GBC);\n",
    "\n",
    "# # Final Model / trained on the complete dataset\n",
    "# final_GBC = finalize_model(tuned_GBC)\n",
    "\n",
    "# evaluate_model(final_GBC)\n",
    "\n",
    "# plot_model(final_GBC, plot='feature')\n",
    "\n",
    "# # Interpret model | SHAP\n",
    "# interpret_model(final_GBC)"
   ]
  },
  {
   "cell_type": "markdown",
   "metadata": {},
   "source": [
    "# XGBoost Model"
   ]
  },
  {
   "cell_type": "code",
   "execution_count": 54,
   "metadata": {
    "ExecuteTime": {
     "end_time": "2021-03-23T22:22:36.980211Z",
     "start_time": "2021-03-23T22:22:36.977598Z"
    }
   },
   "outputs": [],
   "source": [
    "from xgboost import XGBClassifier\n",
    "from sklearn.model_selection import train_test_split\n",
    "from sklearn.metrics import accuracy_score\n",
    "from sklearn.model_selection import GridSearchCV"
   ]
  },
  {
   "cell_type": "code",
   "execution_count": 57,
   "metadata": {
    "ExecuteTime": {
     "end_time": "2021-03-23T22:23:48.024151Z",
     "start_time": "2021-03-23T22:23:48.020114Z"
    }
   },
   "outputs": [
    {
     "data": {
      "text/plain": [
       "Index(['Accomodation_Type', 'Reco_Insurance_Type', 'Married',\n",
       "       'Health_Indicator', 'Holding_Policy_Duration', 'Holding_Policy_Type',\n",
       "       'Reco_Policy_Cat', 'Reco_Policy_Premium', 'Response', 'Long_Term_Cust',\n",
       "       'Avg_Age', 'LE_City_Code', 'LE_Region_Code', 'Seven_Clusters'],\n",
       "      dtype='object')"
      ]
     },
     "execution_count": 57,
     "metadata": {},
     "output_type": "execute_result"
    }
   ],
   "source": [
    "df.columns"
   ]
  },
  {
   "cell_type": "code",
   "execution_count": 58,
   "metadata": {
    "ExecuteTime": {
     "end_time": "2021-03-23T22:25:07.502846Z",
     "start_time": "2021-03-23T22:25:07.490880Z"
    }
   },
   "outputs": [],
   "source": [
    "y = df['Response']\n",
    "X = df.drop(columns=['Response'],axis=1)\n",
    "\n",
    "X_train, X_test, y_train, y_test = train_test_split(X, y, test_size=0.35, random_state=42)"
   ]
  },
  {
   "cell_type": "code",
   "execution_count": 59,
   "metadata": {
    "ExecuteTime": {
     "end_time": "2021-03-23T22:25:45.266285Z",
     "start_time": "2021-03-23T22:25:43.232832Z"
    }
   },
   "outputs": [
    {
     "data": {
      "text/plain": [
       "XGBClassifier(base_score=0.5, booster='gbtree', colsample_bylevel=1,\n",
       "              colsample_bynode=1, colsample_bytree=1, gamma=0,\n",
       "              learning_rate=0.1, max_delta_step=0, max_depth=3,\n",
       "              min_child_weight=1, missing=None, n_estimators=100, n_jobs=1,\n",
       "              nthread=None, objective='binary:logistic', random_state=0,\n",
       "              reg_alpha=0, reg_lambda=1, scale_pos_weight=1, seed=None,\n",
       "              silent=None, subsample=1, verbosity=1)"
      ]
     },
     "execution_count": 59,
     "metadata": {},
     "output_type": "execute_result"
    }
   ],
   "source": [
    "xclf = XGBClassifier()\n",
    "xclf.fit(X_train,y_train)"
   ]
  },
  {
   "cell_type": "code",
   "execution_count": 60,
   "metadata": {
    "ExecuteTime": {
     "end_time": "2021-03-23T22:26:43.744464Z",
     "start_time": "2021-03-23T22:26:43.635349Z"
    }
   },
   "outputs": [],
   "source": [
    "# predict\n",
    "training_preds = xclf.predict(X_train)\n",
    "test_preds = xclf.predict(X_test)"
   ]
  },
  {
   "cell_type": "code",
   "execution_count": 61,
   "metadata": {
    "ExecuteTime": {
     "end_time": "2021-03-23T22:27:34.043325Z",
     "start_time": "2021-03-23T22:27:34.036501Z"
    }
   },
   "outputs": [],
   "source": [
    "# accuracy\n",
    "training_accuracy = accuracy_score(y_train,training_preds)\n",
    "test_accuracy = accuracy_score(y_test,test_preds)"
   ]
  },
  {
   "cell_type": "code",
   "execution_count": 62,
   "metadata": {
    "ExecuteTime": {
     "end_time": "2021-03-23T22:28:32.529832Z",
     "start_time": "2021-03-23T22:28:32.526457Z"
    }
   },
   "outputs": [
    {
     "name": "stdout",
     "output_type": "stream",
     "text": [
      "Training Accuracy: 76.23%\n",
      "Validation Accuracy: 75.9%\n"
     ]
    }
   ],
   "source": [
    "print('Training Accuracy: {:.4}%'.format(training_accuracy*100))\n",
    "print('Validation Accuracy: {:.4}%'.format(test_accuracy*100))"
   ]
  },
  {
   "cell_type": "markdown",
   "metadata": {},
   "source": [
    "## Model Tuning | GridSearchCV"
   ]
  },
  {
   "cell_type": "code",
   "execution_count": 63,
   "metadata": {
    "ExecuteTime": {
     "end_time": "2021-03-23T22:30:56.733621Z",
     "start_time": "2021-03-23T22:30:56.730421Z"
    }
   },
   "outputs": [],
   "source": [
    "param_grid = {\n",
    "    'learning_rate': [0.1,0.2],\n",
    "    'max_depth': [6],\n",
    "    'min_child_weight': [1,2],\n",
    "    'subsample': [0.5,0.7],\n",
    "    'n_estimators': [100]\n",
    "}"
   ]
  },
  {
   "cell_type": "code",
   "execution_count": 64,
   "metadata": {
    "ExecuteTime": {
     "end_time": "2021-03-23T22:39:13.824193Z",
     "start_time": "2021-03-23T22:37:23.647802Z"
    }
   },
   "outputs": [
    {
     "name": "stdout",
     "output_type": "stream",
     "text": [
      "Grid search found the following optimal parameters: \n",
      "learning_rate: 0.1\n",
      "max_depth: 6\n",
      "min_child_weight: 2\n",
      "n_estimators: 100\n",
      "subsample: 0.7\n",
      "\n",
      "Training Accuracy: 77.06%\n",
      "Validation Accuracy: 75.73%\n"
     ]
    }
   ],
   "source": [
    "grid_xclf = GridSearchCV(xclf,param_grid,scoring='accuracy',cv=None,n_jobs=1)\n",
    "grid_xclf.fit(X_train,y_train)\n",
    "\n",
    "best_parameters = grid_xclf.best_params_\n",
    "\n",
    "print('Grid search found the following optimal parameters: ')\n",
    "for param_name in sorted(best_parameters.keys()):\n",
    "    print('%s: %r' % (param_name,best_parameters[param_name]))\n",
    "    \n",
    "training_preds = grid_xclf.predict(X_train)\n",
    "test_preds = grid_xclf.predict(X_test)\n",
    "training_accuracy = accuracy_score(y_train,training_preds)\n",
    "test_accuracy = accuracy_score(y_test,test_preds)\n",
    "\n",
    "print('')\n",
    "print('Training Accuracy: {:.4}%'.format(training_accuracy*100))\n",
    "print('Validation Accuracy: {:.4}%'.format(test_accuracy*100))"
   ]
  },
  {
   "cell_type": "code",
   "execution_count": 65,
   "metadata": {
    "ExecuteTime": {
     "end_time": "2021-03-23T22:44:05.620321Z",
     "start_time": "2021-03-23T22:44:05.614705Z"
    }
   },
   "outputs": [],
   "source": [
    "def model_visuals (model, X_test, y_test):\n",
    "    '''Plots the confusion matrix and ROC-AUC plot'''\n",
    "    fig, axes = plt.subplots(figsize = (12, 6), ncols = 2)  # confusion matrix\n",
    "    metrics.plot_confusion_matrix(model, X_test, y_test, normalize = 'true', \n",
    "                          cmap = 'Blues', ax = axes[0])\n",
    "    axes[0].set_title('Confusion Matrix');\n",
    "    # ROC-AUC Curve\n",
    "    roc_auc = metrics.plot_roc_curve(model, X_test, y_test,ax=axes[1])\n",
    "    axes[1].plot([0,1],[0,1],ls=':')\n",
    "    axes[1].set_title('ROC-AUC Plot')\n",
    "    axes[1].grid()\n",
    "    axes[1].legend()\n",
    "    fig.tight_layout()\n",
    "    plt.show()"
   ]
  },
  {
   "cell_type": "code",
   "execution_count": 69,
   "metadata": {
    "ExecuteTime": {
     "end_time": "2021-03-23T22:46:47.641236Z",
     "start_time": "2021-03-23T22:46:47.638422Z"
    }
   },
   "outputs": [],
   "source": [
    "from sklearn.metrics import classification_report\n",
    "import sklearn.metrics as metrics"
   ]
  },
  {
   "cell_type": "code",
   "execution_count": 80,
   "metadata": {
    "ExecuteTime": {
     "end_time": "2021-03-23T23:00:45.075858Z",
     "start_time": "2021-03-23T23:00:41.492690Z"
    }
   },
   "outputs": [
    {
     "name": "stdout",
     "output_type": "stream",
     "text": [
      "\n",
      "Training Accuracy: 77.06%\n",
      "Validation Accuracy: 75.73%\n"
     ]
    }
   ],
   "source": [
    "xclf = XGBClassifier(max_depth=6,learning_rate=0.1,min_child_weight=2,n_estimators=100,subsample=0.7)\n",
    "xclf.fit(X_train,y_train)\n",
    "# predict\n",
    "training_preds = xclf.predict(X_train)\n",
    "test_preds = xclf.predict(X_test)\n",
    "# accuracy\n",
    "training_accuracy = accuracy_score(y_train,training_preds)\n",
    "test_accuracy = accuracy_score(y_test,test_preds)\n",
    "print('')\n",
    "print('Training Accuracy: {:.4}%'.format(training_accuracy*100))\n",
    "print('Validation Accuracy: {:.4}%'.format(test_accuracy*100))"
   ]
  },
  {
   "cell_type": "markdown",
   "metadata": {},
   "source": [
    "### Feature Importance"
   ]
  },
  {
   "cell_type": "code",
   "execution_count": 81,
   "metadata": {
    "ExecuteTime": {
     "end_time": "2021-03-23T23:01:38.691089Z",
     "start_time": "2021-03-23T23:01:38.205352Z"
    }
   },
   "outputs": [
    {
     "name": "stdout",
     "output_type": "stream",
     "text": [
      "Accuracy Percentage: 77.06% \n",
      "\n",
      "              precision    recall  f1-score   support\n",
      "\n",
      "           0       0.76      0.99      0.86     12901\n",
      "           1       0.42      0.02      0.04      4086\n",
      "\n",
      "    accuracy                           0.76     16987\n",
      "   macro avg       0.59      0.51      0.45     16987\n",
      "weighted avg       0.68      0.76      0.66     16987\n",
      " \n",
      "\n",
      "\n"
     ]
    },
    {
     "data": {
      "image/png": "[encoded data removed]",
      "text/plain": [
       "<Figure size 864x432 with 3 Axes>"
      ]
     },
     "metadata": {
      "needs_background": "light"
     },
     "output_type": "display_data"
    }
   ],
   "source": [
    "print('Accuracy Percentage: {:.4}%'.format(training_accuracy*100),'\\n')\n",
    "print(classification_report(y_test, test_preds), '\\n\\n')\n",
    "model_visuals (xclf, X_test, y_test) # class report / plots"
   ]
  },
  {
   "cell_type": "code",
   "execution_count": 84,
   "metadata": {
    "ExecuteTime": {
     "end_time": "2021-03-23T23:04:03.847099Z",
     "start_time": "2021-03-23T23:04:03.814396Z"
    }
   },
   "outputs": [
    {
     "name": "stdout",
     "output_type": "stream",
     "text": [
      "XGBoost Classifier Top 10 Features\n"
     ]
    },
    {
     "data": {
      "text/html": [
       "<div>\n",
       "<style scoped>\n",
       "    .dataframe tbody tr th:only-of-type {\n",
       "        vertical-align: middle;\n",
       "    }\n",
       "\n",
       "    .dataframe tbody tr th {\n",
       "        vertical-align: top;\n",
       "    }\n",
       "\n",
       "    .dataframe thead th {\n",
       "        text-align: right;\n",
       "    }\n",
       "</style>\n",
       "<table border=\"1\" class=\"dataframe\">\n",
       "  <thead>\n",
       "    <tr style=\"text-align: right;\">\n",
       "      <th></th>\n",
       "      <th>Importance</th>\n",
       "      <th>Column</th>\n",
       "    </tr>\n",
       "  </thead>\n",
       "  <tbody>\n",
       "    <tr>\n",
       "      <th>6</th>\n",
       "      <td>0.210396</td>\n",
       "      <td>Reco_Policy_Cat</td>\n",
       "    </tr>\n",
       "    <tr>\n",
       "      <th>5</th>\n",
       "      <td>0.113065</td>\n",
       "      <td>Holding_Policy_Type</td>\n",
       "    </tr>\n",
       "    <tr>\n",
       "      <th>4</th>\n",
       "      <td>0.085071</td>\n",
       "      <td>Holding_Policy_Duration</td>\n",
       "    </tr>\n",
       "    <tr>\n",
       "      <th>0</th>\n",
       "      <td>0.074078</td>\n",
       "      <td>Accomodation_Type</td>\n",
       "    </tr>\n",
       "    <tr>\n",
       "      <th>7</th>\n",
       "      <td>0.073130</td>\n",
       "      <td>Reco_Policy_Premium</td>\n",
       "    </tr>\n",
       "    <tr>\n",
       "      <th>9</th>\n",
       "      <td>0.072113</td>\n",
       "      <td>Avg_Age</td>\n",
       "    </tr>\n",
       "    <tr>\n",
       "      <th>3</th>\n",
       "      <td>0.067355</td>\n",
       "      <td>Health_Indicator</td>\n",
       "    </tr>\n",
       "    <tr>\n",
       "      <th>11</th>\n",
       "      <td>0.067126</td>\n",
       "      <td>LE_Region_Code</td>\n",
       "    </tr>\n",
       "    <tr>\n",
       "      <th>12</th>\n",
       "      <td>0.062247</td>\n",
       "      <td>Seven_Clusters</td>\n",
       "    </tr>\n",
       "    <tr>\n",
       "      <th>10</th>\n",
       "      <td>0.061029</td>\n",
       "      <td>LE_City_Code</td>\n",
       "    </tr>\n",
       "  </tbody>\n",
       "</table>\n",
       "</div>"
      ],
      "text/plain": [
       "    Importance                   Column\n",
       "6     0.210396          Reco_Policy_Cat\n",
       "5     0.113065      Holding_Policy_Type\n",
       "4     0.085071  Holding_Policy_Duration\n",
       "0     0.074078        Accomodation_Type\n",
       "7     0.073130      Reco_Policy_Premium\n",
       "9     0.072113                  Avg_Age\n",
       "3     0.067355         Health_Indicator\n",
       "11    0.067126           LE_Region_Code\n",
       "12    0.062247           Seven_Clusters\n",
       "10    0.061029             LE_City_Code"
      ]
     },
     "execution_count": 84,
     "metadata": {},
     "output_type": "execute_result"
    }
   ],
   "source": [
    "# Feature Importance\n",
    "clf_feature = pd.DataFrame({'Importance': xclf.feature_importances_, 'Column': X.columns})\n",
    "clf_feature = clf_feature.sort_values(by='Importance', ascending=False) \n",
    "print('XGBoost Classifier Top 10 Features')\n",
    "clf_feature[:10] # top 10 features"
   ]
  },
  {
   "cell_type": "code",
   "execution_count": 85,
   "metadata": {
    "ExecuteTime": {
     "end_time": "2021-03-23T23:04:21.139881Z",
     "start_time": "2021-03-23T23:04:20.936293Z"
    }
   },
   "outputs": [
    {
     "data": {
      "image/png": "[encoded data removed]",
      "text/plain": [
       "<Figure size 1440x720 with 1 Axes>"
      ]
     },
     "metadata": {
      "needs_background": "light"
     },
     "output_type": "display_data"
    }
   ],
   "source": [
    "clf_feature = clf_feature[:10] # top 10 features\n",
    "clf_feature.plot(kind='barh', x='Column', y='Importance', figsize=(20, 10), cmap = 'coolwarm')\n",
    "plt.title('XGBoost Feature Importance \\n', fontsize=16)\n",
    "plt.show()"
   ]
  },
  {
   "cell_type": "code",
   "execution_count": null,
   "metadata": {},
   "outputs": [],
   "source": [
    "# sns.catplot(data=df, x='Reco_Policy_Premium',y='Health Indicator')\n",
    "# sns.countplot(data=df[df['Holding_Policy_Type']!=0],x='Holding_Policy_Type',hue='Response')\n",
    "# sns.violinplot(data=df[df['Holding_Policy_Duration']!=0],x='Holding_Policy_Duration',y='Avg_Age')\n",
    "# sns.violinplot(data=df[df['Holding_Policy_Type']!=0],x='Holding_Policy_Type',y='Avg_Age',hue='Response')"
   ]
  },
  {
   "cell_type": "code",
   "execution_count": null,
   "metadata": {},
   "outputs": [],
   "source": []
  }
 ],
 "metadata": {
  "kernelspec": {
   "display_name": "Python [conda env:learn-env] *",
   "language": "python",
   "name": "conda-env-learn-env-py"
  },
  "language_info": {
   "codemirror_mode": {
    "name": "ipython",
    "version": 3
   },
   "file_extension": ".py",
   "mimetype": "text/x-python",
   "name": "python",
   "nbconvert_exporter": "python",
   "pygments_lexer": "ipython3",
   "version": "3.6.9"
  },
  "toc": {
   "base_numbering": 1,
   "nav_menu": {},
   "number_sections": true,
   "sideBar": true,
   "skip_h1_title": false,
   "title_cell": "Table of Contents",
   "title_sidebar": "Contents",
   "toc_cell": false,
   "toc_position": {
    "height": "calc(100% - 180px)",
    "left": "10px",
    "top": "150px",
    "width": "165px"
   },
   "toc_section_display": true,
   "toc_window_display": true
  }
 },
 "nbformat": 4,
 "nbformat_minor": 2
}
