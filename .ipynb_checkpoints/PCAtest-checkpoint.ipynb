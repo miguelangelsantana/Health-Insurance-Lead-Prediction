{
 "cells": [
  {
   "cell_type": "markdown",
   "metadata": {},
   "source": [
    "# Health Insurance | Job-A-Thon\n",
    "Author: Miguel Santana\n",
    "\n",
    "### Project Methodology\n",
    "FinMan Company is looking to leverage their client base by cross selling insurance products to existing customers. Insurance policies are offered to prospective and existing clients based on website landing and consumer election to fill out additional information forms. FinMan company would like to leverage their acquired information to classify positive leads for outreach programs using machine learning classifiers. \n",
    "\n",
    "### Data and Analytical Structure\n",
    "The project dataset is provided by Analytics Vidhya via Kaggle. Data includes demographic features, policy features (for current customers) and example positive classifications for ML model validation and interpretation. The source can be found [here.](https://www.kaggle.com/imsparsh/jobathon-analytics-vidhya?select=sample_submission.csv) The project analysis will follow the OSEMN framework: Obtain, Scrub, Explore, Model and Interpret."
   ]
  },
  {
   "cell_type": "markdown",
   "metadata": {},
   "source": [
    "## Data & Packages\n",
    "**OBTAIN**\n",
    "\n",
    "run pycaret first, then go to next two using scikit learn, then neural net"
   ]
  },
  {
   "cell_type": "markdown",
   "metadata": {},
   "source": [
    "<div class=\"alert alert-success\">\n",
    "\n",
    "**NOTE HERE**\n",
    "\n",
    "</div>\n",
    "\n",
    "<div class=\"alert alert-block alert-info\">\n",
    "\n",
    "**NOTE HERE**\n",
    "\n",
    "</div>"
   ]
  },
  {
   "cell_type": "code",
   "execution_count": 1,
   "metadata": {
    "ExecuteTime": {
     "end_time": "2021-03-19T14:49:41.091432Z",
     "start_time": "2021-03-19T14:49:41.088886Z"
    }
   },
   "outputs": [],
   "source": [
    "import warnings\n",
    "warnings.filterwarnings('ignore')"
   ]
  },
  {
   "cell_type": "code",
   "execution_count": 2,
   "metadata": {
    "ExecuteTime": {
     "end_time": "2021-03-19T14:49:41.884210Z",
     "start_time": "2021-03-19T14:49:41.093420Z"
    }
   },
   "outputs": [],
   "source": [
    "import pandas as pd\n",
    "import matplotlib.pyplot as plt\n",
    "import seaborn as sns\n",
    "import numpy as np\n",
    "pd.set_option('display.max_columns',50)"
   ]
  },
  {
   "cell_type": "code",
   "execution_count": 3,
   "metadata": {
    "ExecuteTime": {
     "end_time": "2021-03-19T14:49:41.948041Z",
     "start_time": "2021-03-19T14:49:41.885932Z"
    }
   },
   "outputs": [],
   "source": [
    "df = pd.read_csv('train.csv')"
   ]
  },
  {
   "cell_type": "code",
   "execution_count": 4,
   "metadata": {
    "ExecuteTime": {
     "end_time": "2021-03-19T14:49:41.965431Z",
     "start_time": "2021-03-19T14:49:41.949888Z"
    }
   },
   "outputs": [
    {
     "name": "stdout",
     "output_type": "stream",
     "text": [
      "(50882, 14)\n"
     ]
    },
    {
     "data": {
      "text/html": [
       "<div>\n",
       "<style scoped>\n",
       "    .dataframe tbody tr th:only-of-type {\n",
       "        vertical-align: middle;\n",
       "    }\n",
       "\n",
       "    .dataframe tbody tr th {\n",
       "        vertical-align: top;\n",
       "    }\n",
       "\n",
       "    .dataframe thead th {\n",
       "        text-align: right;\n",
       "    }\n",
       "</style>\n",
       "<table border=\"1\" class=\"dataframe\">\n",
       "  <thead>\n",
       "    <tr style=\"text-align: right;\">\n",
       "      <th></th>\n",
       "      <th>ID</th>\n",
       "      <th>City_Code</th>\n",
       "      <th>Region_Code</th>\n",
       "      <th>Accomodation_Type</th>\n",
       "      <th>Reco_Insurance_Type</th>\n",
       "      <th>Upper_Age</th>\n",
       "      <th>Lower_Age</th>\n",
       "      <th>Is_Spouse</th>\n",
       "      <th>Health Indicator</th>\n",
       "      <th>Holding_Policy_Duration</th>\n",
       "      <th>Holding_Policy_Type</th>\n",
       "      <th>Reco_Policy_Cat</th>\n",
       "      <th>Reco_Policy_Premium</th>\n",
       "      <th>Response</th>\n",
       "    </tr>\n",
       "  </thead>\n",
       "  <tbody>\n",
       "    <tr>\n",
       "      <th>0</th>\n",
       "      <td>1</td>\n",
       "      <td>C3</td>\n",
       "      <td>3213</td>\n",
       "      <td>Rented</td>\n",
       "      <td>Individual</td>\n",
       "      <td>36</td>\n",
       "      <td>36</td>\n",
       "      <td>No</td>\n",
       "      <td>X1</td>\n",
       "      <td>14+</td>\n",
       "      <td>3.0</td>\n",
       "      <td>22</td>\n",
       "      <td>11628.0</td>\n",
       "      <td>0</td>\n",
       "    </tr>\n",
       "    <tr>\n",
       "      <th>1</th>\n",
       "      <td>2</td>\n",
       "      <td>C5</td>\n",
       "      <td>1117</td>\n",
       "      <td>Owned</td>\n",
       "      <td>Joint</td>\n",
       "      <td>75</td>\n",
       "      <td>22</td>\n",
       "      <td>No</td>\n",
       "      <td>X2</td>\n",
       "      <td>NaN</td>\n",
       "      <td>NaN</td>\n",
       "      <td>22</td>\n",
       "      <td>30510.0</td>\n",
       "      <td>0</td>\n",
       "    </tr>\n",
       "    <tr>\n",
       "      <th>2</th>\n",
       "      <td>3</td>\n",
       "      <td>C5</td>\n",
       "      <td>3732</td>\n",
       "      <td>Owned</td>\n",
       "      <td>Individual</td>\n",
       "      <td>32</td>\n",
       "      <td>32</td>\n",
       "      <td>No</td>\n",
       "      <td>NaN</td>\n",
       "      <td>1.0</td>\n",
       "      <td>1.0</td>\n",
       "      <td>19</td>\n",
       "      <td>7450.0</td>\n",
       "      <td>1</td>\n",
       "    </tr>\n",
       "  </tbody>\n",
       "</table>\n",
       "</div>"
      ],
      "text/plain": [
       "   ID City_Code  Region_Code Accomodation_Type Reco_Insurance_Type  Upper_Age  \\\n",
       "0   1        C3         3213            Rented          Individual         36   \n",
       "1   2        C5         1117             Owned               Joint         75   \n",
       "2   3        C5         3732             Owned          Individual         32   \n",
       "\n",
       "   Lower_Age Is_Spouse Health Indicator Holding_Policy_Duration  \\\n",
       "0         36        No               X1                     14+   \n",
       "1         22        No               X2                     NaN   \n",
       "2         32        No              NaN                     1.0   \n",
       "\n",
       "   Holding_Policy_Type  Reco_Policy_Cat  Reco_Policy_Premium  Response  \n",
       "0                  3.0               22              11628.0         0  \n",
       "1                  NaN               22              30510.0         0  \n",
       "2                  1.0               19               7450.0         1  "
      ]
     },
     "execution_count": 4,
     "metadata": {},
     "output_type": "execute_result"
    }
   ],
   "source": [
    "print(df.shape)\n",
    "df.head(3)"
   ]
  },
  {
   "cell_type": "code",
   "execution_count": 5,
   "metadata": {
    "ExecuteTime": {
     "end_time": "2021-03-19T14:49:41.981650Z",
     "start_time": "2021-03-19T14:49:41.967109Z"
    }
   },
   "outputs": [],
   "source": [
    "# dropping partial nulls\n",
    "indexvals = df[ (df['Health Indicator'].isnull()) & (df['Reco_Insurance_Type']=='Joint')].index\n",
    "df.drop(indexvals, inplace=True)"
   ]
  },
  {
   "cell_type": "code",
   "execution_count": 6,
   "metadata": {
    "ExecuteTime": {
     "end_time": "2021-03-19T14:49:41.986675Z",
     "start_time": "2021-03-19T14:49:41.982921Z"
    }
   },
   "outputs": [],
   "source": [
    "dfc = df[['City_Code','Region_Code']].copy()"
   ]
  },
  {
   "cell_type": "code",
   "execution_count": 7,
   "metadata": {
    "ExecuteTime": {
     "end_time": "2021-03-19T14:49:41.992858Z",
     "start_time": "2021-03-19T14:49:41.989061Z"
    }
   },
   "outputs": [],
   "source": [
    "dfc['Region_Code'] = dfc['Region_Code'].astype('O')"
   ]
  },
  {
   "cell_type": "code",
   "execution_count": 12,
   "metadata": {
    "ExecuteTime": {
     "end_time": "2021-03-19T14:49:50.839810Z",
     "start_time": "2021-03-19T14:49:50.815696Z"
    }
   },
   "outputs": [
    {
     "data": {
      "text/html": [
       "<div>\n",
       "<style scoped>\n",
       "    .dataframe tbody tr th:only-of-type {\n",
       "        vertical-align: middle;\n",
       "    }\n",
       "\n",
       "    .dataframe tbody tr th {\n",
       "        vertical-align: top;\n",
       "    }\n",
       "\n",
       "    .dataframe thead th {\n",
       "        text-align: right;\n",
       "    }\n",
       "</style>\n",
       "<table border=\"1\" class=\"dataframe\">\n",
       "  <thead>\n",
       "    <tr style=\"text-align: right;\">\n",
       "      <th></th>\n",
       "      <th>City_Code_C10</th>\n",
       "      <th>City_Code_C11</th>\n",
       "      <th>City_Code_C12</th>\n",
       "      <th>City_Code_C13</th>\n",
       "      <th>City_Code_C14</th>\n",
       "      <th>City_Code_C15</th>\n",
       "      <th>City_Code_C16</th>\n",
       "      <th>City_Code_C17</th>\n",
       "      <th>City_Code_C18</th>\n",
       "      <th>City_Code_C19</th>\n",
       "      <th>City_Code_C2</th>\n",
       "      <th>City_Code_C20</th>\n",
       "      <th>City_Code_C21</th>\n",
       "      <th>City_Code_C22</th>\n",
       "      <th>City_Code_C23</th>\n",
       "      <th>City_Code_C24</th>\n",
       "      <th>City_Code_C25</th>\n",
       "      <th>City_Code_C26</th>\n",
       "      <th>City_Code_C27</th>\n",
       "      <th>City_Code_C28</th>\n",
       "      <th>City_Code_C29</th>\n",
       "      <th>City_Code_C3</th>\n",
       "      <th>City_Code_C30</th>\n",
       "      <th>City_Code_C31</th>\n",
       "      <th>City_Code_C32</th>\n",
       "      <th>...</th>\n",
       "      <th>Region_Code_6161</th>\n",
       "      <th>Region_Code_6162</th>\n",
       "      <th>Region_Code_6163</th>\n",
       "      <th>Region_Code_6164</th>\n",
       "      <th>Region_Code_6165</th>\n",
       "      <th>Region_Code_6166</th>\n",
       "      <th>Region_Code_6168</th>\n",
       "      <th>Region_Code_6169</th>\n",
       "      <th>Region_Code_6172</th>\n",
       "      <th>Region_Code_6173</th>\n",
       "      <th>Region_Code_6174</th>\n",
       "      <th>Region_Code_6175</th>\n",
       "      <th>Region_Code_6176</th>\n",
       "      <th>Region_Code_6177</th>\n",
       "      <th>Region_Code_6178</th>\n",
       "      <th>Region_Code_6179</th>\n",
       "      <th>Region_Code_6181</th>\n",
       "      <th>Region_Code_6182</th>\n",
       "      <th>Region_Code_6183</th>\n",
       "      <th>Region_Code_6187</th>\n",
       "      <th>Region_Code_6188</th>\n",
       "      <th>Region_Code_6189</th>\n",
       "      <th>Region_Code_6191</th>\n",
       "      <th>Region_Code_6193</th>\n",
       "      <th>Region_Code_6194</th>\n",
       "    </tr>\n",
       "  </thead>\n",
       "  <tbody>\n",
       "    <tr>\n",
       "      <th>0</th>\n",
       "      <td>0</td>\n",
       "      <td>0</td>\n",
       "      <td>0</td>\n",
       "      <td>0</td>\n",
       "      <td>0</td>\n",
       "      <td>0</td>\n",
       "      <td>0</td>\n",
       "      <td>0</td>\n",
       "      <td>0</td>\n",
       "      <td>0</td>\n",
       "      <td>0</td>\n",
       "      <td>0</td>\n",
       "      <td>0</td>\n",
       "      <td>0</td>\n",
       "      <td>0</td>\n",
       "      <td>0</td>\n",
       "      <td>0</td>\n",
       "      <td>0</td>\n",
       "      <td>0</td>\n",
       "      <td>0</td>\n",
       "      <td>0</td>\n",
       "      <td>1</td>\n",
       "      <td>0</td>\n",
       "      <td>0</td>\n",
       "      <td>0</td>\n",
       "      <td>...</td>\n",
       "      <td>0</td>\n",
       "      <td>0</td>\n",
       "      <td>0</td>\n",
       "      <td>0</td>\n",
       "      <td>0</td>\n",
       "      <td>0</td>\n",
       "      <td>0</td>\n",
       "      <td>0</td>\n",
       "      <td>0</td>\n",
       "      <td>0</td>\n",
       "      <td>0</td>\n",
       "      <td>0</td>\n",
       "      <td>0</td>\n",
       "      <td>0</td>\n",
       "      <td>0</td>\n",
       "      <td>0</td>\n",
       "      <td>0</td>\n",
       "      <td>0</td>\n",
       "      <td>0</td>\n",
       "      <td>0</td>\n",
       "      <td>0</td>\n",
       "      <td>0</td>\n",
       "      <td>0</td>\n",
       "      <td>0</td>\n",
       "      <td>0</td>\n",
       "    </tr>\n",
       "    <tr>\n",
       "      <th>1</th>\n",
       "      <td>0</td>\n",
       "      <td>0</td>\n",
       "      <td>0</td>\n",
       "      <td>0</td>\n",
       "      <td>0</td>\n",
       "      <td>0</td>\n",
       "      <td>0</td>\n",
       "      <td>0</td>\n",
       "      <td>0</td>\n",
       "      <td>0</td>\n",
       "      <td>0</td>\n",
       "      <td>0</td>\n",
       "      <td>0</td>\n",
       "      <td>0</td>\n",
       "      <td>0</td>\n",
       "      <td>0</td>\n",
       "      <td>0</td>\n",
       "      <td>0</td>\n",
       "      <td>0</td>\n",
       "      <td>0</td>\n",
       "      <td>0</td>\n",
       "      <td>0</td>\n",
       "      <td>0</td>\n",
       "      <td>0</td>\n",
       "      <td>0</td>\n",
       "      <td>...</td>\n",
       "      <td>0</td>\n",
       "      <td>0</td>\n",
       "      <td>0</td>\n",
       "      <td>0</td>\n",
       "      <td>0</td>\n",
       "      <td>0</td>\n",
       "      <td>0</td>\n",
       "      <td>0</td>\n",
       "      <td>0</td>\n",
       "      <td>0</td>\n",
       "      <td>0</td>\n",
       "      <td>0</td>\n",
       "      <td>0</td>\n",
       "      <td>0</td>\n",
       "      <td>0</td>\n",
       "      <td>0</td>\n",
       "      <td>0</td>\n",
       "      <td>0</td>\n",
       "      <td>0</td>\n",
       "      <td>0</td>\n",
       "      <td>0</td>\n",
       "      <td>0</td>\n",
       "      <td>0</td>\n",
       "      <td>0</td>\n",
       "      <td>0</td>\n",
       "    </tr>\n",
       "    <tr>\n",
       "      <th>2</th>\n",
       "      <td>0</td>\n",
       "      <td>0</td>\n",
       "      <td>0</td>\n",
       "      <td>0</td>\n",
       "      <td>0</td>\n",
       "      <td>0</td>\n",
       "      <td>0</td>\n",
       "      <td>0</td>\n",
       "      <td>0</td>\n",
       "      <td>0</td>\n",
       "      <td>0</td>\n",
       "      <td>0</td>\n",
       "      <td>0</td>\n",
       "      <td>0</td>\n",
       "      <td>0</td>\n",
       "      <td>0</td>\n",
       "      <td>0</td>\n",
       "      <td>0</td>\n",
       "      <td>0</td>\n",
       "      <td>0</td>\n",
       "      <td>0</td>\n",
       "      <td>0</td>\n",
       "      <td>0</td>\n",
       "      <td>0</td>\n",
       "      <td>0</td>\n",
       "      <td>...</td>\n",
       "      <td>0</td>\n",
       "      <td>0</td>\n",
       "      <td>0</td>\n",
       "      <td>0</td>\n",
       "      <td>0</td>\n",
       "      <td>0</td>\n",
       "      <td>0</td>\n",
       "      <td>0</td>\n",
       "      <td>0</td>\n",
       "      <td>0</td>\n",
       "      <td>0</td>\n",
       "      <td>0</td>\n",
       "      <td>0</td>\n",
       "      <td>0</td>\n",
       "      <td>0</td>\n",
       "      <td>0</td>\n",
       "      <td>0</td>\n",
       "      <td>0</td>\n",
       "      <td>0</td>\n",
       "      <td>0</td>\n",
       "      <td>0</td>\n",
       "      <td>0</td>\n",
       "      <td>0</td>\n",
       "      <td>0</td>\n",
       "      <td>0</td>\n",
       "    </tr>\n",
       "    <tr>\n",
       "      <th>3</th>\n",
       "      <td>0</td>\n",
       "      <td>0</td>\n",
       "      <td>0</td>\n",
       "      <td>0</td>\n",
       "      <td>0</td>\n",
       "      <td>0</td>\n",
       "      <td>0</td>\n",
       "      <td>0</td>\n",
       "      <td>0</td>\n",
       "      <td>0</td>\n",
       "      <td>0</td>\n",
       "      <td>0</td>\n",
       "      <td>0</td>\n",
       "      <td>0</td>\n",
       "      <td>0</td>\n",
       "      <td>1</td>\n",
       "      <td>0</td>\n",
       "      <td>0</td>\n",
       "      <td>0</td>\n",
       "      <td>0</td>\n",
       "      <td>0</td>\n",
       "      <td>0</td>\n",
       "      <td>0</td>\n",
       "      <td>0</td>\n",
       "      <td>0</td>\n",
       "      <td>...</td>\n",
       "      <td>0</td>\n",
       "      <td>0</td>\n",
       "      <td>0</td>\n",
       "      <td>0</td>\n",
       "      <td>0</td>\n",
       "      <td>0</td>\n",
       "      <td>0</td>\n",
       "      <td>0</td>\n",
       "      <td>0</td>\n",
       "      <td>0</td>\n",
       "      <td>0</td>\n",
       "      <td>0</td>\n",
       "      <td>0</td>\n",
       "      <td>0</td>\n",
       "      <td>0</td>\n",
       "      <td>0</td>\n",
       "      <td>0</td>\n",
       "      <td>0</td>\n",
       "      <td>0</td>\n",
       "      <td>0</td>\n",
       "      <td>0</td>\n",
       "      <td>0</td>\n",
       "      <td>0</td>\n",
       "      <td>0</td>\n",
       "      <td>0</td>\n",
       "    </tr>\n",
       "    <tr>\n",
       "      <th>4</th>\n",
       "      <td>0</td>\n",
       "      <td>0</td>\n",
       "      <td>0</td>\n",
       "      <td>0</td>\n",
       "      <td>0</td>\n",
       "      <td>0</td>\n",
       "      <td>0</td>\n",
       "      <td>0</td>\n",
       "      <td>0</td>\n",
       "      <td>0</td>\n",
       "      <td>0</td>\n",
       "      <td>0</td>\n",
       "      <td>0</td>\n",
       "      <td>0</td>\n",
       "      <td>0</td>\n",
       "      <td>0</td>\n",
       "      <td>0</td>\n",
       "      <td>0</td>\n",
       "      <td>0</td>\n",
       "      <td>0</td>\n",
       "      <td>0</td>\n",
       "      <td>0</td>\n",
       "      <td>0</td>\n",
       "      <td>0</td>\n",
       "      <td>0</td>\n",
       "      <td>...</td>\n",
       "      <td>0</td>\n",
       "      <td>0</td>\n",
       "      <td>0</td>\n",
       "      <td>0</td>\n",
       "      <td>0</td>\n",
       "      <td>0</td>\n",
       "      <td>0</td>\n",
       "      <td>0</td>\n",
       "      <td>0</td>\n",
       "      <td>0</td>\n",
       "      <td>0</td>\n",
       "      <td>0</td>\n",
       "      <td>0</td>\n",
       "      <td>0</td>\n",
       "      <td>0</td>\n",
       "      <td>0</td>\n",
       "      <td>0</td>\n",
       "      <td>0</td>\n",
       "      <td>0</td>\n",
       "      <td>0</td>\n",
       "      <td>0</td>\n",
       "      <td>0</td>\n",
       "      <td>0</td>\n",
       "      <td>0</td>\n",
       "      <td>0</td>\n",
       "    </tr>\n",
       "  </tbody>\n",
       "</table>\n",
       "<p>5 rows × 5322 columns</p>\n",
       "</div>"
      ],
      "text/plain": [
       "   City_Code_C10  City_Code_C11  City_Code_C12  City_Code_C13  City_Code_C14  \\\n",
       "0              0              0              0              0              0   \n",
       "1              0              0              0              0              0   \n",
       "2              0              0              0              0              0   \n",
       "3              0              0              0              0              0   \n",
       "4              0              0              0              0              0   \n",
       "\n",
       "   City_Code_C15  City_Code_C16  City_Code_C17  City_Code_C18  City_Code_C19  \\\n",
       "0              0              0              0              0              0   \n",
       "1              0              0              0              0              0   \n",
       "2              0              0              0              0              0   \n",
       "3              0              0              0              0              0   \n",
       "4              0              0              0              0              0   \n",
       "\n",
       "   City_Code_C2  City_Code_C20  City_Code_C21  City_Code_C22  City_Code_C23  \\\n",
       "0             0              0              0              0              0   \n",
       "1             0              0              0              0              0   \n",
       "2             0              0              0              0              0   \n",
       "3             0              0              0              0              0   \n",
       "4             0              0              0              0              0   \n",
       "\n",
       "   City_Code_C24  City_Code_C25  City_Code_C26  City_Code_C27  City_Code_C28  \\\n",
       "0              0              0              0              0              0   \n",
       "1              0              0              0              0              0   \n",
       "2              0              0              0              0              0   \n",
       "3              1              0              0              0              0   \n",
       "4              0              0              0              0              0   \n",
       "\n",
       "   City_Code_C29  City_Code_C3  City_Code_C30  City_Code_C31  City_Code_C32  \\\n",
       "0              0             1              0              0              0   \n",
       "1              0             0              0              0              0   \n",
       "2              0             0              0              0              0   \n",
       "3              0             0              0              0              0   \n",
       "4              0             0              0              0              0   \n",
       "\n",
       "   ...  Region_Code_6161  Region_Code_6162  Region_Code_6163  \\\n",
       "0  ...                 0                 0                 0   \n",
       "1  ...                 0                 0                 0   \n",
       "2  ...                 0                 0                 0   \n",
       "3  ...                 0                 0                 0   \n",
       "4  ...                 0                 0                 0   \n",
       "\n",
       "   Region_Code_6164  Region_Code_6165  Region_Code_6166  Region_Code_6168  \\\n",
       "0                 0                 0                 0                 0   \n",
       "1                 0                 0                 0                 0   \n",
       "2                 0                 0                 0                 0   \n",
       "3                 0                 0                 0                 0   \n",
       "4                 0                 0                 0                 0   \n",
       "\n",
       "   Region_Code_6169  Region_Code_6172  Region_Code_6173  Region_Code_6174  \\\n",
       "0                 0                 0                 0                 0   \n",
       "1                 0                 0                 0                 0   \n",
       "2                 0                 0                 0                 0   \n",
       "3                 0                 0                 0                 0   \n",
       "4                 0                 0                 0                 0   \n",
       "\n",
       "   Region_Code_6175  Region_Code_6176  Region_Code_6177  Region_Code_6178  \\\n",
       "0                 0                 0                 0                 0   \n",
       "1                 0                 0                 0                 0   \n",
       "2                 0                 0                 0                 0   \n",
       "3                 0                 0                 0                 0   \n",
       "4                 0                 0                 0                 0   \n",
       "\n",
       "   Region_Code_6179  Region_Code_6181  Region_Code_6182  Region_Code_6183  \\\n",
       "0                 0                 0                 0                 0   \n",
       "1                 0                 0                 0                 0   \n",
       "2                 0                 0                 0                 0   \n",
       "3                 0                 0                 0                 0   \n",
       "4                 0                 0                 0                 0   \n",
       "\n",
       "   Region_Code_6187  Region_Code_6188  Region_Code_6189  Region_Code_6191  \\\n",
       "0                 0                 0                 0                 0   \n",
       "1                 0                 0                 0                 0   \n",
       "2                 0                 0                 0                 0   \n",
       "3                 0                 0                 0                 0   \n",
       "4                 0                 0                 0                 0   \n",
       "\n",
       "   Region_Code_6193  Region_Code_6194  \n",
       "0                 0                 0  \n",
       "1                 0                 0  \n",
       "2                 0                 0  \n",
       "3                 0                 0  \n",
       "4                 0                 0  \n",
       "\n",
       "[5 rows x 5322 columns]"
      ]
     },
     "execution_count": 12,
     "metadata": {},
     "output_type": "execute_result"
    }
   ],
   "source": [
    "dfc.head()"
   ]
  },
  {
   "cell_type": "code",
   "execution_count": 11,
   "metadata": {
    "ExecuteTime": {
     "end_time": "2021-03-19T14:49:47.588860Z",
     "start_time": "2021-03-19T14:49:47.585641Z"
    }
   },
   "outputs": [
    {
     "data": {
      "text/plain": [
       "(48533, 5322)"
      ]
     },
     "execution_count": 11,
     "metadata": {},
     "output_type": "execute_result"
    }
   ],
   "source": [
    "dfc.shape"
   ]
  },
  {
   "cell_type": "code",
   "execution_count": 10,
   "metadata": {
    "ExecuteTime": {
     "end_time": "2021-03-19T14:49:43.434676Z",
     "start_time": "2021-03-19T14:49:42.005632Z"
    }
   },
   "outputs": [],
   "source": [
    "# One Hot Encode\n",
    "dfc = pd.get_dummies(dfc,drop_first=True)"
   ]
  },
  {
   "cell_type": "markdown",
   "metadata": {},
   "source": [
    "# PCA START"
   ]
  },
  {
   "cell_type": "code",
   "execution_count": 13,
   "metadata": {
    "ExecuteTime": {
     "end_time": "2021-03-19T14:51:35.051657Z",
     "start_time": "2021-03-19T14:51:34.607108Z"
    }
   },
   "outputs": [],
   "source": [
    "from sklearn.decomposition import PCA"
   ]
  },
  {
   "cell_type": "code",
   "execution_count": 14,
   "metadata": {
    "ExecuteTime": {
     "end_time": "2021-03-19T14:55:57.694963Z",
     "start_time": "2021-03-19T14:53:30.650921Z"
    }
   },
   "outputs": [],
   "source": [
    "pca = PCA()\n",
    "x_pca = pca.fit_transform(dfc)"
   ]
  },
  {
   "cell_type": "code",
   "execution_count": 17,
   "metadata": {
    "ExecuteTime": {
     "end_time": "2021-03-19T14:58:31.924663Z",
     "start_time": "2021-03-19T14:58:31.810077Z"
    }
   },
   "outputs": [
    {
     "data": {
      "image/png": "[encoded data removed]",
      "text/plain": [
       "<Figure size 432x288 with 1 Axes>"
      ]
     },
     "metadata": {
      "needs_background": "light"
     },
     "output_type": "display_data"
    }
   ],
   "source": [
    "plt.plot(range(1,5323), pca.explained_variance_ratio_.cumsum());"
   ]
  },
  {
   "cell_type": "code",
   "execution_count": 27,
   "metadata": {
    "ExecuteTime": {
     "end_time": "2021-03-19T15:09:55.407703Z",
     "start_time": "2021-03-19T15:09:55.404074Z"
    }
   },
   "outputs": [
    {
     "name": "stdout",
     "output_type": "stream",
     "text": [
      "Number features: 1353\tTotal Variance Explained: 75%\n"
     ]
    }
   ],
   "source": [
    "total_explained_variance = pca.explained_variance_ratio_.cumsum()\n",
    "n_over_75 = len(total_explained_variance[total_explained_variance >= .75])\n",
    "n_to_reach_75 = dfc.shape[1] - n_over_75 + 1\n",
    "print(f'Number features: {n_to_reach_75}\\tTotal Variance Explained: 75%')"
   ]
  },
  {
   "cell_type": "code",
   "execution_count": 30,
   "metadata": {
    "ExecuteTime": {
     "end_time": "2021-03-19T15:15:09.575195Z",
     "start_time": "2021-03-19T15:15:09.571754Z"
    }
   },
   "outputs": [
    {
     "data": {
      "text/plain": [
       "0.7441109142454205"
      ]
     },
     "execution_count": 30,
     "metadata": {},
     "output_type": "execute_result"
    }
   ],
   "source": [
    "pca = PCA(n_components=n_to_reach_75)\n",
    "x_pca = pca.fit_transform(dfc)\n",
    "pca.explained_variance_ratio_.cumsum()[-1]"
   ]
  },
  {
   "cell_type": "code",
   "execution_count": 33,
   "metadata": {
    "ExecuteTime": {
     "end_time": "2021-03-19T15:20:21.850103Z",
     "start_time": "2021-03-19T15:20:21.847334Z"
    }
   },
   "outputs": [],
   "source": [
    "pca_df = pd.DataFrame(data = x_pca)"
   ]
  },
  {
   "cell_type": "code",
   "execution_count": 34,
   "metadata": {
    "ExecuteTime": {
     "end_time": "2021-03-19T15:20:31.102202Z",
     "start_time": "2021-03-19T15:20:31.061247Z"
    }
   },
   "outputs": [
    {
     "data": {
      "text/html": [
       "<div>\n",
       "<style scoped>\n",
       "    .dataframe tbody tr th:only-of-type {\n",
       "        vertical-align: middle;\n",
       "    }\n",
       "\n",
       "    .dataframe tbody tr th {\n",
       "        vertical-align: top;\n",
       "    }\n",
       "\n",
       "    .dataframe thead th {\n",
       "        text-align: right;\n",
       "    }\n",
       "</style>\n",
       "<table border=\"1\" class=\"dataframe\">\n",
       "  <thead>\n",
       "    <tr style=\"text-align: right;\">\n",
       "      <th></th>\n",
       "      <th>0</th>\n",
       "      <th>1</th>\n",
       "      <th>2</th>\n",
       "      <th>3</th>\n",
       "      <th>4</th>\n",
       "      <th>5</th>\n",
       "      <th>6</th>\n",
       "      <th>7</th>\n",
       "      <th>8</th>\n",
       "      <th>9</th>\n",
       "      <th>10</th>\n",
       "      <th>11</th>\n",
       "      <th>12</th>\n",
       "      <th>13</th>\n",
       "      <th>14</th>\n",
       "      <th>15</th>\n",
       "      <th>16</th>\n",
       "      <th>17</th>\n",
       "      <th>18</th>\n",
       "      <th>19</th>\n",
       "      <th>20</th>\n",
       "      <th>21</th>\n",
       "      <th>22</th>\n",
       "      <th>23</th>\n",
       "      <th>24</th>\n",
       "      <th>...</th>\n",
       "      <th>1328</th>\n",
       "      <th>1329</th>\n",
       "      <th>1330</th>\n",
       "      <th>1331</th>\n",
       "      <th>1332</th>\n",
       "      <th>1333</th>\n",
       "      <th>1334</th>\n",
       "      <th>1335</th>\n",
       "      <th>1336</th>\n",
       "      <th>1337</th>\n",
       "      <th>1338</th>\n",
       "      <th>1339</th>\n",
       "      <th>1340</th>\n",
       "      <th>1341</th>\n",
       "      <th>1342</th>\n",
       "      <th>1343</th>\n",
       "      <th>1344</th>\n",
       "      <th>1345</th>\n",
       "      <th>1346</th>\n",
       "      <th>1347</th>\n",
       "      <th>1348</th>\n",
       "      <th>1349</th>\n",
       "      <th>1350</th>\n",
       "      <th>1351</th>\n",
       "      <th>1352</th>\n",
       "    </tr>\n",
       "  </thead>\n",
       "  <tbody>\n",
       "    <tr>\n",
       "      <th>0</th>\n",
       "      <td>-0.348705</td>\n",
       "      <td>0.836273</td>\n",
       "      <td>0.184627</td>\n",
       "      <td>0.018511</td>\n",
       "      <td>0.010684</td>\n",
       "      <td>0.007449</td>\n",
       "      <td>-0.016761</td>\n",
       "      <td>0.020242</td>\n",
       "      <td>0.011399</td>\n",
       "      <td>0.000036</td>\n",
       "      <td>-0.001826</td>\n",
       "      <td>-0.000241</td>\n",
       "      <td>-0.006408</td>\n",
       "      <td>-0.006327</td>\n",
       "      <td>0.003509</td>\n",
       "      <td>-0.001145</td>\n",
       "      <td>-0.005232</td>\n",
       "      <td>-0.003442</td>\n",
       "      <td>-0.004792</td>\n",
       "      <td>-0.004460</td>\n",
       "      <td>-0.003483</td>\n",
       "      <td>-0.001171</td>\n",
       "      <td>-0.001532</td>\n",
       "      <td>-0.004486</td>\n",
       "      <td>-0.002371</td>\n",
       "      <td>...</td>\n",
       "      <td>-0.008294</td>\n",
       "      <td>-0.015714</td>\n",
       "      <td>0.000951</td>\n",
       "      <td>0.000013</td>\n",
       "      <td>-0.003799</td>\n",
       "      <td>-0.006682</td>\n",
       "      <td>0.001317</td>\n",
       "      <td>-0.002637</td>\n",
       "      <td>0.007541</td>\n",
       "      <td>-0.002335</td>\n",
       "      <td>-0.020966</td>\n",
       "      <td>-0.009280</td>\n",
       "      <td>0.001265</td>\n",
       "      <td>-0.002218</td>\n",
       "      <td>0.002154</td>\n",
       "      <td>0.014827</td>\n",
       "      <td>-0.012849</td>\n",
       "      <td>0.010767</td>\n",
       "      <td>0.007261</td>\n",
       "      <td>0.006536</td>\n",
       "      <td>-0.001654</td>\n",
       "      <td>-0.005263</td>\n",
       "      <td>-0.018747</td>\n",
       "      <td>-0.017448</td>\n",
       "      <td>-0.025113</td>\n",
       "    </tr>\n",
       "    <tr>\n",
       "      <th>1</th>\n",
       "      <td>-0.125903</td>\n",
       "      <td>-0.106048</td>\n",
       "      <td>-0.142035</td>\n",
       "      <td>-0.066420</td>\n",
       "      <td>-0.056170</td>\n",
       "      <td>-0.049501</td>\n",
       "      <td>0.160548</td>\n",
       "      <td>-0.455337</td>\n",
       "      <td>0.836361</td>\n",
       "      <td>0.000629</td>\n",
       "      <td>-0.030034</td>\n",
       "      <td>-0.003739</td>\n",
       "      <td>-0.077498</td>\n",
       "      <td>-0.063071</td>\n",
       "      <td>0.030811</td>\n",
       "      <td>-0.009482</td>\n",
       "      <td>-0.038590</td>\n",
       "      <td>-0.023410</td>\n",
       "      <td>-0.029807</td>\n",
       "      <td>-0.025738</td>\n",
       "      <td>-0.019052</td>\n",
       "      <td>-0.006210</td>\n",
       "      <td>-0.007956</td>\n",
       "      <td>-0.021579</td>\n",
       "      <td>-0.011024</td>\n",
       "      <td>...</td>\n",
       "      <td>-0.009474</td>\n",
       "      <td>-0.003180</td>\n",
       "      <td>0.004510</td>\n",
       "      <td>-0.000244</td>\n",
       "      <td>-0.000120</td>\n",
       "      <td>-0.009784</td>\n",
       "      <td>0.002627</td>\n",
       "      <td>0.005595</td>\n",
       "      <td>-0.004049</td>\n",
       "      <td>0.001759</td>\n",
       "      <td>-0.005531</td>\n",
       "      <td>-0.002430</td>\n",
       "      <td>-0.002446</td>\n",
       "      <td>-0.011830</td>\n",
       "      <td>0.000121</td>\n",
       "      <td>0.001828</td>\n",
       "      <td>-0.003305</td>\n",
       "      <td>-0.012049</td>\n",
       "      <td>0.007492</td>\n",
       "      <td>-0.003279</td>\n",
       "      <td>0.006602</td>\n",
       "      <td>-0.016199</td>\n",
       "      <td>0.006127</td>\n",
       "      <td>0.002611</td>\n",
       "      <td>0.003325</td>\n",
       "    </tr>\n",
       "    <tr>\n",
       "      <th>2</th>\n",
       "      <td>-0.125751</td>\n",
       "      <td>-0.105852</td>\n",
       "      <td>-0.141683</td>\n",
       "      <td>-0.066163</td>\n",
       "      <td>-0.055929</td>\n",
       "      <td>-0.049277</td>\n",
       "      <td>0.159766</td>\n",
       "      <td>-0.452854</td>\n",
       "      <td>0.831114</td>\n",
       "      <td>0.000625</td>\n",
       "      <td>-0.029816</td>\n",
       "      <td>-0.003712</td>\n",
       "      <td>-0.076887</td>\n",
       "      <td>-0.062535</td>\n",
       "      <td>0.030531</td>\n",
       "      <td>-0.009393</td>\n",
       "      <td>-0.038197</td>\n",
       "      <td>-0.023154</td>\n",
       "      <td>-0.029448</td>\n",
       "      <td>-0.025395</td>\n",
       "      <td>-0.018775</td>\n",
       "      <td>-0.006115</td>\n",
       "      <td>-0.007828</td>\n",
       "      <td>-0.021156</td>\n",
       "      <td>-0.010782</td>\n",
       "      <td>...</td>\n",
       "      <td>0.004494</td>\n",
       "      <td>0.005310</td>\n",
       "      <td>0.006514</td>\n",
       "      <td>0.006384</td>\n",
       "      <td>-0.002208</td>\n",
       "      <td>-0.004644</td>\n",
       "      <td>-0.009146</td>\n",
       "      <td>0.001597</td>\n",
       "      <td>0.002068</td>\n",
       "      <td>0.006964</td>\n",
       "      <td>0.005606</td>\n",
       "      <td>-0.006042</td>\n",
       "      <td>0.008459</td>\n",
       "      <td>0.003363</td>\n",
       "      <td>-0.000822</td>\n",
       "      <td>-0.008429</td>\n",
       "      <td>-0.001483</td>\n",
       "      <td>-0.004939</td>\n",
       "      <td>-0.012297</td>\n",
       "      <td>0.013151</td>\n",
       "      <td>-0.011120</td>\n",
       "      <td>-0.006189</td>\n",
       "      <td>-0.002404</td>\n",
       "      <td>-0.008125</td>\n",
       "      <td>-0.008032</td>\n",
       "    </tr>\n",
       "    <tr>\n",
       "      <th>3</th>\n",
       "      <td>-0.109348</td>\n",
       "      <td>-0.083724</td>\n",
       "      <td>-0.100155</td>\n",
       "      <td>-0.031915</td>\n",
       "      <td>-0.022710</td>\n",
       "      <td>-0.017684</td>\n",
       "      <td>0.046033</td>\n",
       "      <td>-0.069855</td>\n",
       "      <td>-0.052374</td>\n",
       "      <td>-0.000222</td>\n",
       "      <td>0.011490</td>\n",
       "      <td>0.001558</td>\n",
       "      <td>0.048666</td>\n",
       "      <td>0.057696</td>\n",
       "      <td>-0.037872</td>\n",
       "      <td>0.013616</td>\n",
       "      <td>0.079953</td>\n",
       "      <td>0.067491</td>\n",
       "      <td>0.142471</td>\n",
       "      <td>0.251616</td>\n",
       "      <td>0.632227</td>\n",
       "      <td>-0.630638</td>\n",
       "      <td>-0.213767</td>\n",
       "      <td>-0.164379</td>\n",
       "      <td>-0.064076</td>\n",
       "      <td>...</td>\n",
       "      <td>-0.003627</td>\n",
       "      <td>0.004976</td>\n",
       "      <td>0.003782</td>\n",
       "      <td>0.000594</td>\n",
       "      <td>0.003986</td>\n",
       "      <td>-0.002487</td>\n",
       "      <td>-0.002505</td>\n",
       "      <td>0.004303</td>\n",
       "      <td>-0.001169</td>\n",
       "      <td>-0.003330</td>\n",
       "      <td>-0.002954</td>\n",
       "      <td>-0.001559</td>\n",
       "      <td>0.001778</td>\n",
       "      <td>0.002409</td>\n",
       "      <td>-0.000187</td>\n",
       "      <td>-0.001448</td>\n",
       "      <td>-0.002245</td>\n",
       "      <td>0.000920</td>\n",
       "      <td>-0.001068</td>\n",
       "      <td>0.000791</td>\n",
       "      <td>-0.000037</td>\n",
       "      <td>0.003383</td>\n",
       "      <td>0.002149</td>\n",
       "      <td>-0.002733</td>\n",
       "      <td>0.001796</td>\n",
       "    </tr>\n",
       "    <tr>\n",
       "      <th>4</th>\n",
       "      <td>-0.136432</td>\n",
       "      <td>-0.122763</td>\n",
       "      <td>-0.180676</td>\n",
       "      <td>-0.149275</td>\n",
       "      <td>-0.231337</td>\n",
       "      <td>-0.662363</td>\n",
       "      <td>-0.572415</td>\n",
       "      <td>0.246823</td>\n",
       "      <td>0.085633</td>\n",
       "      <td>0.000211</td>\n",
       "      <td>-0.010458</td>\n",
       "      <td>-0.001354</td>\n",
       "      <td>-0.033048</td>\n",
       "      <td>-0.030210</td>\n",
       "      <td>0.015850</td>\n",
       "      <td>-0.005034</td>\n",
       "      <td>-0.021754</td>\n",
       "      <td>-0.013735</td>\n",
       "      <td>-0.018239</td>\n",
       "      <td>-0.016289</td>\n",
       "      <td>-0.012341</td>\n",
       "      <td>-0.004075</td>\n",
       "      <td>-0.005268</td>\n",
       "      <td>-0.014734</td>\n",
       "      <td>-0.007627</td>\n",
       "      <td>...</td>\n",
       "      <td>-0.012925</td>\n",
       "      <td>-0.002500</td>\n",
       "      <td>0.008382</td>\n",
       "      <td>-0.000093</td>\n",
       "      <td>0.000989</td>\n",
       "      <td>-0.010891</td>\n",
       "      <td>0.017548</td>\n",
       "      <td>-0.008634</td>\n",
       "      <td>0.000257</td>\n",
       "      <td>-0.012624</td>\n",
       "      <td>-0.020211</td>\n",
       "      <td>-0.013707</td>\n",
       "      <td>-0.006222</td>\n",
       "      <td>0.002050</td>\n",
       "      <td>-0.010594</td>\n",
       "      <td>0.016446</td>\n",
       "      <td>0.005483</td>\n",
       "      <td>0.001365</td>\n",
       "      <td>0.005669</td>\n",
       "      <td>0.009657</td>\n",
       "      <td>-0.002122</td>\n",
       "      <td>0.013663</td>\n",
       "      <td>0.007337</td>\n",
       "      <td>0.019656</td>\n",
       "      <td>-0.008682</td>\n",
       "    </tr>\n",
       "  </tbody>\n",
       "</table>\n",
       "<p>5 rows × 1353 columns</p>\n",
       "</div>"
      ],
      "text/plain": [
       "       0         1         2         3         4         5         6     \\\n",
       "0 -0.348705  0.836273  0.184627  0.018511  0.010684  0.007449 -0.016761   \n",
       "1 -0.125903 -0.106048 -0.142035 -0.066420 -0.056170 -0.049501  0.160548   \n",
       "2 -0.125751 -0.105852 -0.141683 -0.066163 -0.055929 -0.049277  0.159766   \n",
       "3 -0.109348 -0.083724 -0.100155 -0.031915 -0.022710 -0.017684  0.046033   \n",
       "4 -0.136432 -0.122763 -0.180676 -0.149275 -0.231337 -0.662363 -0.572415   \n",
       "\n",
       "       7         8         9         10        11        12        13    \\\n",
       "0  0.020242  0.011399  0.000036 -0.001826 -0.000241 -0.006408 -0.006327   \n",
       "1 -0.455337  0.836361  0.000629 -0.030034 -0.003739 -0.077498 -0.063071   \n",
       "2 -0.452854  0.831114  0.000625 -0.029816 -0.003712 -0.076887 -0.062535   \n",
       "3 -0.069855 -0.052374 -0.000222  0.011490  0.001558  0.048666  0.057696   \n",
       "4  0.246823  0.085633  0.000211 -0.010458 -0.001354 -0.033048 -0.030210   \n",
       "\n",
       "       14        15        16        17        18        19        20    \\\n",
       "0  0.003509 -0.001145 -0.005232 -0.003442 -0.004792 -0.004460 -0.003483   \n",
       "1  0.030811 -0.009482 -0.038590 -0.023410 -0.029807 -0.025738 -0.019052   \n",
       "2  0.030531 -0.009393 -0.038197 -0.023154 -0.029448 -0.025395 -0.018775   \n",
       "3 -0.037872  0.013616  0.079953  0.067491  0.142471  0.251616  0.632227   \n",
       "4  0.015850 -0.005034 -0.021754 -0.013735 -0.018239 -0.016289 -0.012341   \n",
       "\n",
       "       21        22        23        24    ...      1328      1329      1330  \\\n",
       "0 -0.001171 -0.001532 -0.004486 -0.002371  ... -0.008294 -0.015714  0.000951   \n",
       "1 -0.006210 -0.007956 -0.021579 -0.011024  ... -0.009474 -0.003180  0.004510   \n",
       "2 -0.006115 -0.007828 -0.021156 -0.010782  ...  0.004494  0.005310  0.006514   \n",
       "3 -0.630638 -0.213767 -0.164379 -0.064076  ... -0.003627  0.004976  0.003782   \n",
       "4 -0.004075 -0.005268 -0.014734 -0.007627  ... -0.012925 -0.002500  0.008382   \n",
       "\n",
       "       1331      1332      1333      1334      1335      1336      1337  \\\n",
       "0  0.000013 -0.003799 -0.006682  0.001317 -0.002637  0.007541 -0.002335   \n",
       "1 -0.000244 -0.000120 -0.009784  0.002627  0.005595 -0.004049  0.001759   \n",
       "2  0.006384 -0.002208 -0.004644 -0.009146  0.001597  0.002068  0.006964   \n",
       "3  0.000594  0.003986 -0.002487 -0.002505  0.004303 -0.001169 -0.003330   \n",
       "4 -0.000093  0.000989 -0.010891  0.017548 -0.008634  0.000257 -0.012624   \n",
       "\n",
       "       1338      1339      1340      1341      1342      1343      1344  \\\n",
       "0 -0.020966 -0.009280  0.001265 -0.002218  0.002154  0.014827 -0.012849   \n",
       "1 -0.005531 -0.002430 -0.002446 -0.011830  0.000121  0.001828 -0.003305   \n",
       "2  0.005606 -0.006042  0.008459  0.003363 -0.000822 -0.008429 -0.001483   \n",
       "3 -0.002954 -0.001559  0.001778  0.002409 -0.000187 -0.001448 -0.002245   \n",
       "4 -0.020211 -0.013707 -0.006222  0.002050 -0.010594  0.016446  0.005483   \n",
       "\n",
       "       1345      1346      1347      1348      1349      1350      1351  \\\n",
       "0  0.010767  0.007261  0.006536 -0.001654 -0.005263 -0.018747 -0.017448   \n",
       "1 -0.012049  0.007492 -0.003279  0.006602 -0.016199  0.006127  0.002611   \n",
       "2 -0.004939 -0.012297  0.013151 -0.011120 -0.006189 -0.002404 -0.008125   \n",
       "3  0.000920 -0.001068  0.000791 -0.000037  0.003383  0.002149 -0.002733   \n",
       "4  0.001365  0.005669  0.009657 -0.002122  0.013663  0.007337  0.019656   \n",
       "\n",
       "       1352  \n",
       "0 -0.025113  \n",
       "1  0.003325  \n",
       "2 -0.008032  \n",
       "3  0.001796  \n",
       "4 -0.008682  \n",
       "\n",
       "[5 rows x 1353 columns]"
      ]
     },
     "execution_count": 34,
     "metadata": {},
     "output_type": "execute_result"
    }
   ],
   "source": [
    "pca_df.head()"
   ]
  },
  {
   "cell_type": "markdown",
   "metadata": {},
   "source": [
    "## K-Means"
   ]
  },
  {
   "cell_type": "code",
   "execution_count": 37,
   "metadata": {
    "ExecuteTime": {
     "end_time": "2021-03-19T15:26:41.080012Z",
     "start_time": "2021-03-19T15:26:41.077535Z"
    }
   },
   "outputs": [],
   "source": [
    "from sklearn.cluster import KMeans"
   ]
  },
  {
   "cell_type": "code",
   "execution_count": 38,
   "metadata": {
    "ExecuteTime": {
     "end_time": "2021-03-19T15:44:56.587356Z",
     "start_time": "2021-03-19T15:26:43.958239Z"
    }
   },
   "outputs": [],
   "source": [
    "scores = [] # scores for elbow method\n",
    "range_values = range(1,50)\n",
    "for i in range_values:\n",
    "    kmeans = KMeans(n_clusters=i)\n",
    "    kmeans.fit(pca_df)\n",
    "    scores.append(kmeans.inertia_) # inertia is the WCSS parameter"
   ]
  },
  {
   "cell_type": "code",
   "execution_count": 39,
   "metadata": {
    "ExecuteTime": {
     "end_time": "2021-03-19T15:45:59.323117Z",
     "start_time": "2021-03-19T15:45:59.172832Z"
    }
   },
   "outputs": [
    {
     "data": {
      "image/png": "[encoded data removed]",
      "text/plain": [
       "<Figure size 720x720 with 1 Axes>"
      ]
     },
     "metadata": {
      "needs_background": "light"
     },
     "output_type": "display_data"
    }
   ],
   "source": [
    "# Cluster Observation\n",
    "plt.figure(figsize=(10,10))\n",
    "plt.plot(scores)\n",
    "plt.title('Cluster Observation | Elbow Method')\n",
    "plt.xlabel('Clusters')\n",
    "plt.ylabel('Scores (WCSS)')\n",
    "plt.show()"
   ]
  },
  {
   "cell_type": "code",
   "execution_count": 41,
   "metadata": {
    "ExecuteTime": {
     "end_time": "2021-03-19T15:47:58.209803Z",
     "start_time": "2021-03-19T15:47:58.207480Z"
    }
   },
   "outputs": [],
   "source": [
    "from sklearn.metrics import silhouette_score"
   ]
  },
  {
   "cell_type": "code",
   "execution_count": 43,
   "metadata": {
    "ExecuteTime": {
     "end_time": "2021-03-19T15:53:56.722991Z",
     "start_time": "2021-03-19T15:53:56.720661Z"
    }
   },
   "outputs": [],
   "source": [
    "# for n_cluster in range(30, 50):\n",
    "#     kmeans = KMeans(n_clusters=n_cluster).fit(pca_df)\n",
    "#     label = kmeans.labels_\n",
    "#     sil_coeff = silhouette_score(pca_df, label, metric='euclidean')\n",
    "#     print(\"For n_clusters={}, The Silhouette Coefficient is {}\".format(n_cluster, sil_coeff))"
   ]
  },
  {
   "cell_type": "code",
   "execution_count": null,
   "metadata": {},
   "outputs": [],
   "source": []
  },
  {
   "cell_type": "code",
   "execution_count": null,
   "metadata": {},
   "outputs": [],
   "source": []
  },
  {
   "cell_type": "code",
   "execution_count": null,
   "metadata": {},
   "outputs": [],
   "source": []
  },
  {
   "cell_type": "markdown",
   "metadata": {
    "heading_collapsed": true
   },
   "source": [
    "# PCA END"
   ]
  },
  {
   "cell_type": "markdown",
   "metadata": {
    "hidden": true
   },
   "source": [
    "## Data Cleaning\n",
    "**SCRUB**\n",
    "\n",
    "### Missing Values"
   ]
  },
  {
   "cell_type": "code",
   "execution_count": null,
   "metadata": {
    "ExecuteTime": {
     "end_time": "2021-03-19T03:03:47.381870Z",
     "start_time": "2021-03-19T03:03:47.367015Z"
    },
    "hidden": true
   },
   "outputs": [],
   "source": [
    "df.isnull().sum()"
   ]
  },
  {
   "cell_type": "markdown",
   "metadata": {
    "hidden": true
   },
   "source": [
    "<div class=\"alert alert-success\">\n",
    "\n",
    "With many of these prospects not clearly identified as current clients, its safe to assume that null values in the 'Policy Duration' and 'Policy Type' columns are tied to non existing accounts and may be filled with zeros.\n",
    "\n",
    "</div> "
   ]
  },
  {
   "cell_type": "markdown",
   "metadata": {
    "ExecuteTime": {
     "end_time": "2021-03-18T17:55:00.337592Z",
     "start_time": "2021-03-18T17:55:00.333536Z"
    },
    "hidden": true
   },
   "source": [
    "**Filling Null Values**"
   ]
  },
  {
   "cell_type": "code",
   "execution_count": null,
   "metadata": {
    "ExecuteTime": {
     "end_time": "2021-03-19T03:03:47.389847Z",
     "start_time": "2021-03-19T03:03:47.383491Z"
    },
    "hidden": true
   },
   "outputs": [],
   "source": [
    "nonclients = ['Holding_Policy_Duration','Holding_Policy_Type']\n",
    "\n",
    "for col in nonclients:\n",
    "    df[col] = df[col].fillna(0)"
   ]
  },
  {
   "cell_type": "markdown",
   "metadata": {
    "ExecuteTime": {
     "end_time": "2021-03-18T14:45:09.949102Z",
     "start_time": "2021-03-18T14:45:09.938716Z"
    },
    "hidden": true
   },
   "source": [
    "<div class=\"alert alert-success\">\n",
    "\n",
    "Null values in the 'Health Indicator' columns will be filled prior to one hot encoding. \n",
    "\n",
    "</div>"
   ]
  },
  {
   "cell_type": "markdown",
   "metadata": {
    "hidden": true
   },
   "source": [
    "### Feature Conversions"
   ]
  },
  {
   "cell_type": "code",
   "execution_count": null,
   "metadata": {
    "ExecuteTime": {
     "end_time": "2021-03-19T03:03:47.393147Z",
     "start_time": "2021-03-19T03:03:47.391312Z"
    },
    "hidden": true
   },
   "outputs": [],
   "source": [
    "# df.select_dtypes('O').columns"
   ]
  },
  {
   "cell_type": "markdown",
   "metadata": {
    "hidden": true
   },
   "source": [
    "<div class=\"alert alert-success\">\n",
    "Convert to numerical: Holding_Policy_Duration\n",
    "    \n",
    "* Feature engineer long term customers\n",
    "* Convert '14+' to '15' / convert to numerical\n",
    "\n",
    "Note: (**after EDA**) Convert to binary | Accomodation_Type, Reco_Insurance_Type, Is_Spouse\n",
    "</div>\n",
    "\n",
    "#### Categorical Features | Feature Engineering"
   ]
  },
  {
   "cell_type": "code",
   "execution_count": null,
   "metadata": {
    "ExecuteTime": {
     "end_time": "2021-03-19T03:03:47.411595Z",
     "start_time": "2021-03-19T03:03:47.395977Z"
    },
    "hidden": true
   },
   "outputs": [],
   "source": [
    "df['Long_Term_Cust'] = df['Holding_Policy_Duration'].apply(lambda x: 'Yes' if x == '14+' else 'No')\n",
    "df['Holding_Policy_Duration'] = df['Holding_Policy_Duration'].replace('14+',15).astype(float).astype(int)"
   ]
  },
  {
   "cell_type": "markdown",
   "metadata": {
    "hidden": true
   },
   "source": [
    "#### Binary Feature Conversion"
   ]
  },
  {
   "cell_type": "markdown",
   "metadata": {
    "hidden": true
   },
   "source": [
    "<div class=\"alert alert-block alert-info\">\n",
    "    \n",
    "Features 'Accomodation Type', 'Reco Insurance Type', 'Is Spouse' will be converted to binary (0 and 1) after our exploratory data analysis. \n",
    "\n",
    "</div>"
   ]
  },
  {
   "cell_type": "markdown",
   "metadata": {
    "hidden": true
   },
   "source": [
    "#### Numerical Feature Conversion"
   ]
  },
  {
   "cell_type": "code",
   "execution_count": null,
   "metadata": {
    "ExecuteTime": {
     "end_time": "2021-03-19T03:03:47.415679Z",
     "start_time": "2021-03-19T03:03:47.413900Z"
    },
    "hidden": true
   },
   "outputs": [],
   "source": [
    "# df.select_dtypes('number').columns"
   ]
  },
  {
   "cell_type": "markdown",
   "metadata": {
    "hidden": true
   },
   "source": [
    "<div class=\"alert alert-block alert-info\">\n",
    "    \n",
    "The two feature that stand out are 'Holding Policy Type' and 'Reco Policy Cat' which are listed under numerical but most likely correspond to type and category of policy in existing customers. As such, the features will be converted to categorical variables and compared against the policy premium during exploratory data analysis. \n",
    "\n",
    "</div>"
   ]
  },
  {
   "cell_type": "markdown",
   "metadata": {
    "hidden": true
   },
   "source": [
    "### Feature Engineering | Age\n",
    "<div class=\"alert alert-success\">\n",
    "\n",
    "Typically, insurance products are priced and underwritten based on the age of the applicant or applicants. This is especially the case in most health insurance pricing. To reflect this and retain data, an average age feature will be created and the original two features will be dropped. As the data shows, individual insurance types reflect the same age for lower and upper categories. This conversion will only effect joint accounts with large variations in age being represented in the 'Is_Spouse' feature which will be converted to binary after EDA. For aesthetics, the category will be renamed 'Married'.\n",
    "\n",
    "</div>"
   ]
  },
  {
   "cell_type": "code",
   "execution_count": null,
   "metadata": {
    "ExecuteTime": {
     "end_time": "2021-03-19T03:03:47.426740Z",
     "start_time": "2021-03-19T03:03:47.417192Z"
    },
    "hidden": true
   },
   "outputs": [],
   "source": [
    "# Conversion\n",
    "df.rename(columns={'Is_Spouse':'Married'},inplace=True)\n",
    "# Average Age\n",
    "df['Avg_Age'] = (df['Upper_Age'] + df['Lower_Age']) / 2"
   ]
  },
  {
   "cell_type": "markdown",
   "metadata": {
    "hidden": true
   },
   "source": [
    "### Dropping Features"
   ]
  },
  {
   "cell_type": "code",
   "execution_count": null,
   "metadata": {
    "ExecuteTime": {
     "end_time": "2021-03-19T03:03:47.438177Z",
     "start_time": "2021-03-19T03:03:47.428057Z"
    },
    "hidden": true
   },
   "outputs": [],
   "source": [
    "print(f'Unique policy types: {len(df.Holding_Policy_Type.value_counts())}')\n",
    "print(f'Unique policy categories: {len(df.Reco_Policy_Cat.value_counts())}')\n",
    "print(f'Unique city codes: {len(df.City_Code.value_counts())}')\n",
    "print(f'Unique region codes: {len(df.Region_Code.value_counts())}')"
   ]
  },
  {
   "cell_type": "markdown",
   "metadata": {
    "hidden": true
   },
   "source": [
    "<div class=\"alert alert-success\">\n",
    "\n",
    "The unique 'ID' and 'Region Code' columns will be dropped in order to simplify the data. 'Region Code' consists of far too many categorical values which would need to be one hot encoded. The feature is dropped as the data still retains the 'City Code' feature to capture some level of geographical distinction. In addition, the upper and lower age features will be dropped being represented by average age. \n",
    "\n",
    "</div>"
   ]
  },
  {
   "cell_type": "code",
   "execution_count": null,
   "metadata": {
    "ExecuteTime": {
     "end_time": "2021-03-19T03:03:47.452898Z",
     "start_time": "2021-03-19T03:03:47.439557Z"
    },
    "hidden": true
   },
   "outputs": [],
   "source": [
    "df.drop(['ID','Region_Code','Upper_Age','Lower_Age'],axis=1,inplace=True)"
   ]
  },
  {
   "cell_type": "markdown",
   "metadata": {
    "hidden": true
   },
   "source": [
    "#### Health Indicator Missing Values"
   ]
  },
  {
   "cell_type": "code",
   "execution_count": null,
   "metadata": {
    "ExecuteTime": {
     "end_time": "2021-03-19T03:03:47.468600Z",
     "start_time": "2021-03-19T03:03:47.454293Z"
    },
    "hidden": true
   },
   "outputs": [],
   "source": [
    "joint = len(df[ (df['Health Indicator'].isnull()) & (df['Reco_Insurance_Type']=='Joint')])\n",
    "indiv = len(df[ (df['Health Indicator'].isnull()) & (df['Reco_Insurance_Type']=='Individual')])\n",
    "\n",
    "print(f'There are {joint} missing Health Indicators with joint policy types.')\n",
    "print(f'There are {indiv} missing Health Indicators with individual policy types.')"
   ]
  },
  {
   "cell_type": "markdown",
   "metadata": {
    "ExecuteTime": {
     "end_time": "2021-03-18T21:23:31.629391Z",
     "start_time": "2021-03-18T21:23:31.615194Z"
    },
    "hidden": true
   },
   "source": [
    "<div class=\"alert alert-success\">\n",
    "\n",
    "The missing health indicators in the joint policy types represent less than 5% of the dataset and will be dropped. The remaining values will be filled using the mode. \n",
    "\n",
    "</div>"
   ]
  },
  {
   "cell_type": "code",
   "execution_count": null,
   "metadata": {
    "ExecuteTime": {
     "end_time": "2021-03-19T03:03:47.484509Z",
     "start_time": "2021-03-19T03:03:47.469953Z"
    },
    "hidden": true
   },
   "outputs": [],
   "source": [
    "# dropping partial nulls\n",
    "indexvals = df[ (df['Health Indicator'].isnull()) & (df['Reco_Insurance_Type']=='Joint')].index\n",
    "df.drop(indexvals, inplace=True)"
   ]
  },
  {
   "cell_type": "code",
   "execution_count": null,
   "metadata": {
    "ExecuteTime": {
     "end_time": "2021-03-19T03:03:47.493728Z",
     "start_time": "2021-03-19T03:03:47.486158Z"
    },
    "hidden": true
   },
   "outputs": [],
   "source": [
    "# filling remaining nulls\n",
    "df['Health Indicator'] = df['Health Indicator'].fillna(df['Health Indicator'].mode()[0])"
   ]
  },
  {
   "cell_type": "code",
   "execution_count": null,
   "metadata": {
    "ExecuteTime": {
     "end_time": "2021-03-19T03:03:47.504274Z",
     "start_time": "2021-03-19T03:03:47.495206Z"
    },
    "hidden": true
   },
   "outputs": [],
   "source": [
    "# numerical conversion / float to int\n",
    "for col in df.select_dtypes('number').columns:\n",
    "    df[col] = df[col].astype(int)"
   ]
  },
  {
   "cell_type": "markdown",
   "metadata": {
    "hidden": true
   },
   "source": [
    "## Exploratory Data Analysis"
   ]
  },
  {
   "cell_type": "code",
   "execution_count": null,
   "metadata": {
    "ExecuteTime": {
     "end_time": "2021-03-19T03:03:47.806648Z",
     "start_time": "2021-03-19T03:03:47.505894Z"
    },
    "hidden": true
   },
   "outputs": [],
   "source": [
    "corr = df.corr() # analyzing correlation\n",
    "fig, ax = plt.subplots(figsize=(12,10))\n",
    "mask = np.triu(np.ones_like(corr, dtype=np.bool))\n",
    "sns.heatmap(corr, mask=mask, square=True, annot=True, cmap='YlGnBu')\n",
    "ax.patch.set_edgecolor('black')  \n",
    "ax.patch.set_linewidth('1')\n",
    "ax.set_title('Correlation & Heat Map', fontsize=15, fontfamily='serif')\n",
    "plt.show()"
   ]
  },
  {
   "cell_type": "code",
   "execution_count": null,
   "metadata": {
    "ExecuteTime": {
     "end_time": "2021-03-19T03:03:47.810075Z",
     "start_time": "2021-03-19T03:03:47.808451Z"
    },
    "hidden": true
   },
   "outputs": [],
   "source": [
    "# sns.catplot(data=df, x='Reco_Policy_Premium',y='Health Indicator')"
   ]
  },
  {
   "cell_type": "code",
   "execution_count": null,
   "metadata": {
    "ExecuteTime": {
     "end_time": "2021-03-19T03:03:47.813476Z",
     "start_time": "2021-03-19T03:03:47.811632Z"
    },
    "hidden": true
   },
   "outputs": [],
   "source": [
    "# sns.countplot(data=df[df['Holding_Policy_Type']!=0],x='Holding_Policy_Type',hue='Response')"
   ]
  },
  {
   "cell_type": "code",
   "execution_count": null,
   "metadata": {
    "ExecuteTime": {
     "end_time": "2021-03-19T03:03:47.816743Z",
     "start_time": "2021-03-19T03:03:47.814927Z"
    },
    "hidden": true
   },
   "outputs": [],
   "source": [
    "# sns.violinplot(data=df[df['Holding_Policy_Duration']!=0],x='Holding_Policy_Duration',y='Avg_Age')"
   ]
  },
  {
   "cell_type": "code",
   "execution_count": null,
   "metadata": {
    "ExecuteTime": {
     "end_time": "2021-03-19T03:03:47.819967Z",
     "start_time": "2021-03-19T03:03:47.818208Z"
    },
    "hidden": true
   },
   "outputs": [],
   "source": [
    "# sns.violinplot(data=df[df['Holding_Policy_Type']!=0],x='Holding_Policy_Type',y='Avg_Age',hue='Response')"
   ]
  },
  {
   "cell_type": "markdown",
   "metadata": {
    "hidden": true
   },
   "source": [
    "<div class=\"alert alert-block alert-info\">\n",
    "\n",
    "**NOTE HERE**\n",
    "\n",
    "</div>"
   ]
  },
  {
   "cell_type": "markdown",
   "metadata": {
    "ExecuteTime": {
     "end_time": "2021-03-18T21:52:24.139788Z",
     "start_time": "2021-03-18T21:52:24.122779Z"
    },
    "hidden": true
   },
   "source": [
    "### Final Updates\n",
    "* Binary Conversions: 'Accomodation_Type', 'Reco_Insurance_Type' and 'Married'\n",
    "* Numerical Conversions: 'Holding Policy Type' and 'Reco Policy Cat' \n",
    "* Final conversions for ML modeling"
   ]
  },
  {
   "cell_type": "code",
   "execution_count": null,
   "metadata": {
    "ExecuteTime": {
     "end_time": "2021-03-19T03:03:47.966382Z",
     "start_time": "2021-03-19T03:03:47.821500Z"
    },
    "hidden": true
   },
   "outputs": [],
   "source": [
    "# Exporting for dashboard analysis\n",
    "df.to_csv('jobathondashboard.csv')"
   ]
  },
  {
   "cell_type": "markdown",
   "metadata": {
    "hidden": true
   },
   "source": [
    "Binary Conversion"
   ]
  },
  {
   "cell_type": "code",
   "execution_count": null,
   "metadata": {
    "ExecuteTime": {
     "end_time": "2021-03-19T03:03:48.039428Z",
     "start_time": "2021-03-19T03:03:47.971128Z"
    },
    "hidden": true
   },
   "outputs": [],
   "source": [
    "vals = {'Rented':1,'Owned':2,'Individual':1,'Joint':2,'No':0,'Yes':1}\n",
    "cols = ['Accomodation_Type','Reco_Insurance_Type','Married','Long_Term_Cust']\n",
    "\n",
    "for col in cols:\n",
    "    df[col] = df[col].replace(vals)"
   ]
  },
  {
   "cell_type": "markdown",
   "metadata": {
    "hidden": true
   },
   "source": [
    "Numerical Conversion"
   ]
  },
  {
   "cell_type": "code",
   "execution_count": null,
   "metadata": {
    "ExecuteTime": {
     "end_time": "2021-03-19T03:03:48.046561Z",
     "start_time": "2021-03-19T03:03:48.041923Z"
    },
    "hidden": true
   },
   "outputs": [],
   "source": [
    "# Converting ordinal features to categories\n",
    "ordinal = ['Holding_Policy_Type','Reco_Policy_Cat']\n",
    "for col in ordinal:\n",
    "    df[col] = df[col].astype('O')"
   ]
  },
  {
   "cell_type": "markdown",
   "metadata": {
    "hidden": true
   },
   "source": [
    "Final ML Model Updates"
   ]
  },
  {
   "cell_type": "code",
   "execution_count": null,
   "metadata": {
    "ExecuteTime": {
     "end_time": "2021-03-19T03:03:48.056060Z",
     "start_time": "2021-03-19T03:03:48.047908Z"
    },
    "hidden": true
   },
   "outputs": [],
   "source": [
    "citydf = df['City_Code'].to_frame()\n",
    "df.drop(['City_Code'],axis=1,inplace=True)"
   ]
  },
  {
   "cell_type": "code",
   "execution_count": null,
   "metadata": {
    "ExecuteTime": {
     "end_time": "2021-03-19T03:03:48.060409Z",
     "start_time": "2021-03-19T03:03:48.057518Z"
    },
    "hidden": true
   },
   "outputs": [],
   "source": [
    "# List | categorical variables in ordinal columns\n",
    "cat_vars = [var for var in df.columns if df[var].dtype == 'O']"
   ]
  },
  {
   "cell_type": "code",
   "execution_count": null,
   "metadata": {
    "ExecuteTime": {
     "end_time": "2021-03-19T03:03:48.064990Z",
     "start_time": "2021-03-19T03:03:48.061834Z"
    },
    "hidden": true
   },
   "outputs": [],
   "source": [
    "def replace_categories(df, var, target):\n",
    "    # Order variable categories | lowest to highest against target (price)\n",
    "    ordered_labels = df.groupby([var])[target].mean().sort_values().index\n",
    "\n",
    "    # Dictionary of ordered categories to integer values\n",
    "    ordinal_label = {k: i for i, k in enumerate(ordered_labels, 0)}\n",
    "\n",
    "    # Replace the categorical strings by integers using dictionary\n",
    "    df[var] = df[var].map(ordinal_label)"
   ]
  },
  {
   "cell_type": "code",
   "execution_count": null,
   "metadata": {
    "ExecuteTime": {
     "end_time": "2021-03-19T03:03:48.090047Z",
     "start_time": "2021-03-19T03:03:48.066379Z"
    },
    "hidden": true
   },
   "outputs": [],
   "source": [
    "# Ordinal variable conversion\n",
    "for var in cat_vars:\n",
    "    replace_categories(df, var, 'Avg_Age')"
   ]
  },
  {
   "cell_type": "code",
   "execution_count": null,
   "metadata": {
    "ExecuteTime": {
     "end_time": "2021-03-19T03:03:48.099769Z",
     "start_time": "2021-03-19T03:03:48.091569Z"
    },
    "hidden": true
   },
   "outputs": [],
   "source": [
    "# Concatenate\n",
    "dataset = pd.concat([citydf,df],axis=1)"
   ]
  },
  {
   "cell_type": "markdown",
   "metadata": {
    "hidden": true
   },
   "source": [
    "#### one hot encode"
   ]
  },
  {
   "cell_type": "code",
   "execution_count": null,
   "metadata": {
    "ExecuteTime": {
     "end_time": "2021-03-19T03:03:48.117153Z",
     "start_time": "2021-03-19T03:03:48.101184Z"
    },
    "hidden": true
   },
   "outputs": [],
   "source": [
    "# One Hot Encode\n",
    "dataset = pd.get_dummies(dataset,drop_first=True)"
   ]
  },
  {
   "cell_type": "code",
   "execution_count": null,
   "metadata": {
    "ExecuteTime": {
     "end_time": "2021-03-19T03:03:48.157793Z",
     "start_time": "2021-03-19T03:03:48.118597Z"
    },
    "hidden": true
   },
   "outputs": [],
   "source": [
    "# Converting uint8 datatypes back to categorical variables \n",
    "for cat_cols in dataset.select_dtypes('uint8').columns:\n",
    "    dataset[cat_cols] = dataset[cat_cols].astype('category')"
   ]
  },
  {
   "cell_type": "code",
   "execution_count": null,
   "metadata": {
    "ExecuteTime": {
     "end_time": "2021-03-19T03:03:48.162971Z",
     "start_time": "2021-03-19T03:03:48.159162Z"
    },
    "hidden": true
   },
   "outputs": [],
   "source": [
    "# Cleaning column names\n",
    "subs = [(' ', '_'),('.0','')]\n",
    "\n",
    "def col_formatting(col):\n",
    "    '''Replacing Column Features for Model Processing'''\n",
    "    for old, new in subs:\n",
    "        col = col.replace(old,new)\n",
    "    return col\n",
    "\n",
    "dataset.columns = [col_formatting(col) for col in dataset.columns]"
   ]
  },
  {
   "cell_type": "markdown",
   "metadata": {
    "ExecuteTime": {
     "end_time": "2021-03-10T22:37:25.632959Z",
     "start_time": "2021-03-10T22:37:25.623427Z"
    },
    "hidden": true
   },
   "source": [
    "#### Pycaret"
   ]
  },
  {
   "cell_type": "code",
   "execution_count": null,
   "metadata": {
    "ExecuteTime": {
     "end_time": "2021-03-19T03:03:49.094373Z",
     "start_time": "2021-03-19T03:03:48.164590Z"
    },
    "hidden": true
   },
   "outputs": [],
   "source": [
    "import pycaret\n",
    "import pycaret.preprocess as preprocess\n",
    "from pycaret.datasets import get_data\n",
    "from pycaret.classification import *\n",
    "import pycaret.preprocess as preprocess"
   ]
  },
  {
   "cell_type": "code",
   "execution_count": null,
   "metadata": {
    "ExecuteTime": {
     "end_time": "2021-03-19T03:03:49.122566Z",
     "start_time": "2021-03-19T03:03:49.095974Z"
    },
    "hidden": true
   },
   "outputs": [],
   "source": [
    "data = dataset.sample(frac=0.80, random_state=786)\n",
    "data_unseen = dataset.drop(data.index).reset_index(drop=True)\n",
    "\n",
    "print('Data for Modeling: ' + str(data.shape))\n",
    "print('Unseen Data For Predictions: ' + str(data_unseen.shape))"
   ]
  },
  {
   "cell_type": "code",
   "execution_count": null,
   "metadata": {
    "ExecuteTime": {
     "end_time": "2021-03-19T03:04:13.470972Z",
     "start_time": "2021-03-19T03:03:49.124347Z"
    },
    "hidden": true
   },
   "outputs": [],
   "source": [
    "clf1 = setup(data=data,target='Response',session_id=123,numeric_features=['Long_Term_Cust','Health_Indicator','Accomodation_Type','Reco_Insurance_Type','Married','Holding_Policy_Duration','Holding_Policy_Type'])"
   ]
  },
  {
   "cell_type": "code",
   "execution_count": null,
   "metadata": {
    "ExecuteTime": {
     "end_time": "2021-03-19T03:08:10.288606Z",
     "start_time": "2021-03-19T03:04:13.472913Z"
    },
    "hidden": true
   },
   "outputs": [],
   "source": [
    "compare_models()"
   ]
  },
  {
   "cell_type": "code",
   "execution_count": null,
   "metadata": {
    "ExecuteTime": {
     "end_time": "2021-03-19T03:10:00.808795Z",
     "start_time": "2021-03-19T03:09:33.002400Z"
    },
    "hidden": true
   },
   "outputs": [],
   "source": [
    "GBC = create_model('gbc')"
   ]
  },
  {
   "cell_type": "code",
   "execution_count": null,
   "metadata": {
    "ExecuteTime": {
     "end_time": "2021-03-19T03:13:05.567709Z",
     "start_time": "2021-03-19T03:11:19.787130Z"
    },
    "hidden": true
   },
   "outputs": [],
   "source": [
    "tuned_gbc = tune_model(GBC)"
   ]
  },
  {
   "cell_type": "code",
   "execution_count": null,
   "metadata": {
    "ExecuteTime": {
     "end_time": "2021-03-19T03:14:44.124886Z",
     "start_time": "2021-03-19T03:13:49.534764Z"
    },
    "hidden": true
   },
   "outputs": [],
   "source": [
    "tuned_GBC = tune_model(GBC, optimize = 'AUC')"
   ]
  },
  {
   "cell_type": "code",
   "execution_count": null,
   "metadata": {
    "hidden": true
   },
   "outputs": [],
   "source": [
    "# GBC = create_model('gbc')\n",
    "# tuned_GBC = tune_model(GBC, optimize = 'AUC')\n",
    "# print(tuned_GBC)\n",
    "# plot_model(tuned_GBC, plot = 'auc')\n",
    "# plot_model(tuned_GBC, plot = 'confusion_matrix')\n",
    "# # Final check using the unseen data / test\n",
    "# predict_model(tuned_GBC);\n",
    "\n",
    "# # Final Model / trained on the complete dataset\n",
    "# final_GBC = finalize_model(tuned_GBC)\n",
    "\n",
    "# evaluate_model(final_GBC)\n",
    "\n",
    "# plot_model(final_GBC, plot='feature')\n",
    "\n",
    "# # Interpret model | SHAP\n",
    "# interpret_model(final_GBC)"
   ]
  },
  {
   "cell_type": "code",
   "execution_count": null,
   "metadata": {
    "ExecuteTime": {
     "end_time": "2021-03-19T03:18:10.558309Z",
     "start_time": "2021-03-19T03:18:10.184658Z"
    },
    "hidden": true
   },
   "outputs": [],
   "source": [
    "predict_model(tuned_gbc)"
   ]
  },
  {
   "cell_type": "code",
   "execution_count": null,
   "metadata": {
    "ExecuteTime": {
     "end_time": "2021-03-19T03:19:24.954705Z",
     "start_time": "2021-03-19T03:19:02.799200Z"
    },
    "hidden": true
   },
   "outputs": [],
   "source": [
    "final_GBC = finalize_model(tuned_GBC)"
   ]
  },
  {
   "cell_type": "code",
   "execution_count": null,
   "metadata": {
    "ExecuteTime": {
     "end_time": "2021-03-19T03:19:29.944559Z",
     "start_time": "2021-03-19T03:19:29.900630Z"
    },
    "hidden": true
   },
   "outputs": [],
   "source": [
    "evaluate_model(final_GBC)"
   ]
  },
  {
   "cell_type": "code",
   "execution_count": null,
   "metadata": {
    "ExecuteTime": {
     "end_time": "2021-03-19T03:20:44.286074Z",
     "start_time": "2021-03-19T03:20:28.963190Z"
    },
    "hidden": true
   },
   "outputs": [],
   "source": [
    "# Interpret model | SHAP\n",
    "interpret_model(final_GBC)"
   ]
  },
  {
   "cell_type": "code",
   "execution_count": null,
   "metadata": {
    "hidden": true
   },
   "outputs": [],
   "source": []
  }
 ],
 "metadata": {
  "kernelspec": {
   "display_name": "Python [conda env:learn-env] *",
   "language": "python",
   "name": "conda-env-learn-env-py"
  },
  "language_info": {
   "codemirror_mode": {
    "name": "ipython",
    "version": 3
   },
   "file_extension": ".py",
   "mimetype": "text/x-python",
   "name": "python",
   "nbconvert_exporter": "python",
   "pygments_lexer": "ipython3",
   "version": "3.6.9"
  },
  "toc": {
   "base_numbering": 1,
   "nav_menu": {},
   "number_sections": true,
   "sideBar": true,
   "skip_h1_title": false,
   "title_cell": "Table of Contents",
   "title_sidebar": "Contents",
   "toc_cell": false,
   "toc_position": {
    "height": "calc(100% - 180px)",
    "left": "10px",
    "top": "150px",
    "width": "165px"
   },
   "toc_section_display": true,
   "toc_window_display": true
  }
 },
 "nbformat": 4,
 "nbformat_minor": 2
}
