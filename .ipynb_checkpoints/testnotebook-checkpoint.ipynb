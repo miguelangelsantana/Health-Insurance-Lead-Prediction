{
 "cells": [
  {
   "cell_type": "markdown",
   "metadata": {},
   "source": [
    "# Health Insurance | Job-A-Thon\n",
    "Author: Miguel Santana\n",
    "\n",
    "### Project Methodology\n",
    "FinMan Company is looking to leverage their client base by cross selling insurance products to existing customers. Insurance policies are offered to prospective and existing clients based on website landing and consumer election to fill out additional information forms. FinMan company would like to leverage their acquired information to classify positive leads for outreach programs using machine learning classifiers. \n",
    "\n",
    "### Data and Analytical Structure\n",
    "The project dataset is provided by Analytics Vidhya via Kaggle. Data includes demographic features, policy features (for current customers) and example positive classifications for ML model validation and interpretation. The source can be found [here.](https://www.kaggle.com/imsparsh/jobathon-analytics-vidhya?select=sample_submission.csv) The project analysis will follow the OSEMN framework: Obtain, Scrub, Explore, Model and Interpret."
   ]
  },
  {
   "cell_type": "markdown",
   "metadata": {},
   "source": [
    "## Data & Packages\n",
    "**OBTAIN**\n",
    "\n",
    "run pycaret first, then go to next two using scikit learn, then neural net"
   ]
  },
  {
   "cell_type": "markdown",
   "metadata": {},
   "source": [
    "<div class=\"alert alert-success\">\n",
    "\n",
    "**NOTE HERE**\n",
    "\n",
    "</div>\n",
    "\n",
    "<div class=\"alert alert-block alert-info\">\n",
    "\n",
    "**NOTE HERE**\n",
    "\n",
    "</div>"
   ]
  },
  {
   "cell_type": "code",
   "execution_count": 1,
   "metadata": {
    "ExecuteTime": {
     "end_time": "2021-03-19T02:32:51.590439Z",
     "start_time": "2021-03-19T02:32:50.827526Z"
    }
   },
   "outputs": [],
   "source": [
    "import pandas as pd\n",
    "import matplotlib.pyplot as plt\n",
    "import seaborn as sns\n",
    "import numpy as np\n",
    "pd.set_option('display.max_columns',50)"
   ]
  },
  {
   "cell_type": "code",
   "execution_count": 2,
   "metadata": {
    "ExecuteTime": {
     "end_time": "2021-03-19T02:32:51.594160Z",
     "start_time": "2021-03-19T02:32:51.592175Z"
    }
   },
   "outputs": [],
   "source": [
    "import warnings\n",
    "warnings.filterwarnings('ignore')"
   ]
  },
  {
   "cell_type": "code",
   "execution_count": 3,
   "metadata": {
    "ExecuteTime": {
     "end_time": "2021-03-19T02:32:51.661356Z",
     "start_time": "2021-03-19T02:32:51.596216Z"
    }
   },
   "outputs": [],
   "source": [
    "df = pd.read_csv('train.csv')"
   ]
  },
  {
   "cell_type": "code",
   "execution_count": 4,
   "metadata": {
    "ExecuteTime": {
     "end_time": "2021-03-19T02:32:51.679701Z",
     "start_time": "2021-03-19T02:32:51.663427Z"
    }
   },
   "outputs": [
    {
     "name": "stdout",
     "output_type": "stream",
     "text": [
      "(50882, 14)\n"
     ]
    },
    {
     "data": {
      "text/html": [
       "<div>\n",
       "<style scoped>\n",
       "    .dataframe tbody tr th:only-of-type {\n",
       "        vertical-align: middle;\n",
       "    }\n",
       "\n",
       "    .dataframe tbody tr th {\n",
       "        vertical-align: top;\n",
       "    }\n",
       "\n",
       "    .dataframe thead th {\n",
       "        text-align: right;\n",
       "    }\n",
       "</style>\n",
       "<table border=\"1\" class=\"dataframe\">\n",
       "  <thead>\n",
       "    <tr style=\"text-align: right;\">\n",
       "      <th></th>\n",
       "      <th>ID</th>\n",
       "      <th>City_Code</th>\n",
       "      <th>Region_Code</th>\n",
       "      <th>Accomodation_Type</th>\n",
       "      <th>Reco_Insurance_Type</th>\n",
       "      <th>Upper_Age</th>\n",
       "      <th>Lower_Age</th>\n",
       "      <th>Is_Spouse</th>\n",
       "      <th>Health Indicator</th>\n",
       "      <th>Holding_Policy_Duration</th>\n",
       "      <th>Holding_Policy_Type</th>\n",
       "      <th>Reco_Policy_Cat</th>\n",
       "      <th>Reco_Policy_Premium</th>\n",
       "      <th>Response</th>\n",
       "    </tr>\n",
       "  </thead>\n",
       "  <tbody>\n",
       "    <tr>\n",
       "      <th>0</th>\n",
       "      <td>1</td>\n",
       "      <td>C3</td>\n",
       "      <td>3213</td>\n",
       "      <td>Rented</td>\n",
       "      <td>Individual</td>\n",
       "      <td>36</td>\n",
       "      <td>36</td>\n",
       "      <td>No</td>\n",
       "      <td>X1</td>\n",
       "      <td>14+</td>\n",
       "      <td>3.0</td>\n",
       "      <td>22</td>\n",
       "      <td>11628.0</td>\n",
       "      <td>0</td>\n",
       "    </tr>\n",
       "    <tr>\n",
       "      <th>1</th>\n",
       "      <td>2</td>\n",
       "      <td>C5</td>\n",
       "      <td>1117</td>\n",
       "      <td>Owned</td>\n",
       "      <td>Joint</td>\n",
       "      <td>75</td>\n",
       "      <td>22</td>\n",
       "      <td>No</td>\n",
       "      <td>X2</td>\n",
       "      <td>NaN</td>\n",
       "      <td>NaN</td>\n",
       "      <td>22</td>\n",
       "      <td>30510.0</td>\n",
       "      <td>0</td>\n",
       "    </tr>\n",
       "    <tr>\n",
       "      <th>2</th>\n",
       "      <td>3</td>\n",
       "      <td>C5</td>\n",
       "      <td>3732</td>\n",
       "      <td>Owned</td>\n",
       "      <td>Individual</td>\n",
       "      <td>32</td>\n",
       "      <td>32</td>\n",
       "      <td>No</td>\n",
       "      <td>NaN</td>\n",
       "      <td>1.0</td>\n",
       "      <td>1.0</td>\n",
       "      <td>19</td>\n",
       "      <td>7450.0</td>\n",
       "      <td>1</td>\n",
       "    </tr>\n",
       "  </tbody>\n",
       "</table>\n",
       "</div>"
      ],
      "text/plain": [
       "   ID City_Code  Region_Code Accomodation_Type Reco_Insurance_Type  Upper_Age  \\\n",
       "0   1        C3         3213            Rented          Individual         36   \n",
       "1   2        C5         1117             Owned               Joint         75   \n",
       "2   3        C5         3732             Owned          Individual         32   \n",
       "\n",
       "   Lower_Age Is_Spouse Health Indicator Holding_Policy_Duration  \\\n",
       "0         36        No               X1                     14+   \n",
       "1         22        No               X2                     NaN   \n",
       "2         32        No              NaN                     1.0   \n",
       "\n",
       "   Holding_Policy_Type  Reco_Policy_Cat  Reco_Policy_Premium  Response  \n",
       "0                  3.0               22              11628.0         0  \n",
       "1                  NaN               22              30510.0         0  \n",
       "2                  1.0               19               7450.0         1  "
      ]
     },
     "execution_count": 4,
     "metadata": {},
     "output_type": "execute_result"
    }
   ],
   "source": [
    "print(df.shape)\n",
    "df.head(3)"
   ]
  },
  {
   "cell_type": "markdown",
   "metadata": {},
   "source": [
    "## Data Cleaning\n",
    "**SCRUB**\n",
    "\n",
    "### Missing Values"
   ]
  },
  {
   "cell_type": "code",
   "execution_count": 5,
   "metadata": {
    "ExecuteTime": {
     "end_time": "2021-03-19T02:32:51.696178Z",
     "start_time": "2021-03-19T02:32:51.681271Z"
    }
   },
   "outputs": [
    {
     "data": {
      "text/plain": [
       "ID                             0\n",
       "City_Code                      0\n",
       "Region_Code                    0\n",
       "Accomodation_Type              0\n",
       "Reco_Insurance_Type            0\n",
       "Upper_Age                      0\n",
       "Lower_Age                      0\n",
       "Is_Spouse                      0\n",
       "Health Indicator           11691\n",
       "Holding_Policy_Duration    20251\n",
       "Holding_Policy_Type        20251\n",
       "Reco_Policy_Cat                0\n",
       "Reco_Policy_Premium            0\n",
       "Response                       0\n",
       "dtype: int64"
      ]
     },
     "execution_count": 5,
     "metadata": {},
     "output_type": "execute_result"
    }
   ],
   "source": [
    "df.isnull().sum()"
   ]
  },
  {
   "cell_type": "markdown",
   "metadata": {},
   "source": [
    "<div class=\"alert alert-success\">\n",
    "\n",
    "With many of these prospects not clearly identified as current clients, its safe to assume that null values in the 'Policy Duration' and 'Policy Type' columns are tied to non existing accounts and may be filled with zeros.\n",
    "\n",
    "</div> "
   ]
  },
  {
   "cell_type": "code",
   "execution_count": 6,
   "metadata": {
    "ExecuteTime": {
     "end_time": "2021-03-19T02:32:51.699494Z",
     "start_time": "2021-03-19T02:32:51.697668Z"
    }
   },
   "outputs": [],
   "source": [
    "# df = df[df['Reco_Insurance_Type']=='Individual']\n",
    "# df.drop(['ID','Region_Code','Reco_Insurance_Type','Lower_Age','Is_Spouse'],axis=1,inplace=True)"
   ]
  },
  {
   "cell_type": "markdown",
   "metadata": {
    "ExecuteTime": {
     "end_time": "2021-03-18T17:55:00.337592Z",
     "start_time": "2021-03-18T17:55:00.333536Z"
    }
   },
   "source": [
    "**Filling Null Values**"
   ]
  },
  {
   "cell_type": "code",
   "execution_count": 7,
   "metadata": {
    "ExecuteTime": {
     "end_time": "2021-03-19T02:32:51.707161Z",
     "start_time": "2021-03-19T02:32:51.700831Z"
    }
   },
   "outputs": [],
   "source": [
    "nonclients = ['Holding_Policy_Duration','Holding_Policy_Type']\n",
    "\n",
    "for col in nonclients:\n",
    "    df[col] = df[col].fillna(0)"
   ]
  },
  {
   "cell_type": "code",
   "execution_count": 8,
   "metadata": {
    "ExecuteTime": {
     "end_time": "2021-03-19T02:32:51.711939Z",
     "start_time": "2021-03-19T02:32:51.710013Z"
    }
   },
   "outputs": [],
   "source": [
    "# df['Health Indicator'].mode()[0]"
   ]
  },
  {
   "cell_type": "markdown",
   "metadata": {
    "ExecuteTime": {
     "end_time": "2021-03-18T14:45:09.949102Z",
     "start_time": "2021-03-18T14:45:09.938716Z"
    }
   },
   "source": [
    "<div class=\"alert alert-success\">\n",
    "\n",
    "Null values in the 'Health Indicator' columns will be filled prior to one hot encoding. \n",
    "\n",
    "</div>"
   ]
  },
  {
   "cell_type": "markdown",
   "metadata": {},
   "source": [
    "### Feature Conversions"
   ]
  },
  {
   "cell_type": "code",
   "execution_count": 9,
   "metadata": {
    "ExecuteTime": {
     "end_time": "2021-03-19T02:32:51.715804Z",
     "start_time": "2021-03-19T02:32:51.714070Z"
    }
   },
   "outputs": [],
   "source": [
    "# df.select_dtypes('O').columns"
   ]
  },
  {
   "cell_type": "markdown",
   "metadata": {},
   "source": [
    "<div class=\"alert alert-success\">\n",
    "Convert to numerical: Holding_Policy_Duration\n",
    "    \n",
    "* Feature engineer long term customers\n",
    "* Convert '14+' to '15' / convert to numerical\n",
    "\n",
    "Note: (**after EDA**) Convert to binary | Accomodation_Type, Reco_Insurance_Type, Is_Spouse\n",
    "</div>\n",
    "\n",
    "#### Categorical Features | Feature Engineering"
   ]
  },
  {
   "cell_type": "code",
   "execution_count": 10,
   "metadata": {
    "ExecuteTime": {
     "end_time": "2021-03-19T02:32:51.732191Z",
     "start_time": "2021-03-19T02:32:51.717220Z"
    }
   },
   "outputs": [],
   "source": [
    "df['Long_Term_Cust'] = df['Holding_Policy_Duration'].apply(lambda x: 'Yes' if x == '14+' else 'No')\n",
    "df['Holding_Policy_Duration'] = df['Holding_Policy_Duration'].replace('14+',15).astype(float).astype(int)"
   ]
  },
  {
   "cell_type": "markdown",
   "metadata": {},
   "source": [
    "#### Binary Feature Conversion"
   ]
  },
  {
   "cell_type": "markdown",
   "metadata": {},
   "source": [
    "<div class=\"alert alert-block alert-info\">\n",
    "    \n",
    "Features 'Accomodation Type', 'Reco Insurance Type', 'Is Spouse' will be converted to binary (0 and 1) after our exploratory data analysis. \n",
    "\n",
    "</div>"
   ]
  },
  {
   "cell_type": "markdown",
   "metadata": {},
   "source": [
    "#### Numerical Feature Conversion"
   ]
  },
  {
   "cell_type": "code",
   "execution_count": 11,
   "metadata": {
    "ExecuteTime": {
     "end_time": "2021-03-19T02:32:51.735664Z",
     "start_time": "2021-03-19T02:32:51.733576Z"
    }
   },
   "outputs": [],
   "source": [
    "# df.select_dtypes('number').columns"
   ]
  },
  {
   "cell_type": "markdown",
   "metadata": {},
   "source": [
    "<div class=\"alert alert-block alert-info\">\n",
    "    \n",
    "The two feature that stand out are 'Holding Policy Type' and 'Reco Policy Cat' which are listed under numerical but most likely correspond to type and category of policy in existing customers. As such, the features will be converted to categorical variables and compared against the policy premium during exploratory data analysis. \n",
    "\n",
    "</div>"
   ]
  },
  {
   "cell_type": "markdown",
   "metadata": {},
   "source": [
    "### Feature Engineering | Age\n",
    "<div class=\"alert alert-success\">\n",
    "\n",
    "Typically, insurance products are priced and underwritten based on the age of the applicant or applicants. This is especially the case in most health insurance pricing. To reflect this and retain data, an average age feature will be created and the original two features will be dropped. As the data shows, individual insurance types reflect the same age for lower and upper categories. This conversion will only effect joint accounts with large variations in age being represented in the 'Is_Spouse' feature which will be converted to binary after EDA. For aesthetics, the category will be renamed 'Married'.\n",
    "\n",
    "</div>"
   ]
  },
  {
   "cell_type": "code",
   "execution_count": 12,
   "metadata": {
    "ExecuteTime": {
     "end_time": "2021-03-19T02:32:51.745962Z",
     "start_time": "2021-03-19T02:32:51.737124Z"
    }
   },
   "outputs": [],
   "source": [
    "# Conversion\n",
    "df.rename(columns={'Is_Spouse':'Married'},inplace=True)\n",
    "# Average Age\n",
    "df['Avg_Age'] = (df['Upper_Age'] + df['Lower_Age']) / 2"
   ]
  },
  {
   "cell_type": "markdown",
   "metadata": {},
   "source": [
    "### Dropping Features"
   ]
  },
  {
   "cell_type": "code",
   "execution_count": 13,
   "metadata": {
    "ExecuteTime": {
     "end_time": "2021-03-19T02:32:51.758110Z",
     "start_time": "2021-03-19T02:32:51.747389Z"
    }
   },
   "outputs": [
    {
     "name": "stdout",
     "output_type": "stream",
     "text": [
      "Unique policy types: 5\n",
      "Unique policy categories: 22\n",
      "Unique city codes: 36\n",
      "Unique region codes: 5316\n"
     ]
    }
   ],
   "source": [
    "print(f'Unique policy types: {len(df.Holding_Policy_Type.value_counts())}')\n",
    "print(f'Unique policy categories: {len(df.Reco_Policy_Cat.value_counts())}')\n",
    "print(f'Unique city codes: {len(df.City_Code.value_counts())}')\n",
    "print(f'Unique region codes: {len(df.Region_Code.value_counts())}')"
   ]
  },
  {
   "cell_type": "markdown",
   "metadata": {},
   "source": [
    "<div class=\"alert alert-success\">\n",
    "\n",
    "The unique 'ID' and 'Region Code' columns will be dropped in order to simplify the data. 'Region Code' consists of far too many categorical values which would need to be one hot encoded. The feature is dropped as the data still retains the 'City Code' feature to capture some level of geographical distinction. In addition, the upper and lower age features will be dropped being represented by average age. \n",
    "\n",
    "</div>"
   ]
  },
  {
   "cell_type": "code",
   "execution_count": 14,
   "metadata": {
    "ExecuteTime": {
     "end_time": "2021-03-19T02:32:51.770800Z",
     "start_time": "2021-03-19T02:32:51.759457Z"
    }
   },
   "outputs": [],
   "source": [
    "df.drop(['ID','Region_Code','Upper_Age','Lower_Age'],axis=1,inplace=True)"
   ]
  },
  {
   "cell_type": "markdown",
   "metadata": {},
   "source": [
    "#### Health Indicator Missing Values"
   ]
  },
  {
   "cell_type": "code",
   "execution_count": 15,
   "metadata": {
    "ExecuteTime": {
     "end_time": "2021-03-19T02:32:51.786444Z",
     "start_time": "2021-03-19T02:32:51.772105Z"
    }
   },
   "outputs": [
    {
     "name": "stdout",
     "output_type": "stream",
     "text": [
      "There are 2349 missing Health Indicators with joint policy types.\n",
      "There are 9342 missing Health Indicators with individual policy types.\n"
     ]
    }
   ],
   "source": [
    "joint = len(df[ (df['Health Indicator'].isnull()) & (df['Reco_Insurance_Type']=='Joint')])\n",
    "indiv = len(df[ (df['Health Indicator'].isnull()) & (df['Reco_Insurance_Type']=='Individual')])\n",
    "\n",
    "print(f'There are {joint} missing Health Indicators with joint policy types.')\n",
    "print(f'There are {indiv} missing Health Indicators with individual policy types.')"
   ]
  },
  {
   "cell_type": "markdown",
   "metadata": {
    "ExecuteTime": {
     "end_time": "2021-03-18T21:23:31.629391Z",
     "start_time": "2021-03-18T21:23:31.615194Z"
    }
   },
   "source": [
    "<div class=\"alert alert-success\">\n",
    "\n",
    "The missing health indicators in the joint policy types represent less than 5% of the dataset and will be dropped. The remaining values will be filled using the mode. \n",
    "\n",
    "</div>"
   ]
  },
  {
   "cell_type": "code",
   "execution_count": 16,
   "metadata": {
    "ExecuteTime": {
     "end_time": "2021-03-19T02:32:51.801151Z",
     "start_time": "2021-03-19T02:32:51.787860Z"
    }
   },
   "outputs": [],
   "source": [
    "# dropping partial nulls\n",
    "indexvals = df[ (df['Health Indicator'].isnull()) & (df['Reco_Insurance_Type']=='Joint')].index\n",
    "df.drop(indexvals, inplace=True)"
   ]
  },
  {
   "cell_type": "code",
   "execution_count": 17,
   "metadata": {
    "ExecuteTime": {
     "end_time": "2021-03-19T02:32:51.809273Z",
     "start_time": "2021-03-19T02:32:51.802490Z"
    }
   },
   "outputs": [],
   "source": [
    "# filling remaining nulls\n",
    "df['Health Indicator'] = df['Health Indicator'].fillna(df['Health Indicator'].mode()[0])"
   ]
  },
  {
   "cell_type": "code",
   "execution_count": 18,
   "metadata": {
    "ExecuteTime": {
     "end_time": "2021-03-19T02:32:51.818231Z",
     "start_time": "2021-03-19T02:32:51.810591Z"
    }
   },
   "outputs": [],
   "source": [
    "# numerical conversion / float to int\n",
    "for col in df.select_dtypes('number').columns:\n",
    "    df[col] = df[col].astype(int)"
   ]
  },
  {
   "cell_type": "markdown",
   "metadata": {},
   "source": [
    "## Exploratory Data Analysis"
   ]
  },
  {
   "cell_type": "code",
   "execution_count": 19,
   "metadata": {
    "ExecuteTime": {
     "end_time": "2021-03-19T02:32:52.118688Z",
     "start_time": "2021-03-19T02:32:51.819795Z"
    }
   },
   "outputs": [
    {
     "data": {
      "image/png": "[encoded data removed]",
      "text/plain": [
       "<Figure size 864x720 with 2 Axes>"
      ]
     },
     "metadata": {
      "needs_background": "light"
     },
     "output_type": "display_data"
    }
   ],
   "source": [
    "corr = df.corr() # analyzing correlation\n",
    "fig, ax = plt.subplots(figsize=(12,10))\n",
    "mask = np.triu(np.ones_like(corr, dtype=np.bool))\n",
    "sns.heatmap(corr, mask=mask, square=True, annot=True, cmap='YlGnBu')\n",
    "ax.patch.set_edgecolor('black')  \n",
    "ax.patch.set_linewidth('1')\n",
    "ax.set_title('Correlation & Heat Map', fontsize=15, fontfamily='serif')\n",
    "plt.show()"
   ]
  },
  {
   "cell_type": "code",
   "execution_count": 20,
   "metadata": {
    "ExecuteTime": {
     "end_time": "2021-03-19T02:32:52.122260Z",
     "start_time": "2021-03-19T02:32:52.120407Z"
    }
   },
   "outputs": [],
   "source": [
    "# sns.catplot(data=df, x='Reco_Policy_Premium',y='Health Indicator')"
   ]
  },
  {
   "cell_type": "code",
   "execution_count": 21,
   "metadata": {
    "ExecuteTime": {
     "end_time": "2021-03-19T02:32:52.125547Z",
     "start_time": "2021-03-19T02:32:52.123726Z"
    }
   },
   "outputs": [],
   "source": [
    "# sns.countplot(data=df[df['Holding_Policy_Type']!=0],x='Holding_Policy_Type',hue='Response')"
   ]
  },
  {
   "cell_type": "code",
   "execution_count": 22,
   "metadata": {
    "ExecuteTime": {
     "end_time": "2021-03-19T02:32:52.128694Z",
     "start_time": "2021-03-19T02:32:52.126901Z"
    }
   },
   "outputs": [],
   "source": [
    "# sns.violinplot(data=df[df['Holding_Policy_Duration']!=0],x='Holding_Policy_Duration',y='Avg_Age')"
   ]
  },
  {
   "cell_type": "code",
   "execution_count": 23,
   "metadata": {
    "ExecuteTime": {
     "end_time": "2021-03-19T02:32:52.135339Z",
     "start_time": "2021-03-19T02:32:52.133429Z"
    }
   },
   "outputs": [],
   "source": [
    "# sns.violinplot(data=df[df['Holding_Policy_Type']!=0],x='Holding_Policy_Type',y='Avg_Age',hue='Response')"
   ]
  },
  {
   "cell_type": "markdown",
   "metadata": {},
   "source": [
    "<div class=\"alert alert-block alert-info\">\n",
    "\n",
    "**NOTE HERE**\n",
    "\n",
    "</div>"
   ]
  },
  {
   "cell_type": "markdown",
   "metadata": {
    "ExecuteTime": {
     "end_time": "2021-03-18T21:52:24.139788Z",
     "start_time": "2021-03-18T21:52:24.122779Z"
    }
   },
   "source": [
    "### Final Updates\n",
    "* Binary Conversions: 'Accomodation_Type', 'Reco_Insurance_Type' and 'Married'\n",
    "* Numerical Conversions: 'Holding Policy Type' and 'Reco Policy Cat' \n",
    "* Final conversions for ML modeling"
   ]
  },
  {
   "cell_type": "code",
   "execution_count": 24,
   "metadata": {
    "ExecuteTime": {
     "end_time": "2021-03-19T02:32:52.139206Z",
     "start_time": "2021-03-19T02:32:52.137612Z"
    }
   },
   "outputs": [],
   "source": [
    "# # Exporting for dashboard analysis\n",
    "# df.to_csv('testtesttest.csv')"
   ]
  },
  {
   "cell_type": "markdown",
   "metadata": {},
   "source": [
    "Binary Conversion"
   ]
  },
  {
   "cell_type": "code",
   "execution_count": 25,
   "metadata": {
    "ExecuteTime": {
     "end_time": "2021-03-19T02:32:52.215492Z",
     "start_time": "2021-03-19T02:32:52.140728Z"
    }
   },
   "outputs": [],
   "source": [
    "vals = {'Rented':1,'Owned':2,'Individual':1,'Joint':2,'No':0,'Yes':1}\n",
    "cols = ['Accomodation_Type','Reco_Insurance_Type','Married','Long_Term_Cust']\n",
    "\n",
    "for col in cols:\n",
    "    df[col] = df[col].replace(vals)"
   ]
  },
  {
   "cell_type": "markdown",
   "metadata": {},
   "source": [
    "Numerical Conversion"
   ]
  },
  {
   "cell_type": "code",
   "execution_count": 26,
   "metadata": {
    "ExecuteTime": {
     "end_time": "2021-03-19T02:32:52.221468Z",
     "start_time": "2021-03-19T02:32:52.216980Z"
    }
   },
   "outputs": [],
   "source": [
    "# Converting ordinal features to categories\n",
    "ordinal = ['Holding_Policy_Type','Reco_Policy_Cat']\n",
    "for col in ordinal:\n",
    "    df[col] = df[col].astype('O')"
   ]
  },
  {
   "cell_type": "markdown",
   "metadata": {},
   "source": [
    "Final ML Model Updates"
   ]
  },
  {
   "cell_type": "code",
   "execution_count": 27,
   "metadata": {
    "ExecuteTime": {
     "end_time": "2021-03-19T02:32:52.232963Z",
     "start_time": "2021-03-19T02:32:52.222932Z"
    }
   },
   "outputs": [],
   "source": [
    "citydf = df['City_Code'].to_frame()\n",
    "df.drop(['City_Code'],axis=1,inplace=True)"
   ]
  },
  {
   "cell_type": "code",
   "execution_count": 28,
   "metadata": {
    "ExecuteTime": {
     "end_time": "2021-03-19T02:32:52.236165Z",
     "start_time": "2021-03-19T02:32:52.234435Z"
    }
   },
   "outputs": [],
   "source": [
    "# ordinaldf = df[['Holding_Policy_Type','Reco_Policy_Cat','Reco_Policy_Premium']].copy()\n",
    "# # ohedf = pd.DataFrame(df['City_Code','Health Indicator'])\n",
    "# ohedf = df[['City_Code','Health Indicator']].copy()\n",
    "# df.drop(['Holding_Policy_Type','Reco_Policy_Cat','City_Code','Health Indicator'],axis=1,inplace=True)"
   ]
  },
  {
   "cell_type": "code",
   "execution_count": 29,
   "metadata": {
    "ExecuteTime": {
     "end_time": "2021-03-19T02:32:52.240374Z",
     "start_time": "2021-03-19T02:32:52.237621Z"
    }
   },
   "outputs": [],
   "source": [
    "# List | categorical variables in ordinal columns\n",
    "cat_vars = [var for var in df.columns if df[var].dtype == 'O']"
   ]
  },
  {
   "cell_type": "code",
   "execution_count": 30,
   "metadata": {
    "ExecuteTime": {
     "end_time": "2021-03-19T02:32:52.244942Z",
     "start_time": "2021-03-19T02:32:52.241826Z"
    }
   },
   "outputs": [],
   "source": [
    "def replace_categories(df, var, target):\n",
    "    # Order variable categories | lowest to highest against target (price)\n",
    "    ordered_labels = df.groupby([var])[target].mean().sort_values().index\n",
    "\n",
    "    # Dictionary of ordered categories to integer values\n",
    "    ordinal_label = {k: i for i, k in enumerate(ordered_labels, 0)}\n",
    "\n",
    "    # Replace the categorical strings by integers using dictionary\n",
    "    df[var] = df[var].map(ordinal_label)"
   ]
  },
  {
   "cell_type": "code",
   "execution_count": 31,
   "metadata": {
    "ExecuteTime": {
     "end_time": "2021-03-19T02:32:52.269638Z",
     "start_time": "2021-03-19T02:32:52.246344Z"
    }
   },
   "outputs": [],
   "source": [
    "# Ordinal variable conversion\n",
    "for var in cat_vars:\n",
    "    replace_categories(df, var, 'Avg_Age')\n",
    "#     replace_categories(df, var, 'Reco_Policy_Premium')"
   ]
  },
  {
   "cell_type": "code",
   "execution_count": 32,
   "metadata": {
    "ExecuteTime": {
     "end_time": "2021-03-19T02:32:52.278634Z",
     "start_time": "2021-03-19T02:32:52.271292Z"
    }
   },
   "outputs": [],
   "source": [
    "# Concatenate\n",
    "dataset = pd.concat([citydf,df],axis=1)"
   ]
  },
  {
   "cell_type": "markdown",
   "metadata": {},
   "source": [
    "#### one hot encode"
   ]
  },
  {
   "cell_type": "code",
   "execution_count": 33,
   "metadata": {
    "ExecuteTime": {
     "end_time": "2021-03-19T02:32:52.294694Z",
     "start_time": "2021-03-19T02:32:52.280101Z"
    }
   },
   "outputs": [],
   "source": [
    "# One Hot Encode\n",
    "dataset = pd.get_dummies(dataset,drop_first=True)"
   ]
  },
  {
   "cell_type": "code",
   "execution_count": 34,
   "metadata": {
    "ExecuteTime": {
     "end_time": "2021-03-19T02:32:52.298065Z",
     "start_time": "2021-03-19T02:32:52.296147Z"
    }
   },
   "outputs": [],
   "source": [
    "# # One Hot Encode\n",
    "# ohedf = pd.get_dummies(ohedf,drop_first=True)"
   ]
  },
  {
   "cell_type": "code",
   "execution_count": 35,
   "metadata": {
    "ExecuteTime": {
     "end_time": "2021-03-19T02:32:52.337544Z",
     "start_time": "2021-03-19T02:32:52.299564Z"
    }
   },
   "outputs": [],
   "source": [
    "# Converting uint8 datatypes back to categorical variables \n",
    "for cat_cols in dataset.select_dtypes('uint8').columns:\n",
    "    dataset[cat_cols] = dataset[cat_cols].astype('category')"
   ]
  },
  {
   "cell_type": "code",
   "execution_count": 36,
   "metadata": {
    "ExecuteTime": {
     "end_time": "2021-03-19T02:32:52.342853Z",
     "start_time": "2021-03-19T02:32:52.339007Z"
    }
   },
   "outputs": [],
   "source": [
    "# Fixing Column Names\n",
    "# cleaning column names\n",
    "subs = [(' ', '_'),('.0','')]\n",
    "\n",
    "def col_formatting(col):\n",
    "    '''Replacing Column Features for Model Processing'''\n",
    "    for old, new in subs:\n",
    "        col = col.replace(old,new)\n",
    "    return col\n",
    "\n",
    "dataset.columns = [col_formatting(col) for col in dataset.columns]"
   ]
  },
  {
   "cell_type": "markdown",
   "metadata": {
    "ExecuteTime": {
     "end_time": "2021-03-10T22:37:25.632959Z",
     "start_time": "2021-03-10T22:37:25.623427Z"
    }
   },
   "source": [
    "#### Pycaret"
   ]
  },
  {
   "cell_type": "code",
   "execution_count": 37,
   "metadata": {
    "ExecuteTime": {
     "end_time": "2021-03-19T02:32:52.346330Z",
     "start_time": "2021-03-19T02:32:52.344424Z"
    }
   },
   "outputs": [],
   "source": [
    "# dataset = data.copy()"
   ]
  },
  {
   "cell_type": "code",
   "execution_count": 38,
   "metadata": {
    "ExecuteTime": {
     "end_time": "2021-03-19T02:32:53.119773Z",
     "start_time": "2021-03-19T02:32:52.347749Z"
    }
   },
   "outputs": [],
   "source": [
    "import pycaret\n",
    "import pycaret.preprocess as preprocess\n",
    "from pycaret.datasets import get_data\n",
    "from pycaret.classification import *\n",
    "import pycaret.preprocess as preprocess"
   ]
  },
  {
   "cell_type": "code",
   "execution_count": 39,
   "metadata": {
    "ExecuteTime": {
     "end_time": "2021-03-19T02:32:53.147397Z",
     "start_time": "2021-03-19T02:32:53.120955Z"
    }
   },
   "outputs": [
    {
     "name": "stdout",
     "output_type": "stream",
     "text": [
      "Data for Modeling: (38826, 46)\n",
      "Unseen Data For Predictions: (9707, 46)\n"
     ]
    }
   ],
   "source": [
    "data = dataset.sample(frac=0.80, random_state=786)\n",
    "data_unseen = dataset.drop(data.index).reset_index(drop=True)\n",
    "\n",
    "print('Data for Modeling: ' + str(data.shape))\n",
    "print('Unseen Data For Predictions: ' + str(data_unseen.shape))"
   ]
  },
  {
   "cell_type": "code",
   "execution_count": 40,
   "metadata": {
    "ExecuteTime": {
     "end_time": "2021-03-19T02:33:05.283496Z",
     "start_time": "2021-03-19T02:32:53.149299Z"
    }
   },
   "outputs": [
    {
     "name": "stdout",
     "output_type": "stream",
     "text": [
      "Setup Succesfully Completed!\n"
     ]
    },
    {
     "data": {
      "text/html": [
       "<style  type=\"text/css\" >\n",
       "#T_6f1ce998_885b_11eb_8781_acde48001122row42_col1{\n",
       "            background-color:  lightgreen;\n",
       "        }</style><table id=\"T_6f1ce998_885b_11eb_8781_acde48001122\" ><thead>    <tr>        <th class=\"blank level0\" ></th>        <th class=\"col_heading level0 col0\" >Description</th>        <th class=\"col_heading level0 col1\" >Value</th>    </tr></thead><tbody>\n",
       "                <tr>\n",
       "                        <th id=\"T_6f1ce998_885b_11eb_8781_acde48001122level0_row0\" class=\"row_heading level0 row0\" >0</th>\n",
       "                        <td id=\"T_6f1ce998_885b_11eb_8781_acde48001122row0_col0\" class=\"data row0 col0\" >session_id</td>\n",
       "                        <td id=\"T_6f1ce998_885b_11eb_8781_acde48001122row0_col1\" class=\"data row0 col1\" >123</td>\n",
       "            </tr>\n",
       "            <tr>\n",
       "                        <th id=\"T_6f1ce998_885b_11eb_8781_acde48001122level0_row1\" class=\"row_heading level0 row1\" >1</th>\n",
       "                        <td id=\"T_6f1ce998_885b_11eb_8781_acde48001122row1_col0\" class=\"data row1 col0\" >Target Type</td>\n",
       "                        <td id=\"T_6f1ce998_885b_11eb_8781_acde48001122row1_col1\" class=\"data row1 col1\" >Binary</td>\n",
       "            </tr>\n",
       "            <tr>\n",
       "                        <th id=\"T_6f1ce998_885b_11eb_8781_acde48001122level0_row2\" class=\"row_heading level0 row2\" >2</th>\n",
       "                        <td id=\"T_6f1ce998_885b_11eb_8781_acde48001122row2_col0\" class=\"data row2 col0\" >Label Encoded</td>\n",
       "                        <td id=\"T_6f1ce998_885b_11eb_8781_acde48001122row2_col1\" class=\"data row2 col1\" >0: 0, 1: 1</td>\n",
       "            </tr>\n",
       "            <tr>\n",
       "                        <th id=\"T_6f1ce998_885b_11eb_8781_acde48001122level0_row3\" class=\"row_heading level0 row3\" >3</th>\n",
       "                        <td id=\"T_6f1ce998_885b_11eb_8781_acde48001122row3_col0\" class=\"data row3 col0\" >Original Data</td>\n",
       "                        <td id=\"T_6f1ce998_885b_11eb_8781_acde48001122row3_col1\" class=\"data row3 col1\" >(38826, 46)</td>\n",
       "            </tr>\n",
       "            <tr>\n",
       "                        <th id=\"T_6f1ce998_885b_11eb_8781_acde48001122level0_row4\" class=\"row_heading level0 row4\" >4</th>\n",
       "                        <td id=\"T_6f1ce998_885b_11eb_8781_acde48001122row4_col0\" class=\"data row4 col0\" >Missing Values </td>\n",
       "                        <td id=\"T_6f1ce998_885b_11eb_8781_acde48001122row4_col1\" class=\"data row4 col1\" >False</td>\n",
       "            </tr>\n",
       "            <tr>\n",
       "                        <th id=\"T_6f1ce998_885b_11eb_8781_acde48001122level0_row5\" class=\"row_heading level0 row5\" >5</th>\n",
       "                        <td id=\"T_6f1ce998_885b_11eb_8781_acde48001122row5_col0\" class=\"data row5 col0\" >Numeric Features </td>\n",
       "                        <td id=\"T_6f1ce998_885b_11eb_8781_acde48001122row5_col1\" class=\"data row5 col1\" >10</td>\n",
       "            </tr>\n",
       "            <tr>\n",
       "                        <th id=\"T_6f1ce998_885b_11eb_8781_acde48001122level0_row6\" class=\"row_heading level0 row6\" >6</th>\n",
       "                        <td id=\"T_6f1ce998_885b_11eb_8781_acde48001122row6_col0\" class=\"data row6 col0\" >Categorical Features </td>\n",
       "                        <td id=\"T_6f1ce998_885b_11eb_8781_acde48001122row6_col1\" class=\"data row6 col1\" >35</td>\n",
       "            </tr>\n",
       "            <tr>\n",
       "                        <th id=\"T_6f1ce998_885b_11eb_8781_acde48001122level0_row7\" class=\"row_heading level0 row7\" >7</th>\n",
       "                        <td id=\"T_6f1ce998_885b_11eb_8781_acde48001122row7_col0\" class=\"data row7 col0\" >Ordinal Features </td>\n",
       "                        <td id=\"T_6f1ce998_885b_11eb_8781_acde48001122row7_col1\" class=\"data row7 col1\" >False</td>\n",
       "            </tr>\n",
       "            <tr>\n",
       "                        <th id=\"T_6f1ce998_885b_11eb_8781_acde48001122level0_row8\" class=\"row_heading level0 row8\" >8</th>\n",
       "                        <td id=\"T_6f1ce998_885b_11eb_8781_acde48001122row8_col0\" class=\"data row8 col0\" >High Cardinality Features </td>\n",
       "                        <td id=\"T_6f1ce998_885b_11eb_8781_acde48001122row8_col1\" class=\"data row8 col1\" >False</td>\n",
       "            </tr>\n",
       "            <tr>\n",
       "                        <th id=\"T_6f1ce998_885b_11eb_8781_acde48001122level0_row9\" class=\"row_heading level0 row9\" >9</th>\n",
       "                        <td id=\"T_6f1ce998_885b_11eb_8781_acde48001122row9_col0\" class=\"data row9 col0\" >High Cardinality Method </td>\n",
       "                        <td id=\"T_6f1ce998_885b_11eb_8781_acde48001122row9_col1\" class=\"data row9 col1\" >None</td>\n",
       "            </tr>\n",
       "            <tr>\n",
       "                        <th id=\"T_6f1ce998_885b_11eb_8781_acde48001122level0_row10\" class=\"row_heading level0 row10\" >10</th>\n",
       "                        <td id=\"T_6f1ce998_885b_11eb_8781_acde48001122row10_col0\" class=\"data row10 col0\" >Sampled Data</td>\n",
       "                        <td id=\"T_6f1ce998_885b_11eb_8781_acde48001122row10_col1\" class=\"data row10 col1\" >(27178, 46)</td>\n",
       "            </tr>\n",
       "            <tr>\n",
       "                        <th id=\"T_6f1ce998_885b_11eb_8781_acde48001122level0_row11\" class=\"row_heading level0 row11\" >11</th>\n",
       "                        <td id=\"T_6f1ce998_885b_11eb_8781_acde48001122row11_col0\" class=\"data row11 col0\" >Transformed Train Set</td>\n",
       "                        <td id=\"T_6f1ce998_885b_11eb_8781_acde48001122row11_col1\" class=\"data row11 col1\" >(19024, 80)</td>\n",
       "            </tr>\n",
       "            <tr>\n",
       "                        <th id=\"T_6f1ce998_885b_11eb_8781_acde48001122level0_row12\" class=\"row_heading level0 row12\" >12</th>\n",
       "                        <td id=\"T_6f1ce998_885b_11eb_8781_acde48001122row12_col0\" class=\"data row12 col0\" >Transformed Test Set</td>\n",
       "                        <td id=\"T_6f1ce998_885b_11eb_8781_acde48001122row12_col1\" class=\"data row12 col1\" >(8154, 80)</td>\n",
       "            </tr>\n",
       "            <tr>\n",
       "                        <th id=\"T_6f1ce998_885b_11eb_8781_acde48001122level0_row13\" class=\"row_heading level0 row13\" >13</th>\n",
       "                        <td id=\"T_6f1ce998_885b_11eb_8781_acde48001122row13_col0\" class=\"data row13 col0\" >Numeric Imputer </td>\n",
       "                        <td id=\"T_6f1ce998_885b_11eb_8781_acde48001122row13_col1\" class=\"data row13 col1\" >mean</td>\n",
       "            </tr>\n",
       "            <tr>\n",
       "                        <th id=\"T_6f1ce998_885b_11eb_8781_acde48001122level0_row14\" class=\"row_heading level0 row14\" >14</th>\n",
       "                        <td id=\"T_6f1ce998_885b_11eb_8781_acde48001122row14_col0\" class=\"data row14 col0\" >Categorical Imputer </td>\n",
       "                        <td id=\"T_6f1ce998_885b_11eb_8781_acde48001122row14_col1\" class=\"data row14 col1\" >constant</td>\n",
       "            </tr>\n",
       "            <tr>\n",
       "                        <th id=\"T_6f1ce998_885b_11eb_8781_acde48001122level0_row15\" class=\"row_heading level0 row15\" >15</th>\n",
       "                        <td id=\"T_6f1ce998_885b_11eb_8781_acde48001122row15_col0\" class=\"data row15 col0\" >Normalize </td>\n",
       "                        <td id=\"T_6f1ce998_885b_11eb_8781_acde48001122row15_col1\" class=\"data row15 col1\" >False</td>\n",
       "            </tr>\n",
       "            <tr>\n",
       "                        <th id=\"T_6f1ce998_885b_11eb_8781_acde48001122level0_row16\" class=\"row_heading level0 row16\" >16</th>\n",
       "                        <td id=\"T_6f1ce998_885b_11eb_8781_acde48001122row16_col0\" class=\"data row16 col0\" >Normalize Method </td>\n",
       "                        <td id=\"T_6f1ce998_885b_11eb_8781_acde48001122row16_col1\" class=\"data row16 col1\" >None</td>\n",
       "            </tr>\n",
       "            <tr>\n",
       "                        <th id=\"T_6f1ce998_885b_11eb_8781_acde48001122level0_row17\" class=\"row_heading level0 row17\" >17</th>\n",
       "                        <td id=\"T_6f1ce998_885b_11eb_8781_acde48001122row17_col0\" class=\"data row17 col0\" >Transformation </td>\n",
       "                        <td id=\"T_6f1ce998_885b_11eb_8781_acde48001122row17_col1\" class=\"data row17 col1\" >False</td>\n",
       "            </tr>\n",
       "            <tr>\n",
       "                        <th id=\"T_6f1ce998_885b_11eb_8781_acde48001122level0_row18\" class=\"row_heading level0 row18\" >18</th>\n",
       "                        <td id=\"T_6f1ce998_885b_11eb_8781_acde48001122row18_col0\" class=\"data row18 col0\" >Transformation Method </td>\n",
       "                        <td id=\"T_6f1ce998_885b_11eb_8781_acde48001122row18_col1\" class=\"data row18 col1\" >None</td>\n",
       "            </tr>\n",
       "            <tr>\n",
       "                        <th id=\"T_6f1ce998_885b_11eb_8781_acde48001122level0_row19\" class=\"row_heading level0 row19\" >19</th>\n",
       "                        <td id=\"T_6f1ce998_885b_11eb_8781_acde48001122row19_col0\" class=\"data row19 col0\" >PCA </td>\n",
       "                        <td id=\"T_6f1ce998_885b_11eb_8781_acde48001122row19_col1\" class=\"data row19 col1\" >False</td>\n",
       "            </tr>\n",
       "            <tr>\n",
       "                        <th id=\"T_6f1ce998_885b_11eb_8781_acde48001122level0_row20\" class=\"row_heading level0 row20\" >20</th>\n",
       "                        <td id=\"T_6f1ce998_885b_11eb_8781_acde48001122row20_col0\" class=\"data row20 col0\" >PCA Method </td>\n",
       "                        <td id=\"T_6f1ce998_885b_11eb_8781_acde48001122row20_col1\" class=\"data row20 col1\" >None</td>\n",
       "            </tr>\n",
       "            <tr>\n",
       "                        <th id=\"T_6f1ce998_885b_11eb_8781_acde48001122level0_row21\" class=\"row_heading level0 row21\" >21</th>\n",
       "                        <td id=\"T_6f1ce998_885b_11eb_8781_acde48001122row21_col0\" class=\"data row21 col0\" >PCA Components </td>\n",
       "                        <td id=\"T_6f1ce998_885b_11eb_8781_acde48001122row21_col1\" class=\"data row21 col1\" >None</td>\n",
       "            </tr>\n",
       "            <tr>\n",
       "                        <th id=\"T_6f1ce998_885b_11eb_8781_acde48001122level0_row22\" class=\"row_heading level0 row22\" >22</th>\n",
       "                        <td id=\"T_6f1ce998_885b_11eb_8781_acde48001122row22_col0\" class=\"data row22 col0\" >Ignore Low Variance </td>\n",
       "                        <td id=\"T_6f1ce998_885b_11eb_8781_acde48001122row22_col1\" class=\"data row22 col1\" >False</td>\n",
       "            </tr>\n",
       "            <tr>\n",
       "                        <th id=\"T_6f1ce998_885b_11eb_8781_acde48001122level0_row23\" class=\"row_heading level0 row23\" >23</th>\n",
       "                        <td id=\"T_6f1ce998_885b_11eb_8781_acde48001122row23_col0\" class=\"data row23 col0\" >Combine Rare Levels </td>\n",
       "                        <td id=\"T_6f1ce998_885b_11eb_8781_acde48001122row23_col1\" class=\"data row23 col1\" >False</td>\n",
       "            </tr>\n",
       "            <tr>\n",
       "                        <th id=\"T_6f1ce998_885b_11eb_8781_acde48001122level0_row24\" class=\"row_heading level0 row24\" >24</th>\n",
       "                        <td id=\"T_6f1ce998_885b_11eb_8781_acde48001122row24_col0\" class=\"data row24 col0\" >Rare Level Threshold </td>\n",
       "                        <td id=\"T_6f1ce998_885b_11eb_8781_acde48001122row24_col1\" class=\"data row24 col1\" >None</td>\n",
       "            </tr>\n",
       "            <tr>\n",
       "                        <th id=\"T_6f1ce998_885b_11eb_8781_acde48001122level0_row25\" class=\"row_heading level0 row25\" >25</th>\n",
       "                        <td id=\"T_6f1ce998_885b_11eb_8781_acde48001122row25_col0\" class=\"data row25 col0\" >Numeric Binning </td>\n",
       "                        <td id=\"T_6f1ce998_885b_11eb_8781_acde48001122row25_col1\" class=\"data row25 col1\" >False</td>\n",
       "            </tr>\n",
       "            <tr>\n",
       "                        <th id=\"T_6f1ce998_885b_11eb_8781_acde48001122level0_row26\" class=\"row_heading level0 row26\" >26</th>\n",
       "                        <td id=\"T_6f1ce998_885b_11eb_8781_acde48001122row26_col0\" class=\"data row26 col0\" >Remove Outliers </td>\n",
       "                        <td id=\"T_6f1ce998_885b_11eb_8781_acde48001122row26_col1\" class=\"data row26 col1\" >False</td>\n",
       "            </tr>\n",
       "            <tr>\n",
       "                        <th id=\"T_6f1ce998_885b_11eb_8781_acde48001122level0_row27\" class=\"row_heading level0 row27\" >27</th>\n",
       "                        <td id=\"T_6f1ce998_885b_11eb_8781_acde48001122row27_col0\" class=\"data row27 col0\" >Outliers Threshold </td>\n",
       "                        <td id=\"T_6f1ce998_885b_11eb_8781_acde48001122row27_col1\" class=\"data row27 col1\" >None</td>\n",
       "            </tr>\n",
       "            <tr>\n",
       "                        <th id=\"T_6f1ce998_885b_11eb_8781_acde48001122level0_row28\" class=\"row_heading level0 row28\" >28</th>\n",
       "                        <td id=\"T_6f1ce998_885b_11eb_8781_acde48001122row28_col0\" class=\"data row28 col0\" >Remove Multicollinearity </td>\n",
       "                        <td id=\"T_6f1ce998_885b_11eb_8781_acde48001122row28_col1\" class=\"data row28 col1\" >False</td>\n",
       "            </tr>\n",
       "            <tr>\n",
       "                        <th id=\"T_6f1ce998_885b_11eb_8781_acde48001122level0_row29\" class=\"row_heading level0 row29\" >29</th>\n",
       "                        <td id=\"T_6f1ce998_885b_11eb_8781_acde48001122row29_col0\" class=\"data row29 col0\" >Multicollinearity Threshold </td>\n",
       "                        <td id=\"T_6f1ce998_885b_11eb_8781_acde48001122row29_col1\" class=\"data row29 col1\" >None</td>\n",
       "            </tr>\n",
       "            <tr>\n",
       "                        <th id=\"T_6f1ce998_885b_11eb_8781_acde48001122level0_row30\" class=\"row_heading level0 row30\" >30</th>\n",
       "                        <td id=\"T_6f1ce998_885b_11eb_8781_acde48001122row30_col0\" class=\"data row30 col0\" >Clustering </td>\n",
       "                        <td id=\"T_6f1ce998_885b_11eb_8781_acde48001122row30_col1\" class=\"data row30 col1\" >False</td>\n",
       "            </tr>\n",
       "            <tr>\n",
       "                        <th id=\"T_6f1ce998_885b_11eb_8781_acde48001122level0_row31\" class=\"row_heading level0 row31\" >31</th>\n",
       "                        <td id=\"T_6f1ce998_885b_11eb_8781_acde48001122row31_col0\" class=\"data row31 col0\" >Clustering Iteration </td>\n",
       "                        <td id=\"T_6f1ce998_885b_11eb_8781_acde48001122row31_col1\" class=\"data row31 col1\" >None</td>\n",
       "            </tr>\n",
       "            <tr>\n",
       "                        <th id=\"T_6f1ce998_885b_11eb_8781_acde48001122level0_row32\" class=\"row_heading level0 row32\" >32</th>\n",
       "                        <td id=\"T_6f1ce998_885b_11eb_8781_acde48001122row32_col0\" class=\"data row32 col0\" >Polynomial Features </td>\n",
       "                        <td id=\"T_6f1ce998_885b_11eb_8781_acde48001122row32_col1\" class=\"data row32 col1\" >False</td>\n",
       "            </tr>\n",
       "            <tr>\n",
       "                        <th id=\"T_6f1ce998_885b_11eb_8781_acde48001122level0_row33\" class=\"row_heading level0 row33\" >33</th>\n",
       "                        <td id=\"T_6f1ce998_885b_11eb_8781_acde48001122row33_col0\" class=\"data row33 col0\" >Polynomial Degree </td>\n",
       "                        <td id=\"T_6f1ce998_885b_11eb_8781_acde48001122row33_col1\" class=\"data row33 col1\" >None</td>\n",
       "            </tr>\n",
       "            <tr>\n",
       "                        <th id=\"T_6f1ce998_885b_11eb_8781_acde48001122level0_row34\" class=\"row_heading level0 row34\" >34</th>\n",
       "                        <td id=\"T_6f1ce998_885b_11eb_8781_acde48001122row34_col0\" class=\"data row34 col0\" >Trignometry Features </td>\n",
       "                        <td id=\"T_6f1ce998_885b_11eb_8781_acde48001122row34_col1\" class=\"data row34 col1\" >False</td>\n",
       "            </tr>\n",
       "            <tr>\n",
       "                        <th id=\"T_6f1ce998_885b_11eb_8781_acde48001122level0_row35\" class=\"row_heading level0 row35\" >35</th>\n",
       "                        <td id=\"T_6f1ce998_885b_11eb_8781_acde48001122row35_col0\" class=\"data row35 col0\" >Polynomial Threshold </td>\n",
       "                        <td id=\"T_6f1ce998_885b_11eb_8781_acde48001122row35_col1\" class=\"data row35 col1\" >None</td>\n",
       "            </tr>\n",
       "            <tr>\n",
       "                        <th id=\"T_6f1ce998_885b_11eb_8781_acde48001122level0_row36\" class=\"row_heading level0 row36\" >36</th>\n",
       "                        <td id=\"T_6f1ce998_885b_11eb_8781_acde48001122row36_col0\" class=\"data row36 col0\" >Group Features </td>\n",
       "                        <td id=\"T_6f1ce998_885b_11eb_8781_acde48001122row36_col1\" class=\"data row36 col1\" >False</td>\n",
       "            </tr>\n",
       "            <tr>\n",
       "                        <th id=\"T_6f1ce998_885b_11eb_8781_acde48001122level0_row37\" class=\"row_heading level0 row37\" >37</th>\n",
       "                        <td id=\"T_6f1ce998_885b_11eb_8781_acde48001122row37_col0\" class=\"data row37 col0\" >Feature Selection </td>\n",
       "                        <td id=\"T_6f1ce998_885b_11eb_8781_acde48001122row37_col1\" class=\"data row37 col1\" >False</td>\n",
       "            </tr>\n",
       "            <tr>\n",
       "                        <th id=\"T_6f1ce998_885b_11eb_8781_acde48001122level0_row38\" class=\"row_heading level0 row38\" >38</th>\n",
       "                        <td id=\"T_6f1ce998_885b_11eb_8781_acde48001122row38_col0\" class=\"data row38 col0\" >Features Selection Threshold </td>\n",
       "                        <td id=\"T_6f1ce998_885b_11eb_8781_acde48001122row38_col1\" class=\"data row38 col1\" >None</td>\n",
       "            </tr>\n",
       "            <tr>\n",
       "                        <th id=\"T_6f1ce998_885b_11eb_8781_acde48001122level0_row39\" class=\"row_heading level0 row39\" >39</th>\n",
       "                        <td id=\"T_6f1ce998_885b_11eb_8781_acde48001122row39_col0\" class=\"data row39 col0\" >Feature Interaction </td>\n",
       "                        <td id=\"T_6f1ce998_885b_11eb_8781_acde48001122row39_col1\" class=\"data row39 col1\" >False</td>\n",
       "            </tr>\n",
       "            <tr>\n",
       "                        <th id=\"T_6f1ce998_885b_11eb_8781_acde48001122level0_row40\" class=\"row_heading level0 row40\" >40</th>\n",
       "                        <td id=\"T_6f1ce998_885b_11eb_8781_acde48001122row40_col0\" class=\"data row40 col0\" >Feature Ratio </td>\n",
       "                        <td id=\"T_6f1ce998_885b_11eb_8781_acde48001122row40_col1\" class=\"data row40 col1\" >False</td>\n",
       "            </tr>\n",
       "            <tr>\n",
       "                        <th id=\"T_6f1ce998_885b_11eb_8781_acde48001122level0_row41\" class=\"row_heading level0 row41\" >41</th>\n",
       "                        <td id=\"T_6f1ce998_885b_11eb_8781_acde48001122row41_col0\" class=\"data row41 col0\" >Interaction Threshold </td>\n",
       "                        <td id=\"T_6f1ce998_885b_11eb_8781_acde48001122row41_col1\" class=\"data row41 col1\" >None</td>\n",
       "            </tr>\n",
       "            <tr>\n",
       "                        <th id=\"T_6f1ce998_885b_11eb_8781_acde48001122level0_row42\" class=\"row_heading level0 row42\" >42</th>\n",
       "                        <td id=\"T_6f1ce998_885b_11eb_8781_acde48001122row42_col0\" class=\"data row42 col0\" >Fix Imbalance</td>\n",
       "                        <td id=\"T_6f1ce998_885b_11eb_8781_acde48001122row42_col1\" class=\"data row42 col1\" >True</td>\n",
       "            </tr>\n",
       "            <tr>\n",
       "                        <th id=\"T_6f1ce998_885b_11eb_8781_acde48001122level0_row43\" class=\"row_heading level0 row43\" >43</th>\n",
       "                        <td id=\"T_6f1ce998_885b_11eb_8781_acde48001122row43_col0\" class=\"data row43 col0\" >Fix Imbalance Method</td>\n",
       "                        <td id=\"T_6f1ce998_885b_11eb_8781_acde48001122row43_col1\" class=\"data row43 col1\" >SMOTE</td>\n",
       "            </tr>\n",
       "    </tbody></table>"
      ],
      "text/plain": [
       "<pandas.io.formats.style.Styler at 0x7fe2c541d2b0>"
      ]
     },
     "metadata": {},
     "output_type": "display_data"
    }
   ],
   "source": [
    "clf1 = setup(data=data,target='Response',fix_imbalance=True,session_id=123,numeric_features=['Long_Term_Cust','Health_Indicator','Accomodation_Type','Reco_Insurance_Type','Married','Holding_Policy_Duration','Holding_Policy_Type'])"
   ]
  },
  {
   "cell_type": "code",
   "execution_count": 41,
   "metadata": {
    "ExecuteTime": {
     "end_time": "2021-03-19T02:37:38.460315Z",
     "start_time": "2021-03-19T02:33:05.285312Z"
    }
   },
   "outputs": [
    {
     "data": {
      "text/html": [
       "<style  type=\"text/css\" >\n",
       "    #T_11ec4a74_885c_11eb_8db0_acde48001122 th {\n",
       "          text-align: left;\n",
       "    }#T_11ec4a74_885c_11eb_8db0_acde48001122row0_col0,#T_11ec4a74_885c_11eb_8db0_acde48001122row0_col2,#T_11ec4a74_885c_11eb_8db0_acde48001122row0_col3,#T_11ec4a74_885c_11eb_8db0_acde48001122row0_col4,#T_11ec4a74_885c_11eb_8db0_acde48001122row0_col5,#T_11ec4a74_885c_11eb_8db0_acde48001122row0_col6,#T_11ec4a74_885c_11eb_8db0_acde48001122row0_col7,#T_11ec4a74_885c_11eb_8db0_acde48001122row1_col0,#T_11ec4a74_885c_11eb_8db0_acde48001122row1_col1,#T_11ec4a74_885c_11eb_8db0_acde48001122row1_col2,#T_11ec4a74_885c_11eb_8db0_acde48001122row1_col3,#T_11ec4a74_885c_11eb_8db0_acde48001122row1_col4,#T_11ec4a74_885c_11eb_8db0_acde48001122row1_col5,#T_11ec4a74_885c_11eb_8db0_acde48001122row1_col6,#T_11ec4a74_885c_11eb_8db0_acde48001122row1_col7,#T_11ec4a74_885c_11eb_8db0_acde48001122row2_col0,#T_11ec4a74_885c_11eb_8db0_acde48001122row2_col1,#T_11ec4a74_885c_11eb_8db0_acde48001122row2_col3,#T_11ec4a74_885c_11eb_8db0_acde48001122row2_col5,#T_11ec4a74_885c_11eb_8db0_acde48001122row2_col6,#T_11ec4a74_885c_11eb_8db0_acde48001122row2_col7,#T_11ec4a74_885c_11eb_8db0_acde48001122row3_col0,#T_11ec4a74_885c_11eb_8db0_acde48001122row3_col1,#T_11ec4a74_885c_11eb_8db0_acde48001122row3_col2,#T_11ec4a74_885c_11eb_8db0_acde48001122row3_col3,#T_11ec4a74_885c_11eb_8db0_acde48001122row3_col4,#T_11ec4a74_885c_11eb_8db0_acde48001122row3_col5,#T_11ec4a74_885c_11eb_8db0_acde48001122row3_col6,#T_11ec4a74_885c_11eb_8db0_acde48001122row4_col0,#T_11ec4a74_885c_11eb_8db0_acde48001122row4_col1,#T_11ec4a74_885c_11eb_8db0_acde48001122row4_col2,#T_11ec4a74_885c_11eb_8db0_acde48001122row4_col3,#T_11ec4a74_885c_11eb_8db0_acde48001122row4_col4,#T_11ec4a74_885c_11eb_8db0_acde48001122row4_col5,#T_11ec4a74_885c_11eb_8db0_acde48001122row4_col6,#T_11ec4a74_885c_11eb_8db0_acde48001122row4_col7,#T_11ec4a74_885c_11eb_8db0_acde48001122row5_col0,#T_11ec4a74_885c_11eb_8db0_acde48001122row5_col1,#T_11ec4a74_885c_11eb_8db0_acde48001122row5_col2,#T_11ec4a74_885c_11eb_8db0_acde48001122row5_col3,#T_11ec4a74_885c_11eb_8db0_acde48001122row5_col4,#T_11ec4a74_885c_11eb_8db0_acde48001122row5_col5,#T_11ec4a74_885c_11eb_8db0_acde48001122row5_col6,#T_11ec4a74_885c_11eb_8db0_acde48001122row5_col7,#T_11ec4a74_885c_11eb_8db0_acde48001122row6_col0,#T_11ec4a74_885c_11eb_8db0_acde48001122row6_col1,#T_11ec4a74_885c_11eb_8db0_acde48001122row6_col2,#T_11ec4a74_885c_11eb_8db0_acde48001122row6_col3,#T_11ec4a74_885c_11eb_8db0_acde48001122row6_col4,#T_11ec4a74_885c_11eb_8db0_acde48001122row6_col5,#T_11ec4a74_885c_11eb_8db0_acde48001122row6_col6,#T_11ec4a74_885c_11eb_8db0_acde48001122row6_col7,#T_11ec4a74_885c_11eb_8db0_acde48001122row7_col0,#T_11ec4a74_885c_11eb_8db0_acde48001122row7_col1,#T_11ec4a74_885c_11eb_8db0_acde48001122row7_col2,#T_11ec4a74_885c_11eb_8db0_acde48001122row7_col3,#T_11ec4a74_885c_11eb_8db0_acde48001122row7_col4,#T_11ec4a74_885c_11eb_8db0_acde48001122row7_col5,#T_11ec4a74_885c_11eb_8db0_acde48001122row7_col7,#T_11ec4a74_885c_11eb_8db0_acde48001122row8_col0,#T_11ec4a74_885c_11eb_8db0_acde48001122row8_col1,#T_11ec4a74_885c_11eb_8db0_acde48001122row8_col2,#T_11ec4a74_885c_11eb_8db0_acde48001122row8_col3,#T_11ec4a74_885c_11eb_8db0_acde48001122row8_col4,#T_11ec4a74_885c_11eb_8db0_acde48001122row8_col5,#T_11ec4a74_885c_11eb_8db0_acde48001122row8_col6,#T_11ec4a74_885c_11eb_8db0_acde48001122row8_col7,#T_11ec4a74_885c_11eb_8db0_acde48001122row9_col0,#T_11ec4a74_885c_11eb_8db0_acde48001122row9_col1,#T_11ec4a74_885c_11eb_8db0_acde48001122row9_col2,#T_11ec4a74_885c_11eb_8db0_acde48001122row9_col3,#T_11ec4a74_885c_11eb_8db0_acde48001122row9_col4,#T_11ec4a74_885c_11eb_8db0_acde48001122row9_col5,#T_11ec4a74_885c_11eb_8db0_acde48001122row9_col6,#T_11ec4a74_885c_11eb_8db0_acde48001122row9_col7,#T_11ec4a74_885c_11eb_8db0_acde48001122row10_col0,#T_11ec4a74_885c_11eb_8db0_acde48001122row10_col1,#T_11ec4a74_885c_11eb_8db0_acde48001122row10_col2,#T_11ec4a74_885c_11eb_8db0_acde48001122row10_col3,#T_11ec4a74_885c_11eb_8db0_acde48001122row10_col4,#T_11ec4a74_885c_11eb_8db0_acde48001122row10_col5,#T_11ec4a74_885c_11eb_8db0_acde48001122row10_col6,#T_11ec4a74_885c_11eb_8db0_acde48001122row10_col7,#T_11ec4a74_885c_11eb_8db0_acde48001122row11_col0,#T_11ec4a74_885c_11eb_8db0_acde48001122row11_col1,#T_11ec4a74_885c_11eb_8db0_acde48001122row11_col2,#T_11ec4a74_885c_11eb_8db0_acde48001122row11_col3,#T_11ec4a74_885c_11eb_8db0_acde48001122row11_col4,#T_11ec4a74_885c_11eb_8db0_acde48001122row11_col5,#T_11ec4a74_885c_11eb_8db0_acde48001122row11_col6,#T_11ec4a74_885c_11eb_8db0_acde48001122row11_col7,#T_11ec4a74_885c_11eb_8db0_acde48001122row12_col0,#T_11ec4a74_885c_11eb_8db0_acde48001122row12_col1,#T_11ec4a74_885c_11eb_8db0_acde48001122row12_col2,#T_11ec4a74_885c_11eb_8db0_acde48001122row12_col3,#T_11ec4a74_885c_11eb_8db0_acde48001122row12_col4,#T_11ec4a74_885c_11eb_8db0_acde48001122row12_col5,#T_11ec4a74_885c_11eb_8db0_acde48001122row12_col6,#T_11ec4a74_885c_11eb_8db0_acde48001122row12_col7,#T_11ec4a74_885c_11eb_8db0_acde48001122row13_col0,#T_11ec4a74_885c_11eb_8db0_acde48001122row13_col1,#T_11ec4a74_885c_11eb_8db0_acde48001122row13_col2,#T_11ec4a74_885c_11eb_8db0_acde48001122row13_col3,#T_11ec4a74_885c_11eb_8db0_acde48001122row13_col4,#T_11ec4a74_885c_11eb_8db0_acde48001122row13_col5,#T_11ec4a74_885c_11eb_8db0_acde48001122row13_col6,#T_11ec4a74_885c_11eb_8db0_acde48001122row13_col7,#T_11ec4a74_885c_11eb_8db0_acde48001122row14_col0,#T_11ec4a74_885c_11eb_8db0_acde48001122row14_col1,#T_11ec4a74_885c_11eb_8db0_acde48001122row14_col2,#T_11ec4a74_885c_11eb_8db0_acde48001122row14_col4,#T_11ec4a74_885c_11eb_8db0_acde48001122row14_col6,#T_11ec4a74_885c_11eb_8db0_acde48001122row14_col7{\n",
       "            text-align:  left;\n",
       "        }#T_11ec4a74_885c_11eb_8db0_acde48001122row0_col1,#T_11ec4a74_885c_11eb_8db0_acde48001122row2_col2,#T_11ec4a74_885c_11eb_8db0_acde48001122row2_col4,#T_11ec4a74_885c_11eb_8db0_acde48001122row3_col7,#T_11ec4a74_885c_11eb_8db0_acde48001122row7_col6,#T_11ec4a74_885c_11eb_8db0_acde48001122row14_col3,#T_11ec4a74_885c_11eb_8db0_acde48001122row14_col5{\n",
       "            background-color:  yellow;\n",
       "            text-align:  left;\n",
       "        }#T_11ec4a74_885c_11eb_8db0_acde48001122row0_col8,#T_11ec4a74_885c_11eb_8db0_acde48001122row1_col8,#T_11ec4a74_885c_11eb_8db0_acde48001122row2_col8,#T_11ec4a74_885c_11eb_8db0_acde48001122row3_col8,#T_11ec4a74_885c_11eb_8db0_acde48001122row4_col8,#T_11ec4a74_885c_11eb_8db0_acde48001122row5_col8,#T_11ec4a74_885c_11eb_8db0_acde48001122row6_col8,#T_11ec4a74_885c_11eb_8db0_acde48001122row7_col8,#T_11ec4a74_885c_11eb_8db0_acde48001122row8_col8,#T_11ec4a74_885c_11eb_8db0_acde48001122row9_col8,#T_11ec4a74_885c_11eb_8db0_acde48001122row10_col8,#T_11ec4a74_885c_11eb_8db0_acde48001122row11_col8,#T_11ec4a74_885c_11eb_8db0_acde48001122row12_col8,#T_11ec4a74_885c_11eb_8db0_acde48001122row13_col8,#T_11ec4a74_885c_11eb_8db0_acde48001122row14_col8{\n",
       "            background-color:  lightgrey;\n",
       "            text-align:  left;\n",
       "        }</style><table id=\"T_11ec4a74_885c_11eb_8db0_acde48001122\" ><thead>    <tr>        <th class=\"blank level0\" ></th>        <th class=\"col_heading level0 col0\" >Model</th>        <th class=\"col_heading level0 col1\" >Accuracy</th>        <th class=\"col_heading level0 col2\" >AUC</th>        <th class=\"col_heading level0 col3\" >Recall</th>        <th class=\"col_heading level0 col4\" >Prec.</th>        <th class=\"col_heading level0 col5\" >F1</th>        <th class=\"col_heading level0 col6\" >Kappa</th>        <th class=\"col_heading level0 col7\" >MCC</th>        <th class=\"col_heading level0 col8\" >TT (Sec)</th>    </tr></thead><tbody>\n",
       "                <tr>\n",
       "                        <th id=\"T_11ec4a74_885c_11eb_8db0_acde48001122level0_row0\" class=\"row_heading level0 row0\" >0</th>\n",
       "                        <td id=\"T_11ec4a74_885c_11eb_8db0_acde48001122row0_col0\" class=\"data row0 col0\" >Extreme Gradient Boosting</td>\n",
       "                        <td id=\"T_11ec4a74_885c_11eb_8db0_acde48001122row0_col1\" class=\"data row0 col1\" >0.7590</td>\n",
       "                        <td id=\"T_11ec4a74_885c_11eb_8db0_acde48001122row0_col2\" class=\"data row0 col2\" >0.5988</td>\n",
       "                        <td id=\"T_11ec4a74_885c_11eb_8db0_acde48001122row0_col3\" class=\"data row0 col3\" >0.0059</td>\n",
       "                        <td id=\"T_11ec4a74_885c_11eb_8db0_acde48001122row0_col4\" class=\"data row0 col4\" >0.4116</td>\n",
       "                        <td id=\"T_11ec4a74_885c_11eb_8db0_acde48001122row0_col5\" class=\"data row0 col5\" >0.0116</td>\n",
       "                        <td id=\"T_11ec4a74_885c_11eb_8db0_acde48001122row0_col6\" class=\"data row0 col6\" >0.0052</td>\n",
       "                        <td id=\"T_11ec4a74_885c_11eb_8db0_acde48001122row0_col7\" class=\"data row0 col7\" >0.0239</td>\n",
       "                        <td id=\"T_11ec4a74_885c_11eb_8db0_acde48001122row0_col8\" class=\"data row0 col8\" >1.1364</td>\n",
       "            </tr>\n",
       "            <tr>\n",
       "                        <th id=\"T_11ec4a74_885c_11eb_8db0_acde48001122level0_row1\" class=\"row_heading level0 row1\" >1</th>\n",
       "                        <td id=\"T_11ec4a74_885c_11eb_8db0_acde48001122row1_col0\" class=\"data row1 col0\" >Gradient Boosting Classifier</td>\n",
       "                        <td id=\"T_11ec4a74_885c_11eb_8db0_acde48001122row1_col1\" class=\"data row1 col1\" >0.7588</td>\n",
       "                        <td id=\"T_11ec4a74_885c_11eb_8db0_acde48001122row1_col2\" class=\"data row1 col2\" >0.5907</td>\n",
       "                        <td id=\"T_11ec4a74_885c_11eb_8db0_acde48001122row1_col3\" class=\"data row1 col3\" >0.0085</td>\n",
       "                        <td id=\"T_11ec4a74_885c_11eb_8db0_acde48001122row1_col4\" class=\"data row1 col4\" >0.4490</td>\n",
       "                        <td id=\"T_11ec4a74_885c_11eb_8db0_acde48001122row1_col5\" class=\"data row1 col5\" >0.0167</td>\n",
       "                        <td id=\"T_11ec4a74_885c_11eb_8db0_acde48001122row1_col6\" class=\"data row1 col6\" >0.0075</td>\n",
       "                        <td id=\"T_11ec4a74_885c_11eb_8db0_acde48001122row1_col7\" class=\"data row1 col7\" >0.0319</td>\n",
       "                        <td id=\"T_11ec4a74_885c_11eb_8db0_acde48001122row1_col8\" class=\"data row1 col8\" >4.0366</td>\n",
       "            </tr>\n",
       "            <tr>\n",
       "                        <th id=\"T_11ec4a74_885c_11eb_8db0_acde48001122level0_row2\" class=\"row_heading level0 row2\" >2</th>\n",
       "                        <td id=\"T_11ec4a74_885c_11eb_8db0_acde48001122row2_col0\" class=\"data row2 col0\" >Light Gradient Boosting Machine</td>\n",
       "                        <td id=\"T_11ec4a74_885c_11eb_8db0_acde48001122row2_col1\" class=\"data row2 col1\" >0.7579</td>\n",
       "                        <td id=\"T_11ec4a74_885c_11eb_8db0_acde48001122row2_col2\" class=\"data row2 col2\" >0.6399</td>\n",
       "                        <td id=\"T_11ec4a74_885c_11eb_8db0_acde48001122row2_col3\" class=\"data row2 col3\" >0.0350</td>\n",
       "                        <td id=\"T_11ec4a74_885c_11eb_8db0_acde48001122row2_col4\" class=\"data row2 col4\" >0.4646</td>\n",
       "                        <td id=\"T_11ec4a74_885c_11eb_8db0_acde48001122row2_col5\" class=\"data row2 col5\" >0.0649</td>\n",
       "                        <td id=\"T_11ec4a74_885c_11eb_8db0_acde48001122row2_col6\" class=\"data row2 col6\" >0.0320</td>\n",
       "                        <td id=\"T_11ec4a74_885c_11eb_8db0_acde48001122row2_col7\" class=\"data row2 col7\" >0.0703</td>\n",
       "                        <td id=\"T_11ec4a74_885c_11eb_8db0_acde48001122row2_col8\" class=\"data row2 col8\" >0.3173</td>\n",
       "            </tr>\n",
       "            <tr>\n",
       "                        <th id=\"T_11ec4a74_885c_11eb_8db0_acde48001122level0_row3\" class=\"row_heading level0 row3\" >3</th>\n",
       "                        <td id=\"T_11ec4a74_885c_11eb_8db0_acde48001122row3_col0\" class=\"data row3 col0\" >CatBoost Classifier</td>\n",
       "                        <td id=\"T_11ec4a74_885c_11eb_8db0_acde48001122row3_col1\" class=\"data row3 col1\" >0.7565</td>\n",
       "                        <td id=\"T_11ec4a74_885c_11eb_8db0_acde48001122row3_col2\" class=\"data row3 col2\" >0.6345</td>\n",
       "                        <td id=\"T_11ec4a74_885c_11eb_8db0_acde48001122row3_col3\" class=\"data row3 col3\" >0.0472</td>\n",
       "                        <td id=\"T_11ec4a74_885c_11eb_8db0_acde48001122row3_col4\" class=\"data row3 col4\" >0.4474</td>\n",
       "                        <td id=\"T_11ec4a74_885c_11eb_8db0_acde48001122row3_col5\" class=\"data row3 col5\" >0.0851</td>\n",
       "                        <td id=\"T_11ec4a74_885c_11eb_8db0_acde48001122row3_col6\" class=\"data row3 col6\" >0.0408</td>\n",
       "                        <td id=\"T_11ec4a74_885c_11eb_8db0_acde48001122row3_col7\" class=\"data row3 col7\" >0.0772</td>\n",
       "                        <td id=\"T_11ec4a74_885c_11eb_8db0_acde48001122row3_col8\" class=\"data row3 col8\" >13.1917</td>\n",
       "            </tr>\n",
       "            <tr>\n",
       "                        <th id=\"T_11ec4a74_885c_11eb_8db0_acde48001122level0_row4\" class=\"row_heading level0 row4\" >4</th>\n",
       "                        <td id=\"T_11ec4a74_885c_11eb_8db0_acde48001122row4_col0\" class=\"data row4 col0\" >Ada Boost Classifier</td>\n",
       "                        <td id=\"T_11ec4a74_885c_11eb_8db0_acde48001122row4_col1\" class=\"data row4 col1\" >0.7434</td>\n",
       "                        <td id=\"T_11ec4a74_885c_11eb_8db0_acde48001122row4_col2\" class=\"data row4 col2\" >0.5607</td>\n",
       "                        <td id=\"T_11ec4a74_885c_11eb_8db0_acde48001122row4_col3\" class=\"data row4 col3\" >0.0579</td>\n",
       "                        <td id=\"T_11ec4a74_885c_11eb_8db0_acde48001122row4_col4\" class=\"data row4 col4\" >0.3240</td>\n",
       "                        <td id=\"T_11ec4a74_885c_11eb_8db0_acde48001122row4_col5\" class=\"data row4 col5\" >0.0974</td>\n",
       "                        <td id=\"T_11ec4a74_885c_11eb_8db0_acde48001122row4_col6\" class=\"data row4 col6\" >0.0255</td>\n",
       "                        <td id=\"T_11ec4a74_885c_11eb_8db0_acde48001122row4_col7\" class=\"data row4 col7\" >0.0396</td>\n",
       "                        <td id=\"T_11ec4a74_885c_11eb_8db0_acde48001122row4_col8\" class=\"data row4 col8\" >1.2481</td>\n",
       "            </tr>\n",
       "            <tr>\n",
       "                        <th id=\"T_11ec4a74_885c_11eb_8db0_acde48001122level0_row5\" class=\"row_heading level0 row5\" >5</th>\n",
       "                        <td id=\"T_11ec4a74_885c_11eb_8db0_acde48001122row5_col0\" class=\"data row5 col0\" >Random Forest Classifier</td>\n",
       "                        <td id=\"T_11ec4a74_885c_11eb_8db0_acde48001122row5_col1\" class=\"data row5 col1\" >0.7301</td>\n",
       "                        <td id=\"T_11ec4a74_885c_11eb_8db0_acde48001122row5_col2\" class=\"data row5 col2\" >0.5536</td>\n",
       "                        <td id=\"T_11ec4a74_885c_11eb_8db0_acde48001122row5_col3\" class=\"data row5 col3\" >0.0973</td>\n",
       "                        <td id=\"T_11ec4a74_885c_11eb_8db0_acde48001122row5_col4\" class=\"data row5 col4\" >0.3082</td>\n",
       "                        <td id=\"T_11ec4a74_885c_11eb_8db0_acde48001122row5_col5\" class=\"data row5 col5\" >0.1476</td>\n",
       "                        <td id=\"T_11ec4a74_885c_11eb_8db0_acde48001122row5_col6\" class=\"data row5 col6\" >0.0363</td>\n",
       "                        <td id=\"T_11ec4a74_885c_11eb_8db0_acde48001122row5_col7\" class=\"data row5 col7\" >0.0450</td>\n",
       "                        <td id=\"T_11ec4a74_885c_11eb_8db0_acde48001122row5_col8\" class=\"data row5 col8\" >0.1175</td>\n",
       "            </tr>\n",
       "            <tr>\n",
       "                        <th id=\"T_11ec4a74_885c_11eb_8db0_acde48001122level0_row6\" class=\"row_heading level0 row6\" >6</th>\n",
       "                        <td id=\"T_11ec4a74_885c_11eb_8db0_acde48001122row6_col0\" class=\"data row6 col0\" >Extra Trees Classifier</td>\n",
       "                        <td id=\"T_11ec4a74_885c_11eb_8db0_acde48001122row6_col1\" class=\"data row6 col1\" >0.7278</td>\n",
       "                        <td id=\"T_11ec4a74_885c_11eb_8db0_acde48001122row6_col2\" class=\"data row6 col2\" >0.5574</td>\n",
       "                        <td id=\"T_11ec4a74_885c_11eb_8db0_acde48001122row6_col3\" class=\"data row6 col3\" >0.1219</td>\n",
       "                        <td id=\"T_11ec4a74_885c_11eb_8db0_acde48001122row6_col4\" class=\"data row6 col4\" >0.3254</td>\n",
       "                        <td id=\"T_11ec4a74_885c_11eb_8db0_acde48001122row6_col5\" class=\"data row6 col5\" >0.1773</td>\n",
       "                        <td id=\"T_11ec4a74_885c_11eb_8db0_acde48001122row6_col6\" class=\"data row6 col6\" >0.0530</td>\n",
       "                        <td id=\"T_11ec4a74_885c_11eb_8db0_acde48001122row6_col7\" class=\"data row6 col7\" >0.0623</td>\n",
       "                        <td id=\"T_11ec4a74_885c_11eb_8db0_acde48001122row6_col8\" class=\"data row6 col8\" >0.5733</td>\n",
       "            </tr>\n",
       "            <tr>\n",
       "                        <th id=\"T_11ec4a74_885c_11eb_8db0_acde48001122level0_row7\" class=\"row_heading level0 row7\" >7</th>\n",
       "                        <td id=\"T_11ec4a74_885c_11eb_8db0_acde48001122row7_col0\" class=\"data row7 col0\" >Decision Tree Classifier</td>\n",
       "                        <td id=\"T_11ec4a74_885c_11eb_8db0_acde48001122row7_col1\" class=\"data row7 col1\" >0.6525</td>\n",
       "                        <td id=\"T_11ec4a74_885c_11eb_8db0_acde48001122row7_col2\" class=\"data row7 col2\" >0.5362</td>\n",
       "                        <td id=\"T_11ec4a74_885c_11eb_8db0_acde48001122row7_col3\" class=\"data row7 col3\" >0.3119</td>\n",
       "                        <td id=\"T_11ec4a74_885c_11eb_8db0_acde48001122row7_col4\" class=\"data row7 col4\" >0.2917</td>\n",
       "                        <td id=\"T_11ec4a74_885c_11eb_8db0_acde48001122row7_col5\" class=\"data row7 col5\" >0.3013</td>\n",
       "                        <td id=\"T_11ec4a74_885c_11eb_8db0_acde48001122row7_col6\" class=\"data row7 col6\" >0.0705</td>\n",
       "                        <td id=\"T_11ec4a74_885c_11eb_8db0_acde48001122row7_col7\" class=\"data row7 col7\" >0.0706</td>\n",
       "                        <td id=\"T_11ec4a74_885c_11eb_8db0_acde48001122row7_col8\" class=\"data row7 col8\" >0.1845</td>\n",
       "            </tr>\n",
       "            <tr>\n",
       "                        <th id=\"T_11ec4a74_885c_11eb_8db0_acde48001122level0_row8\" class=\"row_heading level0 row8\" >8</th>\n",
       "                        <td id=\"T_11ec4a74_885c_11eb_8db0_acde48001122row8_col0\" class=\"data row8 col0\" >SVM - Linear Kernel</td>\n",
       "                        <td id=\"T_11ec4a74_885c_11eb_8db0_acde48001122row8_col1\" class=\"data row8 col1\" >0.5522</td>\n",
       "                        <td id=\"T_11ec4a74_885c_11eb_8db0_acde48001122row8_col2\" class=\"data row8 col2\" >0.0000</td>\n",
       "                        <td id=\"T_11ec4a74_885c_11eb_8db0_acde48001122row8_col3\" class=\"data row8 col3\" >0.3998</td>\n",
       "                        <td id=\"T_11ec4a74_885c_11eb_8db0_acde48001122row8_col4\" class=\"data row8 col4\" >0.0963</td>\n",
       "                        <td id=\"T_11ec4a74_885c_11eb_8db0_acde48001122row8_col5\" class=\"data row8 col5\" >0.1552</td>\n",
       "                        <td id=\"T_11ec4a74_885c_11eb_8db0_acde48001122row8_col6\" class=\"data row8 col6\" >0.0001</td>\n",
       "                        <td id=\"T_11ec4a74_885c_11eb_8db0_acde48001122row8_col7\" class=\"data row8 col7\" >0.0014</td>\n",
       "                        <td id=\"T_11ec4a74_885c_11eb_8db0_acde48001122row8_col8\" class=\"data row8 col8\" >1.5479</td>\n",
       "            </tr>\n",
       "            <tr>\n",
       "                        <th id=\"T_11ec4a74_885c_11eb_8db0_acde48001122level0_row9\" class=\"row_heading level0 row9\" >9</th>\n",
       "                        <td id=\"T_11ec4a74_885c_11eb_8db0_acde48001122row9_col0\" class=\"data row9 col0\" >K Neighbors Classifier</td>\n",
       "                        <td id=\"T_11ec4a74_885c_11eb_8db0_acde48001122row9_col1\" class=\"data row9 col1\" >0.5288</td>\n",
       "                        <td id=\"T_11ec4a74_885c_11eb_8db0_acde48001122row9_col2\" class=\"data row9 col2\" >0.5035</td>\n",
       "                        <td id=\"T_11ec4a74_885c_11eb_8db0_acde48001122row9_col3\" class=\"data row9 col3\" >0.4495</td>\n",
       "                        <td id=\"T_11ec4a74_885c_11eb_8db0_acde48001122row9_col4\" class=\"data row9 col4\" >0.2420</td>\n",
       "                        <td id=\"T_11ec4a74_885c_11eb_8db0_acde48001122row9_col5\" class=\"data row9 col5\" >0.3146</td>\n",
       "                        <td id=\"T_11ec4a74_885c_11eb_8db0_acde48001122row9_col6\" class=\"data row9 col6\" >0.0027</td>\n",
       "                        <td id=\"T_11ec4a74_885c_11eb_8db0_acde48001122row9_col7\" class=\"data row9 col7\" >0.0029</td>\n",
       "                        <td id=\"T_11ec4a74_885c_11eb_8db0_acde48001122row9_col8\" class=\"data row9 col8\" >0.1158</td>\n",
       "            </tr>\n",
       "            <tr>\n",
       "                        <th id=\"T_11ec4a74_885c_11eb_8db0_acde48001122level0_row10\" class=\"row_heading level0 row10\" >10</th>\n",
       "                        <td id=\"T_11ec4a74_885c_11eb_8db0_acde48001122row10_col0\" class=\"data row10 col0\" >Ridge Classifier</td>\n",
       "                        <td id=\"T_11ec4a74_885c_11eb_8db0_acde48001122row10_col1\" class=\"data row10 col1\" >0.4942</td>\n",
       "                        <td id=\"T_11ec4a74_885c_11eb_8db0_acde48001122row10_col2\" class=\"data row10 col2\" >0.0000</td>\n",
       "                        <td id=\"T_11ec4a74_885c_11eb_8db0_acde48001122row10_col3\" class=\"data row10 col3\" >0.5015</td>\n",
       "                        <td id=\"T_11ec4a74_885c_11eb_8db0_acde48001122row10_col4\" class=\"data row10 col4\" >0.2381</td>\n",
       "                        <td id=\"T_11ec4a74_885c_11eb_8db0_acde48001122row10_col5\" class=\"data row10 col5\" >0.3228</td>\n",
       "                        <td id=\"T_11ec4a74_885c_11eb_8db0_acde48001122row10_col6\" class=\"data row10 col6\" >-0.0049</td>\n",
       "                        <td id=\"T_11ec4a74_885c_11eb_8db0_acde48001122row10_col7\" class=\"data row10 col7\" >-0.0057</td>\n",
       "                        <td id=\"T_11ec4a74_885c_11eb_8db0_acde48001122row10_col8\" class=\"data row10 col8\" >0.0351</td>\n",
       "            </tr>\n",
       "            <tr>\n",
       "                        <th id=\"T_11ec4a74_885c_11eb_8db0_acde48001122level0_row11\" class=\"row_heading level0 row11\" >11</th>\n",
       "                        <td id=\"T_11ec4a74_885c_11eb_8db0_acde48001122row11_col0\" class=\"data row11 col0\" >Linear Discriminant Analysis</td>\n",
       "                        <td id=\"T_11ec4a74_885c_11eb_8db0_acde48001122row11_col1\" class=\"data row11 col1\" >0.4939</td>\n",
       "                        <td id=\"T_11ec4a74_885c_11eb_8db0_acde48001122row11_col2\" class=\"data row11 col2\" >0.4978</td>\n",
       "                        <td id=\"T_11ec4a74_885c_11eb_8db0_acde48001122row11_col3\" class=\"data row11 col3\" >0.5018</td>\n",
       "                        <td id=\"T_11ec4a74_885c_11eb_8db0_acde48001122row11_col4\" class=\"data row11 col4\" >0.2380</td>\n",
       "                        <td id=\"T_11ec4a74_885c_11eb_8db0_acde48001122row11_col5\" class=\"data row11 col5\" >0.3227</td>\n",
       "                        <td id=\"T_11ec4a74_885c_11eb_8db0_acde48001122row11_col6\" class=\"data row11 col6\" >-0.0051</td>\n",
       "                        <td id=\"T_11ec4a74_885c_11eb_8db0_acde48001122row11_col7\" class=\"data row11 col7\" >-0.0059</td>\n",
       "                        <td id=\"T_11ec4a74_885c_11eb_8db0_acde48001122row11_col8\" class=\"data row11 col8\" >0.2165</td>\n",
       "            </tr>\n",
       "            <tr>\n",
       "                        <th id=\"T_11ec4a74_885c_11eb_8db0_acde48001122level0_row12\" class=\"row_heading level0 row12\" >12</th>\n",
       "                        <td id=\"T_11ec4a74_885c_11eb_8db0_acde48001122row12_col0\" class=\"data row12 col0\" >Logistic Regression</td>\n",
       "                        <td id=\"T_11ec4a74_885c_11eb_8db0_acde48001122row12_col1\" class=\"data row12 col1\" >0.4703</td>\n",
       "                        <td id=\"T_11ec4a74_885c_11eb_8db0_acde48001122row12_col2\" class=\"data row12 col2\" >0.5110</td>\n",
       "                        <td id=\"T_11ec4a74_885c_11eb_8db0_acde48001122row12_col3\" class=\"data row12 col3\" >0.5696</td>\n",
       "                        <td id=\"T_11ec4a74_885c_11eb_8db0_acde48001122row12_col4\" class=\"data row12 col4\" >0.2438</td>\n",
       "                        <td id=\"T_11ec4a74_885c_11eb_8db0_acde48001122row12_col5\" class=\"data row12 col5\" >0.3331</td>\n",
       "                        <td id=\"T_11ec4a74_885c_11eb_8db0_acde48001122row12_col6\" class=\"data row12 col6\" >0.0064</td>\n",
       "                        <td id=\"T_11ec4a74_885c_11eb_8db0_acde48001122row12_col7\" class=\"data row12 col7\" >0.0073</td>\n",
       "                        <td id=\"T_11ec4a74_885c_11eb_8db0_acde48001122row12_col8\" class=\"data row12 col8\" >0.0701</td>\n",
       "            </tr>\n",
       "            <tr>\n",
       "                        <th id=\"T_11ec4a74_885c_11eb_8db0_acde48001122level0_row13\" class=\"row_heading level0 row13\" >13</th>\n",
       "                        <td id=\"T_11ec4a74_885c_11eb_8db0_acde48001122row13_col0\" class=\"data row13 col0\" >Naive Bayes</td>\n",
       "                        <td id=\"T_11ec4a74_885c_11eb_8db0_acde48001122row13_col1\" class=\"data row13 col1\" >0.2623</td>\n",
       "                        <td id=\"T_11ec4a74_885c_11eb_8db0_acde48001122row13_col2\" class=\"data row13 col2\" >0.4996</td>\n",
       "                        <td id=\"T_11ec4a74_885c_11eb_8db0_acde48001122row13_col3\" class=\"data row13 col3\" >0.9565</td>\n",
       "                        <td id=\"T_11ec4a74_885c_11eb_8db0_acde48001122row13_col4\" class=\"data row13 col4\" >0.2403</td>\n",
       "                        <td id=\"T_11ec4a74_885c_11eb_8db0_acde48001122row13_col5\" class=\"data row13 col5\" >0.3842</td>\n",
       "                        <td id=\"T_11ec4a74_885c_11eb_8db0_acde48001122row13_col6\" class=\"data row13 col6\" >-0.0005</td>\n",
       "                        <td id=\"T_11ec4a74_885c_11eb_8db0_acde48001122row13_col7\" class=\"data row13 col7\" >-0.0028</td>\n",
       "                        <td id=\"T_11ec4a74_885c_11eb_8db0_acde48001122row13_col8\" class=\"data row13 col8\" >0.0275</td>\n",
       "            </tr>\n",
       "            <tr>\n",
       "                        <th id=\"T_11ec4a74_885c_11eb_8db0_acde48001122level0_row14\" class=\"row_heading level0 row14\" >14</th>\n",
       "                        <td id=\"T_11ec4a74_885c_11eb_8db0_acde48001122row14_col0\" class=\"data row14 col0\" >Quadratic Discriminant Analysis</td>\n",
       "                        <td id=\"T_11ec4a74_885c_11eb_8db0_acde48001122row14_col1\" class=\"data row14 col1\" >0.2487</td>\n",
       "                        <td id=\"T_11ec4a74_885c_11eb_8db0_acde48001122row14_col2\" class=\"data row14 col2\" >0.5001</td>\n",
       "                        <td id=\"T_11ec4a74_885c_11eb_8db0_acde48001122row14_col3\" class=\"data row14 col3\" >0.9799</td>\n",
       "                        <td id=\"T_11ec4a74_885c_11eb_8db0_acde48001122row14_col4\" class=\"data row14 col4\" >0.2400</td>\n",
       "                        <td id=\"T_11ec4a74_885c_11eb_8db0_acde48001122row14_col5\" class=\"data row14 col5\" >0.3855</td>\n",
       "                        <td id=\"T_11ec4a74_885c_11eb_8db0_acde48001122row14_col6\" class=\"data row14 col6\" >-0.0015</td>\n",
       "                        <td id=\"T_11ec4a74_885c_11eb_8db0_acde48001122row14_col7\" class=\"data row14 col7\" >-0.0081</td>\n",
       "                        <td id=\"T_11ec4a74_885c_11eb_8db0_acde48001122row14_col8\" class=\"data row14 col8\" >0.0799</td>\n",
       "            </tr>\n",
       "    </tbody></table>"
      ],
      "text/plain": [
       "<pandas.io.formats.style.Styler at 0x7fe2bb00d630>"
      ]
     },
     "metadata": {},
     "output_type": "display_data"
    },
    {
     "data": {
      "text/plain": [
       "XGBClassifier(base_score=0.5, booster='gbtree', colsample_bylevel=1,\n",
       "              colsample_bynode=1, colsample_bytree=1, gamma=0,\n",
       "              learning_rate=0.1, max_delta_step=0, max_depth=3,\n",
       "              min_child_weight=1, missing=None, n_estimators=100, n_jobs=-1,\n",
       "              nthread=None, objective='binary:logistic', random_state=123,\n",
       "              reg_alpha=0, reg_lambda=1, scale_pos_weight=1, seed=None,\n",
       "              silent=None, subsample=1, verbosity=0)"
      ]
     },
     "execution_count": 41,
     "metadata": {},
     "output_type": "execute_result"
    }
   ],
   "source": [
    "compare_models()"
   ]
  },
  {
   "cell_type": "code",
   "execution_count": null,
   "metadata": {
    "ExecuteTime": {
     "end_time": "2021-03-19T02:11:52.422080Z",
     "start_time": "2021-03-19T02:11:52.420082Z"
    }
   },
   "outputs": [],
   "source": [
    "# clf1 = setup(data=data,target='Response',session_id=123,numeric_features=['Accomodation_Type','Reco_Insurance_Type','Married','Health Indicator','Holding_Policy_Duration','Holding_Policy_Type'])"
   ]
  },
  {
   "cell_type": "code",
   "execution_count": null,
   "metadata": {},
   "outputs": [],
   "source": [
    "# GBC = create_model('gbc')\n",
    "# tuned_GBC = tune_model(GBC, optimize = 'AUC')\n",
    "# print(tuned_GBC)\n",
    "# plot_model(tuned_GBC, plot = 'auc')\n",
    "# plot_model(tuned_GBC, plot = 'confusion_matrix')\n",
    "# # Final check using the unseen data / test\n",
    "# predict_model(tuned_GBC);\n",
    "\n",
    "# # Final Model / trained on the complete dataset\n",
    "# final_GBC = finalize_model(tuned_GBC)\n",
    "\n",
    "# evaluate_model(final_GBC)\n",
    "\n",
    "# plot_model(final_GBC, plot='feature')\n",
    "\n",
    "# # Interpret model | SHAP\n",
    "# interpret_model(final_GBC)"
   ]
  },
  {
   "cell_type": "code",
   "execution_count": null,
   "metadata": {},
   "outputs": [],
   "source": [
    "#### neural network"
   ]
  },
  {
   "cell_type": "code",
   "execution_count": null,
   "metadata": {},
   "outputs": [],
   "source": [
    "# from tensorflow.keras.models import Sequential\n",
    "# from tensorflow.keras.layers import Dense,Dropout\n",
    "# from tensorflow.keras.callbacks import EarlyStopping"
   ]
  },
  {
   "cell_type": "code",
   "execution_count": null,
   "metadata": {},
   "outputs": [],
   "source": [
    "# early_stop = EarlyStopping(monitor='val_loss',mode='min',verbose=1,patience=25)"
   ]
  },
  {
   "cell_type": "code",
   "execution_count": null,
   "metadata": {},
   "outputs": [],
   "source": [
    "# model = Sequential()\n",
    "\n",
    "# model.add(Dense(21,activation='relu'))\n",
    "# model.add(Dropout(0.5))\n",
    "# model.add(Dense(18,activation='relu'))\n",
    "# model.add(Dropout(0.5))\n",
    "# model.add(Dense(15,activation='relu'))\n",
    "# model.add(Dropout(0.5))\n",
    "\n",
    "# # Binary Classification\n",
    "# model.add(Dense(1,activation='sigmoid'))\n",
    "\n",
    "# model.compile(loss='binary_crossentropy',optimizer='adam')"
   ]
  },
  {
   "cell_type": "code",
   "execution_count": null,
   "metadata": {},
   "outputs": [],
   "source": [
    "# model.fit(x=X_train,y=y_train,epochs=500,validation_data=(X_test,y_test),\n",
    "#           callbacks=[early_stop])"
   ]
  },
  {
   "cell_type": "code",
   "execution_count": null,
   "metadata": {},
   "outputs": [],
   "source": [
    "# model_loss = pd.DataFrame(model.history.history)\n",
    "# model_loss.plot(figsize=(10,6));"
   ]
  },
  {
   "cell_type": "code",
   "execution_count": null,
   "metadata": {},
   "outputs": [],
   "source": [
    "# model.summary()"
   ]
  },
  {
   "cell_type": "code",
   "execution_count": null,
   "metadata": {},
   "outputs": [],
   "source": [
    "# # model.predict_classes(X_test)\n",
    "# predictions = model.predict_classes(X_test)"
   ]
  },
  {
   "cell_type": "code",
   "execution_count": null,
   "metadata": {},
   "outputs": [],
   "source": [
    "# print(classification_report(y_test,predictions))"
   ]
  },
  {
   "cell_type": "code",
   "execution_count": null,
   "metadata": {},
   "outputs": [],
   "source": []
  },
  {
   "cell_type": "code",
   "execution_count": null,
   "metadata": {},
   "outputs": [],
   "source": []
  },
  {
   "cell_type": "code",
   "execution_count": null,
   "metadata": {},
   "outputs": [],
   "source": [
    "# # separate city for dummy variables\n",
    "# citydf = df['City_Code']\n",
    "# # citydf = pd.Dataframe(df['City_Code'])\n",
    "# city = citydf.to_frame()"
   ]
  },
  {
   "cell_type": "code",
   "execution_count": null,
   "metadata": {},
   "outputs": [],
   "source": []
  },
  {
   "cell_type": "code",
   "execution_count": null,
   "metadata": {},
   "outputs": [],
   "source": []
  }
 ],
 "metadata": {
  "kernelspec": {
   "display_name": "Python [conda env:learn-env] *",
   "language": "python",
   "name": "conda-env-learn-env-py"
  },
  "language_info": {
   "codemirror_mode": {
    "name": "ipython",
    "version": 3
   },
   "file_extension": ".py",
   "mimetype": "text/x-python",
   "name": "python",
   "nbconvert_exporter": "python",
   "pygments_lexer": "ipython3",
   "version": "3.6.9"
  },
  "toc": {
   "base_numbering": 1,
   "nav_menu": {},
   "number_sections": true,
   "sideBar": true,
   "skip_h1_title": false,
   "title_cell": "Table of Contents",
   "title_sidebar": "Contents",
   "toc_cell": false,
   "toc_position": {
    "height": "calc(100% - 180px)",
    "left": "10px",
    "top": "150px",
    "width": "165px"
   },
   "toc_section_display": true,
   "toc_window_display": true
  }
 },
 "nbformat": 4,
 "nbformat_minor": 2
}
