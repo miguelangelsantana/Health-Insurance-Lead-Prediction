{
 "cells": [
  {
   "cell_type": "markdown",
   "metadata": {},
   "source": [
    "# Health Insurance | Job-A-Thon\n",
    "Author: Miguel Santana\n",
    "\n",
    "### Project Methodology\n",
    "FinMan Company is looking to leverage their client base by cross selling insurance products to existing customers. Insurance policies are offered to prospective and existing clients based on website landing and consumer election to fill out additional information forms. FinMan company would like to leverage their acquired information to classify positive leads for outreach programs using machine learning classifiers. \n",
    "\n",
    "### Data and Analytical Structure\n",
    "The project dataset is provided by Analytics Vidhya via Kaggle. Data includes demographic features, policy features (for current customers) and example positive classifications for ML model validation and interpretation. The source can be found [here.](https://www.kaggle.com/imsparsh/jobathon-analytics-vidhya?select=sample_submission.csv) The project analysis will follow the OSEMN framework: Obtain, Scrub, Explore, Model and Interpret."
   ]
  },
  {
   "cell_type": "markdown",
   "metadata": {
    "heading_collapsed": true
   },
   "source": [
    "# Data & Packages\n",
    "**OBTAIN**"
   ]
  },
  {
   "cell_type": "markdown",
   "metadata": {
    "hidden": true
   },
   "source": [
    "<div class=\"alert alert-success\">\n",
    "\n",
    "**NOTE HERE**\n",
    "\n",
    "</div>\n",
    "\n",
    "<div class=\"alert alert-block alert-info\">\n",
    "\n",
    "**NOTE HERE**\n",
    "\n",
    "</div>"
   ]
  },
  {
   "cell_type": "code",
   "execution_count": 1,
   "metadata": {
    "ExecuteTime": {
     "end_time": "2021-03-19T17:48:29.691339Z",
     "start_time": "2021-03-19T17:48:29.688928Z"
    },
    "hidden": true
   },
   "outputs": [],
   "source": [
    "import warnings\n",
    "warnings.filterwarnings('ignore')"
   ]
  },
  {
   "cell_type": "code",
   "execution_count": 2,
   "metadata": {
    "ExecuteTime": {
     "end_time": "2021-03-19T17:48:30.474398Z",
     "start_time": "2021-03-19T17:48:29.693280Z"
    },
    "hidden": true
   },
   "outputs": [],
   "source": [
    "import pandas as pd\n",
    "import matplotlib.pyplot as plt\n",
    "import seaborn as sns\n",
    "import numpy as np\n",
    "pd.set_option('display.max_columns',50)"
   ]
  },
  {
   "cell_type": "code",
   "execution_count": 3,
   "metadata": {
    "ExecuteTime": {
     "end_time": "2021-03-19T17:48:30.530745Z",
     "start_time": "2021-03-19T17:48:30.476062Z"
    },
    "hidden": true
   },
   "outputs": [],
   "source": [
    "df = pd.read_csv('train.csv')"
   ]
  },
  {
   "cell_type": "code",
   "execution_count": 4,
   "metadata": {
    "ExecuteTime": {
     "end_time": "2021-03-19T17:48:30.534427Z",
     "start_time": "2021-03-19T17:48:30.532585Z"
    },
    "hidden": true
   },
   "outputs": [],
   "source": [
    "# print(df.shape)\n",
    "# df.head(3)"
   ]
  },
  {
   "cell_type": "markdown",
   "metadata": {},
   "source": [
    "# Drop"
   ]
  },
  {
   "cell_type": "code",
   "execution_count": 5,
   "metadata": {
    "ExecuteTime": {
     "end_time": "2021-03-19T17:48:30.551259Z",
     "start_time": "2021-03-19T17:48:30.535975Z"
    }
   },
   "outputs": [],
   "source": [
    "# dropping partial nulls\n",
    "indexvals = df[ (df['Health Indicator'].isnull()) & (df['Reco_Insurance_Type']=='Joint')].index\n",
    "df.drop(indexvals, inplace=True)"
   ]
  },
  {
   "cell_type": "code",
   "execution_count": 6,
   "metadata": {
    "ExecuteTime": {
     "end_time": "2021-03-19T17:48:30.559065Z",
     "start_time": "2021-03-19T17:48:30.552808Z"
    }
   },
   "outputs": [],
   "source": [
    "# dfc = df[['City_Code','Region_Code','Reco_Policy_Premium']].copy()\n",
    "dfc = df[['City_Code','Region_Code']].copy()\n",
    "dfc['Region_Code'] = dfc['Region_Code'].astype('O')"
   ]
  },
  {
   "cell_type": "code",
   "execution_count": 7,
   "metadata": {
    "ExecuteTime": {
     "end_time": "2021-03-19T17:48:30.802366Z",
     "start_time": "2021-03-19T17:48:30.561926Z"
    }
   },
   "outputs": [],
   "source": [
    "from sklearn import preprocessing\n",
    "# from sklearn.preprocessing import LabelEncoder"
   ]
  },
  {
   "cell_type": "code",
   "execution_count": 8,
   "metadata": {
    "ExecuteTime": {
     "end_time": "2021-03-19T17:48:30.806401Z",
     "start_time": "2021-03-19T17:48:30.804313Z"
    }
   },
   "outputs": [],
   "source": [
    "labelencoder = preprocessing.LabelEncoder()"
   ]
  },
  {
   "cell_type": "code",
   "execution_count": 9,
   "metadata": {
    "ExecuteTime": {
     "end_time": "2021-03-19T17:48:30.827341Z",
     "start_time": "2021-03-19T17:48:30.807862Z"
    }
   },
   "outputs": [],
   "source": [
    "for col in dfc.columns:\n",
    "    dfc[f'LE_{col}'] = labelencoder.fit_transform(dfc[col])\n",
    "\n",
    "# dfc['LE_Region_Code'] = labelencoder.fit_transform(dfc['Region_Code'])"
   ]
  },
  {
   "cell_type": "code",
   "execution_count": 10,
   "metadata": {
    "ExecuteTime": {
     "end_time": "2021-03-19T17:48:30.834823Z",
     "start_time": "2021-03-19T17:48:30.828809Z"
    }
   },
   "outputs": [],
   "source": [
    "df = dfc[['LE_City_Code','LE_Region_Code']].copy()\n",
    "# df = dfc[['LE_City_Code','LE_Region_Code','Reco_Policy_Premium']].copy()"
   ]
  },
  {
   "cell_type": "code",
   "execution_count": 11,
   "metadata": {
    "ExecuteTime": {
     "end_time": "2021-03-19T17:48:30.838489Z",
     "start_time": "2021-03-19T17:48:30.836284Z"
    }
   },
   "outputs": [],
   "source": [
    "# df = dfc.drop(['City_Code','LE_Region_Code'],axis=1)\n",
    "# df.head(3)"
   ]
  },
  {
   "cell_type": "code",
   "execution_count": 12,
   "metadata": {
    "ExecuteTime": {
     "end_time": "2021-03-19T17:48:30.841723Z",
     "start_time": "2021-03-19T17:48:30.839980Z"
    }
   },
   "outputs": [],
   "source": [
    "# # One Hot Encode\n",
    "# df = pd.get_dummies(df, drop_first=True)"
   ]
  },
  {
   "cell_type": "code",
   "execution_count": 13,
   "metadata": {
    "ExecuteTime": {
     "end_time": "2021-03-19T17:48:30.844950Z",
     "start_time": "2021-03-19T17:48:30.843208Z"
    }
   },
   "outputs": [],
   "source": [
    "# df = dfc[['LE_City_Code','LE_Region_Code']].copy()"
   ]
  },
  {
   "cell_type": "code",
   "execution_count": 14,
   "metadata": {
    "ExecuteTime": {
     "end_time": "2021-03-19T17:48:30.848365Z",
     "start_time": "2021-03-19T17:48:30.846438Z"
    }
   },
   "outputs": [],
   "source": [
    "# df['Reco_Policy_Premium'] = df['Reco_Policy_Premium'].astype(int)"
   ]
  },
  {
   "cell_type": "code",
   "execution_count": 15,
   "metadata": {
    "ExecuteTime": {
     "end_time": "2021-03-19T17:48:30.851772Z",
     "start_time": "2021-03-19T17:48:30.849773Z"
    }
   },
   "outputs": [],
   "source": [
    "scaler = preprocessing.StandardScaler()"
   ]
  },
  {
   "cell_type": "code",
   "execution_count": 16,
   "metadata": {
    "ExecuteTime": {
     "end_time": "2021-03-19T17:48:30.860165Z",
     "start_time": "2021-03-19T17:48:30.853202Z"
    }
   },
   "outputs": [],
   "source": [
    "df_scaled = scaler.fit_transform(df)"
   ]
  },
  {
   "cell_type": "code",
   "execution_count": 17,
   "metadata": {
    "ExecuteTime": {
     "end_time": "2021-03-19T17:48:30.865848Z",
     "start_time": "2021-03-19T17:48:30.861663Z"
    }
   },
   "outputs": [
    {
     "data": {
      "text/plain": [
       "(48533, 2)"
      ]
     },
     "execution_count": 17,
     "metadata": {},
     "output_type": "execute_result"
    }
   ],
   "source": [
    "df_scaled.shape"
   ]
  },
  {
   "cell_type": "code",
   "execution_count": 18,
   "metadata": {
    "ExecuteTime": {
     "end_time": "2021-03-19T17:48:30.869120Z",
     "start_time": "2021-03-19T17:48:30.867299Z"
    }
   },
   "outputs": [],
   "source": [
    "# dfc['Log_City_Code'] = np.log(dfc['LE_City_Code'])\n",
    "# dfc['Log_LE_Region_Code'] = np.log(dfc['LE_Region_Code'])"
   ]
  },
  {
   "cell_type": "code",
   "execution_count": 19,
   "metadata": {
    "ExecuteTime": {
     "end_time": "2021-03-19T17:48:30.875076Z",
     "start_time": "2021-03-19T17:48:30.873270Z"
    }
   },
   "outputs": [],
   "source": [
    "# df.isnull().sum()"
   ]
  },
  {
   "cell_type": "markdown",
   "metadata": {
    "heading_collapsed": true
   },
   "source": [
    "# PCA START"
   ]
  },
  {
   "cell_type": "code",
   "execution_count": 20,
   "metadata": {
    "ExecuteTime": {
     "end_time": "2021-03-19T17:48:30.879214Z",
     "start_time": "2021-03-19T17:48:30.877335Z"
    },
    "hidden": true
   },
   "outputs": [],
   "source": [
    "# from sklearn.decomposition import PCA"
   ]
  },
  {
   "cell_type": "code",
   "execution_count": 21,
   "metadata": {
    "ExecuteTime": {
     "end_time": "2021-03-19T17:48:30.882234Z",
     "start_time": "2021-03-19T17:48:30.880615Z"
    },
    "hidden": true
   },
   "outputs": [],
   "source": [
    "# pca = PCA()\n",
    "# x_pca = pca.fit_transform(df_scaled)"
   ]
  },
  {
   "cell_type": "code",
   "execution_count": 22,
   "metadata": {
    "ExecuteTime": {
     "end_time": "2021-03-19T17:48:30.885321Z",
     "start_time": "2021-03-19T17:48:30.883665Z"
    },
    "hidden": true
   },
   "outputs": [],
   "source": [
    "# # df_scaled\n",
    "# x_pca.shape"
   ]
  },
  {
   "cell_type": "code",
   "execution_count": 23,
   "metadata": {
    "ExecuteTime": {
     "end_time": "2021-03-19T17:48:30.888773Z",
     "start_time": "2021-03-19T17:48:30.886947Z"
    },
    "hidden": true
   },
   "outputs": [],
   "source": [
    "# plt.plot(range(1,37), pca.explained_variance_ratio_.cumsum());"
   ]
  },
  {
   "cell_type": "code",
   "execution_count": 24,
   "metadata": {
    "ExecuteTime": {
     "end_time": "2021-03-19T17:48:30.892020Z",
     "start_time": "2021-03-19T17:48:30.890333Z"
    },
    "hidden": true
   },
   "outputs": [],
   "source": [
    "# total_explained_variance = pca.explained_variance_ratio_.cumsum()\n",
    "# n_over_85 = len(total_explained_variance[total_explained_variance >= .85])\n",
    "# n_to_reach_85 = x_pca.shape[1] - n_over_85 + 1\n",
    "# print(f'Number features: {n_to_reach_85}\\tTotal Variance Explained: 85%')"
   ]
  },
  {
   "cell_type": "code",
   "execution_count": 25,
   "metadata": {
    "ExecuteTime": {
     "end_time": "2021-03-19T17:48:30.895438Z",
     "start_time": "2021-03-19T17:48:30.893658Z"
    },
    "hidden": true
   },
   "outputs": [],
   "source": [
    "# pca_df = pd.DataFrame(data = x_pca)"
   ]
  },
  {
   "cell_type": "code",
   "execution_count": 26,
   "metadata": {
    "ExecuteTime": {
     "end_time": "2021-03-19T17:48:30.898575Z",
     "start_time": "2021-03-19T17:48:30.896852Z"
    },
    "hidden": true
   },
   "outputs": [],
   "source": [
    "# pca = PCA(n_components=n_to_reach_85)\n",
    "# principal_comp = pca.fit_transform(df_scaled)\n",
    "# pca.explained_variance_ratio_.cumsum()[-1]"
   ]
  },
  {
   "cell_type": "code",
   "execution_count": 27,
   "metadata": {
    "ExecuteTime": {
     "end_time": "2021-03-19T17:48:30.901805Z",
     "start_time": "2021-03-19T17:48:30.900064Z"
    },
    "hidden": true
   },
   "outputs": [],
   "source": [
    "# # creating dataframe out of 2 component result\n",
    "# pca_df = pd.DataFrame(data = principal_comp)"
   ]
  },
  {
   "cell_type": "code",
   "execution_count": 28,
   "metadata": {
    "ExecuteTime": {
     "end_time": "2021-03-19T17:48:30.905093Z",
     "start_time": "2021-03-19T17:48:30.903283Z"
    },
    "hidden": true
   },
   "outputs": [],
   "source": [
    "# pca_df.head()"
   ]
  },
  {
   "cell_type": "markdown",
   "metadata": {},
   "source": [
    "# K-Means"
   ]
  },
  {
   "cell_type": "code",
   "execution_count": 29,
   "metadata": {
    "ExecuteTime": {
     "end_time": "2021-03-19T17:48:30.908996Z",
     "start_time": "2021-03-19T17:48:30.906519Z"
    }
   },
   "outputs": [],
   "source": [
    "# creating dataframe out of 2 component result\n",
    "pca_df = pd.DataFrame(data = df_scaled, columns=['LE_City_Code','LE_Region_Code'])\n",
    "# pca_df = pd.DataFrame(data = df_scaled, columns=['LE_City_Code','LE_Region_Code','Reco_Policy_Premium'])"
   ]
  },
  {
   "cell_type": "code",
   "execution_count": 30,
   "metadata": {
    "ExecuteTime": {
     "end_time": "2021-03-19T17:48:30.920266Z",
     "start_time": "2021-03-19T17:48:30.910473Z"
    }
   },
   "outputs": [
    {
     "data": {
      "text/html": [
       "<div>\n",
       "<style scoped>\n",
       "    .dataframe tbody tr th:only-of-type {\n",
       "        vertical-align: middle;\n",
       "    }\n",
       "\n",
       "    .dataframe tbody tr th {\n",
       "        vertical-align: top;\n",
       "    }\n",
       "\n",
       "    .dataframe thead th {\n",
       "        text-align: right;\n",
       "    }\n",
       "</style>\n",
       "<table border=\"1\" class=\"dataframe\">\n",
       "  <thead>\n",
       "    <tr style=\"text-align: right;\">\n",
       "      <th></th>\n",
       "      <th>LE_City_Code</th>\n",
       "      <th>LE_Region_Code</th>\n",
       "    </tr>\n",
       "  </thead>\n",
       "  <tbody>\n",
       "    <tr>\n",
       "      <th>0</th>\n",
       "      <td>0.572826</td>\n",
       "      <td>1.025020</td>\n",
       "    </tr>\n",
       "    <tr>\n",
       "      <th>1</th>\n",
       "      <td>1.313504</td>\n",
       "      <td>-0.440534</td>\n",
       "    </tr>\n",
       "    <tr>\n",
       "      <th>2</th>\n",
       "      <td>1.313504</td>\n",
       "      <td>1.409637</td>\n",
       "    </tr>\n",
       "    <tr>\n",
       "      <th>3</th>\n",
       "      <td>0.079040</td>\n",
       "      <td>1.890409</td>\n",
       "    </tr>\n",
       "    <tr>\n",
       "      <th>4</th>\n",
       "      <td>1.560397</td>\n",
       "      <td>0.307868</td>\n",
       "    </tr>\n",
       "  </tbody>\n",
       "</table>\n",
       "</div>"
      ],
      "text/plain": [
       "   LE_City_Code  LE_Region_Code\n",
       "0      0.572826        1.025020\n",
       "1      1.313504       -0.440534\n",
       "2      1.313504        1.409637\n",
       "3      0.079040        1.890409\n",
       "4      1.560397        0.307868"
      ]
     },
     "execution_count": 30,
     "metadata": {},
     "output_type": "execute_result"
    }
   ],
   "source": [
    "pca_df.head()"
   ]
  },
  {
   "cell_type": "code",
   "execution_count": 31,
   "metadata": {
    "ExecuteTime": {
     "end_time": "2021-03-19T17:48:31.005409Z",
     "start_time": "2021-03-19T17:48:30.921701Z"
    }
   },
   "outputs": [],
   "source": [
    "from sklearn.cluster import KMeans"
   ]
  },
  {
   "cell_type": "code",
   "execution_count": 32,
   "metadata": {
    "ExecuteTime": {
     "end_time": "2021-03-19T17:48:45.842027Z",
     "start_time": "2021-03-19T17:48:31.006909Z"
    }
   },
   "outputs": [],
   "source": [
    "scores = [] # scores for elbow method\n",
    "range_values = range(1,25)\n",
    "for i in range_values:\n",
    "    kmeans = KMeans(n_clusters=i)\n",
    "    kmeans.fit(pca_df)\n",
    "    scores.append(kmeans.inertia_) # inertia is the WCSS parameter"
   ]
  },
  {
   "cell_type": "code",
   "execution_count": 33,
   "metadata": {
    "ExecuteTime": {
     "end_time": "2021-03-19T17:48:46.025690Z",
     "start_time": "2021-03-19T17:48:45.844126Z"
    }
   },
   "outputs": [
    {
     "data": {
      "image/png": "[encoded data removed]",
      "text/plain": [
       "<Figure size 720x720 with 1 Axes>"
      ]
     },
     "metadata": {
      "needs_background": "light"
     },
     "output_type": "display_data"
    }
   ],
   "source": [
    "# Cluster Observation\n",
    "plt.figure(figsize=(10,10))\n",
    "plt.plot(scores)\n",
    "plt.title('Cluster Observation | Elbow Method')\n",
    "plt.xlabel('Clusters')\n",
    "plt.ylabel('Scores (WCSS)')\n",
    "plt.show()"
   ]
  },
  {
   "cell_type": "markdown",
   "metadata": {},
   "source": [
    "# 5 CLUSTERS"
   ]
  },
  {
   "cell_type": "code",
   "execution_count": 34,
   "metadata": {
    "ExecuteTime": {
     "end_time": "2021-03-19T17:48:55.223171Z",
     "start_time": "2021-03-19T17:48:55.220504Z"
    }
   },
   "outputs": [],
   "source": [
    "from sklearn import cluster"
   ]
  },
  {
   "cell_type": "code",
   "execution_count": 39,
   "metadata": {
    "ExecuteTime": {
     "end_time": "2021-03-19T17:50:19.525796Z",
     "start_time": "2021-03-19T17:50:19.268567Z"
    }
   },
   "outputs": [],
   "source": [
    "# 7 Clusters\n",
    "km = cluster.KMeans(n_clusters=6, max_iter=300, random_state=101)\n",
    "pca_df['Seven_Clusters'] = km.fit_predict(pca_df)"
   ]
  },
  {
   "cell_type": "code",
   "execution_count": 40,
   "metadata": {
    "ExecuteTime": {
     "end_time": "2021-03-19T17:50:21.841407Z",
     "start_time": "2021-03-19T17:50:21.834001Z"
    }
   },
   "outputs": [
    {
     "data": {
      "text/html": [
       "<div>\n",
       "<style scoped>\n",
       "    .dataframe tbody tr th:only-of-type {\n",
       "        vertical-align: middle;\n",
       "    }\n",
       "\n",
       "    .dataframe tbody tr th {\n",
       "        vertical-align: top;\n",
       "    }\n",
       "\n",
       "    .dataframe thead th {\n",
       "        text-align: right;\n",
       "    }\n",
       "</style>\n",
       "<table border=\"1\" class=\"dataframe\">\n",
       "  <thead>\n",
       "    <tr style=\"text-align: right;\">\n",
       "      <th></th>\n",
       "      <th>LE_City_Code</th>\n",
       "      <th>LE_Region_Code</th>\n",
       "      <th>Seven_Clusters</th>\n",
       "    </tr>\n",
       "  </thead>\n",
       "  <tbody>\n",
       "    <tr>\n",
       "      <th>0</th>\n",
       "      <td>0.572826</td>\n",
       "      <td>1.025020</td>\n",
       "      <td>3</td>\n",
       "    </tr>\n",
       "    <tr>\n",
       "      <th>1</th>\n",
       "      <td>1.313504</td>\n",
       "      <td>-0.440534</td>\n",
       "      <td>0</td>\n",
       "    </tr>\n",
       "    <tr>\n",
       "      <th>2</th>\n",
       "      <td>1.313504</td>\n",
       "      <td>1.409637</td>\n",
       "      <td>3</td>\n",
       "    </tr>\n",
       "    <tr>\n",
       "      <th>3</th>\n",
       "      <td>0.079040</td>\n",
       "      <td>1.890409</td>\n",
       "      <td>4</td>\n",
       "    </tr>\n",
       "    <tr>\n",
       "      <th>4</th>\n",
       "      <td>1.560397</td>\n",
       "      <td>0.307868</td>\n",
       "      <td>3</td>\n",
       "    </tr>\n",
       "  </tbody>\n",
       "</table>\n",
       "</div>"
      ],
      "text/plain": [
       "   LE_City_Code  LE_Region_Code  Seven_Clusters\n",
       "0      0.572826        1.025020               3\n",
       "1      1.313504       -0.440534               0\n",
       "2      1.313504        1.409637               3\n",
       "3      0.079040        1.890409               4\n",
       "4      1.560397        0.307868               3"
      ]
     },
     "execution_count": 40,
     "metadata": {},
     "output_type": "execute_result"
    }
   ],
   "source": [
    "pca_df.head()"
   ]
  },
  {
   "cell_type": "code",
   "execution_count": 41,
   "metadata": {
    "ExecuteTime": {
     "end_time": "2021-03-19T17:50:28.406366Z",
     "start_time": "2021-03-19T17:50:27.763422Z"
    }
   },
   "outputs": [
    {
     "data": {
      "image/png": "[encoded data removed]",
      "text/plain": [
       "<Figure size 516.5x432 with 1 Axes>"
      ]
     },
     "metadata": {
      "needs_background": "light"
     },
     "output_type": "display_data"
    }
   ],
   "source": [
    "sns.lmplot(x='LE_City_Code', y='LE_Region_Code', data=pca_df, fit_reg=False, hue='Seven_Clusters',\n",
    "           palette='Paired',size=6,aspect=1);"
   ]
  },
  {
   "cell_type": "code",
   "execution_count": 38,
   "metadata": {
    "ExecuteTime": {
     "end_time": "2021-03-19T17:49:44.161915Z",
     "start_time": "2021-03-19T17:49:43.594958Z"
    }
   },
   "outputs": [
    {
     "data": {
      "image/png": "[encoded data removed]",
      "text/plain": [
       "<Figure size 516.5x432 with 1 Axes>"
      ]
     },
     "metadata": {
      "needs_background": "light"
     },
     "output_type": "display_data"
    }
   ],
   "source": [
    "sns.lmplot(x='LE_City_Code', y='LE_Region_Code', data=pca_df, fit_reg=False, hue='Seven_Clusters',\n",
    "           palette='Paired',size=6,aspect=1);"
   ]
  },
  {
   "cell_type": "code",
   "execution_count": null,
   "metadata": {},
   "outputs": [],
   "source": [
    "# Create new dataframe | original with cluster ID\n",
    "df_cluster = pd.concat([df,pca_df],axis=1)"
   ]
  },
  {
   "cell_type": "markdown",
   "metadata": {
    "heading_collapsed": true
   },
   "source": [
    "# PCA END"
   ]
  },
  {
   "cell_type": "markdown",
   "metadata": {
    "hidden": true
   },
   "source": [
    "## Data Cleaning\n",
    "**SCRUB**\n",
    "\n",
    "### Missing Values"
   ]
  },
  {
   "cell_type": "code",
   "execution_count": null,
   "metadata": {
    "ExecuteTime": {
     "end_time": "2021-03-19T03:03:47.381870Z",
     "start_time": "2021-03-19T03:03:47.367015Z"
    },
    "hidden": true
   },
   "outputs": [],
   "source": [
    "df.isnull().sum()"
   ]
  },
  {
   "cell_type": "markdown",
   "metadata": {
    "hidden": true
   },
   "source": [
    "<div class=\"alert alert-success\">\n",
    "\n",
    "With many of these prospects not clearly identified as current clients, its safe to assume that null values in the 'Policy Duration' and 'Policy Type' columns are tied to non existing accounts and may be filled with zeros.\n",
    "\n",
    "</div> "
   ]
  },
  {
   "cell_type": "markdown",
   "metadata": {
    "ExecuteTime": {
     "end_time": "2021-03-18T17:55:00.337592Z",
     "start_time": "2021-03-18T17:55:00.333536Z"
    },
    "hidden": true
   },
   "source": [
    "**Filling Null Values**"
   ]
  },
  {
   "cell_type": "code",
   "execution_count": null,
   "metadata": {
    "ExecuteTime": {
     "end_time": "2021-03-19T03:03:47.389847Z",
     "start_time": "2021-03-19T03:03:47.383491Z"
    },
    "hidden": true
   },
   "outputs": [],
   "source": [
    "nonclients = ['Holding_Policy_Duration','Holding_Policy_Type']\n",
    "\n",
    "for col in nonclients:\n",
    "    df[col] = df[col].fillna(0)"
   ]
  },
  {
   "cell_type": "markdown",
   "metadata": {
    "ExecuteTime": {
     "end_time": "2021-03-18T14:45:09.949102Z",
     "start_time": "2021-03-18T14:45:09.938716Z"
    },
    "hidden": true
   },
   "source": [
    "<div class=\"alert alert-success\">\n",
    "\n",
    "Null values in the 'Health Indicator' columns will be filled prior to one hot encoding. \n",
    "\n",
    "</div>"
   ]
  },
  {
   "cell_type": "markdown",
   "metadata": {
    "hidden": true
   },
   "source": [
    "### Feature Conversions"
   ]
  },
  {
   "cell_type": "code",
   "execution_count": null,
   "metadata": {
    "ExecuteTime": {
     "end_time": "2021-03-19T03:03:47.393147Z",
     "start_time": "2021-03-19T03:03:47.391312Z"
    },
    "hidden": true
   },
   "outputs": [],
   "source": [
    "# df.select_dtypes('O').columns"
   ]
  },
  {
   "cell_type": "markdown",
   "metadata": {
    "hidden": true
   },
   "source": [
    "<div class=\"alert alert-success\">\n",
    "Convert to numerical: Holding_Policy_Duration\n",
    "    \n",
    "* Feature engineer long term customers\n",
    "* Convert '14+' to '15' / convert to numerical\n",
    "\n",
    "Note: (**after EDA**) Convert to binary | Accomodation_Type, Reco_Insurance_Type, Is_Spouse\n",
    "</div>\n",
    "\n",
    "#### Categorical Features | Feature Engineering"
   ]
  },
  {
   "cell_type": "code",
   "execution_count": null,
   "metadata": {
    "ExecuteTime": {
     "end_time": "2021-03-19T03:03:47.411595Z",
     "start_time": "2021-03-19T03:03:47.395977Z"
    },
    "hidden": true
   },
   "outputs": [],
   "source": [
    "df['Long_Term_Cust'] = df['Holding_Policy_Duration'].apply(lambda x: 'Yes' if x == '14+' else 'No')\n",
    "df['Holding_Policy_Duration'] = df['Holding_Policy_Duration'].replace('14+',15).astype(float).astype(int)"
   ]
  },
  {
   "cell_type": "markdown",
   "metadata": {
    "hidden": true
   },
   "source": [
    "#### Binary Feature Conversion"
   ]
  },
  {
   "cell_type": "markdown",
   "metadata": {
    "hidden": true
   },
   "source": [
    "<div class=\"alert alert-block alert-info\">\n",
    "    \n",
    "Features 'Accomodation Type', 'Reco Insurance Type', 'Is Spouse' will be converted to binary (0 and 1) after our exploratory data analysis. \n",
    "\n",
    "</div>"
   ]
  },
  {
   "cell_type": "markdown",
   "metadata": {
    "hidden": true
   },
   "source": [
    "#### Numerical Feature Conversion"
   ]
  },
  {
   "cell_type": "code",
   "execution_count": null,
   "metadata": {
    "ExecuteTime": {
     "end_time": "2021-03-19T03:03:47.415679Z",
     "start_time": "2021-03-19T03:03:47.413900Z"
    },
    "hidden": true
   },
   "outputs": [],
   "source": [
    "# df.select_dtypes('number').columns"
   ]
  },
  {
   "cell_type": "markdown",
   "metadata": {
    "hidden": true
   },
   "source": [
    "<div class=\"alert alert-block alert-info\">\n",
    "    \n",
    "The two feature that stand out are 'Holding Policy Type' and 'Reco Policy Cat' which are listed under numerical but most likely correspond to type and category of policy in existing customers. As such, the features will be converted to categorical variables and compared against the policy premium during exploratory data analysis. \n",
    "\n",
    "</div>"
   ]
  },
  {
   "cell_type": "markdown",
   "metadata": {
    "hidden": true
   },
   "source": [
    "### Feature Engineering | Age\n",
    "<div class=\"alert alert-success\">\n",
    "\n",
    "Typically, insurance products are priced and underwritten based on the age of the applicant or applicants. This is especially the case in most health insurance pricing. To reflect this and retain data, an average age feature will be created and the original two features will be dropped. As the data shows, individual insurance types reflect the same age for lower and upper categories. This conversion will only effect joint accounts with large variations in age being represented in the 'Is_Spouse' feature which will be converted to binary after EDA. For aesthetics, the category will be renamed 'Married'.\n",
    "\n",
    "</div>"
   ]
  },
  {
   "cell_type": "code",
   "execution_count": null,
   "metadata": {
    "ExecuteTime": {
     "end_time": "2021-03-19T03:03:47.426740Z",
     "start_time": "2021-03-19T03:03:47.417192Z"
    },
    "hidden": true
   },
   "outputs": [],
   "source": [
    "# Conversion\n",
    "df.rename(columns={'Is_Spouse':'Married'},inplace=True)\n",
    "# Average Age\n",
    "df['Avg_Age'] = (df['Upper_Age'] + df['Lower_Age']) / 2"
   ]
  },
  {
   "cell_type": "markdown",
   "metadata": {
    "hidden": true
   },
   "source": [
    "### Dropping Features"
   ]
  },
  {
   "cell_type": "code",
   "execution_count": null,
   "metadata": {
    "ExecuteTime": {
     "end_time": "2021-03-19T03:03:47.438177Z",
     "start_time": "2021-03-19T03:03:47.428057Z"
    },
    "hidden": true
   },
   "outputs": [],
   "source": [
    "print(f'Unique policy types: {len(df.Holding_Policy_Type.value_counts())}')\n",
    "print(f'Unique policy categories: {len(df.Reco_Policy_Cat.value_counts())}')\n",
    "print(f'Unique city codes: {len(df.City_Code.value_counts())}')\n",
    "print(f'Unique region codes: {len(df.Region_Code.value_counts())}')"
   ]
  },
  {
   "cell_type": "markdown",
   "metadata": {
    "hidden": true
   },
   "source": [
    "<div class=\"alert alert-success\">\n",
    "\n",
    "The unique 'ID' and 'Region Code' columns will be dropped in order to simplify the data. 'Region Code' consists of far too many categorical values which would need to be one hot encoded. The feature is dropped as the data still retains the 'City Code' feature to capture some level of geographical distinction. In addition, the upper and lower age features will be dropped being represented by average age. \n",
    "\n",
    "</div>"
   ]
  },
  {
   "cell_type": "code",
   "execution_count": null,
   "metadata": {
    "ExecuteTime": {
     "end_time": "2021-03-19T03:03:47.452898Z",
     "start_time": "2021-03-19T03:03:47.439557Z"
    },
    "hidden": true
   },
   "outputs": [],
   "source": [
    "df.drop(['ID','Region_Code','Upper_Age','Lower_Age'],axis=1,inplace=True)"
   ]
  },
  {
   "cell_type": "markdown",
   "metadata": {
    "hidden": true
   },
   "source": [
    "#### Health Indicator Missing Values"
   ]
  },
  {
   "cell_type": "code",
   "execution_count": null,
   "metadata": {
    "ExecuteTime": {
     "end_time": "2021-03-19T03:03:47.468600Z",
     "start_time": "2021-03-19T03:03:47.454293Z"
    },
    "hidden": true
   },
   "outputs": [],
   "source": [
    "joint = len(df[ (df['Health Indicator'].isnull()) & (df['Reco_Insurance_Type']=='Joint')])\n",
    "indiv = len(df[ (df['Health Indicator'].isnull()) & (df['Reco_Insurance_Type']=='Individual')])\n",
    "\n",
    "print(f'There are {joint} missing Health Indicators with joint policy types.')\n",
    "print(f'There are {indiv} missing Health Indicators with individual policy types.')"
   ]
  },
  {
   "cell_type": "markdown",
   "metadata": {
    "ExecuteTime": {
     "end_time": "2021-03-18T21:23:31.629391Z",
     "start_time": "2021-03-18T21:23:31.615194Z"
    },
    "hidden": true
   },
   "source": [
    "<div class=\"alert alert-success\">\n",
    "\n",
    "The missing health indicators in the joint policy types represent less than 5% of the dataset and will be dropped. The remaining values will be filled using the mode. \n",
    "\n",
    "</div>"
   ]
  },
  {
   "cell_type": "code",
   "execution_count": null,
   "metadata": {
    "ExecuteTime": {
     "end_time": "2021-03-19T03:03:47.484509Z",
     "start_time": "2021-03-19T03:03:47.469953Z"
    },
    "hidden": true
   },
   "outputs": [],
   "source": [
    "# dropping partial nulls\n",
    "indexvals = df[ (df['Health Indicator'].isnull()) & (df['Reco_Insurance_Type']=='Joint')].index\n",
    "df.drop(indexvals, inplace=True)"
   ]
  },
  {
   "cell_type": "code",
   "execution_count": null,
   "metadata": {
    "ExecuteTime": {
     "end_time": "2021-03-19T03:03:47.493728Z",
     "start_time": "2021-03-19T03:03:47.486158Z"
    },
    "hidden": true
   },
   "outputs": [],
   "source": [
    "# filling remaining nulls\n",
    "df['Health Indicator'] = df['Health Indicator'].fillna(df['Health Indicator'].mode()[0])"
   ]
  },
  {
   "cell_type": "code",
   "execution_count": null,
   "metadata": {
    "ExecuteTime": {
     "end_time": "2021-03-19T03:03:47.504274Z",
     "start_time": "2021-03-19T03:03:47.495206Z"
    },
    "hidden": true
   },
   "outputs": [],
   "source": [
    "# numerical conversion / float to int\n",
    "for col in df.select_dtypes('number').columns:\n",
    "    df[col] = df[col].astype(int)"
   ]
  },
  {
   "cell_type": "markdown",
   "metadata": {
    "hidden": true
   },
   "source": [
    "## Exploratory Data Analysis"
   ]
  },
  {
   "cell_type": "code",
   "execution_count": null,
   "metadata": {
    "ExecuteTime": {
     "end_time": "2021-03-19T03:03:47.806648Z",
     "start_time": "2021-03-19T03:03:47.505894Z"
    },
    "hidden": true
   },
   "outputs": [],
   "source": [
    "corr = df.corr() # analyzing correlation\n",
    "fig, ax = plt.subplots(figsize=(12,10))\n",
    "mask = np.triu(np.ones_like(corr, dtype=np.bool))\n",
    "sns.heatmap(corr, mask=mask, square=True, annot=True, cmap='YlGnBu')\n",
    "ax.patch.set_edgecolor('black')  \n",
    "ax.patch.set_linewidth('1')\n",
    "ax.set_title('Correlation & Heat Map', fontsize=15, fontfamily='serif')\n",
    "plt.show()"
   ]
  },
  {
   "cell_type": "code",
   "execution_count": null,
   "metadata": {
    "ExecuteTime": {
     "end_time": "2021-03-19T03:03:47.810075Z",
     "start_time": "2021-03-19T03:03:47.808451Z"
    },
    "hidden": true
   },
   "outputs": [],
   "source": [
    "# sns.catplot(data=df, x='Reco_Policy_Premium',y='Health Indicator')"
   ]
  },
  {
   "cell_type": "code",
   "execution_count": null,
   "metadata": {
    "ExecuteTime": {
     "end_time": "2021-03-19T03:03:47.813476Z",
     "start_time": "2021-03-19T03:03:47.811632Z"
    },
    "hidden": true
   },
   "outputs": [],
   "source": [
    "# sns.countplot(data=df[df['Holding_Policy_Type']!=0],x='Holding_Policy_Type',hue='Response')"
   ]
  },
  {
   "cell_type": "code",
   "execution_count": null,
   "metadata": {
    "ExecuteTime": {
     "end_time": "2021-03-19T03:03:47.816743Z",
     "start_time": "2021-03-19T03:03:47.814927Z"
    },
    "hidden": true
   },
   "outputs": [],
   "source": [
    "# sns.violinplot(data=df[df['Holding_Policy_Duration']!=0],x='Holding_Policy_Duration',y='Avg_Age')"
   ]
  },
  {
   "cell_type": "code",
   "execution_count": null,
   "metadata": {
    "ExecuteTime": {
     "end_time": "2021-03-19T03:03:47.819967Z",
     "start_time": "2021-03-19T03:03:47.818208Z"
    },
    "hidden": true
   },
   "outputs": [],
   "source": [
    "# sns.violinplot(data=df[df['Holding_Policy_Type']!=0],x='Holding_Policy_Type',y='Avg_Age',hue='Response')"
   ]
  },
  {
   "cell_type": "markdown",
   "metadata": {
    "hidden": true
   },
   "source": [
    "<div class=\"alert alert-block alert-info\">\n",
    "\n",
    "**NOTE HERE**\n",
    "\n",
    "</div>"
   ]
  },
  {
   "cell_type": "markdown",
   "metadata": {
    "ExecuteTime": {
     "end_time": "2021-03-18T21:52:24.139788Z",
     "start_time": "2021-03-18T21:52:24.122779Z"
    },
    "hidden": true
   },
   "source": [
    "### Final Updates\n",
    "* Binary Conversions: 'Accomodation_Type', 'Reco_Insurance_Type' and 'Married'\n",
    "* Numerical Conversions: 'Holding Policy Type' and 'Reco Policy Cat' \n",
    "* Final conversions for ML modeling"
   ]
  },
  {
   "cell_type": "code",
   "execution_count": null,
   "metadata": {
    "ExecuteTime": {
     "end_time": "2021-03-19T03:03:47.966382Z",
     "start_time": "2021-03-19T03:03:47.821500Z"
    },
    "hidden": true
   },
   "outputs": [],
   "source": [
    "# Exporting for dashboard analysis\n",
    "df.to_csv('jobathondashboard.csv')"
   ]
  },
  {
   "cell_type": "markdown",
   "metadata": {
    "hidden": true
   },
   "source": [
    "Binary Conversion"
   ]
  },
  {
   "cell_type": "code",
   "execution_count": null,
   "metadata": {
    "ExecuteTime": {
     "end_time": "2021-03-19T03:03:48.039428Z",
     "start_time": "2021-03-19T03:03:47.971128Z"
    },
    "hidden": true
   },
   "outputs": [],
   "source": [
    "vals = {'Rented':1,'Owned':2,'Individual':1,'Joint':2,'No':0,'Yes':1}\n",
    "cols = ['Accomodation_Type','Reco_Insurance_Type','Married','Long_Term_Cust']\n",
    "\n",
    "for col in cols:\n",
    "    df[col] = df[col].replace(vals)"
   ]
  },
  {
   "cell_type": "markdown",
   "metadata": {
    "hidden": true
   },
   "source": [
    "Numerical Conversion"
   ]
  },
  {
   "cell_type": "code",
   "execution_count": null,
   "metadata": {
    "ExecuteTime": {
     "end_time": "2021-03-19T03:03:48.046561Z",
     "start_time": "2021-03-19T03:03:48.041923Z"
    },
    "hidden": true
   },
   "outputs": [],
   "source": [
    "# Converting ordinal features to categories\n",
    "ordinal = ['Holding_Policy_Type','Reco_Policy_Cat']\n",
    "for col in ordinal:\n",
    "    df[col] = df[col].astype('O')"
   ]
  },
  {
   "cell_type": "markdown",
   "metadata": {
    "hidden": true
   },
   "source": [
    "Final ML Model Updates"
   ]
  },
  {
   "cell_type": "code",
   "execution_count": null,
   "metadata": {
    "ExecuteTime": {
     "end_time": "2021-03-19T03:03:48.056060Z",
     "start_time": "2021-03-19T03:03:48.047908Z"
    },
    "hidden": true
   },
   "outputs": [],
   "source": [
    "citydf = df['City_Code'].to_frame()\n",
    "df.drop(['City_Code'],axis=1,inplace=True)"
   ]
  },
  {
   "cell_type": "code",
   "execution_count": null,
   "metadata": {
    "ExecuteTime": {
     "end_time": "2021-03-19T03:03:48.060409Z",
     "start_time": "2021-03-19T03:03:48.057518Z"
    },
    "hidden": true
   },
   "outputs": [],
   "source": [
    "# List | categorical variables in ordinal columns\n",
    "cat_vars = [var for var in df.columns if df[var].dtype == 'O']"
   ]
  },
  {
   "cell_type": "code",
   "execution_count": null,
   "metadata": {
    "ExecuteTime": {
     "end_time": "2021-03-19T03:03:48.064990Z",
     "start_time": "2021-03-19T03:03:48.061834Z"
    },
    "hidden": true
   },
   "outputs": [],
   "source": [
    "def replace_categories(df, var, target):\n",
    "    # Order variable categories | lowest to highest against target (price)\n",
    "    ordered_labels = df.groupby([var])[target].mean().sort_values().index\n",
    "\n",
    "    # Dictionary of ordered categories to integer values\n",
    "    ordinal_label = {k: i for i, k in enumerate(ordered_labels, 0)}\n",
    "\n",
    "    # Replace the categorical strings by integers using dictionary\n",
    "    df[var] = df[var].map(ordinal_label)"
   ]
  },
  {
   "cell_type": "code",
   "execution_count": null,
   "metadata": {
    "ExecuteTime": {
     "end_time": "2021-03-19T03:03:48.090047Z",
     "start_time": "2021-03-19T03:03:48.066379Z"
    },
    "hidden": true
   },
   "outputs": [],
   "source": [
    "# Ordinal variable conversion\n",
    "for var in cat_vars:\n",
    "    replace_categories(df, var, 'Avg_Age')"
   ]
  },
  {
   "cell_type": "code",
   "execution_count": null,
   "metadata": {
    "ExecuteTime": {
     "end_time": "2021-03-19T03:03:48.099769Z",
     "start_time": "2021-03-19T03:03:48.091569Z"
    },
    "hidden": true
   },
   "outputs": [],
   "source": [
    "# Concatenate\n",
    "dataset = pd.concat([citydf,df],axis=1)"
   ]
  },
  {
   "cell_type": "markdown",
   "metadata": {
    "hidden": true
   },
   "source": [
    "#### one hot encode"
   ]
  },
  {
   "cell_type": "code",
   "execution_count": null,
   "metadata": {
    "ExecuteTime": {
     "end_time": "2021-03-19T03:03:48.117153Z",
     "start_time": "2021-03-19T03:03:48.101184Z"
    },
    "hidden": true
   },
   "outputs": [],
   "source": [
    "# One Hot Encode\n",
    "dataset = pd.get_dummies(dataset,drop_first=True)"
   ]
  },
  {
   "cell_type": "code",
   "execution_count": null,
   "metadata": {
    "ExecuteTime": {
     "end_time": "2021-03-19T03:03:48.157793Z",
     "start_time": "2021-03-19T03:03:48.118597Z"
    },
    "hidden": true
   },
   "outputs": [],
   "source": [
    "# Converting uint8 datatypes back to categorical variables \n",
    "for cat_cols in dataset.select_dtypes('uint8').columns:\n",
    "    dataset[cat_cols] = dataset[cat_cols].astype('category')"
   ]
  },
  {
   "cell_type": "code",
   "execution_count": null,
   "metadata": {
    "ExecuteTime": {
     "end_time": "2021-03-19T03:03:48.162971Z",
     "start_time": "2021-03-19T03:03:48.159162Z"
    },
    "hidden": true
   },
   "outputs": [],
   "source": [
    "# Cleaning column names\n",
    "subs = [(' ', '_'),('.0','')]\n",
    "\n",
    "def col_formatting(col):\n",
    "    '''Replacing Column Features for Model Processing'''\n",
    "    for old, new in subs:\n",
    "        col = col.replace(old,new)\n",
    "    return col\n",
    "\n",
    "dataset.columns = [col_formatting(col) for col in dataset.columns]"
   ]
  },
  {
   "cell_type": "markdown",
   "metadata": {
    "ExecuteTime": {
     "end_time": "2021-03-10T22:37:25.632959Z",
     "start_time": "2021-03-10T22:37:25.623427Z"
    },
    "hidden": true
   },
   "source": [
    "#### Pycaret"
   ]
  },
  {
   "cell_type": "code",
   "execution_count": null,
   "metadata": {
    "ExecuteTime": {
     "end_time": "2021-03-19T03:03:49.094373Z",
     "start_time": "2021-03-19T03:03:48.164590Z"
    },
    "hidden": true
   },
   "outputs": [],
   "source": [
    "import pycaret\n",
    "import pycaret.preprocess as preprocess\n",
    "from pycaret.datasets import get_data\n",
    "from pycaret.classification import *\n",
    "import pycaret.preprocess as preprocess"
   ]
  },
  {
   "cell_type": "code",
   "execution_count": null,
   "metadata": {
    "ExecuteTime": {
     "end_time": "2021-03-19T03:03:49.122566Z",
     "start_time": "2021-03-19T03:03:49.095974Z"
    },
    "hidden": true
   },
   "outputs": [],
   "source": [
    "data = dataset.sample(frac=0.80, random_state=786)\n",
    "data_unseen = dataset.drop(data.index).reset_index(drop=True)\n",
    "\n",
    "print('Data for Modeling: ' + str(data.shape))\n",
    "print('Unseen Data For Predictions: ' + str(data_unseen.shape))"
   ]
  },
  {
   "cell_type": "code",
   "execution_count": null,
   "metadata": {
    "ExecuteTime": {
     "end_time": "2021-03-19T03:04:13.470972Z",
     "start_time": "2021-03-19T03:03:49.124347Z"
    },
    "hidden": true
   },
   "outputs": [],
   "source": [
    "clf1 = setup(data=data,target='Response',session_id=123,numeric_features=['Long_Term_Cust','Health_Indicator','Accomodation_Type','Reco_Insurance_Type','Married','Holding_Policy_Duration','Holding_Policy_Type'])"
   ]
  },
  {
   "cell_type": "code",
   "execution_count": null,
   "metadata": {
    "ExecuteTime": {
     "end_time": "2021-03-19T03:08:10.288606Z",
     "start_time": "2021-03-19T03:04:13.472913Z"
    },
    "hidden": true
   },
   "outputs": [],
   "source": [
    "compare_models()"
   ]
  },
  {
   "cell_type": "code",
   "execution_count": null,
   "metadata": {
    "ExecuteTime": {
     "end_time": "2021-03-19T03:10:00.808795Z",
     "start_time": "2021-03-19T03:09:33.002400Z"
    },
    "hidden": true
   },
   "outputs": [],
   "source": [
    "GBC = create_model('gbc')"
   ]
  },
  {
   "cell_type": "code",
   "execution_count": null,
   "metadata": {
    "ExecuteTime": {
     "end_time": "2021-03-19T03:13:05.567709Z",
     "start_time": "2021-03-19T03:11:19.787130Z"
    },
    "hidden": true
   },
   "outputs": [],
   "source": [
    "tuned_gbc = tune_model(GBC)"
   ]
  },
  {
   "cell_type": "code",
   "execution_count": null,
   "metadata": {
    "ExecuteTime": {
     "end_time": "2021-03-19T03:14:44.124886Z",
     "start_time": "2021-03-19T03:13:49.534764Z"
    },
    "hidden": true
   },
   "outputs": [],
   "source": [
    "tuned_GBC = tune_model(GBC, optimize = 'AUC')"
   ]
  },
  {
   "cell_type": "code",
   "execution_count": null,
   "metadata": {
    "hidden": true
   },
   "outputs": [],
   "source": [
    "# GBC = create_model('gbc')\n",
    "# tuned_GBC = tune_model(GBC, optimize = 'AUC')\n",
    "# print(tuned_GBC)\n",
    "# plot_model(tuned_GBC, plot = 'auc')\n",
    "# plot_model(tuned_GBC, plot = 'confusion_matrix')\n",
    "# # Final check using the unseen data / test\n",
    "# predict_model(tuned_GBC);\n",
    "\n",
    "# # Final Model / trained on the complete dataset\n",
    "# final_GBC = finalize_model(tuned_GBC)\n",
    "\n",
    "# evaluate_model(final_GBC)\n",
    "\n",
    "# plot_model(final_GBC, plot='feature')\n",
    "\n",
    "# # Interpret model | SHAP\n",
    "# interpret_model(final_GBC)"
   ]
  },
  {
   "cell_type": "code",
   "execution_count": null,
   "metadata": {
    "ExecuteTime": {
     "end_time": "2021-03-19T03:18:10.558309Z",
     "start_time": "2021-03-19T03:18:10.184658Z"
    },
    "hidden": true
   },
   "outputs": [],
   "source": [
    "predict_model(tuned_gbc)"
   ]
  },
  {
   "cell_type": "code",
   "execution_count": null,
   "metadata": {
    "ExecuteTime": {
     "end_time": "2021-03-19T03:19:24.954705Z",
     "start_time": "2021-03-19T03:19:02.799200Z"
    },
    "hidden": true
   },
   "outputs": [],
   "source": [
    "final_GBC = finalize_model(tuned_GBC)"
   ]
  },
  {
   "cell_type": "code",
   "execution_count": null,
   "metadata": {
    "ExecuteTime": {
     "end_time": "2021-03-19T03:19:29.944559Z",
     "start_time": "2021-03-19T03:19:29.900630Z"
    },
    "hidden": true
   },
   "outputs": [],
   "source": [
    "evaluate_model(final_GBC)"
   ]
  },
  {
   "cell_type": "code",
   "execution_count": null,
   "metadata": {
    "ExecuteTime": {
     "end_time": "2021-03-19T03:20:44.286074Z",
     "start_time": "2021-03-19T03:20:28.963190Z"
    },
    "hidden": true
   },
   "outputs": [],
   "source": [
    "# Interpret model | SHAP\n",
    "interpret_model(final_GBC)"
   ]
  },
  {
   "cell_type": "code",
   "execution_count": null,
   "metadata": {
    "hidden": true
   },
   "outputs": [],
   "source": []
  }
 ],
 "metadata": {
  "kernelspec": {
   "display_name": "Python [conda env:learn-env] *",
   "language": "python",
   "name": "conda-env-learn-env-py"
  },
  "language_info": {
   "codemirror_mode": {
    "name": "ipython",
    "version": 3
   },
   "file_extension": ".py",
   "mimetype": "text/x-python",
   "name": "python",
   "nbconvert_exporter": "python",
   "pygments_lexer": "ipython3",
   "version": "3.6.9"
  },
  "toc": {
   "base_numbering": 1,
   "nav_menu": {},
   "number_sections": true,
   "sideBar": true,
   "skip_h1_title": false,
   "title_cell": "Table of Contents",
   "title_sidebar": "Contents",
   "toc_cell": false,
   "toc_position": {
    "height": "calc(100% - 180px)",
    "left": "10px",
    "top": "150px",
    "width": "165px"
   },
   "toc_section_display": true,
   "toc_window_display": true
  }
 },
 "nbformat": 4,
 "nbformat_minor": 2
}
