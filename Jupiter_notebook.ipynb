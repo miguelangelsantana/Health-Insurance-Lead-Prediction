{
 "cells": [
  {
   "cell_type": "markdown",
   "metadata": {},
   "source": [
    "# Health Insurance | Job-A-Thon\n",
    "Author: Miguel Santana\n",
    "\n",
    "### Project Methodology\n",
    "FinMan Company is looking to leverage their client base by cross selling insurance products to existing customers. Insurance policies are offered to prospective and existing clients based on website landing and consumer election to fill out additional information forms. FinMan company would like to leverage their acquired information to classify positive leads for outreach programs using machine learning classifiers. \n",
    "\n",
    "### Data and Analytical Structure\n",
    "The project dataset is provided by Analytics Vidhya via Kaggle. Data includes demographic features, policy features (for current customers) and example positive classifications for ML model validation and interpretation. The source can be found [here.](https://www.kaggle.com/imsparsh/jobathon-analytics-vidhya?select=sample_submission.csv) The project analysis will follow the OSEMN framework: Obtain, Scrub, Explore, Model and Interpret.\n",
    "\n",
    "# Data & Packages | Obtain"
   ]
  },
  {
   "cell_type": "code",
   "execution_count": 1,
   "metadata": {
    "ExecuteTime": {
     "end_time": "2021-04-01T19:30:10.575405Z",
     "start_time": "2021-04-01T19:30:09.772753Z"
    }
   },
   "outputs": [],
   "source": [
    "import pandas as pd\n",
    "import matplotlib.pyplot as plt\n",
    "import seaborn as sns\n",
    "import numpy as np\n",
    "pd.set_option('display.max_columns',50)"
   ]
  },
  {
   "cell_type": "code",
   "execution_count": 2,
   "metadata": {
    "ExecuteTime": {
     "end_time": "2021-04-01T19:30:10.829547Z",
     "start_time": "2021-04-01T19:30:10.577237Z"
    }
   },
   "outputs": [],
   "source": [
    "from sklearn import preprocessing\n",
    "import warnings\n",
    "warnings.filterwarnings('ignore')"
   ]
  },
  {
   "cell_type": "code",
   "execution_count": 3,
   "metadata": {
    "ExecuteTime": {
     "end_time": "2021-04-01T19:30:10.928369Z",
     "start_time": "2021-04-01T19:30:10.832112Z"
    }
   },
   "outputs": [
    {
     "name": "stdout",
     "output_type": "stream",
     "text": [
      "(50882, 14)\n"
     ]
    },
    {
     "data": {
      "text/html": [
       "<div>\n",
       "<style scoped>\n",
       "    .dataframe tbody tr th:only-of-type {\n",
       "        vertical-align: middle;\n",
       "    }\n",
       "\n",
       "    .dataframe tbody tr th {\n",
       "        vertical-align: top;\n",
       "    }\n",
       "\n",
       "    .dataframe thead th {\n",
       "        text-align: right;\n",
       "    }\n",
       "</style>\n",
       "<table border=\"1\" class=\"dataframe\">\n",
       "  <thead>\n",
       "    <tr style=\"text-align: right;\">\n",
       "      <th></th>\n",
       "      <th>ID</th>\n",
       "      <th>City_Code</th>\n",
       "      <th>Region_Code</th>\n",
       "      <th>Accomodation_Type</th>\n",
       "      <th>Reco_Insurance_Type</th>\n",
       "      <th>Upper_Age</th>\n",
       "      <th>Lower_Age</th>\n",
       "      <th>Is_Spouse</th>\n",
       "      <th>Health Indicator</th>\n",
       "      <th>Holding_Policy_Duration</th>\n",
       "      <th>Holding_Policy_Type</th>\n",
       "      <th>Reco_Policy_Cat</th>\n",
       "      <th>Reco_Policy_Premium</th>\n",
       "      <th>Response</th>\n",
       "    </tr>\n",
       "  </thead>\n",
       "  <tbody>\n",
       "    <tr>\n",
       "      <th>0</th>\n",
       "      <td>1</td>\n",
       "      <td>C3</td>\n",
       "      <td>3213</td>\n",
       "      <td>Rented</td>\n",
       "      <td>Individual</td>\n",
       "      <td>36</td>\n",
       "      <td>36</td>\n",
       "      <td>No</td>\n",
       "      <td>X1</td>\n",
       "      <td>14+</td>\n",
       "      <td>3.0</td>\n",
       "      <td>22</td>\n",
       "      <td>11628.0</td>\n",
       "      <td>0</td>\n",
       "    </tr>\n",
       "    <tr>\n",
       "      <th>1</th>\n",
       "      <td>2</td>\n",
       "      <td>C5</td>\n",
       "      <td>1117</td>\n",
       "      <td>Owned</td>\n",
       "      <td>Joint</td>\n",
       "      <td>75</td>\n",
       "      <td>22</td>\n",
       "      <td>No</td>\n",
       "      <td>X2</td>\n",
       "      <td>NaN</td>\n",
       "      <td>NaN</td>\n",
       "      <td>22</td>\n",
       "      <td>30510.0</td>\n",
       "      <td>0</td>\n",
       "    </tr>\n",
       "    <tr>\n",
       "      <th>2</th>\n",
       "      <td>3</td>\n",
       "      <td>C5</td>\n",
       "      <td>3732</td>\n",
       "      <td>Owned</td>\n",
       "      <td>Individual</td>\n",
       "      <td>32</td>\n",
       "      <td>32</td>\n",
       "      <td>No</td>\n",
       "      <td>NaN</td>\n",
       "      <td>1.0</td>\n",
       "      <td>1.0</td>\n",
       "      <td>19</td>\n",
       "      <td>7450.0</td>\n",
       "      <td>1</td>\n",
       "    </tr>\n",
       "  </tbody>\n",
       "</table>\n",
       "</div>"
      ],
      "text/plain": [
       "   ID City_Code  Region_Code Accomodation_Type Reco_Insurance_Type  Upper_Age  \\\n",
       "0   1        C3         3213            Rented          Individual         36   \n",
       "1   2        C5         1117             Owned               Joint         75   \n",
       "2   3        C5         3732             Owned          Individual         32   \n",
       "\n",
       "   Lower_Age Is_Spouse Health Indicator Holding_Policy_Duration  \\\n",
       "0         36        No               X1                     14+   \n",
       "1         22        No               X2                     NaN   \n",
       "2         32        No              NaN                     1.0   \n",
       "\n",
       "   Holding_Policy_Type  Reco_Policy_Cat  Reco_Policy_Premium  Response  \n",
       "0                  3.0               22              11628.0         0  \n",
       "1                  NaN               22              30510.0         0  \n",
       "2                  1.0               19               7450.0         1  "
      ]
     },
     "execution_count": 3,
     "metadata": {},
     "output_type": "execute_result"
    }
   ],
   "source": [
    "traindf = pd.read_csv('train.csv')\n",
    "testdf = pd.read_csv('test.csv')\n",
    "\n",
    "print(traindf.shape)\n",
    "traindf.head(3)"
   ]
  },
  {
   "cell_type": "markdown",
   "metadata": {},
   "source": [
    "# Data Cleaning | Scrub\n",
    "\n",
    "## Null Values"
   ]
  },
  {
   "cell_type": "code",
   "execution_count": 4,
   "metadata": {
    "ExecuteTime": {
     "end_time": "2021-04-01T19:30:10.945187Z",
     "start_time": "2021-04-01T19:30:10.930407Z"
    }
   },
   "outputs": [
    {
     "data": {
      "text/plain": [
       "ID                             0\n",
       "City_Code                      0\n",
       "Region_Code                    0\n",
       "Accomodation_Type              0\n",
       "Reco_Insurance_Type            0\n",
       "Upper_Age                      0\n",
       "Lower_Age                      0\n",
       "Is_Spouse                      0\n",
       "Health Indicator           11691\n",
       "Holding_Policy_Duration    20251\n",
       "Holding_Policy_Type        20251\n",
       "Reco_Policy_Cat                0\n",
       "Reco_Policy_Premium            0\n",
       "Response                       0\n",
       "dtype: int64"
      ]
     },
     "execution_count": 4,
     "metadata": {},
     "output_type": "execute_result"
    }
   ],
   "source": [
    "traindf.isnull().sum()"
   ]
  },
  {
   "cell_type": "code",
   "execution_count": 5,
   "metadata": {
    "ExecuteTime": {
     "end_time": "2021-04-01T19:30:10.955583Z",
     "start_time": "2021-04-01T19:30:10.946796Z"
    }
   },
   "outputs": [],
   "source": [
    "nonclients = ['Holding_Policy_Duration','Holding_Policy_Type']\n",
    "for col in nonclients:\n",
    "    traindf[col] = traindf[col].fillna(0)\n",
    "    testdf[col] = testdf[col].fillna(0)"
   ]
  },
  {
   "cell_type": "code",
   "execution_count": 6,
   "metadata": {
    "ExecuteTime": {
     "end_time": "2021-04-01T19:30:10.966582Z",
     "start_time": "2021-04-01T19:30:10.957127Z"
    }
   },
   "outputs": [],
   "source": [
    "traindf['Health Indicator'] = traindf['Health Indicator'].fillna(traindf['Health Indicator'].mode()[0])\n",
    "testdf['Health Indicator'] = testdf['Health Indicator'].fillna(testdf['Health Indicator'].mode()[0])"
   ]
  },
  {
   "cell_type": "markdown",
   "metadata": {},
   "source": [
    "With many of these prospects not clearly identified as current clients, its safe to assume that null values in the 'Policy Duration' and 'Policy Type' columns are tied to non existing accounts and may be filled with zeros.\n",
    "\n",
    "## Feature Engineering\n",
    "\n",
    "Convert to numerical: Holding_Policy_Duration\n",
    "    \n",
    "* Feature engineer long term customers\n",
    "* Convert '14+' to '15' / convert to numerical\n",
    "\n",
    "Note: (**after EDA**) Convert to binary | Accomodation_Type, Reco_Insurance_Type, Is_Spouse\n",
    "\n",
    "#### Categorical Features "
   ]
  },
  {
   "cell_type": "code",
   "execution_count": 7,
   "metadata": {
    "ExecuteTime": {
     "end_time": "2021-04-01T19:30:10.988315Z",
     "start_time": "2021-04-01T19:30:10.967860Z"
    }
   },
   "outputs": [],
   "source": [
    "traindf['Long_Term_Cust'] = traindf['Holding_Policy_Duration'].apply(lambda x: 'Yes' if x == '14+' else 'No')\n",
    "testdf['Long_Term_Cust'] = testdf['Holding_Policy_Duration'].apply(lambda x: 'Yes' if x == '14+' else 'No')\n",
    "\n",
    "traindf['Holding_Policy_Duration'] = traindf['Holding_Policy_Duration'].replace('14+',15).astype(float).astype(int)\n",
    "testdf['Holding_Policy_Duration'] = testdf['Holding_Policy_Duration'].replace('14+',15).astype(float).astype(int)"
   ]
  },
  {
   "cell_type": "markdown",
   "metadata": {},
   "source": [
    "#### Renaming Features"
   ]
  },
  {
   "cell_type": "code",
   "execution_count": 8,
   "metadata": {
    "ExecuteTime": {
     "end_time": "2021-04-01T19:30:11.003034Z",
     "start_time": "2021-04-01T19:30:10.991289Z"
    }
   },
   "outputs": [],
   "source": [
    "traindf.rename(columns={'Is_Spouse':'Married','Health Indicator':'Health_Indicator'},inplace=True)\n",
    "testdf.rename(columns={'Is_Spouse':'Married','Health Indicator':'Health_Indicator'},inplace=True)\n",
    "\n",
    "traindf['Avg_Age'] = (traindf['Upper_Age'] + traindf['Lower_Age']) / 2\n",
    "testdf['Avg_Age'] = (testdf['Upper_Age'] + testdf['Lower_Age']) / 2"
   ]
  },
  {
   "cell_type": "markdown",
   "metadata": {},
   "source": [
    "Typically, insurance products are priced and underwritten based on the age of the applicant or applicants. This is especially the case in most health insurance pricing. To reflect this and retain data, an average age feature will be created and the original two features will be dropped. "
   ]
  },
  {
   "cell_type": "code",
   "execution_count": 9,
   "metadata": {
    "ExecuteTime": {
     "end_time": "2021-04-01T19:30:11.010052Z",
     "start_time": "2021-04-01T19:30:11.005317Z"
    }
   },
   "outputs": [],
   "source": [
    "# feature engineering\n",
    "traindf['Prim_Prem_Ratio'] = traindf['Reco_Policy_Premium'] / traindf['Upper_Age']\n",
    "testdf['Prim_Prem_Ratio'] = testdf['Reco_Policy_Premium'] / testdf['Upper_Age']"
   ]
  },
  {
   "cell_type": "markdown",
   "metadata": {},
   "source": [
    "## Feature Selection"
   ]
  },
  {
   "cell_type": "code",
   "execution_count": 10,
   "metadata": {
    "ExecuteTime": {
     "end_time": "2021-04-01T19:30:11.029805Z",
     "start_time": "2021-04-01T19:30:11.011404Z"
    }
   },
   "outputs": [],
   "source": [
    "traindf.drop(['ID','Region_Code','Upper_Age','Lower_Age'],axis=1,inplace=True)\n",
    "testdf2 = testdf.copy()\n",
    "testdf.drop(['ID','Region_Code','Upper_Age','Lower_Age'],axis=1,inplace=True)"
   ]
  },
  {
   "cell_type": "markdown",
   "metadata": {},
   "source": [
    "The unique 'ID' and 'Region Code' columns will be dropped in order to simplify the data. 'Region Code' consists of far too many categorical values which would need to be one hot encoded. The feature is dropped as the data still retains the 'City Code' feature to capture some level of geographical distinction. In addition, the upper and lower age features will be dropped being represented by average age. "
   ]
  },
  {
   "cell_type": "code",
   "execution_count": 11,
   "metadata": {
    "ExecuteTime": {
     "end_time": "2021-04-01T19:30:11.042348Z",
     "start_time": "2021-04-01T19:30:11.031160Z"
    }
   },
   "outputs": [],
   "source": [
    "numcols = testdf.select_dtypes('number').columns\n",
    "for col in numcols:\n",
    "    traindf[col] = traindf[col].astype(int)\n",
    "    testdf[col] = testdf[col].astype(int)"
   ]
  },
  {
   "cell_type": "code",
   "execution_count": 12,
   "metadata": {
    "ExecuteTime": {
     "end_time": "2021-04-01T19:30:11.048656Z",
     "start_time": "2021-04-01T19:30:11.043974Z"
    }
   },
   "outputs": [],
   "source": [
    "# copy for final analysis\n",
    "df = traindf.copy()"
   ]
  },
  {
   "cell_type": "code",
   "execution_count": 13,
   "metadata": {
    "ExecuteTime": {
     "end_time": "2021-04-01T19:30:11.149889Z",
     "start_time": "2021-04-01T19:30:11.050305Z"
    }
   },
   "outputs": [],
   "source": [
    "vals = {'Rented':1,'Owned':2,'Individual':1,'Joint':2,'No':0,'Yes':1}\n",
    "cols = ['Accomodation_Type','Reco_Insurance_Type','Married','Long_Term_Cust']\n",
    "\n",
    "for col in cols:\n",
    "    traindf[col] = traindf[col].replace(vals)\n",
    "    testdf[col] = testdf[col].replace(vals)"
   ]
  },
  {
   "cell_type": "markdown",
   "metadata": {},
   "source": [
    "Features 'Accommodation Type', 'Reco Insurance Type', 'Is Spouse' will be converted to binary (0 and 1)."
   ]
  },
  {
   "cell_type": "code",
   "execution_count": 14,
   "metadata": {
    "ExecuteTime": {
     "end_time": "2021-04-01T19:30:11.158131Z",
     "start_time": "2021-04-01T19:30:11.151381Z"
    }
   },
   "outputs": [],
   "source": [
    "ordinal = ['Holding_Policy_Type','Reco_Policy_Cat']\n",
    "for col in ordinal:\n",
    "    traindf[col] = traindf[col].astype('O')\n",
    "    testdf[col] = testdf[col].astype('O')"
   ]
  },
  {
   "cell_type": "markdown",
   "metadata": {},
   "source": [
    "The two feature that stand out are 'Holding Policy Type' and 'Reco Policy Cat' which are listed under numerical but most likely correspond to type and category of policy in existing customers. "
   ]
  },
  {
   "cell_type": "markdown",
   "metadata": {},
   "source": [
    "# Exploratory Data Analysis"
   ]
  },
  {
   "cell_type": "code",
   "execution_count": 15,
   "metadata": {
    "ExecuteTime": {
     "end_time": "2021-04-01T19:30:11.624011Z",
     "start_time": "2021-04-01T19:30:11.159539Z"
    }
   },
   "outputs": [
    {
     "data": {
      "image/png": "[encoded data removed]",
      "text/plain": [
       "<Figure size 864x720 with 2 Axes>"
      ]
     },
     "metadata": {
      "needs_background": "light"
     },
     "output_type": "display_data"
    }
   ],
   "source": [
    "corr = traindf.corr() # analyzing correlation\n",
    "fig, ax = plt.subplots(figsize=(12,10))\n",
    "mask = np.triu(np.ones_like(corr, dtype=np.bool))\n",
    "sns.heatmap(corr, mask=mask, square=True, annot=True, cmap='YlGnBu')\n",
    "ax.patch.set_edgecolor('black')  \n",
    "ax.patch.set_linewidth('1')\n",
    "ax.set_title('Correlation & Heat Map', fontsize=15, fontfamily='serif')\n",
    "plt.show()"
   ]
  },
  {
   "cell_type": "code",
   "execution_count": 16,
   "metadata": {
    "ExecuteTime": {
     "end_time": "2021-04-01T19:30:11.639102Z",
     "start_time": "2021-04-01T19:30:11.625862Z"
    }
   },
   "outputs": [],
   "source": [
    "traindf.drop(['Married'],axis=1,inplace=True)\n",
    "testdf.drop(['Married'],axis=1,inplace=True)"
   ]
  },
  {
   "cell_type": "markdown",
   "metadata": {},
   "source": [
    "Final feature selection due to multicollinearity. "
   ]
  },
  {
   "cell_type": "code",
   "execution_count": 17,
   "metadata": {
    "ExecuteTime": {
     "end_time": "2021-04-01T19:30:11.714445Z",
     "start_time": "2021-04-01T19:30:11.640534Z"
    }
   },
   "outputs": [
    {
     "data": {
      "text/html": [
       "<style  type=\"text/css\" >\n",
       "#T_ad14ebd4_9320_11eb_91c7_acde48001122row0_col0,#T_ad14ebd4_9320_11eb_91c7_acde48001122row0_col1,#T_ad14ebd4_9320_11eb_91c7_acde48001122row0_col2,#T_ad14ebd4_9320_11eb_91c7_acde48001122row0_col3,#T_ad14ebd4_9320_11eb_91c7_acde48001122row0_col4,#T_ad14ebd4_9320_11eb_91c7_acde48001122row0_col5{\n",
       "            background-color:  #fff5f0;\n",
       "            color:  #000000;\n",
       "        }#T_ad14ebd4_9320_11eb_91c7_acde48001122row1_col0,#T_ad14ebd4_9320_11eb_91c7_acde48001122row1_col1,#T_ad14ebd4_9320_11eb_91c7_acde48001122row1_col2,#T_ad14ebd4_9320_11eb_91c7_acde48001122row1_col3,#T_ad14ebd4_9320_11eb_91c7_acde48001122row1_col4,#T_ad14ebd4_9320_11eb_91c7_acde48001122row1_col5{\n",
       "            background-color:  #67000d;\n",
       "            color:  #f1f1f1;\n",
       "        }</style><table id=\"T_ad14ebd4_9320_11eb_91c7_acde48001122\" ><thead>    <tr>        <th class=\"blank level0\" ></th>        <th class=\"col_heading level0 col0\" >Holding_Policy_Duration</th>        <th class=\"col_heading level0 col1\" >Holding_Policy_Type</th>        <th class=\"col_heading level0 col2\" >Reco_Policy_Cat</th>        <th class=\"col_heading level0 col3\" >Reco_Policy_Premium</th>        <th class=\"col_heading level0 col4\" >Avg_Age</th>        <th class=\"col_heading level0 col5\" >Prim_Prem_Ratio</th>    </tr>    <tr>        <th class=\"index_name level0\" >Response</th>        <th class=\"blank\" ></th>        <th class=\"blank\" ></th>        <th class=\"blank\" ></th>        <th class=\"blank\" ></th>        <th class=\"blank\" ></th>        <th class=\"blank\" ></th>    </tr></thead><tbody>\n",
       "                <tr>\n",
       "                        <th id=\"T_ad14ebd4_9320_11eb_91c7_acde48001122level0_row0\" class=\"row_heading level0 row0\" >0</th>\n",
       "                        <td id=\"T_ad14ebd4_9320_11eb_91c7_acde48001122row0_col0\" class=\"data row0 col0\" >3.668554</td>\n",
       "                        <td id=\"T_ad14ebd4_9320_11eb_91c7_acde48001122row0_col1\" class=\"data row0 col1\" >1.463915</td>\n",
       "                        <td id=\"T_ad14ebd4_9320_11eb_91c7_acde48001122row0_col2\" class=\"data row0 col2\" >14.707910</td>\n",
       "                        <td id=\"T_ad14ebd4_9320_11eb_91c7_acde48001122row0_col3\" class=\"data row0 col3\" >14154.494816</td>\n",
       "                        <td id=\"T_ad14ebd4_9320_11eb_91c7_acde48001122row0_col4\" class=\"data row0 col4\" >43.738888</td>\n",
       "                        <td id=\"T_ad14ebd4_9320_11eb_91c7_acde48001122row0_col5\" class=\"data row0 col5\" >317.916712</td>\n",
       "            </tr>\n",
       "            <tr>\n",
       "                        <th id=\"T_ad14ebd4_9320_11eb_91c7_acde48001122level0_row1\" class=\"row_heading level0 row1\" >1</th>\n",
       "                        <td id=\"T_ad14ebd4_9320_11eb_91c7_acde48001122row1_col0\" class=\"data row1 col0\" >3.826194</td>\n",
       "                        <td id=\"T_ad14ebd4_9320_11eb_91c7_acde48001122row1_col1\" class=\"data row1 col1\" >1.482677</td>\n",
       "                        <td id=\"T_ad14ebd4_9320_11eb_91c7_acde48001122row1_col2\" class=\"data row1 col2\" >16.405275</td>\n",
       "                        <td id=\"T_ad14ebd4_9320_11eb_91c7_acde48001122row1_col3\" class=\"data row1 col3\" >14277.072406</td>\n",
       "                        <td id=\"T_ad14ebd4_9320_11eb_91c7_acde48001122row1_col4\" class=\"data row1 col4\" >43.748219</td>\n",
       "                        <td id=\"T_ad14ebd4_9320_11eb_91c7_acde48001122row1_col5\" class=\"data row1 col5\" >319.431649</td>\n",
       "            </tr>\n",
       "    </tbody></table>"
      ],
      "text/plain": [
       "<pandas.io.formats.style.Styler at 0x7fdd28885550>"
      ]
     },
     "execution_count": 17,
     "metadata": {},
     "output_type": "execute_result"
    }
   ],
   "source": [
    "targetdf = df.groupby('Response').mean().head()\n",
    "targetdf.style.background_gradient(cmap='Reds')"
   ]
  },
  {
   "cell_type": "markdown",
   "metadata": {},
   "source": [
    "Customers who elect to receive additional information typically hold existing policies longer and are classified under a larger policy category with a slightly larger premium. "
   ]
  },
  {
   "cell_type": "code",
   "execution_count": 18,
   "metadata": {
    "ExecuteTime": {
     "end_time": "2021-04-01T19:30:12.129203Z",
     "start_time": "2021-04-01T19:30:11.716398Z"
    }
   },
   "outputs": [
    {
     "data": {
      "image/png": "[encoded data removed]",
      "text/plain": [
       "<Figure size 720x432 with 1 Axes>"
      ]
     },
     "metadata": {
      "needs_background": "light"
     },
     "output_type": "display_data"
    }
   ],
   "source": [
    "fig, ax = plt.subplots(figsize=(10,6))\n",
    "ax = sns.countplot(data=df[df['Holding_Policy_Type']!=0],x='Holding_Policy_Type',hue='Response',palette='mako');\n",
    "for p in ax.patches:\n",
    "        ax.annotate(p.get_height(),(p.get_x()+0.09, p.get_height()+75))\n",
    "fig.savefig('policytypecount.jpg',dpi=200,bbox_inches='tight')"
   ]
  },
  {
   "cell_type": "markdown",
   "metadata": {},
   "source": [
    "Holding Policy Type three has the highest number of positive responses but all four of the categories have approximately 30% positive to negative client responses.  "
   ]
  },
  {
   "cell_type": "code",
   "execution_count": 19,
   "metadata": {
    "ExecuteTime": {
     "end_time": "2021-04-01T19:30:12.754068Z",
     "start_time": "2021-04-01T19:30:12.131198Z"
    }
   },
   "outputs": [
    {
     "data": {
      "image/png": "[encoded data removed]",
      "text/plain": [
       "<Figure size 720x432 with 1 Axes>"
      ]
     },
     "metadata": {
      "needs_background": "light"
     },
     "output_type": "display_data"
    }
   ],
   "source": [
    "fig, ax = plt.subplots(figsize=(10,6))\n",
    "sns.violinplot(data=df[df['Holding_Policy_Type']!=0],x='Holding_Policy_Type',y='Avg_Age',hue='Response',palette='mako');\n",
    "fig.savefig('policytypexage.jpg',dpi=200,bbox_inches='tight')"
   ]
  },
  {
   "cell_type": "markdown",
   "metadata": {},
   "source": [
    "The violin plot gives an interesting take on Average Age versus Holding Policy Type. HPT 3 shows a pretty even distribution across age groups while HPT 1 is heavily made up of younger individuals. "
   ]
  },
  {
   "cell_type": "code",
   "execution_count": 20,
   "metadata": {
    "ExecuteTime": {
     "end_time": "2021-04-01T19:30:12.760528Z",
     "start_time": "2021-04-01T19:30:12.756322Z"
    }
   },
   "outputs": [],
   "source": [
    "traincat_vars = [var for var in traindf.columns if traindf[var].dtype == 'O']\n",
    "testcat_vars = [var for var in testdf.columns if testdf[var].dtype == 'O']"
   ]
  },
  {
   "cell_type": "markdown",
   "metadata": {},
   "source": [
    "## Final Transformations"
   ]
  },
  {
   "cell_type": "code",
   "execution_count": 21,
   "metadata": {
    "ExecuteTime": {
     "end_time": "2021-04-01T19:30:12.766096Z",
     "start_time": "2021-04-01T19:30:12.762596Z"
    }
   },
   "outputs": [],
   "source": [
    "def replace_categories(df, var, target):\n",
    "    # Order variable categories | lowest to highest against target (price)\n",
    "    ordered_labels = df.groupby([var])[target].mean().sort_values().index\n",
    "    # Dictionary of ordered categories to integer values\n",
    "    ordinal_label = {k: i for i, k in enumerate(ordered_labels, 0)}\n",
    "    # Replace the categorical strings by integers using dictionary\n",
    "    df[var] = df[var].map(ordinal_label)"
   ]
  },
  {
   "cell_type": "code",
   "execution_count": 22,
   "metadata": {
    "ExecuteTime": {
     "end_time": "2021-04-01T19:30:12.799334Z",
     "start_time": "2021-04-01T19:30:12.768204Z"
    }
   },
   "outputs": [],
   "source": [
    "for var in traincat_vars:\n",
    "    replace_categories(traindf, var, 'Avg_Age')"
   ]
  },
  {
   "cell_type": "code",
   "execution_count": 23,
   "metadata": {
    "ExecuteTime": {
     "end_time": "2021-04-01T19:30:12.824964Z",
     "start_time": "2021-04-01T19:30:12.805098Z"
    }
   },
   "outputs": [],
   "source": [
    "for var in testcat_vars:\n",
    "    replace_categories(testdf, var, 'Avg_Age')"
   ]
  },
  {
   "cell_type": "markdown",
   "metadata": {
    "ExecuteTime": {
     "end_time": "2021-04-01T16:13:11.174592Z",
     "start_time": "2021-04-01T16:13:11.161525Z"
    }
   },
   "source": [
    "With each of the categorical values mapped to values with respect to average age, the resulting values will end up on a similar scale as the rest of the dataset. In order to minimize data manipulation for modeling, no label encoding or standard scaling will occur. "
   ]
  },
  {
   "cell_type": "code",
   "execution_count": 24,
   "metadata": {
    "ExecuteTime": {
     "end_time": "2021-04-01T19:30:12.830636Z",
     "start_time": "2021-04-01T19:30:12.828415Z"
    }
   },
   "outputs": [],
   "source": [
    "# labelencoder = preprocessing.LabelEncoder()\n",
    "# scaler = preprocessing.StandardScaler()"
   ]
  },
  {
   "cell_type": "code",
   "execution_count": 25,
   "metadata": {
    "ExecuteTime": {
     "end_time": "2021-04-01T19:30:12.833867Z",
     "start_time": "2021-04-01T19:30:12.832205Z"
    }
   },
   "outputs": [],
   "source": [
    "# traindf['City_Code'] = labelencoder.fit_transform(traindf['City_Code'])\n",
    "# testdf['City_Code'] = labelencoder.fit_transform(testdf['City_Code'])\n",
    "# traindfscaled = scaler.fit_transform(traindf)\n",
    "# testdfscaled = scaler.fit_transform(testdf)"
   ]
  },
  {
   "cell_type": "markdown",
   "metadata": {},
   "source": [
    "# Model\n",
    "## Pycaret"
   ]
  },
  {
   "cell_type": "code",
   "execution_count": 26,
   "metadata": {
    "ExecuteTime": {
     "end_time": "2021-04-01T19:30:13.322289Z",
     "start_time": "2021-04-01T19:30:12.835397Z"
    }
   },
   "outputs": [],
   "source": [
    "import pycaret\n",
    "import pycaret.preprocess as preprocess\n",
    "from pycaret.datasets import get_data\n",
    "from pycaret.classification import *\n",
    "import pycaret.preprocess as preprocess"
   ]
  },
  {
   "cell_type": "code",
   "execution_count": 27,
   "metadata": {
    "ExecuteTime": {
     "end_time": "2021-04-01T19:30:13.344920Z",
     "start_time": "2021-04-01T19:30:13.323975Z"
    }
   },
   "outputs": [
    {
     "name": "stdout",
     "output_type": "stream",
     "text": [
      "Data for Modeling: (40706, 12)\n",
      "Unseen Data For Predictions: (10176, 12)\n"
     ]
    }
   ],
   "source": [
    "dataset = traindf.copy()\n",
    "data = dataset.sample(frac=0.80, random_state=786)\n",
    "data_unseen = dataset.drop(data.index).reset_index(drop=True)\n",
    "print('Data for Modeling: ' + str(data.shape))\n",
    "print('Unseen Data For Predictions: ' + str(data_unseen.shape))"
   ]
  },
  {
   "cell_type": "code",
   "execution_count": 28,
   "metadata": {
    "ExecuteTime": {
     "end_time": "2021-04-01T19:30:24.367526Z",
     "start_time": "2021-04-01T19:30:13.346424Z"
    }
   },
   "outputs": [
    {
     "name": "stdout",
     "output_type": "stream",
     "text": [
      "Setup Succesfully Completed!\n"
     ]
    },
    {
     "data": {
      "text/html": [
       "<style  type=\"text/css\" >\n",
       "</style><table id=\"T_b49f95d4_9320_11eb_92eb_acde48001122\" ><thead>    <tr>        <th class=\"blank level0\" ></th>        <th class=\"col_heading level0 col0\" >Description</th>        <th class=\"col_heading level0 col1\" >Value</th>    </tr></thead><tbody>\n",
       "                <tr>\n",
       "                        <th id=\"T_b49f95d4_9320_11eb_92eb_acde48001122level0_row0\" class=\"row_heading level0 row0\" >0</th>\n",
       "                        <td id=\"T_b49f95d4_9320_11eb_92eb_acde48001122row0_col0\" class=\"data row0 col0\" >session_id</td>\n",
       "                        <td id=\"T_b49f95d4_9320_11eb_92eb_acde48001122row0_col1\" class=\"data row0 col1\" >123</td>\n",
       "            </tr>\n",
       "            <tr>\n",
       "                        <th id=\"T_b49f95d4_9320_11eb_92eb_acde48001122level0_row1\" class=\"row_heading level0 row1\" >1</th>\n",
       "                        <td id=\"T_b49f95d4_9320_11eb_92eb_acde48001122row1_col0\" class=\"data row1 col0\" >Target Type</td>\n",
       "                        <td id=\"T_b49f95d4_9320_11eb_92eb_acde48001122row1_col1\" class=\"data row1 col1\" >Binary</td>\n",
       "            </tr>\n",
       "            <tr>\n",
       "                        <th id=\"T_b49f95d4_9320_11eb_92eb_acde48001122level0_row2\" class=\"row_heading level0 row2\" >2</th>\n",
       "                        <td id=\"T_b49f95d4_9320_11eb_92eb_acde48001122row2_col0\" class=\"data row2 col0\" >Label Encoded</td>\n",
       "                        <td id=\"T_b49f95d4_9320_11eb_92eb_acde48001122row2_col1\" class=\"data row2 col1\" >0: 0, 1: 1</td>\n",
       "            </tr>\n",
       "            <tr>\n",
       "                        <th id=\"T_b49f95d4_9320_11eb_92eb_acde48001122level0_row3\" class=\"row_heading level0 row3\" >3</th>\n",
       "                        <td id=\"T_b49f95d4_9320_11eb_92eb_acde48001122row3_col0\" class=\"data row3 col0\" >Original Data</td>\n",
       "                        <td id=\"T_b49f95d4_9320_11eb_92eb_acde48001122row3_col1\" class=\"data row3 col1\" >(40706, 12)</td>\n",
       "            </tr>\n",
       "            <tr>\n",
       "                        <th id=\"T_b49f95d4_9320_11eb_92eb_acde48001122level0_row4\" class=\"row_heading level0 row4\" >4</th>\n",
       "                        <td id=\"T_b49f95d4_9320_11eb_92eb_acde48001122row4_col0\" class=\"data row4 col0\" >Missing Values </td>\n",
       "                        <td id=\"T_b49f95d4_9320_11eb_92eb_acde48001122row4_col1\" class=\"data row4 col1\" >False</td>\n",
       "            </tr>\n",
       "            <tr>\n",
       "                        <th id=\"T_b49f95d4_9320_11eb_92eb_acde48001122level0_row5\" class=\"row_heading level0 row5\" >5</th>\n",
       "                        <td id=\"T_b49f95d4_9320_11eb_92eb_acde48001122row5_col0\" class=\"data row5 col0\" >Numeric Features </td>\n",
       "                        <td id=\"T_b49f95d4_9320_11eb_92eb_acde48001122row5_col1\" class=\"data row5 col1\" >11</td>\n",
       "            </tr>\n",
       "            <tr>\n",
       "                        <th id=\"T_b49f95d4_9320_11eb_92eb_acde48001122level0_row6\" class=\"row_heading level0 row6\" >6</th>\n",
       "                        <td id=\"T_b49f95d4_9320_11eb_92eb_acde48001122row6_col0\" class=\"data row6 col0\" >Categorical Features </td>\n",
       "                        <td id=\"T_b49f95d4_9320_11eb_92eb_acde48001122row6_col1\" class=\"data row6 col1\" >0</td>\n",
       "            </tr>\n",
       "            <tr>\n",
       "                        <th id=\"T_b49f95d4_9320_11eb_92eb_acde48001122level0_row7\" class=\"row_heading level0 row7\" >7</th>\n",
       "                        <td id=\"T_b49f95d4_9320_11eb_92eb_acde48001122row7_col0\" class=\"data row7 col0\" >Ordinal Features </td>\n",
       "                        <td id=\"T_b49f95d4_9320_11eb_92eb_acde48001122row7_col1\" class=\"data row7 col1\" >False</td>\n",
       "            </tr>\n",
       "            <tr>\n",
       "                        <th id=\"T_b49f95d4_9320_11eb_92eb_acde48001122level0_row8\" class=\"row_heading level0 row8\" >8</th>\n",
       "                        <td id=\"T_b49f95d4_9320_11eb_92eb_acde48001122row8_col0\" class=\"data row8 col0\" >High Cardinality Features </td>\n",
       "                        <td id=\"T_b49f95d4_9320_11eb_92eb_acde48001122row8_col1\" class=\"data row8 col1\" >False</td>\n",
       "            </tr>\n",
       "            <tr>\n",
       "                        <th id=\"T_b49f95d4_9320_11eb_92eb_acde48001122level0_row9\" class=\"row_heading level0 row9\" >9</th>\n",
       "                        <td id=\"T_b49f95d4_9320_11eb_92eb_acde48001122row9_col0\" class=\"data row9 col0\" >High Cardinality Method </td>\n",
       "                        <td id=\"T_b49f95d4_9320_11eb_92eb_acde48001122row9_col1\" class=\"data row9 col1\" >None</td>\n",
       "            </tr>\n",
       "            <tr>\n",
       "                        <th id=\"T_b49f95d4_9320_11eb_92eb_acde48001122level0_row10\" class=\"row_heading level0 row10\" >10</th>\n",
       "                        <td id=\"T_b49f95d4_9320_11eb_92eb_acde48001122row10_col0\" class=\"data row10 col0\" >Sampled Data</td>\n",
       "                        <td id=\"T_b49f95d4_9320_11eb_92eb_acde48001122row10_col1\" class=\"data row10 col1\" >(32564, 12)</td>\n",
       "            </tr>\n",
       "            <tr>\n",
       "                        <th id=\"T_b49f95d4_9320_11eb_92eb_acde48001122level0_row11\" class=\"row_heading level0 row11\" >11</th>\n",
       "                        <td id=\"T_b49f95d4_9320_11eb_92eb_acde48001122row11_col0\" class=\"data row11 col0\" >Transformed Train Set</td>\n",
       "                        <td id=\"T_b49f95d4_9320_11eb_92eb_acde48001122row11_col1\" class=\"data row11 col1\" >(22794, 11)</td>\n",
       "            </tr>\n",
       "            <tr>\n",
       "                        <th id=\"T_b49f95d4_9320_11eb_92eb_acde48001122level0_row12\" class=\"row_heading level0 row12\" >12</th>\n",
       "                        <td id=\"T_b49f95d4_9320_11eb_92eb_acde48001122row12_col0\" class=\"data row12 col0\" >Transformed Test Set</td>\n",
       "                        <td id=\"T_b49f95d4_9320_11eb_92eb_acde48001122row12_col1\" class=\"data row12 col1\" >(9770, 11)</td>\n",
       "            </tr>\n",
       "            <tr>\n",
       "                        <th id=\"T_b49f95d4_9320_11eb_92eb_acde48001122level0_row13\" class=\"row_heading level0 row13\" >13</th>\n",
       "                        <td id=\"T_b49f95d4_9320_11eb_92eb_acde48001122row13_col0\" class=\"data row13 col0\" >Numeric Imputer </td>\n",
       "                        <td id=\"T_b49f95d4_9320_11eb_92eb_acde48001122row13_col1\" class=\"data row13 col1\" >mean</td>\n",
       "            </tr>\n",
       "            <tr>\n",
       "                        <th id=\"T_b49f95d4_9320_11eb_92eb_acde48001122level0_row14\" class=\"row_heading level0 row14\" >14</th>\n",
       "                        <td id=\"T_b49f95d4_9320_11eb_92eb_acde48001122row14_col0\" class=\"data row14 col0\" >Categorical Imputer </td>\n",
       "                        <td id=\"T_b49f95d4_9320_11eb_92eb_acde48001122row14_col1\" class=\"data row14 col1\" >constant</td>\n",
       "            </tr>\n",
       "            <tr>\n",
       "                        <th id=\"T_b49f95d4_9320_11eb_92eb_acde48001122level0_row15\" class=\"row_heading level0 row15\" >15</th>\n",
       "                        <td id=\"T_b49f95d4_9320_11eb_92eb_acde48001122row15_col0\" class=\"data row15 col0\" >Normalize </td>\n",
       "                        <td id=\"T_b49f95d4_9320_11eb_92eb_acde48001122row15_col1\" class=\"data row15 col1\" >False</td>\n",
       "            </tr>\n",
       "            <tr>\n",
       "                        <th id=\"T_b49f95d4_9320_11eb_92eb_acde48001122level0_row16\" class=\"row_heading level0 row16\" >16</th>\n",
       "                        <td id=\"T_b49f95d4_9320_11eb_92eb_acde48001122row16_col0\" class=\"data row16 col0\" >Normalize Method </td>\n",
       "                        <td id=\"T_b49f95d4_9320_11eb_92eb_acde48001122row16_col1\" class=\"data row16 col1\" >None</td>\n",
       "            </tr>\n",
       "            <tr>\n",
       "                        <th id=\"T_b49f95d4_9320_11eb_92eb_acde48001122level0_row17\" class=\"row_heading level0 row17\" >17</th>\n",
       "                        <td id=\"T_b49f95d4_9320_11eb_92eb_acde48001122row17_col0\" class=\"data row17 col0\" >Transformation </td>\n",
       "                        <td id=\"T_b49f95d4_9320_11eb_92eb_acde48001122row17_col1\" class=\"data row17 col1\" >False</td>\n",
       "            </tr>\n",
       "            <tr>\n",
       "                        <th id=\"T_b49f95d4_9320_11eb_92eb_acde48001122level0_row18\" class=\"row_heading level0 row18\" >18</th>\n",
       "                        <td id=\"T_b49f95d4_9320_11eb_92eb_acde48001122row18_col0\" class=\"data row18 col0\" >Transformation Method </td>\n",
       "                        <td id=\"T_b49f95d4_9320_11eb_92eb_acde48001122row18_col1\" class=\"data row18 col1\" >None</td>\n",
       "            </tr>\n",
       "            <tr>\n",
       "                        <th id=\"T_b49f95d4_9320_11eb_92eb_acde48001122level0_row19\" class=\"row_heading level0 row19\" >19</th>\n",
       "                        <td id=\"T_b49f95d4_9320_11eb_92eb_acde48001122row19_col0\" class=\"data row19 col0\" >PCA </td>\n",
       "                        <td id=\"T_b49f95d4_9320_11eb_92eb_acde48001122row19_col1\" class=\"data row19 col1\" >False</td>\n",
       "            </tr>\n",
       "            <tr>\n",
       "                        <th id=\"T_b49f95d4_9320_11eb_92eb_acde48001122level0_row20\" class=\"row_heading level0 row20\" >20</th>\n",
       "                        <td id=\"T_b49f95d4_9320_11eb_92eb_acde48001122row20_col0\" class=\"data row20 col0\" >PCA Method </td>\n",
       "                        <td id=\"T_b49f95d4_9320_11eb_92eb_acde48001122row20_col1\" class=\"data row20 col1\" >None</td>\n",
       "            </tr>\n",
       "            <tr>\n",
       "                        <th id=\"T_b49f95d4_9320_11eb_92eb_acde48001122level0_row21\" class=\"row_heading level0 row21\" >21</th>\n",
       "                        <td id=\"T_b49f95d4_9320_11eb_92eb_acde48001122row21_col0\" class=\"data row21 col0\" >PCA Components </td>\n",
       "                        <td id=\"T_b49f95d4_9320_11eb_92eb_acde48001122row21_col1\" class=\"data row21 col1\" >None</td>\n",
       "            </tr>\n",
       "            <tr>\n",
       "                        <th id=\"T_b49f95d4_9320_11eb_92eb_acde48001122level0_row22\" class=\"row_heading level0 row22\" >22</th>\n",
       "                        <td id=\"T_b49f95d4_9320_11eb_92eb_acde48001122row22_col0\" class=\"data row22 col0\" >Ignore Low Variance </td>\n",
       "                        <td id=\"T_b49f95d4_9320_11eb_92eb_acde48001122row22_col1\" class=\"data row22 col1\" >False</td>\n",
       "            </tr>\n",
       "            <tr>\n",
       "                        <th id=\"T_b49f95d4_9320_11eb_92eb_acde48001122level0_row23\" class=\"row_heading level0 row23\" >23</th>\n",
       "                        <td id=\"T_b49f95d4_9320_11eb_92eb_acde48001122row23_col0\" class=\"data row23 col0\" >Combine Rare Levels </td>\n",
       "                        <td id=\"T_b49f95d4_9320_11eb_92eb_acde48001122row23_col1\" class=\"data row23 col1\" >False</td>\n",
       "            </tr>\n",
       "            <tr>\n",
       "                        <th id=\"T_b49f95d4_9320_11eb_92eb_acde48001122level0_row24\" class=\"row_heading level0 row24\" >24</th>\n",
       "                        <td id=\"T_b49f95d4_9320_11eb_92eb_acde48001122row24_col0\" class=\"data row24 col0\" >Rare Level Threshold </td>\n",
       "                        <td id=\"T_b49f95d4_9320_11eb_92eb_acde48001122row24_col1\" class=\"data row24 col1\" >None</td>\n",
       "            </tr>\n",
       "            <tr>\n",
       "                        <th id=\"T_b49f95d4_9320_11eb_92eb_acde48001122level0_row25\" class=\"row_heading level0 row25\" >25</th>\n",
       "                        <td id=\"T_b49f95d4_9320_11eb_92eb_acde48001122row25_col0\" class=\"data row25 col0\" >Numeric Binning </td>\n",
       "                        <td id=\"T_b49f95d4_9320_11eb_92eb_acde48001122row25_col1\" class=\"data row25 col1\" >False</td>\n",
       "            </tr>\n",
       "            <tr>\n",
       "                        <th id=\"T_b49f95d4_9320_11eb_92eb_acde48001122level0_row26\" class=\"row_heading level0 row26\" >26</th>\n",
       "                        <td id=\"T_b49f95d4_9320_11eb_92eb_acde48001122row26_col0\" class=\"data row26 col0\" >Remove Outliers </td>\n",
       "                        <td id=\"T_b49f95d4_9320_11eb_92eb_acde48001122row26_col1\" class=\"data row26 col1\" >False</td>\n",
       "            </tr>\n",
       "            <tr>\n",
       "                        <th id=\"T_b49f95d4_9320_11eb_92eb_acde48001122level0_row27\" class=\"row_heading level0 row27\" >27</th>\n",
       "                        <td id=\"T_b49f95d4_9320_11eb_92eb_acde48001122row27_col0\" class=\"data row27 col0\" >Outliers Threshold </td>\n",
       "                        <td id=\"T_b49f95d4_9320_11eb_92eb_acde48001122row27_col1\" class=\"data row27 col1\" >None</td>\n",
       "            </tr>\n",
       "            <tr>\n",
       "                        <th id=\"T_b49f95d4_9320_11eb_92eb_acde48001122level0_row28\" class=\"row_heading level0 row28\" >28</th>\n",
       "                        <td id=\"T_b49f95d4_9320_11eb_92eb_acde48001122row28_col0\" class=\"data row28 col0\" >Remove Multicollinearity </td>\n",
       "                        <td id=\"T_b49f95d4_9320_11eb_92eb_acde48001122row28_col1\" class=\"data row28 col1\" >False</td>\n",
       "            </tr>\n",
       "            <tr>\n",
       "                        <th id=\"T_b49f95d4_9320_11eb_92eb_acde48001122level0_row29\" class=\"row_heading level0 row29\" >29</th>\n",
       "                        <td id=\"T_b49f95d4_9320_11eb_92eb_acde48001122row29_col0\" class=\"data row29 col0\" >Multicollinearity Threshold </td>\n",
       "                        <td id=\"T_b49f95d4_9320_11eb_92eb_acde48001122row29_col1\" class=\"data row29 col1\" >None</td>\n",
       "            </tr>\n",
       "            <tr>\n",
       "                        <th id=\"T_b49f95d4_9320_11eb_92eb_acde48001122level0_row30\" class=\"row_heading level0 row30\" >30</th>\n",
       "                        <td id=\"T_b49f95d4_9320_11eb_92eb_acde48001122row30_col0\" class=\"data row30 col0\" >Clustering </td>\n",
       "                        <td id=\"T_b49f95d4_9320_11eb_92eb_acde48001122row30_col1\" class=\"data row30 col1\" >False</td>\n",
       "            </tr>\n",
       "            <tr>\n",
       "                        <th id=\"T_b49f95d4_9320_11eb_92eb_acde48001122level0_row31\" class=\"row_heading level0 row31\" >31</th>\n",
       "                        <td id=\"T_b49f95d4_9320_11eb_92eb_acde48001122row31_col0\" class=\"data row31 col0\" >Clustering Iteration </td>\n",
       "                        <td id=\"T_b49f95d4_9320_11eb_92eb_acde48001122row31_col1\" class=\"data row31 col1\" >None</td>\n",
       "            </tr>\n",
       "            <tr>\n",
       "                        <th id=\"T_b49f95d4_9320_11eb_92eb_acde48001122level0_row32\" class=\"row_heading level0 row32\" >32</th>\n",
       "                        <td id=\"T_b49f95d4_9320_11eb_92eb_acde48001122row32_col0\" class=\"data row32 col0\" >Polynomial Features </td>\n",
       "                        <td id=\"T_b49f95d4_9320_11eb_92eb_acde48001122row32_col1\" class=\"data row32 col1\" >False</td>\n",
       "            </tr>\n",
       "            <tr>\n",
       "                        <th id=\"T_b49f95d4_9320_11eb_92eb_acde48001122level0_row33\" class=\"row_heading level0 row33\" >33</th>\n",
       "                        <td id=\"T_b49f95d4_9320_11eb_92eb_acde48001122row33_col0\" class=\"data row33 col0\" >Polynomial Degree </td>\n",
       "                        <td id=\"T_b49f95d4_9320_11eb_92eb_acde48001122row33_col1\" class=\"data row33 col1\" >None</td>\n",
       "            </tr>\n",
       "            <tr>\n",
       "                        <th id=\"T_b49f95d4_9320_11eb_92eb_acde48001122level0_row34\" class=\"row_heading level0 row34\" >34</th>\n",
       "                        <td id=\"T_b49f95d4_9320_11eb_92eb_acde48001122row34_col0\" class=\"data row34 col0\" >Trignometry Features </td>\n",
       "                        <td id=\"T_b49f95d4_9320_11eb_92eb_acde48001122row34_col1\" class=\"data row34 col1\" >False</td>\n",
       "            </tr>\n",
       "            <tr>\n",
       "                        <th id=\"T_b49f95d4_9320_11eb_92eb_acde48001122level0_row35\" class=\"row_heading level0 row35\" >35</th>\n",
       "                        <td id=\"T_b49f95d4_9320_11eb_92eb_acde48001122row35_col0\" class=\"data row35 col0\" >Polynomial Threshold </td>\n",
       "                        <td id=\"T_b49f95d4_9320_11eb_92eb_acde48001122row35_col1\" class=\"data row35 col1\" >None</td>\n",
       "            </tr>\n",
       "            <tr>\n",
       "                        <th id=\"T_b49f95d4_9320_11eb_92eb_acde48001122level0_row36\" class=\"row_heading level0 row36\" >36</th>\n",
       "                        <td id=\"T_b49f95d4_9320_11eb_92eb_acde48001122row36_col0\" class=\"data row36 col0\" >Group Features </td>\n",
       "                        <td id=\"T_b49f95d4_9320_11eb_92eb_acde48001122row36_col1\" class=\"data row36 col1\" >False</td>\n",
       "            </tr>\n",
       "            <tr>\n",
       "                        <th id=\"T_b49f95d4_9320_11eb_92eb_acde48001122level0_row37\" class=\"row_heading level0 row37\" >37</th>\n",
       "                        <td id=\"T_b49f95d4_9320_11eb_92eb_acde48001122row37_col0\" class=\"data row37 col0\" >Feature Selection </td>\n",
       "                        <td id=\"T_b49f95d4_9320_11eb_92eb_acde48001122row37_col1\" class=\"data row37 col1\" >False</td>\n",
       "            </tr>\n",
       "            <tr>\n",
       "                        <th id=\"T_b49f95d4_9320_11eb_92eb_acde48001122level0_row38\" class=\"row_heading level0 row38\" >38</th>\n",
       "                        <td id=\"T_b49f95d4_9320_11eb_92eb_acde48001122row38_col0\" class=\"data row38 col0\" >Features Selection Threshold </td>\n",
       "                        <td id=\"T_b49f95d4_9320_11eb_92eb_acde48001122row38_col1\" class=\"data row38 col1\" >None</td>\n",
       "            </tr>\n",
       "            <tr>\n",
       "                        <th id=\"T_b49f95d4_9320_11eb_92eb_acde48001122level0_row39\" class=\"row_heading level0 row39\" >39</th>\n",
       "                        <td id=\"T_b49f95d4_9320_11eb_92eb_acde48001122row39_col0\" class=\"data row39 col0\" >Feature Interaction </td>\n",
       "                        <td id=\"T_b49f95d4_9320_11eb_92eb_acde48001122row39_col1\" class=\"data row39 col1\" >False</td>\n",
       "            </tr>\n",
       "            <tr>\n",
       "                        <th id=\"T_b49f95d4_9320_11eb_92eb_acde48001122level0_row40\" class=\"row_heading level0 row40\" >40</th>\n",
       "                        <td id=\"T_b49f95d4_9320_11eb_92eb_acde48001122row40_col0\" class=\"data row40 col0\" >Feature Ratio </td>\n",
       "                        <td id=\"T_b49f95d4_9320_11eb_92eb_acde48001122row40_col1\" class=\"data row40 col1\" >False</td>\n",
       "            </tr>\n",
       "            <tr>\n",
       "                        <th id=\"T_b49f95d4_9320_11eb_92eb_acde48001122level0_row41\" class=\"row_heading level0 row41\" >41</th>\n",
       "                        <td id=\"T_b49f95d4_9320_11eb_92eb_acde48001122row41_col0\" class=\"data row41 col0\" >Interaction Threshold </td>\n",
       "                        <td id=\"T_b49f95d4_9320_11eb_92eb_acde48001122row41_col1\" class=\"data row41 col1\" >None</td>\n",
       "            </tr>\n",
       "            <tr>\n",
       "                        <th id=\"T_b49f95d4_9320_11eb_92eb_acde48001122level0_row42\" class=\"row_heading level0 row42\" >42</th>\n",
       "                        <td id=\"T_b49f95d4_9320_11eb_92eb_acde48001122row42_col0\" class=\"data row42 col0\" >Fix Imbalance</td>\n",
       "                        <td id=\"T_b49f95d4_9320_11eb_92eb_acde48001122row42_col1\" class=\"data row42 col1\" >False</td>\n",
       "            </tr>\n",
       "            <tr>\n",
       "                        <th id=\"T_b49f95d4_9320_11eb_92eb_acde48001122level0_row43\" class=\"row_heading level0 row43\" >43</th>\n",
       "                        <td id=\"T_b49f95d4_9320_11eb_92eb_acde48001122row43_col0\" class=\"data row43 col0\" >Fix Imbalance Method</td>\n",
       "                        <td id=\"T_b49f95d4_9320_11eb_92eb_acde48001122row43_col1\" class=\"data row43 col1\" >SMOTE</td>\n",
       "            </tr>\n",
       "    </tbody></table>"
      ],
      "text/plain": [
       "<pandas.io.formats.style.Styler at 0x7fdd0877db70>"
      ]
     },
     "metadata": {},
     "output_type": "display_data"
    }
   ],
   "source": [
    "clf = setup(data=data,target='Response',session_id=123,numeric_features=['Long_Term_Cust','Health_Indicator','Accomodation_Type','Reco_Insurance_Type','Holding_Policy_Duration','Holding_Policy_Type'])"
   ]
  },
  {
   "cell_type": "code",
   "execution_count": 29,
   "metadata": {
    "ExecuteTime": {
     "end_time": "2021-04-01T19:33:20.499083Z",
     "start_time": "2021-04-01T19:30:24.369408Z"
    }
   },
   "outputs": [
    {
     "data": {
      "text/html": [
       "<style  type=\"text/css\" >\n",
       "    #T_1d961234_9321_11eb_872f_acde48001122 th {\n",
       "          text-align: left;\n",
       "    }#T_1d961234_9321_11eb_872f_acde48001122row0_col0,#T_1d961234_9321_11eb_872f_acde48001122row0_col2,#T_1d961234_9321_11eb_872f_acde48001122row0_col3,#T_1d961234_9321_11eb_872f_acde48001122row0_col4,#T_1d961234_9321_11eb_872f_acde48001122row0_col5,#T_1d961234_9321_11eb_872f_acde48001122row0_col6,#T_1d961234_9321_11eb_872f_acde48001122row0_col7,#T_1d961234_9321_11eb_872f_acde48001122row1_col0,#T_1d961234_9321_11eb_872f_acde48001122row1_col2,#T_1d961234_9321_11eb_872f_acde48001122row1_col3,#T_1d961234_9321_11eb_872f_acde48001122row1_col4,#T_1d961234_9321_11eb_872f_acde48001122row1_col5,#T_1d961234_9321_11eb_872f_acde48001122row1_col6,#T_1d961234_9321_11eb_872f_acde48001122row1_col7,#T_1d961234_9321_11eb_872f_acde48001122row2_col0,#T_1d961234_9321_11eb_872f_acde48001122row2_col2,#T_1d961234_9321_11eb_872f_acde48001122row2_col3,#T_1d961234_9321_11eb_872f_acde48001122row2_col4,#T_1d961234_9321_11eb_872f_acde48001122row2_col5,#T_1d961234_9321_11eb_872f_acde48001122row2_col6,#T_1d961234_9321_11eb_872f_acde48001122row2_col7,#T_1d961234_9321_11eb_872f_acde48001122row3_col0,#T_1d961234_9321_11eb_872f_acde48001122row3_col2,#T_1d961234_9321_11eb_872f_acde48001122row3_col3,#T_1d961234_9321_11eb_872f_acde48001122row3_col4,#T_1d961234_9321_11eb_872f_acde48001122row3_col5,#T_1d961234_9321_11eb_872f_acde48001122row3_col6,#T_1d961234_9321_11eb_872f_acde48001122row3_col7,#T_1d961234_9321_11eb_872f_acde48001122row4_col0,#T_1d961234_9321_11eb_872f_acde48001122row4_col1,#T_1d961234_9321_11eb_872f_acde48001122row4_col2,#T_1d961234_9321_11eb_872f_acde48001122row4_col3,#T_1d961234_9321_11eb_872f_acde48001122row4_col4,#T_1d961234_9321_11eb_872f_acde48001122row4_col5,#T_1d961234_9321_11eb_872f_acde48001122row4_col6,#T_1d961234_9321_11eb_872f_acde48001122row4_col7,#T_1d961234_9321_11eb_872f_acde48001122row5_col0,#T_1d961234_9321_11eb_872f_acde48001122row5_col1,#T_1d961234_9321_11eb_872f_acde48001122row5_col2,#T_1d961234_9321_11eb_872f_acde48001122row5_col3,#T_1d961234_9321_11eb_872f_acde48001122row5_col4,#T_1d961234_9321_11eb_872f_acde48001122row5_col5,#T_1d961234_9321_11eb_872f_acde48001122row5_col6,#T_1d961234_9321_11eb_872f_acde48001122row5_col7,#T_1d961234_9321_11eb_872f_acde48001122row6_col0,#T_1d961234_9321_11eb_872f_acde48001122row6_col1,#T_1d961234_9321_11eb_872f_acde48001122row6_col2,#T_1d961234_9321_11eb_872f_acde48001122row6_col3,#T_1d961234_9321_11eb_872f_acde48001122row6_col4,#T_1d961234_9321_11eb_872f_acde48001122row6_col5,#T_1d961234_9321_11eb_872f_acde48001122row6_col6,#T_1d961234_9321_11eb_872f_acde48001122row6_col7,#T_1d961234_9321_11eb_872f_acde48001122row7_col0,#T_1d961234_9321_11eb_872f_acde48001122row7_col1,#T_1d961234_9321_11eb_872f_acde48001122row7_col2,#T_1d961234_9321_11eb_872f_acde48001122row7_col3,#T_1d961234_9321_11eb_872f_acde48001122row7_col5,#T_1d961234_9321_11eb_872f_acde48001122row7_col6,#T_1d961234_9321_11eb_872f_acde48001122row7_col7,#T_1d961234_9321_11eb_872f_acde48001122row8_col0,#T_1d961234_9321_11eb_872f_acde48001122row8_col1,#T_1d961234_9321_11eb_872f_acde48001122row8_col3,#T_1d961234_9321_11eb_872f_acde48001122row8_col4,#T_1d961234_9321_11eb_872f_acde48001122row8_col5,#T_1d961234_9321_11eb_872f_acde48001122row8_col6,#T_1d961234_9321_11eb_872f_acde48001122row8_col7,#T_1d961234_9321_11eb_872f_acde48001122row9_col0,#T_1d961234_9321_11eb_872f_acde48001122row9_col1,#T_1d961234_9321_11eb_872f_acde48001122row9_col2,#T_1d961234_9321_11eb_872f_acde48001122row9_col3,#T_1d961234_9321_11eb_872f_acde48001122row9_col4,#T_1d961234_9321_11eb_872f_acde48001122row9_col5,#T_1d961234_9321_11eb_872f_acde48001122row9_col6,#T_1d961234_9321_11eb_872f_acde48001122row9_col7,#T_1d961234_9321_11eb_872f_acde48001122row10_col0,#T_1d961234_9321_11eb_872f_acde48001122row10_col1,#T_1d961234_9321_11eb_872f_acde48001122row10_col2,#T_1d961234_9321_11eb_872f_acde48001122row10_col3,#T_1d961234_9321_11eb_872f_acde48001122row10_col4,#T_1d961234_9321_11eb_872f_acde48001122row10_col5,#T_1d961234_9321_11eb_872f_acde48001122row10_col6,#T_1d961234_9321_11eb_872f_acde48001122row10_col7,#T_1d961234_9321_11eb_872f_acde48001122row11_col0,#T_1d961234_9321_11eb_872f_acde48001122row11_col1,#T_1d961234_9321_11eb_872f_acde48001122row11_col2,#T_1d961234_9321_11eb_872f_acde48001122row11_col3,#T_1d961234_9321_11eb_872f_acde48001122row11_col4,#T_1d961234_9321_11eb_872f_acde48001122row11_col5,#T_1d961234_9321_11eb_872f_acde48001122row11_col6,#T_1d961234_9321_11eb_872f_acde48001122row11_col7,#T_1d961234_9321_11eb_872f_acde48001122row12_col0,#T_1d961234_9321_11eb_872f_acde48001122row12_col1,#T_1d961234_9321_11eb_872f_acde48001122row12_col2,#T_1d961234_9321_11eb_872f_acde48001122row12_col3,#T_1d961234_9321_11eb_872f_acde48001122row12_col4,#T_1d961234_9321_11eb_872f_acde48001122row12_col5,#T_1d961234_9321_11eb_872f_acde48001122row12_col6,#T_1d961234_9321_11eb_872f_acde48001122row12_col7,#T_1d961234_9321_11eb_872f_acde48001122row13_col0,#T_1d961234_9321_11eb_872f_acde48001122row13_col1,#T_1d961234_9321_11eb_872f_acde48001122row13_col2,#T_1d961234_9321_11eb_872f_acde48001122row13_col3,#T_1d961234_9321_11eb_872f_acde48001122row13_col4,#T_1d961234_9321_11eb_872f_acde48001122row13_col5,#T_1d961234_9321_11eb_872f_acde48001122row13_col6,#T_1d961234_9321_11eb_872f_acde48001122row13_col7,#T_1d961234_9321_11eb_872f_acde48001122row14_col0,#T_1d961234_9321_11eb_872f_acde48001122row14_col1,#T_1d961234_9321_11eb_872f_acde48001122row14_col2,#T_1d961234_9321_11eb_872f_acde48001122row14_col4{\n",
       "            text-align:  left;\n",
       "        }#T_1d961234_9321_11eb_872f_acde48001122row0_col1,#T_1d961234_9321_11eb_872f_acde48001122row1_col1,#T_1d961234_9321_11eb_872f_acde48001122row2_col1,#T_1d961234_9321_11eb_872f_acde48001122row3_col1,#T_1d961234_9321_11eb_872f_acde48001122row7_col4,#T_1d961234_9321_11eb_872f_acde48001122row8_col2,#T_1d961234_9321_11eb_872f_acde48001122row14_col3,#T_1d961234_9321_11eb_872f_acde48001122row14_col5,#T_1d961234_9321_11eb_872f_acde48001122row14_col6,#T_1d961234_9321_11eb_872f_acde48001122row14_col7{\n",
       "            background-color:  yellow;\n",
       "            text-align:  left;\n",
       "        }#T_1d961234_9321_11eb_872f_acde48001122row0_col8,#T_1d961234_9321_11eb_872f_acde48001122row1_col8,#T_1d961234_9321_11eb_872f_acde48001122row2_col8,#T_1d961234_9321_11eb_872f_acde48001122row3_col8,#T_1d961234_9321_11eb_872f_acde48001122row4_col8,#T_1d961234_9321_11eb_872f_acde48001122row5_col8,#T_1d961234_9321_11eb_872f_acde48001122row6_col8,#T_1d961234_9321_11eb_872f_acde48001122row7_col8,#T_1d961234_9321_11eb_872f_acde48001122row8_col8,#T_1d961234_9321_11eb_872f_acde48001122row9_col8,#T_1d961234_9321_11eb_872f_acde48001122row10_col8,#T_1d961234_9321_11eb_872f_acde48001122row11_col8,#T_1d961234_9321_11eb_872f_acde48001122row12_col8,#T_1d961234_9321_11eb_872f_acde48001122row13_col8,#T_1d961234_9321_11eb_872f_acde48001122row14_col8{\n",
       "            background-color:  lightgrey;\n",
       "            text-align:  left;\n",
       "        }</style><table id=\"T_1d961234_9321_11eb_872f_acde48001122\" ><thead>    <tr>        <th class=\"blank level0\" ></th>        <th class=\"col_heading level0 col0\" >Model</th>        <th class=\"col_heading level0 col1\" >Accuracy</th>        <th class=\"col_heading level0 col2\" >AUC</th>        <th class=\"col_heading level0 col3\" >Recall</th>        <th class=\"col_heading level0 col4\" >Prec.</th>        <th class=\"col_heading level0 col5\" >F1</th>        <th class=\"col_heading level0 col6\" >Kappa</th>        <th class=\"col_heading level0 col7\" >MCC</th>        <th class=\"col_heading level0 col8\" >TT (Sec)</th>    </tr></thead><tbody>\n",
       "                <tr>\n",
       "                        <th id=\"T_1d961234_9321_11eb_872f_acde48001122level0_row0\" class=\"row_heading level0 row0\" >0</th>\n",
       "                        <td id=\"T_1d961234_9321_11eb_872f_acde48001122row0_col0\" class=\"data row0 col0\" >Logistic Regression</td>\n",
       "                        <td id=\"T_1d961234_9321_11eb_872f_acde48001122row0_col1\" class=\"data row0 col1\" >0.7593</td>\n",
       "                        <td id=\"T_1d961234_9321_11eb_872f_acde48001122row0_col2\" class=\"data row0 col2\" >0.4983</td>\n",
       "                        <td id=\"T_1d961234_9321_11eb_872f_acde48001122row0_col3\" class=\"data row0 col3\" >0.0000</td>\n",
       "                        <td id=\"T_1d961234_9321_11eb_872f_acde48001122row0_col4\" class=\"data row0 col4\" >0.0000</td>\n",
       "                        <td id=\"T_1d961234_9321_11eb_872f_acde48001122row0_col5\" class=\"data row0 col5\" >0.0000</td>\n",
       "                        <td id=\"T_1d961234_9321_11eb_872f_acde48001122row0_col6\" class=\"data row0 col6\" >0.0000</td>\n",
       "                        <td id=\"T_1d961234_9321_11eb_872f_acde48001122row0_col7\" class=\"data row0 col7\" >0.0000</td>\n",
       "                        <td id=\"T_1d961234_9321_11eb_872f_acde48001122row0_col8\" class=\"data row0 col8\" >0.0626</td>\n",
       "            </tr>\n",
       "            <tr>\n",
       "                        <th id=\"T_1d961234_9321_11eb_872f_acde48001122level0_row1\" class=\"row_heading level0 row1\" >1</th>\n",
       "                        <td id=\"T_1d961234_9321_11eb_872f_acde48001122row1_col0\" class=\"data row1 col0\" >Naive Bayes</td>\n",
       "                        <td id=\"T_1d961234_9321_11eb_872f_acde48001122row1_col1\" class=\"data row1 col1\" >0.7593</td>\n",
       "                        <td id=\"T_1d961234_9321_11eb_872f_acde48001122row1_col2\" class=\"data row1 col2\" >0.5027</td>\n",
       "                        <td id=\"T_1d961234_9321_11eb_872f_acde48001122row1_col3\" class=\"data row1 col3\" >0.0000</td>\n",
       "                        <td id=\"T_1d961234_9321_11eb_872f_acde48001122row1_col4\" class=\"data row1 col4\" >0.0000</td>\n",
       "                        <td id=\"T_1d961234_9321_11eb_872f_acde48001122row1_col5\" class=\"data row1 col5\" >0.0000</td>\n",
       "                        <td id=\"T_1d961234_9321_11eb_872f_acde48001122row1_col6\" class=\"data row1 col6\" >0.0000</td>\n",
       "                        <td id=\"T_1d961234_9321_11eb_872f_acde48001122row1_col7\" class=\"data row1 col7\" >0.0000</td>\n",
       "                        <td id=\"T_1d961234_9321_11eb_872f_acde48001122row1_col8\" class=\"data row1 col8\" >0.0052</td>\n",
       "            </tr>\n",
       "            <tr>\n",
       "                        <th id=\"T_1d961234_9321_11eb_872f_acde48001122level0_row2\" class=\"row_heading level0 row2\" >2</th>\n",
       "                        <td id=\"T_1d961234_9321_11eb_872f_acde48001122row2_col0\" class=\"data row2 col0\" >Ridge Classifier</td>\n",
       "                        <td id=\"T_1d961234_9321_11eb_872f_acde48001122row2_col1\" class=\"data row2 col1\" >0.7593</td>\n",
       "                        <td id=\"T_1d961234_9321_11eb_872f_acde48001122row2_col2\" class=\"data row2 col2\" >0.0000</td>\n",
       "                        <td id=\"T_1d961234_9321_11eb_872f_acde48001122row2_col3\" class=\"data row2 col3\" >0.0000</td>\n",
       "                        <td id=\"T_1d961234_9321_11eb_872f_acde48001122row2_col4\" class=\"data row2 col4\" >0.0000</td>\n",
       "                        <td id=\"T_1d961234_9321_11eb_872f_acde48001122row2_col5\" class=\"data row2 col5\" >0.0000</td>\n",
       "                        <td id=\"T_1d961234_9321_11eb_872f_acde48001122row2_col6\" class=\"data row2 col6\" >0.0000</td>\n",
       "                        <td id=\"T_1d961234_9321_11eb_872f_acde48001122row2_col7\" class=\"data row2 col7\" >0.0000</td>\n",
       "                        <td id=\"T_1d961234_9321_11eb_872f_acde48001122row2_col8\" class=\"data row2 col8\" >0.0080</td>\n",
       "            </tr>\n",
       "            <tr>\n",
       "                        <th id=\"T_1d961234_9321_11eb_872f_acde48001122level0_row3\" class=\"row_heading level0 row3\" >3</th>\n",
       "                        <td id=\"T_1d961234_9321_11eb_872f_acde48001122row3_col0\" class=\"data row3 col0\" >Linear Discriminant Analysis</td>\n",
       "                        <td id=\"T_1d961234_9321_11eb_872f_acde48001122row3_col1\" class=\"data row3 col1\" >0.7593</td>\n",
       "                        <td id=\"T_1d961234_9321_11eb_872f_acde48001122row3_col2\" class=\"data row3 col2\" >0.4978</td>\n",
       "                        <td id=\"T_1d961234_9321_11eb_872f_acde48001122row3_col3\" class=\"data row3 col3\" >0.0000</td>\n",
       "                        <td id=\"T_1d961234_9321_11eb_872f_acde48001122row3_col4\" class=\"data row3 col4\" >0.0000</td>\n",
       "                        <td id=\"T_1d961234_9321_11eb_872f_acde48001122row3_col5\" class=\"data row3 col5\" >0.0000</td>\n",
       "                        <td id=\"T_1d961234_9321_11eb_872f_acde48001122row3_col6\" class=\"data row3 col6\" >0.0000</td>\n",
       "                        <td id=\"T_1d961234_9321_11eb_872f_acde48001122row3_col7\" class=\"data row3 col7\" >0.0000</td>\n",
       "                        <td id=\"T_1d961234_9321_11eb_872f_acde48001122row3_col8\" class=\"data row3 col8\" >0.0330</td>\n",
       "            </tr>\n",
       "            <tr>\n",
       "                        <th id=\"T_1d961234_9321_11eb_872f_acde48001122level0_row4\" class=\"row_heading level0 row4\" >4</th>\n",
       "                        <td id=\"T_1d961234_9321_11eb_872f_acde48001122row4_col0\" class=\"data row4 col0\" >Ada Boost Classifier</td>\n",
       "                        <td id=\"T_1d961234_9321_11eb_872f_acde48001122row4_col1\" class=\"data row4 col1\" >0.7591</td>\n",
       "                        <td id=\"T_1d961234_9321_11eb_872f_acde48001122row4_col2\" class=\"data row4 col2\" >0.6114</td>\n",
       "                        <td id=\"T_1d961234_9321_11eb_872f_acde48001122row4_col3\" class=\"data row4 col3\" >0.0002</td>\n",
       "                        <td id=\"T_1d961234_9321_11eb_872f_acde48001122row4_col4\" class=\"data row4 col4\" >0.1000</td>\n",
       "                        <td id=\"T_1d961234_9321_11eb_872f_acde48001122row4_col5\" class=\"data row4 col5\" >0.0004</td>\n",
       "                        <td id=\"T_1d961234_9321_11eb_872f_acde48001122row4_col6\" class=\"data row4 col6\" >-0.0001</td>\n",
       "                        <td id=\"T_1d961234_9321_11eb_872f_acde48001122row4_col7\" class=\"data row4 col7\" >-0.0010</td>\n",
       "                        <td id=\"T_1d961234_9321_11eb_872f_acde48001122row4_col8\" class=\"data row4 col8\" >0.4386</td>\n",
       "            </tr>\n",
       "            <tr>\n",
       "                        <th id=\"T_1d961234_9321_11eb_872f_acde48001122level0_row5\" class=\"row_heading level0 row5\" >5</th>\n",
       "                        <td id=\"T_1d961234_9321_11eb_872f_acde48001122row5_col0\" class=\"data row5 col0\" >Quadratic Discriminant Analysis</td>\n",
       "                        <td id=\"T_1d961234_9321_11eb_872f_acde48001122row5_col1\" class=\"data row5 col1\" >0.7584</td>\n",
       "                        <td id=\"T_1d961234_9321_11eb_872f_acde48001122row5_col2\" class=\"data row5 col2\" >0.5317</td>\n",
       "                        <td id=\"T_1d961234_9321_11eb_872f_acde48001122row5_col3\" class=\"data row5 col3\" >0.0011</td>\n",
       "                        <td id=\"T_1d961234_9321_11eb_872f_acde48001122row5_col4\" class=\"data row5 col4\" >0.2625</td>\n",
       "                        <td id=\"T_1d961234_9321_11eb_872f_acde48001122row5_col5\" class=\"data row5 col5\" >0.0022</td>\n",
       "                        <td id=\"T_1d961234_9321_11eb_872f_acde48001122row5_col6\" class=\"data row5 col6\" >-0.0006</td>\n",
       "                        <td id=\"T_1d961234_9321_11eb_872f_acde48001122row5_col7\" class=\"data row5 col7\" >0.0006</td>\n",
       "                        <td id=\"T_1d961234_9321_11eb_872f_acde48001122row5_col8\" class=\"data row5 col8\" >0.0081</td>\n",
       "            </tr>\n",
       "            <tr>\n",
       "                        <th id=\"T_1d961234_9321_11eb_872f_acde48001122level0_row6\" class=\"row_heading level0 row6\" >6</th>\n",
       "                        <td id=\"T_1d961234_9321_11eb_872f_acde48001122row6_col0\" class=\"data row6 col0\" >Gradient Boosting Classifier</td>\n",
       "                        <td id=\"T_1d961234_9321_11eb_872f_acde48001122row6_col1\" class=\"data row6 col1\" >0.7583</td>\n",
       "                        <td id=\"T_1d961234_9321_11eb_872f_acde48001122row6_col2\" class=\"data row6 col2\" >0.6373</td>\n",
       "                        <td id=\"T_1d961234_9321_11eb_872f_acde48001122row6_col3\" class=\"data row6 col3\" >0.0031</td>\n",
       "                        <td id=\"T_1d961234_9321_11eb_872f_acde48001122row6_col4\" class=\"data row6 col4\" >0.2891</td>\n",
       "                        <td id=\"T_1d961234_9321_11eb_872f_acde48001122row6_col5\" class=\"data row6 col5\" >0.0061</td>\n",
       "                        <td id=\"T_1d961234_9321_11eb_872f_acde48001122row6_col6\" class=\"data row6 col6\" >0.0013</td>\n",
       "                        <td id=\"T_1d961234_9321_11eb_872f_acde48001122row6_col7\" class=\"data row6 col7\" >0.0077</td>\n",
       "                        <td id=\"T_1d961234_9321_11eb_872f_acde48001122row6_col8\" class=\"data row6 col8\" >1.4701</td>\n",
       "            </tr>\n",
       "            <tr>\n",
       "                        <th id=\"T_1d961234_9321_11eb_872f_acde48001122level0_row7\" class=\"row_heading level0 row7\" >7</th>\n",
       "                        <td id=\"T_1d961234_9321_11eb_872f_acde48001122row7_col0\" class=\"data row7 col0\" >Extreme Gradient Boosting</td>\n",
       "                        <td id=\"T_1d961234_9321_11eb_872f_acde48001122row7_col1\" class=\"data row7 col1\" >0.7583</td>\n",
       "                        <td id=\"T_1d961234_9321_11eb_872f_acde48001122row7_col2\" class=\"data row7 col2\" >0.6371</td>\n",
       "                        <td id=\"T_1d961234_9321_11eb_872f_acde48001122row7_col3\" class=\"data row7 col3\" >0.0047</td>\n",
       "                        <td id=\"T_1d961234_9321_11eb_872f_acde48001122row7_col4\" class=\"data row7 col4\" >0.4256</td>\n",
       "                        <td id=\"T_1d961234_9321_11eb_872f_acde48001122row7_col5\" class=\"data row7 col5\" >0.0093</td>\n",
       "                        <td id=\"T_1d961234_9321_11eb_872f_acde48001122row7_col6\" class=\"data row7 col6\" >0.0029</td>\n",
       "                        <td id=\"T_1d961234_9321_11eb_872f_acde48001122row7_col7\" class=\"data row7 col7\" >0.0164</td>\n",
       "                        <td id=\"T_1d961234_9321_11eb_872f_acde48001122row7_col8\" class=\"data row7 col8\" >0.4215</td>\n",
       "            </tr>\n",
       "            <tr>\n",
       "                        <th id=\"T_1d961234_9321_11eb_872f_acde48001122level0_row8\" class=\"row_heading level0 row8\" >8</th>\n",
       "                        <td id=\"T_1d961234_9321_11eb_872f_acde48001122row8_col0\" class=\"data row8 col0\" >Light Gradient Boosting Machine</td>\n",
       "                        <td id=\"T_1d961234_9321_11eb_872f_acde48001122row8_col1\" class=\"data row8 col1\" >0.7564</td>\n",
       "                        <td id=\"T_1d961234_9321_11eb_872f_acde48001122row8_col2\" class=\"data row8 col2\" >0.6461</td>\n",
       "                        <td id=\"T_1d961234_9321_11eb_872f_acde48001122row8_col3\" class=\"data row8 col3\" >0.0215</td>\n",
       "                        <td id=\"T_1d961234_9321_11eb_872f_acde48001122row8_col4\" class=\"data row8 col4\" >0.4003</td>\n",
       "                        <td id=\"T_1d961234_9321_11eb_872f_acde48001122row8_col5\" class=\"data row8 col5\" >0.0407</td>\n",
       "                        <td id=\"T_1d961234_9321_11eb_872f_acde48001122row8_col6\" class=\"data row8 col6\" >0.0161</td>\n",
       "                        <td id=\"T_1d961234_9321_11eb_872f_acde48001122row8_col7\" class=\"data row8 col7\" >0.0418</td>\n",
       "                        <td id=\"T_1d961234_9321_11eb_872f_acde48001122row8_col8\" class=\"data row8 col8\" >0.4177</td>\n",
       "            </tr>\n",
       "            <tr>\n",
       "                        <th id=\"T_1d961234_9321_11eb_872f_acde48001122level0_row9\" class=\"row_heading level0 row9\" >9</th>\n",
       "                        <td id=\"T_1d961234_9321_11eb_872f_acde48001122row9_col0\" class=\"data row9 col0\" >CatBoost Classifier</td>\n",
       "                        <td id=\"T_1d961234_9321_11eb_872f_acde48001122row9_col1\" class=\"data row9 col1\" >0.7562</td>\n",
       "                        <td id=\"T_1d961234_9321_11eb_872f_acde48001122row9_col2\" class=\"data row9 col2\" >0.6382</td>\n",
       "                        <td id=\"T_1d961234_9321_11eb_872f_acde48001122row9_col3\" class=\"data row9 col3\" >0.0272</td>\n",
       "                        <td id=\"T_1d961234_9321_11eb_872f_acde48001122row9_col4\" class=\"data row9 col4\" >0.4077</td>\n",
       "                        <td id=\"T_1d961234_9321_11eb_872f_acde48001122row9_col5\" class=\"data row9 col5\" >0.0508</td>\n",
       "                        <td id=\"T_1d961234_9321_11eb_872f_acde48001122row9_col6\" class=\"data row9 col6\" >0.0213</td>\n",
       "                        <td id=\"T_1d961234_9321_11eb_872f_acde48001122row9_col7\" class=\"data row9 col7\" >0.0494</td>\n",
       "                        <td id=\"T_1d961234_9321_11eb_872f_acde48001122row9_col8\" class=\"data row9 col8\" >12.6663</td>\n",
       "            </tr>\n",
       "            <tr>\n",
       "                        <th id=\"T_1d961234_9321_11eb_872f_acde48001122level0_row10\" class=\"row_heading level0 row10\" >10</th>\n",
       "                        <td id=\"T_1d961234_9321_11eb_872f_acde48001122row10_col0\" class=\"data row10 col0\" >Extra Trees Classifier</td>\n",
       "                        <td id=\"T_1d961234_9321_11eb_872f_acde48001122row10_col1\" class=\"data row10 col1\" >0.7440</td>\n",
       "                        <td id=\"T_1d961234_9321_11eb_872f_acde48001122row10_col2\" class=\"data row10 col2\" >0.5840</td>\n",
       "                        <td id=\"T_1d961234_9321_11eb_872f_acde48001122row10_col3\" class=\"data row10 col3\" >0.0713</td>\n",
       "                        <td id=\"T_1d961234_9321_11eb_872f_acde48001122row10_col4\" class=\"data row10 col4\" >0.3449</td>\n",
       "                        <td id=\"T_1d961234_9321_11eb_872f_acde48001122row10_col5\" class=\"data row10 col5\" >0.1178</td>\n",
       "                        <td id=\"T_1d961234_9321_11eb_872f_acde48001122row10_col6\" class=\"data row10 col6\" >0.0390</td>\n",
       "                        <td id=\"T_1d961234_9321_11eb_872f_acde48001122row10_col7\" class=\"data row10 col7\" >0.0558</td>\n",
       "                        <td id=\"T_1d961234_9321_11eb_872f_acde48001122row10_col8\" class=\"data row10 col8\" >0.3629</td>\n",
       "            </tr>\n",
       "            <tr>\n",
       "                        <th id=\"T_1d961234_9321_11eb_872f_acde48001122level0_row11\" class=\"row_heading level0 row11\" >11</th>\n",
       "                        <td id=\"T_1d961234_9321_11eb_872f_acde48001122row11_col0\" class=\"data row11 col0\" >Random Forest Classifier</td>\n",
       "                        <td id=\"T_1d961234_9321_11eb_872f_acde48001122row11_col1\" class=\"data row11 col1\" >0.7403</td>\n",
       "                        <td id=\"T_1d961234_9321_11eb_872f_acde48001122row11_col2\" class=\"data row11 col2\" >0.5697</td>\n",
       "                        <td id=\"T_1d961234_9321_11eb_872f_acde48001122row11_col3\" class=\"data row11 col3\" >0.0871</td>\n",
       "                        <td id=\"T_1d961234_9321_11eb_872f_acde48001122row11_col4\" class=\"data row11 col4\" >0.3459</td>\n",
       "                        <td id=\"T_1d961234_9321_11eb_872f_acde48001122row11_col5\" class=\"data row11 col5\" >0.1390</td>\n",
       "                        <td id=\"T_1d961234_9321_11eb_872f_acde48001122row11_col6\" class=\"data row11 col6\" >0.0463</td>\n",
       "                        <td id=\"T_1d961234_9321_11eb_872f_acde48001122row11_col7\" class=\"data row11 col7\" >0.0621</td>\n",
       "                        <td id=\"T_1d961234_9321_11eb_872f_acde48001122row11_col8\" class=\"data row11 col8\" >0.1114</td>\n",
       "            </tr>\n",
       "            <tr>\n",
       "                        <th id=\"T_1d961234_9321_11eb_872f_acde48001122level0_row12\" class=\"row_heading level0 row12\" >12</th>\n",
       "                        <td id=\"T_1d961234_9321_11eb_872f_acde48001122row12_col0\" class=\"data row12 col0\" >K Neighbors Classifier</td>\n",
       "                        <td id=\"T_1d961234_9321_11eb_872f_acde48001122row12_col1\" class=\"data row12 col1\" >0.7087</td>\n",
       "                        <td id=\"T_1d961234_9321_11eb_872f_acde48001122row12_col2\" class=\"data row12 col2\" >0.4996</td>\n",
       "                        <td id=\"T_1d961234_9321_11eb_872f_acde48001122row12_col3\" class=\"data row12 col3\" >0.0990</td>\n",
       "                        <td id=\"T_1d961234_9321_11eb_872f_acde48001122row12_col4\" class=\"data row12 col4\" >0.2423</td>\n",
       "                        <td id=\"T_1d961234_9321_11eb_872f_acde48001122row12_col5\" class=\"data row12 col5\" >0.1404</td>\n",
       "                        <td id=\"T_1d961234_9321_11eb_872f_acde48001122row12_col6\" class=\"data row12 col6\" >0.0012</td>\n",
       "                        <td id=\"T_1d961234_9321_11eb_872f_acde48001122row12_col7\" class=\"data row12 col7\" >0.0014</td>\n",
       "                        <td id=\"T_1d961234_9321_11eb_872f_acde48001122row12_col8\" class=\"data row12 col8\" >0.0164</td>\n",
       "            </tr>\n",
       "            <tr>\n",
       "                        <th id=\"T_1d961234_9321_11eb_872f_acde48001122level0_row13\" class=\"row_heading level0 row13\" >13</th>\n",
       "                        <td id=\"T_1d961234_9321_11eb_872f_acde48001122row13_col0\" class=\"data row13 col0\" >SVM - Linear Kernel</td>\n",
       "                        <td id=\"T_1d961234_9321_11eb_872f_acde48001122row13_col1\" class=\"data row13 col1\" >0.7074</td>\n",
       "                        <td id=\"T_1d961234_9321_11eb_872f_acde48001122row13_col2\" class=\"data row13 col2\" >0.0000</td>\n",
       "                        <td id=\"T_1d961234_9321_11eb_872f_acde48001122row13_col3\" class=\"data row13 col3\" >0.1000</td>\n",
       "                        <td id=\"T_1d961234_9321_11eb_872f_acde48001122row13_col4\" class=\"data row13 col4\" >0.0241</td>\n",
       "                        <td id=\"T_1d961234_9321_11eb_872f_acde48001122row13_col5\" class=\"data row13 col5\" >0.0388</td>\n",
       "                        <td id=\"T_1d961234_9321_11eb_872f_acde48001122row13_col6\" class=\"data row13 col6\" >0.0000</td>\n",
       "                        <td id=\"T_1d961234_9321_11eb_872f_acde48001122row13_col7\" class=\"data row13 col7\" >0.0000</td>\n",
       "                        <td id=\"T_1d961234_9321_11eb_872f_acde48001122row13_col8\" class=\"data row13 col8\" >0.2735</td>\n",
       "            </tr>\n",
       "            <tr>\n",
       "                        <th id=\"T_1d961234_9321_11eb_872f_acde48001122level0_row14\" class=\"row_heading level0 row14\" >14</th>\n",
       "                        <td id=\"T_1d961234_9321_11eb_872f_acde48001122row14_col0\" class=\"data row14 col0\" >Decision Tree Classifier</td>\n",
       "                        <td id=\"T_1d961234_9321_11eb_872f_acde48001122row14_col1\" class=\"data row14 col1\" >0.6569</td>\n",
       "                        <td id=\"T_1d961234_9321_11eb_872f_acde48001122row14_col2\" class=\"data row14 col2\" >0.5393</td>\n",
       "                        <td id=\"T_1d961234_9321_11eb_872f_acde48001122row14_col3\" class=\"data row14 col3\" >0.3124</td>\n",
       "                        <td id=\"T_1d961234_9321_11eb_872f_acde48001122row14_col4\" class=\"data row14 col4\" >0.2976</td>\n",
       "                        <td id=\"T_1d961234_9321_11eb_872f_acde48001122row14_col5\" class=\"data row14 col5\" >0.3047</td>\n",
       "                        <td id=\"T_1d961234_9321_11eb_872f_acde48001122row14_col6\" class=\"data row14 col6\" >0.0773</td>\n",
       "                        <td id=\"T_1d961234_9321_11eb_872f_acde48001122row14_col7\" class=\"data row14 col7\" >0.0773</td>\n",
       "                        <td id=\"T_1d961234_9321_11eb_872f_acde48001122row14_col8\" class=\"data row14 col8\" >0.0848</td>\n",
       "            </tr>\n",
       "    </tbody></table>"
      ],
      "text/plain": [
       "<pandas.io.formats.style.Styler at 0x7fdd3a624a58>"
      ]
     },
     "metadata": {},
     "output_type": "display_data"
    },
    {
     "data": {
      "text/plain": [
       "LogisticRegression(C=1.0, class_weight=None, dual=False, fit_intercept=True,\n",
       "                   intercept_scaling=1, l1_ratio=None, max_iter=100,\n",
       "                   multi_class='auto', n_jobs=None, penalty='l2',\n",
       "                   random_state=123, solver='lbfgs', tol=0.0001, verbose=0,\n",
       "                   warm_start=False)"
      ]
     },
     "execution_count": 29,
     "metadata": {},
     "output_type": "execute_result"
    }
   ],
   "source": [
    "compare_models()"
   ]
  },
  {
   "cell_type": "markdown",
   "metadata": {},
   "source": [
    "#### SMOTE | Balanced Target"
   ]
  },
  {
   "cell_type": "code",
   "execution_count": 30,
   "metadata": {
    "ExecuteTime": {
     "end_time": "2021-04-01T19:33:27.766178Z",
     "start_time": "2021-04-01T19:33:20.501080Z"
    }
   },
   "outputs": [
    {
     "name": "stdout",
     "output_type": "stream",
     "text": [
      "Setup Succesfully Completed!\n"
     ]
    },
    {
     "data": {
      "text/html": [
       "<style  type=\"text/css\" >\n",
       "#T_21efe9d8_9321_11eb_998e_acde48001122row42_col1{\n",
       "            background-color:  lightgreen;\n",
       "        }</style><table id=\"T_21efe9d8_9321_11eb_998e_acde48001122\" ><thead>    <tr>        <th class=\"blank level0\" ></th>        <th class=\"col_heading level0 col0\" >Description</th>        <th class=\"col_heading level0 col1\" >Value</th>    </tr></thead><tbody>\n",
       "                <tr>\n",
       "                        <th id=\"T_21efe9d8_9321_11eb_998e_acde48001122level0_row0\" class=\"row_heading level0 row0\" >0</th>\n",
       "                        <td id=\"T_21efe9d8_9321_11eb_998e_acde48001122row0_col0\" class=\"data row0 col0\" >session_id</td>\n",
       "                        <td id=\"T_21efe9d8_9321_11eb_998e_acde48001122row0_col1\" class=\"data row0 col1\" >123</td>\n",
       "            </tr>\n",
       "            <tr>\n",
       "                        <th id=\"T_21efe9d8_9321_11eb_998e_acde48001122level0_row1\" class=\"row_heading level0 row1\" >1</th>\n",
       "                        <td id=\"T_21efe9d8_9321_11eb_998e_acde48001122row1_col0\" class=\"data row1 col0\" >Target Type</td>\n",
       "                        <td id=\"T_21efe9d8_9321_11eb_998e_acde48001122row1_col1\" class=\"data row1 col1\" >Binary</td>\n",
       "            </tr>\n",
       "            <tr>\n",
       "                        <th id=\"T_21efe9d8_9321_11eb_998e_acde48001122level0_row2\" class=\"row_heading level0 row2\" >2</th>\n",
       "                        <td id=\"T_21efe9d8_9321_11eb_998e_acde48001122row2_col0\" class=\"data row2 col0\" >Label Encoded</td>\n",
       "                        <td id=\"T_21efe9d8_9321_11eb_998e_acde48001122row2_col1\" class=\"data row2 col1\" >0: 0, 1: 1</td>\n",
       "            </tr>\n",
       "            <tr>\n",
       "                        <th id=\"T_21efe9d8_9321_11eb_998e_acde48001122level0_row3\" class=\"row_heading level0 row3\" >3</th>\n",
       "                        <td id=\"T_21efe9d8_9321_11eb_998e_acde48001122row3_col0\" class=\"data row3 col0\" >Original Data</td>\n",
       "                        <td id=\"T_21efe9d8_9321_11eb_998e_acde48001122row3_col1\" class=\"data row3 col1\" >(40706, 12)</td>\n",
       "            </tr>\n",
       "            <tr>\n",
       "                        <th id=\"T_21efe9d8_9321_11eb_998e_acde48001122level0_row4\" class=\"row_heading level0 row4\" >4</th>\n",
       "                        <td id=\"T_21efe9d8_9321_11eb_998e_acde48001122row4_col0\" class=\"data row4 col0\" >Missing Values </td>\n",
       "                        <td id=\"T_21efe9d8_9321_11eb_998e_acde48001122row4_col1\" class=\"data row4 col1\" >False</td>\n",
       "            </tr>\n",
       "            <tr>\n",
       "                        <th id=\"T_21efe9d8_9321_11eb_998e_acde48001122level0_row5\" class=\"row_heading level0 row5\" >5</th>\n",
       "                        <td id=\"T_21efe9d8_9321_11eb_998e_acde48001122row5_col0\" class=\"data row5 col0\" >Numeric Features </td>\n",
       "                        <td id=\"T_21efe9d8_9321_11eb_998e_acde48001122row5_col1\" class=\"data row5 col1\" >11</td>\n",
       "            </tr>\n",
       "            <tr>\n",
       "                        <th id=\"T_21efe9d8_9321_11eb_998e_acde48001122level0_row6\" class=\"row_heading level0 row6\" >6</th>\n",
       "                        <td id=\"T_21efe9d8_9321_11eb_998e_acde48001122row6_col0\" class=\"data row6 col0\" >Categorical Features </td>\n",
       "                        <td id=\"T_21efe9d8_9321_11eb_998e_acde48001122row6_col1\" class=\"data row6 col1\" >0</td>\n",
       "            </tr>\n",
       "            <tr>\n",
       "                        <th id=\"T_21efe9d8_9321_11eb_998e_acde48001122level0_row7\" class=\"row_heading level0 row7\" >7</th>\n",
       "                        <td id=\"T_21efe9d8_9321_11eb_998e_acde48001122row7_col0\" class=\"data row7 col0\" >Ordinal Features </td>\n",
       "                        <td id=\"T_21efe9d8_9321_11eb_998e_acde48001122row7_col1\" class=\"data row7 col1\" >False</td>\n",
       "            </tr>\n",
       "            <tr>\n",
       "                        <th id=\"T_21efe9d8_9321_11eb_998e_acde48001122level0_row8\" class=\"row_heading level0 row8\" >8</th>\n",
       "                        <td id=\"T_21efe9d8_9321_11eb_998e_acde48001122row8_col0\" class=\"data row8 col0\" >High Cardinality Features </td>\n",
       "                        <td id=\"T_21efe9d8_9321_11eb_998e_acde48001122row8_col1\" class=\"data row8 col1\" >False</td>\n",
       "            </tr>\n",
       "            <tr>\n",
       "                        <th id=\"T_21efe9d8_9321_11eb_998e_acde48001122level0_row9\" class=\"row_heading level0 row9\" >9</th>\n",
       "                        <td id=\"T_21efe9d8_9321_11eb_998e_acde48001122row9_col0\" class=\"data row9 col0\" >High Cardinality Method </td>\n",
       "                        <td id=\"T_21efe9d8_9321_11eb_998e_acde48001122row9_col1\" class=\"data row9 col1\" >None</td>\n",
       "            </tr>\n",
       "            <tr>\n",
       "                        <th id=\"T_21efe9d8_9321_11eb_998e_acde48001122level0_row10\" class=\"row_heading level0 row10\" >10</th>\n",
       "                        <td id=\"T_21efe9d8_9321_11eb_998e_acde48001122row10_col0\" class=\"data row10 col0\" >Sampled Data</td>\n",
       "                        <td id=\"T_21efe9d8_9321_11eb_998e_acde48001122row10_col1\" class=\"data row10 col1\" >(32564, 12)</td>\n",
       "            </tr>\n",
       "            <tr>\n",
       "                        <th id=\"T_21efe9d8_9321_11eb_998e_acde48001122level0_row11\" class=\"row_heading level0 row11\" >11</th>\n",
       "                        <td id=\"T_21efe9d8_9321_11eb_998e_acde48001122row11_col0\" class=\"data row11 col0\" >Transformed Train Set</td>\n",
       "                        <td id=\"T_21efe9d8_9321_11eb_998e_acde48001122row11_col1\" class=\"data row11 col1\" >(22794, 11)</td>\n",
       "            </tr>\n",
       "            <tr>\n",
       "                        <th id=\"T_21efe9d8_9321_11eb_998e_acde48001122level0_row12\" class=\"row_heading level0 row12\" >12</th>\n",
       "                        <td id=\"T_21efe9d8_9321_11eb_998e_acde48001122row12_col0\" class=\"data row12 col0\" >Transformed Test Set</td>\n",
       "                        <td id=\"T_21efe9d8_9321_11eb_998e_acde48001122row12_col1\" class=\"data row12 col1\" >(9770, 11)</td>\n",
       "            </tr>\n",
       "            <tr>\n",
       "                        <th id=\"T_21efe9d8_9321_11eb_998e_acde48001122level0_row13\" class=\"row_heading level0 row13\" >13</th>\n",
       "                        <td id=\"T_21efe9d8_9321_11eb_998e_acde48001122row13_col0\" class=\"data row13 col0\" >Numeric Imputer </td>\n",
       "                        <td id=\"T_21efe9d8_9321_11eb_998e_acde48001122row13_col1\" class=\"data row13 col1\" >mean</td>\n",
       "            </tr>\n",
       "            <tr>\n",
       "                        <th id=\"T_21efe9d8_9321_11eb_998e_acde48001122level0_row14\" class=\"row_heading level0 row14\" >14</th>\n",
       "                        <td id=\"T_21efe9d8_9321_11eb_998e_acde48001122row14_col0\" class=\"data row14 col0\" >Categorical Imputer </td>\n",
       "                        <td id=\"T_21efe9d8_9321_11eb_998e_acde48001122row14_col1\" class=\"data row14 col1\" >constant</td>\n",
       "            </tr>\n",
       "            <tr>\n",
       "                        <th id=\"T_21efe9d8_9321_11eb_998e_acde48001122level0_row15\" class=\"row_heading level0 row15\" >15</th>\n",
       "                        <td id=\"T_21efe9d8_9321_11eb_998e_acde48001122row15_col0\" class=\"data row15 col0\" >Normalize </td>\n",
       "                        <td id=\"T_21efe9d8_9321_11eb_998e_acde48001122row15_col1\" class=\"data row15 col1\" >False</td>\n",
       "            </tr>\n",
       "            <tr>\n",
       "                        <th id=\"T_21efe9d8_9321_11eb_998e_acde48001122level0_row16\" class=\"row_heading level0 row16\" >16</th>\n",
       "                        <td id=\"T_21efe9d8_9321_11eb_998e_acde48001122row16_col0\" class=\"data row16 col0\" >Normalize Method </td>\n",
       "                        <td id=\"T_21efe9d8_9321_11eb_998e_acde48001122row16_col1\" class=\"data row16 col1\" >None</td>\n",
       "            </tr>\n",
       "            <tr>\n",
       "                        <th id=\"T_21efe9d8_9321_11eb_998e_acde48001122level0_row17\" class=\"row_heading level0 row17\" >17</th>\n",
       "                        <td id=\"T_21efe9d8_9321_11eb_998e_acde48001122row17_col0\" class=\"data row17 col0\" >Transformation </td>\n",
       "                        <td id=\"T_21efe9d8_9321_11eb_998e_acde48001122row17_col1\" class=\"data row17 col1\" >False</td>\n",
       "            </tr>\n",
       "            <tr>\n",
       "                        <th id=\"T_21efe9d8_9321_11eb_998e_acde48001122level0_row18\" class=\"row_heading level0 row18\" >18</th>\n",
       "                        <td id=\"T_21efe9d8_9321_11eb_998e_acde48001122row18_col0\" class=\"data row18 col0\" >Transformation Method </td>\n",
       "                        <td id=\"T_21efe9d8_9321_11eb_998e_acde48001122row18_col1\" class=\"data row18 col1\" >None</td>\n",
       "            </tr>\n",
       "            <tr>\n",
       "                        <th id=\"T_21efe9d8_9321_11eb_998e_acde48001122level0_row19\" class=\"row_heading level0 row19\" >19</th>\n",
       "                        <td id=\"T_21efe9d8_9321_11eb_998e_acde48001122row19_col0\" class=\"data row19 col0\" >PCA </td>\n",
       "                        <td id=\"T_21efe9d8_9321_11eb_998e_acde48001122row19_col1\" class=\"data row19 col1\" >False</td>\n",
       "            </tr>\n",
       "            <tr>\n",
       "                        <th id=\"T_21efe9d8_9321_11eb_998e_acde48001122level0_row20\" class=\"row_heading level0 row20\" >20</th>\n",
       "                        <td id=\"T_21efe9d8_9321_11eb_998e_acde48001122row20_col0\" class=\"data row20 col0\" >PCA Method </td>\n",
       "                        <td id=\"T_21efe9d8_9321_11eb_998e_acde48001122row20_col1\" class=\"data row20 col1\" >None</td>\n",
       "            </tr>\n",
       "            <tr>\n",
       "                        <th id=\"T_21efe9d8_9321_11eb_998e_acde48001122level0_row21\" class=\"row_heading level0 row21\" >21</th>\n",
       "                        <td id=\"T_21efe9d8_9321_11eb_998e_acde48001122row21_col0\" class=\"data row21 col0\" >PCA Components </td>\n",
       "                        <td id=\"T_21efe9d8_9321_11eb_998e_acde48001122row21_col1\" class=\"data row21 col1\" >None</td>\n",
       "            </tr>\n",
       "            <tr>\n",
       "                        <th id=\"T_21efe9d8_9321_11eb_998e_acde48001122level0_row22\" class=\"row_heading level0 row22\" >22</th>\n",
       "                        <td id=\"T_21efe9d8_9321_11eb_998e_acde48001122row22_col0\" class=\"data row22 col0\" >Ignore Low Variance </td>\n",
       "                        <td id=\"T_21efe9d8_9321_11eb_998e_acde48001122row22_col1\" class=\"data row22 col1\" >False</td>\n",
       "            </tr>\n",
       "            <tr>\n",
       "                        <th id=\"T_21efe9d8_9321_11eb_998e_acde48001122level0_row23\" class=\"row_heading level0 row23\" >23</th>\n",
       "                        <td id=\"T_21efe9d8_9321_11eb_998e_acde48001122row23_col0\" class=\"data row23 col0\" >Combine Rare Levels </td>\n",
       "                        <td id=\"T_21efe9d8_9321_11eb_998e_acde48001122row23_col1\" class=\"data row23 col1\" >False</td>\n",
       "            </tr>\n",
       "            <tr>\n",
       "                        <th id=\"T_21efe9d8_9321_11eb_998e_acde48001122level0_row24\" class=\"row_heading level0 row24\" >24</th>\n",
       "                        <td id=\"T_21efe9d8_9321_11eb_998e_acde48001122row24_col0\" class=\"data row24 col0\" >Rare Level Threshold </td>\n",
       "                        <td id=\"T_21efe9d8_9321_11eb_998e_acde48001122row24_col1\" class=\"data row24 col1\" >None</td>\n",
       "            </tr>\n",
       "            <tr>\n",
       "                        <th id=\"T_21efe9d8_9321_11eb_998e_acde48001122level0_row25\" class=\"row_heading level0 row25\" >25</th>\n",
       "                        <td id=\"T_21efe9d8_9321_11eb_998e_acde48001122row25_col0\" class=\"data row25 col0\" >Numeric Binning </td>\n",
       "                        <td id=\"T_21efe9d8_9321_11eb_998e_acde48001122row25_col1\" class=\"data row25 col1\" >False</td>\n",
       "            </tr>\n",
       "            <tr>\n",
       "                        <th id=\"T_21efe9d8_9321_11eb_998e_acde48001122level0_row26\" class=\"row_heading level0 row26\" >26</th>\n",
       "                        <td id=\"T_21efe9d8_9321_11eb_998e_acde48001122row26_col0\" class=\"data row26 col0\" >Remove Outliers </td>\n",
       "                        <td id=\"T_21efe9d8_9321_11eb_998e_acde48001122row26_col1\" class=\"data row26 col1\" >False</td>\n",
       "            </tr>\n",
       "            <tr>\n",
       "                        <th id=\"T_21efe9d8_9321_11eb_998e_acde48001122level0_row27\" class=\"row_heading level0 row27\" >27</th>\n",
       "                        <td id=\"T_21efe9d8_9321_11eb_998e_acde48001122row27_col0\" class=\"data row27 col0\" >Outliers Threshold </td>\n",
       "                        <td id=\"T_21efe9d8_9321_11eb_998e_acde48001122row27_col1\" class=\"data row27 col1\" >None</td>\n",
       "            </tr>\n",
       "            <tr>\n",
       "                        <th id=\"T_21efe9d8_9321_11eb_998e_acde48001122level0_row28\" class=\"row_heading level0 row28\" >28</th>\n",
       "                        <td id=\"T_21efe9d8_9321_11eb_998e_acde48001122row28_col0\" class=\"data row28 col0\" >Remove Multicollinearity </td>\n",
       "                        <td id=\"T_21efe9d8_9321_11eb_998e_acde48001122row28_col1\" class=\"data row28 col1\" >False</td>\n",
       "            </tr>\n",
       "            <tr>\n",
       "                        <th id=\"T_21efe9d8_9321_11eb_998e_acde48001122level0_row29\" class=\"row_heading level0 row29\" >29</th>\n",
       "                        <td id=\"T_21efe9d8_9321_11eb_998e_acde48001122row29_col0\" class=\"data row29 col0\" >Multicollinearity Threshold </td>\n",
       "                        <td id=\"T_21efe9d8_9321_11eb_998e_acde48001122row29_col1\" class=\"data row29 col1\" >None</td>\n",
       "            </tr>\n",
       "            <tr>\n",
       "                        <th id=\"T_21efe9d8_9321_11eb_998e_acde48001122level0_row30\" class=\"row_heading level0 row30\" >30</th>\n",
       "                        <td id=\"T_21efe9d8_9321_11eb_998e_acde48001122row30_col0\" class=\"data row30 col0\" >Clustering </td>\n",
       "                        <td id=\"T_21efe9d8_9321_11eb_998e_acde48001122row30_col1\" class=\"data row30 col1\" >False</td>\n",
       "            </tr>\n",
       "            <tr>\n",
       "                        <th id=\"T_21efe9d8_9321_11eb_998e_acde48001122level0_row31\" class=\"row_heading level0 row31\" >31</th>\n",
       "                        <td id=\"T_21efe9d8_9321_11eb_998e_acde48001122row31_col0\" class=\"data row31 col0\" >Clustering Iteration </td>\n",
       "                        <td id=\"T_21efe9d8_9321_11eb_998e_acde48001122row31_col1\" class=\"data row31 col1\" >None</td>\n",
       "            </tr>\n",
       "            <tr>\n",
       "                        <th id=\"T_21efe9d8_9321_11eb_998e_acde48001122level0_row32\" class=\"row_heading level0 row32\" >32</th>\n",
       "                        <td id=\"T_21efe9d8_9321_11eb_998e_acde48001122row32_col0\" class=\"data row32 col0\" >Polynomial Features </td>\n",
       "                        <td id=\"T_21efe9d8_9321_11eb_998e_acde48001122row32_col1\" class=\"data row32 col1\" >False</td>\n",
       "            </tr>\n",
       "            <tr>\n",
       "                        <th id=\"T_21efe9d8_9321_11eb_998e_acde48001122level0_row33\" class=\"row_heading level0 row33\" >33</th>\n",
       "                        <td id=\"T_21efe9d8_9321_11eb_998e_acde48001122row33_col0\" class=\"data row33 col0\" >Polynomial Degree </td>\n",
       "                        <td id=\"T_21efe9d8_9321_11eb_998e_acde48001122row33_col1\" class=\"data row33 col1\" >None</td>\n",
       "            </tr>\n",
       "            <tr>\n",
       "                        <th id=\"T_21efe9d8_9321_11eb_998e_acde48001122level0_row34\" class=\"row_heading level0 row34\" >34</th>\n",
       "                        <td id=\"T_21efe9d8_9321_11eb_998e_acde48001122row34_col0\" class=\"data row34 col0\" >Trignometry Features </td>\n",
       "                        <td id=\"T_21efe9d8_9321_11eb_998e_acde48001122row34_col1\" class=\"data row34 col1\" >False</td>\n",
       "            </tr>\n",
       "            <tr>\n",
       "                        <th id=\"T_21efe9d8_9321_11eb_998e_acde48001122level0_row35\" class=\"row_heading level0 row35\" >35</th>\n",
       "                        <td id=\"T_21efe9d8_9321_11eb_998e_acde48001122row35_col0\" class=\"data row35 col0\" >Polynomial Threshold </td>\n",
       "                        <td id=\"T_21efe9d8_9321_11eb_998e_acde48001122row35_col1\" class=\"data row35 col1\" >None</td>\n",
       "            </tr>\n",
       "            <tr>\n",
       "                        <th id=\"T_21efe9d8_9321_11eb_998e_acde48001122level0_row36\" class=\"row_heading level0 row36\" >36</th>\n",
       "                        <td id=\"T_21efe9d8_9321_11eb_998e_acde48001122row36_col0\" class=\"data row36 col0\" >Group Features </td>\n",
       "                        <td id=\"T_21efe9d8_9321_11eb_998e_acde48001122row36_col1\" class=\"data row36 col1\" >False</td>\n",
       "            </tr>\n",
       "            <tr>\n",
       "                        <th id=\"T_21efe9d8_9321_11eb_998e_acde48001122level0_row37\" class=\"row_heading level0 row37\" >37</th>\n",
       "                        <td id=\"T_21efe9d8_9321_11eb_998e_acde48001122row37_col0\" class=\"data row37 col0\" >Feature Selection </td>\n",
       "                        <td id=\"T_21efe9d8_9321_11eb_998e_acde48001122row37_col1\" class=\"data row37 col1\" >False</td>\n",
       "            </tr>\n",
       "            <tr>\n",
       "                        <th id=\"T_21efe9d8_9321_11eb_998e_acde48001122level0_row38\" class=\"row_heading level0 row38\" >38</th>\n",
       "                        <td id=\"T_21efe9d8_9321_11eb_998e_acde48001122row38_col0\" class=\"data row38 col0\" >Features Selection Threshold </td>\n",
       "                        <td id=\"T_21efe9d8_9321_11eb_998e_acde48001122row38_col1\" class=\"data row38 col1\" >None</td>\n",
       "            </tr>\n",
       "            <tr>\n",
       "                        <th id=\"T_21efe9d8_9321_11eb_998e_acde48001122level0_row39\" class=\"row_heading level0 row39\" >39</th>\n",
       "                        <td id=\"T_21efe9d8_9321_11eb_998e_acde48001122row39_col0\" class=\"data row39 col0\" >Feature Interaction </td>\n",
       "                        <td id=\"T_21efe9d8_9321_11eb_998e_acde48001122row39_col1\" class=\"data row39 col1\" >False</td>\n",
       "            </tr>\n",
       "            <tr>\n",
       "                        <th id=\"T_21efe9d8_9321_11eb_998e_acde48001122level0_row40\" class=\"row_heading level0 row40\" >40</th>\n",
       "                        <td id=\"T_21efe9d8_9321_11eb_998e_acde48001122row40_col0\" class=\"data row40 col0\" >Feature Ratio </td>\n",
       "                        <td id=\"T_21efe9d8_9321_11eb_998e_acde48001122row40_col1\" class=\"data row40 col1\" >False</td>\n",
       "            </tr>\n",
       "            <tr>\n",
       "                        <th id=\"T_21efe9d8_9321_11eb_998e_acde48001122level0_row41\" class=\"row_heading level0 row41\" >41</th>\n",
       "                        <td id=\"T_21efe9d8_9321_11eb_998e_acde48001122row41_col0\" class=\"data row41 col0\" >Interaction Threshold </td>\n",
       "                        <td id=\"T_21efe9d8_9321_11eb_998e_acde48001122row41_col1\" class=\"data row41 col1\" >None</td>\n",
       "            </tr>\n",
       "            <tr>\n",
       "                        <th id=\"T_21efe9d8_9321_11eb_998e_acde48001122level0_row42\" class=\"row_heading level0 row42\" >42</th>\n",
       "                        <td id=\"T_21efe9d8_9321_11eb_998e_acde48001122row42_col0\" class=\"data row42 col0\" >Fix Imbalance</td>\n",
       "                        <td id=\"T_21efe9d8_9321_11eb_998e_acde48001122row42_col1\" class=\"data row42 col1\" >True</td>\n",
       "            </tr>\n",
       "            <tr>\n",
       "                        <th id=\"T_21efe9d8_9321_11eb_998e_acde48001122level0_row43\" class=\"row_heading level0 row43\" >43</th>\n",
       "                        <td id=\"T_21efe9d8_9321_11eb_998e_acde48001122row43_col0\" class=\"data row43 col0\" >Fix Imbalance Method</td>\n",
       "                        <td id=\"T_21efe9d8_9321_11eb_998e_acde48001122row43_col1\" class=\"data row43 col1\" >SMOTE</td>\n",
       "            </tr>\n",
       "    </tbody></table>"
      ],
      "text/plain": [
       "<pandas.io.formats.style.Styler at 0x7fdcf84bfb00>"
      ]
     },
     "metadata": {},
     "output_type": "display_data"
    }
   ],
   "source": [
    "clf = setup(data=data,target='Response',session_id=123,fix_imbalance=True,numeric_features=['Long_Term_Cust','Health_Indicator','Accomodation_Type','Reco_Insurance_Type','Holding_Policy_Duration','Holding_Policy_Type'])"
   ]
  },
  {
   "cell_type": "code",
   "execution_count": 31,
   "metadata": {
    "ExecuteTime": {
     "end_time": "2021-04-01T19:37:04.167379Z",
     "start_time": "2021-04-01T19:33:27.767825Z"
    }
   },
   "outputs": [
    {
     "data": {
      "text/html": [
       "<style  type=\"text/css\" >\n",
       "    #T_a2e6670c_9321_11eb_b52c_acde48001122 th {\n",
       "          text-align: left;\n",
       "    }#T_a2e6670c_9321_11eb_b52c_acde48001122row0_col0,#T_a2e6670c_9321_11eb_b52c_acde48001122row0_col2,#T_a2e6670c_9321_11eb_b52c_acde48001122row0_col3,#T_a2e6670c_9321_11eb_b52c_acde48001122row0_col4,#T_a2e6670c_9321_11eb_b52c_acde48001122row0_col5,#T_a2e6670c_9321_11eb_b52c_acde48001122row0_col6,#T_a2e6670c_9321_11eb_b52c_acde48001122row0_col7,#T_a2e6670c_9321_11eb_b52c_acde48001122row1_col0,#T_a2e6670c_9321_11eb_b52c_acde48001122row1_col1,#T_a2e6670c_9321_11eb_b52c_acde48001122row1_col3,#T_a2e6670c_9321_11eb_b52c_acde48001122row1_col5,#T_a2e6670c_9321_11eb_b52c_acde48001122row1_col6,#T_a2e6670c_9321_11eb_b52c_acde48001122row1_col7,#T_a2e6670c_9321_11eb_b52c_acde48001122row2_col0,#T_a2e6670c_9321_11eb_b52c_acde48001122row2_col1,#T_a2e6670c_9321_11eb_b52c_acde48001122row2_col2,#T_a2e6670c_9321_11eb_b52c_acde48001122row2_col3,#T_a2e6670c_9321_11eb_b52c_acde48001122row2_col4,#T_a2e6670c_9321_11eb_b52c_acde48001122row2_col5,#T_a2e6670c_9321_11eb_b52c_acde48001122row2_col6,#T_a2e6670c_9321_11eb_b52c_acde48001122row2_col7,#T_a2e6670c_9321_11eb_b52c_acde48001122row3_col0,#T_a2e6670c_9321_11eb_b52c_acde48001122row3_col1,#T_a2e6670c_9321_11eb_b52c_acde48001122row3_col2,#T_a2e6670c_9321_11eb_b52c_acde48001122row3_col3,#T_a2e6670c_9321_11eb_b52c_acde48001122row3_col4,#T_a2e6670c_9321_11eb_b52c_acde48001122row3_col5,#T_a2e6670c_9321_11eb_b52c_acde48001122row3_col6,#T_a2e6670c_9321_11eb_b52c_acde48001122row3_col7,#T_a2e6670c_9321_11eb_b52c_acde48001122row4_col0,#T_a2e6670c_9321_11eb_b52c_acde48001122row4_col1,#T_a2e6670c_9321_11eb_b52c_acde48001122row4_col2,#T_a2e6670c_9321_11eb_b52c_acde48001122row4_col3,#T_a2e6670c_9321_11eb_b52c_acde48001122row4_col4,#T_a2e6670c_9321_11eb_b52c_acde48001122row4_col5,#T_a2e6670c_9321_11eb_b52c_acde48001122row4_col6,#T_a2e6670c_9321_11eb_b52c_acde48001122row4_col7,#T_a2e6670c_9321_11eb_b52c_acde48001122row5_col0,#T_a2e6670c_9321_11eb_b52c_acde48001122row5_col1,#T_a2e6670c_9321_11eb_b52c_acde48001122row5_col2,#T_a2e6670c_9321_11eb_b52c_acde48001122row5_col3,#T_a2e6670c_9321_11eb_b52c_acde48001122row5_col4,#T_a2e6670c_9321_11eb_b52c_acde48001122row5_col5,#T_a2e6670c_9321_11eb_b52c_acde48001122row5_col6,#T_a2e6670c_9321_11eb_b52c_acde48001122row5_col7,#T_a2e6670c_9321_11eb_b52c_acde48001122row6_col0,#T_a2e6670c_9321_11eb_b52c_acde48001122row6_col1,#T_a2e6670c_9321_11eb_b52c_acde48001122row6_col2,#T_a2e6670c_9321_11eb_b52c_acde48001122row6_col3,#T_a2e6670c_9321_11eb_b52c_acde48001122row6_col4,#T_a2e6670c_9321_11eb_b52c_acde48001122row6_col5,#T_a2e6670c_9321_11eb_b52c_acde48001122row6_col6,#T_a2e6670c_9321_11eb_b52c_acde48001122row6_col7,#T_a2e6670c_9321_11eb_b52c_acde48001122row7_col0,#T_a2e6670c_9321_11eb_b52c_acde48001122row7_col1,#T_a2e6670c_9321_11eb_b52c_acde48001122row7_col2,#T_a2e6670c_9321_11eb_b52c_acde48001122row7_col3,#T_a2e6670c_9321_11eb_b52c_acde48001122row7_col4,#T_a2e6670c_9321_11eb_b52c_acde48001122row7_col5,#T_a2e6670c_9321_11eb_b52c_acde48001122row8_col0,#T_a2e6670c_9321_11eb_b52c_acde48001122row8_col1,#T_a2e6670c_9321_11eb_b52c_acde48001122row8_col2,#T_a2e6670c_9321_11eb_b52c_acde48001122row8_col3,#T_a2e6670c_9321_11eb_b52c_acde48001122row8_col4,#T_a2e6670c_9321_11eb_b52c_acde48001122row8_col5,#T_a2e6670c_9321_11eb_b52c_acde48001122row8_col6,#T_a2e6670c_9321_11eb_b52c_acde48001122row8_col7,#T_a2e6670c_9321_11eb_b52c_acde48001122row9_col0,#T_a2e6670c_9321_11eb_b52c_acde48001122row9_col1,#T_a2e6670c_9321_11eb_b52c_acde48001122row9_col2,#T_a2e6670c_9321_11eb_b52c_acde48001122row9_col3,#T_a2e6670c_9321_11eb_b52c_acde48001122row9_col4,#T_a2e6670c_9321_11eb_b52c_acde48001122row9_col5,#T_a2e6670c_9321_11eb_b52c_acde48001122row9_col6,#T_a2e6670c_9321_11eb_b52c_acde48001122row9_col7,#T_a2e6670c_9321_11eb_b52c_acde48001122row10_col0,#T_a2e6670c_9321_11eb_b52c_acde48001122row10_col1,#T_a2e6670c_9321_11eb_b52c_acde48001122row10_col2,#T_a2e6670c_9321_11eb_b52c_acde48001122row10_col3,#T_a2e6670c_9321_11eb_b52c_acde48001122row10_col4,#T_a2e6670c_9321_11eb_b52c_acde48001122row10_col5,#T_a2e6670c_9321_11eb_b52c_acde48001122row10_col6,#T_a2e6670c_9321_11eb_b52c_acde48001122row10_col7,#T_a2e6670c_9321_11eb_b52c_acde48001122row11_col0,#T_a2e6670c_9321_11eb_b52c_acde48001122row11_col1,#T_a2e6670c_9321_11eb_b52c_acde48001122row11_col2,#T_a2e6670c_9321_11eb_b52c_acde48001122row11_col3,#T_a2e6670c_9321_11eb_b52c_acde48001122row11_col4,#T_a2e6670c_9321_11eb_b52c_acde48001122row11_col5,#T_a2e6670c_9321_11eb_b52c_acde48001122row11_col6,#T_a2e6670c_9321_11eb_b52c_acde48001122row11_col7,#T_a2e6670c_9321_11eb_b52c_acde48001122row12_col0,#T_a2e6670c_9321_11eb_b52c_acde48001122row12_col1,#T_a2e6670c_9321_11eb_b52c_acde48001122row12_col2,#T_a2e6670c_9321_11eb_b52c_acde48001122row12_col3,#T_a2e6670c_9321_11eb_b52c_acde48001122row12_col4,#T_a2e6670c_9321_11eb_b52c_acde48001122row12_col5,#T_a2e6670c_9321_11eb_b52c_acde48001122row12_col6,#T_a2e6670c_9321_11eb_b52c_acde48001122row12_col7,#T_a2e6670c_9321_11eb_b52c_acde48001122row13_col0,#T_a2e6670c_9321_11eb_b52c_acde48001122row13_col1,#T_a2e6670c_9321_11eb_b52c_acde48001122row13_col2,#T_a2e6670c_9321_11eb_b52c_acde48001122row13_col3,#T_a2e6670c_9321_11eb_b52c_acde48001122row13_col4,#T_a2e6670c_9321_11eb_b52c_acde48001122row13_col6,#T_a2e6670c_9321_11eb_b52c_acde48001122row13_col7,#T_a2e6670c_9321_11eb_b52c_acde48001122row14_col0,#T_a2e6670c_9321_11eb_b52c_acde48001122row14_col1,#T_a2e6670c_9321_11eb_b52c_acde48001122row14_col2,#T_a2e6670c_9321_11eb_b52c_acde48001122row14_col4,#T_a2e6670c_9321_11eb_b52c_acde48001122row14_col5,#T_a2e6670c_9321_11eb_b52c_acde48001122row14_col6,#T_a2e6670c_9321_11eb_b52c_acde48001122row14_col7{\n",
       "            text-align:  left;\n",
       "        }#T_a2e6670c_9321_11eb_b52c_acde48001122row0_col1,#T_a2e6670c_9321_11eb_b52c_acde48001122row1_col2,#T_a2e6670c_9321_11eb_b52c_acde48001122row1_col4,#T_a2e6670c_9321_11eb_b52c_acde48001122row7_col6,#T_a2e6670c_9321_11eb_b52c_acde48001122row7_col7,#T_a2e6670c_9321_11eb_b52c_acde48001122row13_col5,#T_a2e6670c_9321_11eb_b52c_acde48001122row14_col3{\n",
       "            background-color:  yellow;\n",
       "            text-align:  left;\n",
       "        }#T_a2e6670c_9321_11eb_b52c_acde48001122row0_col8,#T_a2e6670c_9321_11eb_b52c_acde48001122row1_col8,#T_a2e6670c_9321_11eb_b52c_acde48001122row2_col8,#T_a2e6670c_9321_11eb_b52c_acde48001122row3_col8,#T_a2e6670c_9321_11eb_b52c_acde48001122row4_col8,#T_a2e6670c_9321_11eb_b52c_acde48001122row5_col8,#T_a2e6670c_9321_11eb_b52c_acde48001122row6_col8,#T_a2e6670c_9321_11eb_b52c_acde48001122row7_col8,#T_a2e6670c_9321_11eb_b52c_acde48001122row8_col8,#T_a2e6670c_9321_11eb_b52c_acde48001122row9_col8,#T_a2e6670c_9321_11eb_b52c_acde48001122row10_col8,#T_a2e6670c_9321_11eb_b52c_acde48001122row11_col8,#T_a2e6670c_9321_11eb_b52c_acde48001122row12_col8,#T_a2e6670c_9321_11eb_b52c_acde48001122row13_col8,#T_a2e6670c_9321_11eb_b52c_acde48001122row14_col8{\n",
       "            background-color:  lightgrey;\n",
       "            text-align:  left;\n",
       "        }</style><table id=\"T_a2e6670c_9321_11eb_b52c_acde48001122\" ><thead>    <tr>        <th class=\"blank level0\" ></th>        <th class=\"col_heading level0 col0\" >Model</th>        <th class=\"col_heading level0 col1\" >Accuracy</th>        <th class=\"col_heading level0 col2\" >AUC</th>        <th class=\"col_heading level0 col3\" >Recall</th>        <th class=\"col_heading level0 col4\" >Prec.</th>        <th class=\"col_heading level0 col5\" >F1</th>        <th class=\"col_heading level0 col6\" >Kappa</th>        <th class=\"col_heading level0 col7\" >MCC</th>        <th class=\"col_heading level0 col8\" >TT (Sec)</th>    </tr></thead><tbody>\n",
       "                <tr>\n",
       "                        <th id=\"T_a2e6670c_9321_11eb_b52c_acde48001122level0_row0\" class=\"row_heading level0 row0\" >0</th>\n",
       "                        <td id=\"T_a2e6670c_9321_11eb_b52c_acde48001122row0_col0\" class=\"data row0 col0\" >Extreme Gradient Boosting</td>\n",
       "                        <td id=\"T_a2e6670c_9321_11eb_b52c_acde48001122row0_col1\" class=\"data row0 col1\" >0.7578</td>\n",
       "                        <td id=\"T_a2e6670c_9321_11eb_b52c_acde48001122row0_col2\" class=\"data row0 col2\" >0.6121</td>\n",
       "                        <td id=\"T_a2e6670c_9321_11eb_b52c_acde48001122row0_col3\" class=\"data row0 col3\" >0.0111</td>\n",
       "                        <td id=\"T_a2e6670c_9321_11eb_b52c_acde48001122row0_col4\" class=\"data row0 col4\" >0.4055</td>\n",
       "                        <td id=\"T_a2e6670c_9321_11eb_b52c_acde48001122row0_col5\" class=\"data row0 col5\" >0.0216</td>\n",
       "                        <td id=\"T_a2e6670c_9321_11eb_b52c_acde48001122row0_col6\" class=\"data row0 col6\" >0.0085</td>\n",
       "                        <td id=\"T_a2e6670c_9321_11eb_b52c_acde48001122row0_col7\" class=\"data row0 col7\" >0.0304</td>\n",
       "                        <td id=\"T_a2e6670c_9321_11eb_b52c_acde48001122row0_col8\" class=\"data row0 col8\" >0.4949</td>\n",
       "            </tr>\n",
       "            <tr>\n",
       "                        <th id=\"T_a2e6670c_9321_11eb_b52c_acde48001122level0_row1\" class=\"row_heading level0 row1\" >1</th>\n",
       "                        <td id=\"T_a2e6670c_9321_11eb_b52c_acde48001122row1_col0\" class=\"data row1 col0\" >Light Gradient Boosting Machine</td>\n",
       "                        <td id=\"T_a2e6670c_9321_11eb_b52c_acde48001122row1_col1\" class=\"data row1 col1\" >0.7577</td>\n",
       "                        <td id=\"T_a2e6670c_9321_11eb_b52c_acde48001122row1_col2\" class=\"data row1 col2\" >0.6452</td>\n",
       "                        <td id=\"T_a2e6670c_9321_11eb_b52c_acde48001122row1_col3\" class=\"data row1 col3\" >0.0275</td>\n",
       "                        <td id=\"T_a2e6670c_9321_11eb_b52c_acde48001122row1_col4\" class=\"data row1 col4\" >0.4456</td>\n",
       "                        <td id=\"T_a2e6670c_9321_11eb_b52c_acde48001122row1_col5\" class=\"data row1 col5\" >0.0517</td>\n",
       "                        <td id=\"T_a2e6670c_9321_11eb_b52c_acde48001122row1_col6\" class=\"data row1 col6\" >0.0245</td>\n",
       "                        <td id=\"T_a2e6670c_9321_11eb_b52c_acde48001122row1_col7\" class=\"data row1 col7\" >0.0585</td>\n",
       "                        <td id=\"T_a2e6670c_9321_11eb_b52c_acde48001122row1_col8\" class=\"data row1 col8\" >0.3628</td>\n",
       "            </tr>\n",
       "            <tr>\n",
       "                        <th id=\"T_a2e6670c_9321_11eb_b52c_acde48001122level0_row2\" class=\"row_heading level0 row2\" >2</th>\n",
       "                        <td id=\"T_a2e6670c_9321_11eb_b52c_acde48001122row2_col0\" class=\"data row2 col0\" >Gradient Boosting Classifier</td>\n",
       "                        <td id=\"T_a2e6670c_9321_11eb_b52c_acde48001122row2_col1\" class=\"data row2 col1\" >0.7574</td>\n",
       "                        <td id=\"T_a2e6670c_9321_11eb_b52c_acde48001122row2_col2\" class=\"data row2 col2\" >0.6108</td>\n",
       "                        <td id=\"T_a2e6670c_9321_11eb_b52c_acde48001122row2_col3\" class=\"data row2 col3\" >0.0115</td>\n",
       "                        <td id=\"T_a2e6670c_9321_11eb_b52c_acde48001122row2_col4\" class=\"data row2 col4\" >0.3748</td>\n",
       "                        <td id=\"T_a2e6670c_9321_11eb_b52c_acde48001122row2_col5\" class=\"data row2 col5\" >0.0222</td>\n",
       "                        <td id=\"T_a2e6670c_9321_11eb_b52c_acde48001122row2_col6\" class=\"data row2 col6\" >0.0081</td>\n",
       "                        <td id=\"T_a2e6670c_9321_11eb_b52c_acde48001122row2_col7\" class=\"data row2 col7\" >0.0269</td>\n",
       "                        <td id=\"T_a2e6670c_9321_11eb_b52c_acde48001122row2_col8\" class=\"data row2 col8\" >3.5025</td>\n",
       "            </tr>\n",
       "            <tr>\n",
       "                        <th id=\"T_a2e6670c_9321_11eb_b52c_acde48001122level0_row3\" class=\"row_heading level0 row3\" >3</th>\n",
       "                        <td id=\"T_a2e6670c_9321_11eb_b52c_acde48001122row3_col0\" class=\"data row3 col0\" >CatBoost Classifier</td>\n",
       "                        <td id=\"T_a2e6670c_9321_11eb_b52c_acde48001122row3_col1\" class=\"data row3 col1\" >0.7545</td>\n",
       "                        <td id=\"T_a2e6670c_9321_11eb_b52c_acde48001122row3_col2\" class=\"data row3 col2\" >0.6363</td>\n",
       "                        <td id=\"T_a2e6670c_9321_11eb_b52c_acde48001122row3_col3\" class=\"data row3 col3\" >0.0388</td>\n",
       "                        <td id=\"T_a2e6670c_9321_11eb_b52c_acde48001122row3_col4\" class=\"data row3 col4\" >0.4004</td>\n",
       "                        <td id=\"T_a2e6670c_9321_11eb_b52c_acde48001122row3_col5\" class=\"data row3 col5\" >0.0706</td>\n",
       "                        <td id=\"T_a2e6670c_9321_11eb_b52c_acde48001122row3_col6\" class=\"data row3 col6\" >0.0292</td>\n",
       "                        <td id=\"T_a2e6670c_9321_11eb_b52c_acde48001122row3_col7\" class=\"data row3 col7\" >0.0573</td>\n",
       "                        <td id=\"T_a2e6670c_9321_11eb_b52c_acde48001122row3_col8\" class=\"data row3 col8\" >12.5612</td>\n",
       "            </tr>\n",
       "            <tr>\n",
       "                        <th id=\"T_a2e6670c_9321_11eb_b52c_acde48001122level0_row4\" class=\"row_heading level0 row4\" >4</th>\n",
       "                        <td id=\"T_a2e6670c_9321_11eb_b52c_acde48001122row4_col0\" class=\"data row4 col0\" >Ada Boost Classifier</td>\n",
       "                        <td id=\"T_a2e6670c_9321_11eb_b52c_acde48001122row4_col1\" class=\"data row4 col1\" >0.7339</td>\n",
       "                        <td id=\"T_a2e6670c_9321_11eb_b52c_acde48001122row4_col2\" class=\"data row4 col2\" >0.5561</td>\n",
       "                        <td id=\"T_a2e6670c_9321_11eb_b52c_acde48001122row4_col3\" class=\"data row4 col3\" >0.0642</td>\n",
       "                        <td id=\"T_a2e6670c_9321_11eb_b52c_acde48001122row4_col4\" class=\"data row4 col4\" >0.2726</td>\n",
       "                        <td id=\"T_a2e6670c_9321_11eb_b52c_acde48001122row4_col5\" class=\"data row4 col5\" >0.1027</td>\n",
       "                        <td id=\"T_a2e6670c_9321_11eb_b52c_acde48001122row4_col6\" class=\"data row4 col6\" >0.0139</td>\n",
       "                        <td id=\"T_a2e6670c_9321_11eb_b52c_acde48001122row4_col7\" class=\"data row4 col7\" >0.0185</td>\n",
       "                        <td id=\"T_a2e6670c_9321_11eb_b52c_acde48001122row4_col8\" class=\"data row4 col8\" >0.9117</td>\n",
       "            </tr>\n",
       "            <tr>\n",
       "                        <th id=\"T_a2e6670c_9321_11eb_b52c_acde48001122level0_row5\" class=\"row_heading level0 row5\" >5</th>\n",
       "                        <td id=\"T_a2e6670c_9321_11eb_b52c_acde48001122row5_col0\" class=\"data row5 col0\" >Extra Trees Classifier</td>\n",
       "                        <td id=\"T_a2e6670c_9321_11eb_b52c_acde48001122row5_col1\" class=\"data row5 col1\" >0.7309</td>\n",
       "                        <td id=\"T_a2e6670c_9321_11eb_b52c_acde48001122row5_col2\" class=\"data row5 col2\" >0.5686</td>\n",
       "                        <td id=\"T_a2e6670c_9321_11eb_b52c_acde48001122row5_col3\" class=\"data row5 col3\" >0.0997</td>\n",
       "                        <td id=\"T_a2e6670c_9321_11eb_b52c_acde48001122row5_col4\" class=\"data row5 col4\" >0.3133</td>\n",
       "                        <td id=\"T_a2e6670c_9321_11eb_b52c_acde48001122row5_col5\" class=\"data row5 col5\" >0.1511</td>\n",
       "                        <td id=\"T_a2e6670c_9321_11eb_b52c_acde48001122row5_col6\" class=\"data row5 col6\" >0.0399</td>\n",
       "                        <td id=\"T_a2e6670c_9321_11eb_b52c_acde48001122row5_col7\" class=\"data row5 col7\" >0.0491</td>\n",
       "                        <td id=\"T_a2e6670c_9321_11eb_b52c_acde48001122row5_col8\" class=\"data row5 col8\" >0.4698</td>\n",
       "            </tr>\n",
       "            <tr>\n",
       "                        <th id=\"T_a2e6670c_9321_11eb_b52c_acde48001122level0_row6\" class=\"row_heading level0 row6\" >6</th>\n",
       "                        <td id=\"T_a2e6670c_9321_11eb_b52c_acde48001122row6_col0\" class=\"data row6 col0\" >Random Forest Classifier</td>\n",
       "                        <td id=\"T_a2e6670c_9321_11eb_b52c_acde48001122row6_col1\" class=\"data row6 col1\" >0.7276</td>\n",
       "                        <td id=\"T_a2e6670c_9321_11eb_b52c_acde48001122row6_col2\" class=\"data row6 col2\" >0.5496</td>\n",
       "                        <td id=\"T_a2e6670c_9321_11eb_b52c_acde48001122row6_col3\" class=\"data row6 col3\" >0.0999</td>\n",
       "                        <td id=\"T_a2e6670c_9321_11eb_b52c_acde48001122row6_col4\" class=\"data row6 col4\" >0.3021</td>\n",
       "                        <td id=\"T_a2e6670c_9321_11eb_b52c_acde48001122row6_col5\" class=\"data row6 col5\" >0.1499</td>\n",
       "                        <td id=\"T_a2e6670c_9321_11eb_b52c_acde48001122row6_col6\" class=\"data row6 col6\" >0.0344</td>\n",
       "                        <td id=\"T_a2e6670c_9321_11eb_b52c_acde48001122row6_col7\" class=\"data row6 col7\" >0.0420</td>\n",
       "                        <td id=\"T_a2e6670c_9321_11eb_b52c_acde48001122row6_col8\" class=\"data row6 col8\" >0.1122</td>\n",
       "            </tr>\n",
       "            <tr>\n",
       "                        <th id=\"T_a2e6670c_9321_11eb_b52c_acde48001122level0_row7\" class=\"row_heading level0 row7\" >7</th>\n",
       "                        <td id=\"T_a2e6670c_9321_11eb_b52c_acde48001122row7_col0\" class=\"data row7 col0\" >Decision Tree Classifier</td>\n",
       "                        <td id=\"T_a2e6670c_9321_11eb_b52c_acde48001122row7_col1\" class=\"data row7 col1\" >0.6457</td>\n",
       "                        <td id=\"T_a2e6670c_9321_11eb_b52c_acde48001122row7_col2\" class=\"data row7 col2\" >0.5342</td>\n",
       "                        <td id=\"T_a2e6670c_9321_11eb_b52c_acde48001122row7_col3\" class=\"data row7 col3\" >0.3189</td>\n",
       "                        <td id=\"T_a2e6670c_9321_11eb_b52c_acde48001122row7_col4\" class=\"data row7 col4\" >0.2874</td>\n",
       "                        <td id=\"T_a2e6670c_9321_11eb_b52c_acde48001122row7_col5\" class=\"data row7 col5\" >0.3023</td>\n",
       "                        <td id=\"T_a2e6670c_9321_11eb_b52c_acde48001122row7_col6\" class=\"data row7 col6\" >0.0657</td>\n",
       "                        <td id=\"T_a2e6670c_9321_11eb_b52c_acde48001122row7_col7\" class=\"data row7 col7\" >0.0659</td>\n",
       "                        <td id=\"T_a2e6670c_9321_11eb_b52c_acde48001122row7_col8\" class=\"data row7 col8\" >0.1506</td>\n",
       "            </tr>\n",
       "            <tr>\n",
       "                        <th id=\"T_a2e6670c_9321_11eb_b52c_acde48001122level0_row8\" class=\"row_heading level0 row8\" >8</th>\n",
       "                        <td id=\"T_a2e6670c_9321_11eb_b52c_acde48001122row8_col0\" class=\"data row8 col0\" >SVM - Linear Kernel</td>\n",
       "                        <td id=\"T_a2e6670c_9321_11eb_b52c_acde48001122row8_col1\" class=\"data row8 col1\" >0.5517</td>\n",
       "                        <td id=\"T_a2e6670c_9321_11eb_b52c_acde48001122row8_col2\" class=\"data row8 col2\" >0.0000</td>\n",
       "                        <td id=\"T_a2e6670c_9321_11eb_b52c_acde48001122row8_col3\" class=\"data row8 col3\" >0.4000</td>\n",
       "                        <td id=\"T_a2e6670c_9321_11eb_b52c_acde48001122row8_col4\" class=\"data row8 col4\" >0.0962</td>\n",
       "                        <td id=\"T_a2e6670c_9321_11eb_b52c_acde48001122row8_col5\" class=\"data row8 col5\" >0.1551</td>\n",
       "                        <td id=\"T_a2e6670c_9321_11eb_b52c_acde48001122row8_col6\" class=\"data row8 col6\" >0.0000</td>\n",
       "                        <td id=\"T_a2e6670c_9321_11eb_b52c_acde48001122row8_col7\" class=\"data row8 col7\" >0.0000</td>\n",
       "                        <td id=\"T_a2e6670c_9321_11eb_b52c_acde48001122row8_col8\" class=\"data row8 col8\" >0.5937</td>\n",
       "            </tr>\n",
       "            <tr>\n",
       "                        <th id=\"T_a2e6670c_9321_11eb_b52c_acde48001122level0_row9\" class=\"row_heading level0 row9\" >9</th>\n",
       "                        <td id=\"T_a2e6670c_9321_11eb_b52c_acde48001122row9_col0\" class=\"data row9 col0\" >K Neighbors Classifier</td>\n",
       "                        <td id=\"T_a2e6670c_9321_11eb_b52c_acde48001122row9_col1\" class=\"data row9 col1\" >0.5284</td>\n",
       "                        <td id=\"T_a2e6670c_9321_11eb_b52c_acde48001122row9_col2\" class=\"data row9 col2\" >0.4988</td>\n",
       "                        <td id=\"T_a2e6670c_9321_11eb_b52c_acde48001122row9_col3\" class=\"data row9 col3\" >0.4418</td>\n",
       "                        <td id=\"T_a2e6670c_9321_11eb_b52c_acde48001122row9_col4\" class=\"data row9 col4\" >0.2398</td>\n",
       "                        <td id=\"T_a2e6670c_9321_11eb_b52c_acde48001122row9_col5\" class=\"data row9 col5\" >0.3108</td>\n",
       "                        <td id=\"T_a2e6670c_9321_11eb_b52c_acde48001122row9_col6\" class=\"data row9 col6\" >-0.0018</td>\n",
       "                        <td id=\"T_a2e6670c_9321_11eb_b52c_acde48001122row9_col7\" class=\"data row9 col7\" >-0.0020</td>\n",
       "                        <td id=\"T_a2e6670c_9321_11eb_b52c_acde48001122row9_col8\" class=\"data row9 col8\" >0.0309</td>\n",
       "            </tr>\n",
       "            <tr>\n",
       "                        <th id=\"T_a2e6670c_9321_11eb_b52c_acde48001122level0_row10\" class=\"row_heading level0 row10\" >10</th>\n",
       "                        <td id=\"T_a2e6670c_9321_11eb_b52c_acde48001122row10_col0\" class=\"data row10 col0\" >Logistic Regression</td>\n",
       "                        <td id=\"T_a2e6670c_9321_11eb_b52c_acde48001122row10_col1\" class=\"data row10 col1\" >0.5120</td>\n",
       "                        <td id=\"T_a2e6670c_9321_11eb_b52c_acde48001122row10_col2\" class=\"data row10 col2\" >0.5043</td>\n",
       "                        <td id=\"T_a2e6670c_9321_11eb_b52c_acde48001122row10_col3\" class=\"data row10 col3\" >0.4815</td>\n",
       "                        <td id=\"T_a2e6670c_9321_11eb_b52c_acde48001122row10_col4\" class=\"data row10 col4\" >0.2419</td>\n",
       "                        <td id=\"T_a2e6670c_9321_11eb_b52c_acde48001122row10_col5\" class=\"data row10 col5\" >0.3219</td>\n",
       "                        <td id=\"T_a2e6670c_9321_11eb_b52c_acde48001122row10_col6\" class=\"data row10 col6\" >0.0023</td>\n",
       "                        <td id=\"T_a2e6670c_9321_11eb_b52c_acde48001122row10_col7\" class=\"data row10 col7\" >0.0027</td>\n",
       "                        <td id=\"T_a2e6670c_9321_11eb_b52c_acde48001122row10_col8\" class=\"data row10 col8\" >0.0587</td>\n",
       "            </tr>\n",
       "            <tr>\n",
       "                        <th id=\"T_a2e6670c_9321_11eb_b52c_acde48001122level0_row11\" class=\"row_heading level0 row11\" >11</th>\n",
       "                        <td id=\"T_a2e6670c_9321_11eb_b52c_acde48001122row11_col0\" class=\"data row11 col0\" >Ridge Classifier</td>\n",
       "                        <td id=\"T_a2e6670c_9321_11eb_b52c_acde48001122row11_col1\" class=\"data row11 col1\" >0.5099</td>\n",
       "                        <td id=\"T_a2e6670c_9321_11eb_b52c_acde48001122row11_col2\" class=\"data row11 col2\" >0.0000</td>\n",
       "                        <td id=\"T_a2e6670c_9321_11eb_b52c_acde48001122row11_col3\" class=\"data row11 col3\" >0.4817</td>\n",
       "                        <td id=\"T_a2e6670c_9321_11eb_b52c_acde48001122row11_col4\" class=\"data row11 col4\" >0.2409</td>\n",
       "                        <td id=\"T_a2e6670c_9321_11eb_b52c_acde48001122row11_col5\" class=\"data row11 col5\" >0.3211</td>\n",
       "                        <td id=\"T_a2e6670c_9321_11eb_b52c_acde48001122row11_col6\" class=\"data row11 col6\" >0.0003</td>\n",
       "                        <td id=\"T_a2e6670c_9321_11eb_b52c_acde48001122row11_col7\" class=\"data row11 col7\" >0.0004</td>\n",
       "                        <td id=\"T_a2e6670c_9321_11eb_b52c_acde48001122row11_col8\" class=\"data row11 col8\" >0.0103</td>\n",
       "            </tr>\n",
       "            <tr>\n",
       "                        <th id=\"T_a2e6670c_9321_11eb_b52c_acde48001122level0_row12\" class=\"row_heading level0 row12\" >12</th>\n",
       "                        <td id=\"T_a2e6670c_9321_11eb_b52c_acde48001122row12_col0\" class=\"data row12 col0\" >Linear Discriminant Analysis</td>\n",
       "                        <td id=\"T_a2e6670c_9321_11eb_b52c_acde48001122row12_col1\" class=\"data row12 col1\" >0.5099</td>\n",
       "                        <td id=\"T_a2e6670c_9321_11eb_b52c_acde48001122row12_col2\" class=\"data row12 col2\" >0.5013</td>\n",
       "                        <td id=\"T_a2e6670c_9321_11eb_b52c_acde48001122row12_col3\" class=\"data row12 col3\" >0.4815</td>\n",
       "                        <td id=\"T_a2e6670c_9321_11eb_b52c_acde48001122row12_col4\" class=\"data row12 col4\" >0.2408</td>\n",
       "                        <td id=\"T_a2e6670c_9321_11eb_b52c_acde48001122row12_col5\" class=\"data row12 col5\" >0.3210</td>\n",
       "                        <td id=\"T_a2e6670c_9321_11eb_b52c_acde48001122row12_col6\" class=\"data row12 col6\" >0.0002</td>\n",
       "                        <td id=\"T_a2e6670c_9321_11eb_b52c_acde48001122row12_col7\" class=\"data row12 col7\" >0.0003</td>\n",
       "                        <td id=\"T_a2e6670c_9321_11eb_b52c_acde48001122row12_col8\" class=\"data row12 col8\" >0.0481</td>\n",
       "            </tr>\n",
       "            <tr>\n",
       "                        <th id=\"T_a2e6670c_9321_11eb_b52c_acde48001122level0_row13\" class=\"row_heading level0 row13\" >13</th>\n",
       "                        <td id=\"T_a2e6670c_9321_11eb_b52c_acde48001122row13_col0\" class=\"data row13 col0\" >Quadratic Discriminant Analysis</td>\n",
       "                        <td id=\"T_a2e6670c_9321_11eb_b52c_acde48001122row13_col1\" class=\"data row13 col1\" >0.5032</td>\n",
       "                        <td id=\"T_a2e6670c_9321_11eb_b52c_acde48001122row13_col2\" class=\"data row13 col2\" >0.5131</td>\n",
       "                        <td id=\"T_a2e6670c_9321_11eb_b52c_acde48001122row13_col3\" class=\"data row13 col3\" >0.5269</td>\n",
       "                        <td id=\"T_a2e6670c_9321_11eb_b52c_acde48001122row13_col4\" class=\"data row13 col4\" >0.2488</td>\n",
       "                        <td id=\"T_a2e6670c_9321_11eb_b52c_acde48001122row13_col5\" class=\"data row13 col5\" >0.3380</td>\n",
       "                        <td id=\"T_a2e6670c_9321_11eb_b52c_acde48001122row13_col6\" class=\"data row13 col6\" >0.0163</td>\n",
       "                        <td id=\"T_a2e6670c_9321_11eb_b52c_acde48001122row13_col7\" class=\"data row13 col7\" >0.0193</td>\n",
       "                        <td id=\"T_a2e6670c_9321_11eb_b52c_acde48001122row13_col8\" class=\"data row13 col8\" >0.0100</td>\n",
       "            </tr>\n",
       "            <tr>\n",
       "                        <th id=\"T_a2e6670c_9321_11eb_b52c_acde48001122level0_row14\" class=\"row_heading level0 row14\" >14</th>\n",
       "                        <td id=\"T_a2e6670c_9321_11eb_b52c_acde48001122row14_col0\" class=\"data row14 col0\" >Naive Bayes</td>\n",
       "                        <td id=\"T_a2e6670c_9321_11eb_b52c_acde48001122row14_col1\" class=\"data row14 col1\" >0.4682</td>\n",
       "                        <td id=\"T_a2e6670c_9321_11eb_b52c_acde48001122row14_col2\" class=\"data row14 col2\" >0.5009</td>\n",
       "                        <td id=\"T_a2e6670c_9321_11eb_b52c_acde48001122row14_col3\" class=\"data row14 col3\" >0.5569</td>\n",
       "                        <td id=\"T_a2e6670c_9321_11eb_b52c_acde48001122row14_col4\" class=\"data row14 col4\" >0.2397</td>\n",
       "                        <td id=\"T_a2e6670c_9321_11eb_b52c_acde48001122row14_col5\" class=\"data row14 col5\" >0.3352</td>\n",
       "                        <td id=\"T_a2e6670c_9321_11eb_b52c_acde48001122row14_col6\" class=\"data row14 col6\" >-0.0020</td>\n",
       "                        <td id=\"T_a2e6670c_9321_11eb_b52c_acde48001122row14_col7\" class=\"data row14 col7\" >-0.0025</td>\n",
       "                        <td id=\"T_a2e6670c_9321_11eb_b52c_acde48001122row14_col8\" class=\"data row14 col8\" >0.0062</td>\n",
       "            </tr>\n",
       "    </tbody></table>"
      ],
      "text/plain": [
       "<pandas.io.formats.style.Styler at 0x7fdd3a69e7f0>"
      ]
     },
     "metadata": {},
     "output_type": "display_data"
    },
    {
     "data": {
      "text/plain": [
       "XGBClassifier(base_score=0.5, booster='gbtree', colsample_bylevel=1,\n",
       "              colsample_bynode=1, colsample_bytree=1, gamma=0,\n",
       "              learning_rate=0.1, max_delta_step=0, max_depth=3,\n",
       "              min_child_weight=1, missing=None, n_estimators=100, n_jobs=-1,\n",
       "              nthread=None, objective='binary:logistic', random_state=123,\n",
       "              reg_alpha=0, reg_lambda=1, scale_pos_weight=1, seed=None,\n",
       "              silent=None, subsample=1, verbosity=0)"
      ]
     },
     "execution_count": 31,
     "metadata": {},
     "output_type": "execute_result"
    }
   ],
   "source": [
    "compare_models()"
   ]
  },
  {
   "cell_type": "markdown",
   "metadata": {},
   "source": [
    "Both cases gave very similar results. Light Gradient Boosting offered the highest AUC value in both scenarios. SMOTE will not be included in our final model. "
   ]
  },
  {
   "cell_type": "markdown",
   "metadata": {},
   "source": [
    "## Scikit-learn"
   ]
  },
  {
   "cell_type": "code",
   "execution_count": 32,
   "metadata": {
    "ExecuteTime": {
     "end_time": "2021-04-01T19:37:04.175022Z",
     "start_time": "2021-04-01T19:37:04.169974Z"
    }
   },
   "outputs": [],
   "source": [
    "from xgboost import XGBClassifier\n",
    "from sklearn.ensemble import GradientBoostingClassifier\n",
    "import sklearn.metrics as metrics\n",
    "from sklearn.model_selection import train_test_split, GridSearchCV\n",
    "from sklearn.metrics import accuracy_score, classification_report"
   ]
  },
  {
   "cell_type": "code",
   "execution_count": 33,
   "metadata": {
    "ExecuteTime": {
     "end_time": "2021-04-01T19:37:04.186786Z",
     "start_time": "2021-04-01T19:37:04.177778Z"
    }
   },
   "outputs": [],
   "source": [
    "def model_visuals (model, X_test, y_test):\n",
    "    '''Plots the confusion matrix and ROC-AUC plot'''\n",
    "    fig, axes = plt.subplots(figsize = (12, 6), ncols = 2)  # confusion matrix\n",
    "    metrics.plot_confusion_matrix(model, X_test, y_test, normalize = 'true', \n",
    "                          cmap = 'Blues', ax = axes[0])\n",
    "    axes[0].set_title('Confusion Matrix');\n",
    "    # ROC-AUC Curve\n",
    "    roc_auc = metrics.plot_roc_curve(model, X_test, y_test,ax=axes[1])\n",
    "    axes[1].plot([0,1],[0,1],ls=':')\n",
    "    axes[1].set_title('ROC-AUC Plot')\n",
    "    axes[1].grid()\n",
    "    axes[1].legend()\n",
    "    fig.tight_layout()\n",
    "    plt.show()"
   ]
  },
  {
   "cell_type": "code",
   "execution_count": 34,
   "metadata": {
    "ExecuteTime": {
     "end_time": "2021-04-01T19:37:04.206523Z",
     "start_time": "2021-04-01T19:37:04.189229Z"
    }
   },
   "outputs": [],
   "source": [
    "X_train, X_test, y_train, y_test = train_test_split(traindf.drop(columns=['Response'],axis=1),traindf['Response'],test_size=0.2, random_state=42)"
   ]
  },
  {
   "cell_type": "markdown",
   "metadata": {},
   "source": [
    "### GridSearchCV"
   ]
  },
  {
   "cell_type": "code",
   "execution_count": 35,
   "metadata": {
    "ExecuteTime": {
     "end_time": "2021-04-01T19:37:08.457327Z",
     "start_time": "2021-04-01T19:37:04.209152Z"
    }
   },
   "outputs": [
    {
     "data": {
      "text/plain": [
       "GradientBoostingClassifier(ccp_alpha=0.0, criterion='friedman_mse', init=None,\n",
       "                           learning_rate=0.1, loss='deviance', max_depth=3,\n",
       "                           max_features=None, max_leaf_nodes=None,\n",
       "                           min_impurity_decrease=0.0, min_impurity_split=None,\n",
       "                           min_samples_leaf=1, min_samples_split=2,\n",
       "                           min_weight_fraction_leaf=0.0, n_estimators=100,\n",
       "                           n_iter_no_change=None, presort='deprecated',\n",
       "                           random_state=42, subsample=1.0, tol=0.0001,\n",
       "                           validation_fraction=0.1, verbose=0,\n",
       "                           warm_start=False)"
      ]
     },
     "execution_count": 35,
     "metadata": {},
     "output_type": "execute_result"
    }
   ],
   "source": [
    "gbclf = GradientBoostingClassifier(random_state=42)\n",
    "gbclf.fit(X_train,y_train)"
   ]
  },
  {
   "cell_type": "code",
   "execution_count": 36,
   "metadata": {
    "ExecuteTime": {
     "end_time": "2021-04-01T19:37:08.462018Z",
     "start_time": "2021-04-01T19:37:08.459273Z"
    }
   },
   "outputs": [],
   "source": [
    "param_grid = {\n",
    "    'learning_rate': [0.1,0.2],\n",
    "    'max_depth': [6],\n",
    "    'subsample': [0.5,0.7,1],\n",
    "    'n_estimators': [100]\n",
    "}"
   ]
  },
  {
   "cell_type": "code",
   "execution_count": 37,
   "metadata": {
    "ExecuteTime": {
     "end_time": "2021-04-01T19:39:07.633738Z",
     "start_time": "2021-04-01T19:37:08.463769Z"
    }
   },
   "outputs": [
    {
     "name": "stdout",
     "output_type": "stream",
     "text": [
      "Grid search found the following optimal parameters: \n",
      "learning_rate: 0.1\n",
      "max_depth: 6\n",
      "n_estimators: 100\n",
      "subsample: 1\n",
      "\n",
      "Training Accuracy: 77.44%\n",
      "Validation Accuracy: 75.66%\n"
     ]
    }
   ],
   "source": [
    "grid_clf = GridSearchCV(gbclf,param_grid,scoring='roc_auc',cv=None,n_jobs=1)\n",
    "grid_clf.fit(X_train,y_train)\n",
    "\n",
    "best_parameters = grid_clf.best_params_\n",
    "\n",
    "print('Grid search found the following optimal parameters: ')\n",
    "for param_name in sorted(best_parameters.keys()):\n",
    "    print('%s: %r' % (param_name,best_parameters[param_name]))\n",
    "    \n",
    "training_preds = grid_clf.predict(X_train)\n",
    "test_preds = grid_clf.predict(X_test)\n",
    "training_accuracy = accuracy_score(y_train,training_preds)\n",
    "test_accuracy = accuracy_score(y_test,test_preds)\n",
    "\n",
    "print('')\n",
    "print('Training Accuracy: {:.4}%'.format(training_accuracy*100))\n",
    "print('Validation Accuracy: {:.4}%'.format(test_accuracy*100))"
   ]
  },
  {
   "cell_type": "markdown",
   "metadata": {},
   "source": [
    "Similar accuracy in the training and test sets suggests minimal under/over fitting."
   ]
  },
  {
   "cell_type": "markdown",
   "metadata": {},
   "source": [
    "# Final Model"
   ]
  },
  {
   "cell_type": "code",
   "execution_count": 38,
   "metadata": {
    "ExecuteTime": {
     "end_time": "2021-04-01T19:39:13.692634Z",
     "start_time": "2021-04-01T19:39:07.635597Z"
    }
   },
   "outputs": [],
   "source": [
    "gbclf = GradientBoostingClassifier(max_depth=6,learning_rate=0.1,n_estimators=100,subsample=1,random_state=42)\n",
    "gbclf.fit(X_train,y_train)\n",
    "# predict\n",
    "training_preds = gbclf.predict(X_train)\n",
    "test_preds = gbclf.predict(X_test)\n",
    "# accuracy\n",
    "training_accuracy = accuracy_score(y_train,training_preds)\n",
    "test_accuracy = accuracy_score(y_test,test_preds)"
   ]
  },
  {
   "cell_type": "code",
   "execution_count": 39,
   "metadata": {
    "ExecuteTime": {
     "end_time": "2021-04-01T19:39:14.097704Z",
     "start_time": "2021-04-01T19:39:13.694335Z"
    }
   },
   "outputs": [
    {
     "name": "stdout",
     "output_type": "stream",
     "text": [
      "              precision    recall  f1-score   support\n",
      "\n",
      "           0       0.76      0.99      0.86      7688\n",
      "           1       0.56      0.02      0.05      2489\n",
      "\n",
      "    accuracy                           0.76     10177\n",
      "   macro avg       0.66      0.51      0.45     10177\n",
      "weighted avg       0.71      0.76      0.66     10177\n",
      " \n",
      "\n",
      "\n"
     ]
    },
    {
     "data": {
      "image/png": "[encoded data removed]",
      "text/plain": [
       "<Figure size 864x432 with 3 Axes>"
      ]
     },
     "metadata": {
      "needs_background": "light"
     },
     "output_type": "display_data"
    }
   ],
   "source": [
    "print(classification_report(y_test, test_preds), '\\n\\n')\n",
    "model_visuals (gbclf, X_test, y_test) # class report / plots"
   ]
  },
  {
   "cell_type": "markdown",
   "metadata": {},
   "source": [
    "# Interpret Results\n",
    "## Feature Importance"
   ]
  },
  {
   "cell_type": "code",
   "execution_count": 40,
   "metadata": {
    "ExecuteTime": {
     "end_time": "2021-04-01T19:39:14.667144Z",
     "start_time": "2021-04-01T19:39:14.099374Z"
    }
   },
   "outputs": [
    {
     "data": {
      "image/png": "[encoded data removed]",
      "text/plain": [
       "<Figure size 1440x720 with 1 Axes>"
      ]
     },
     "metadata": {
      "needs_background": "light"
     },
     "output_type": "display_data"
    }
   ],
   "source": [
    "# Feature Importance\n",
    "X = traindf.drop(columns=['Response'],axis=1)\n",
    "clf_feature = pd.DataFrame({'Importance':gbclf.feature_importances_,'Column':X.columns})\n",
    "clf_feature = clf_feature.sort_values(by='Importance',ascending=False) \n",
    "clf_feature = clf_feature[:8] # top 8 features\n",
    "clf_feature.plot(kind='barh',x='Column',y='Importance',figsize=(20, 10))\n",
    "plt.title('Gradient Boosting Feature Importance \\n',fontsize=16)\n",
    "plt.savefig('featureimportance.jpg',dpi=200,bbox_inches='tight')\n",
    "plt.show()"
   ]
  },
  {
   "cell_type": "markdown",
   "metadata": {},
   "source": [
    "### Reco Policy Category"
   ]
  },
  {
   "cell_type": "code",
   "execution_count": 41,
   "metadata": {
    "ExecuteTime": {
     "end_time": "2021-04-01T19:39:15.393842Z",
     "start_time": "2021-04-01T19:39:14.669611Z"
    }
   },
   "outputs": [
    {
     "data": {
      "image/png": "[encoded data removed]",
      "text/plain": [
       "<Figure size 720x432 with 1 Axes>"
      ]
     },
     "metadata": {
      "needs_background": "light"
     },
     "output_type": "display_data"
    }
   ],
   "source": [
    "df['Reco_Policy_Cat'] = df['Reco_Policy_Cat'].astype('O')\n",
    "\n",
    "fig, ax = plt.subplots(figsize=(10,6))\n",
    "sns.countplot(data=df,x='Reco_Policy_Cat',hue='Response',palette='mako');\n",
    "fig.savefig('policycategoryxresponse.jpg',dpi=200,bbox_inches='tight')"
   ]
  },
  {
   "cell_type": "markdown",
   "metadata": {},
   "source": [
    "This graph may be misleading as each policy category caries a significantly different client count. Lets break down the top five categories based on positive over total responses. "
   ]
  },
  {
   "cell_type": "code",
   "execution_count": 42,
   "metadata": {
    "ExecuteTime": {
     "end_time": "2021-04-01T19:39:15.675375Z",
     "start_time": "2021-04-01T19:39:15.396182Z"
    }
   },
   "outputs": [
    {
     "data": {
      "image/png": "[encoded data removed]",
      "text/plain": [
       "<Figure size 720x432 with 1 Axes>"
      ]
     },
     "metadata": {
      "needs_background": "light"
     },
     "output_type": "display_data"
    }
   ],
   "source": [
    "RPC = df.groupby(['Reco_Policy_Cat','Response'])['Response'].count().unstack()\n",
    "RPC['PositiveRatio'] = RPC[1] / (RPC[1] + RPC[0])\n",
    "RPC = RPC.sort_values(by='PositiveRatio', ascending=False)[:5].reset_index()\n",
    "# RPC\n",
    "fig, ax = plt.subplots(figsize=(10,6))\n",
    "plt.title('Top 5 Reco Policy Categories', fontdict={'fontsize': 14})\n",
    "sns.barplot(data=RPC,x='Reco_Policy_Cat',y='PositiveRatio',palette='mako');\n",
    "fig.savefig('top5categoryxresponse.jpg',dpi=200,bbox_inches='tight')"
   ]
  },
  {
   "cell_type": "markdown",
   "metadata": {},
   "source": [
    "Reco Policy Category 15 is the clear front runner"
   ]
  },
  {
   "cell_type": "markdown",
   "metadata": {},
   "source": [
    "### Reco Policy Premium"
   ]
  },
  {
   "cell_type": "code",
   "execution_count": 43,
   "metadata": {
    "ExecuteTime": {
     "end_time": "2021-04-01T19:39:15.689013Z",
     "start_time": "2021-04-01T19:39:15.676942Z"
    }
   },
   "outputs": [],
   "source": [
    "# Binning Ages for Visualizations\n",
    "df['Premium(bin)'] = df['Reco_Policy_Premium'].apply(lambda x: '0-9999' if x < 10000\n",
    "                                                     else '10000-14999' if x < 15000 \n",
    "                                                     else '15000-19999' if x < 20000 \n",
    "                                                     else '20000-24999' if x < 25000 \n",
    "                                                     else '25000-29999' if x < 30000 \n",
    "                                                     else '30000+')"
   ]
  },
  {
   "cell_type": "code",
   "execution_count": 44,
   "metadata": {
    "ExecuteTime": {
     "end_time": "2021-04-01T19:39:15.867881Z",
     "start_time": "2021-04-01T19:39:15.690811Z"
    }
   },
   "outputs": [],
   "source": [
    "# dashboard analysis\n",
    "df.to_csv('jobathondashboard.csv')"
   ]
  },
  {
   "cell_type": "code",
   "execution_count": 45,
   "metadata": {
    "ExecuteTime": {
     "end_time": "2021-04-01T19:39:16.304111Z",
     "start_time": "2021-04-01T19:39:15.869460Z"
    }
   },
   "outputs": [
    {
     "data": {
      "image/png": "[encoded data removed]",
      "text/plain": [
       "<Figure size 720x432 with 1 Axes>"
      ]
     },
     "metadata": {
      "needs_background": "light"
     },
     "output_type": "display_data"
    }
   ],
   "source": [
    "df = df.sort_values(['Premium(bin)'], ascending=True)\n",
    "fig, ax = plt.subplots(figsize=(10,6))\n",
    "sns.countplot(data=df,x='Premium(bin)',hue='Response',palette='mako');\n",
    "fig.savefig('premiumbin.jpg',dpi=200,bbox_inches='tight')"
   ]
  },
  {
   "cell_type": "markdown",
   "metadata": {},
   "source": [
    "Lets confirm the positive to total response ratios before we make a recommendation. "
   ]
  },
  {
   "cell_type": "code",
   "execution_count": 46,
   "metadata": {
    "ExecuteTime": {
     "end_time": "2021-04-01T19:39:16.318649Z",
     "start_time": "2021-04-01T19:39:16.305600Z"
    }
   },
   "outputs": [
    {
     "data": {
      "text/html": [
       "<div>\n",
       "<style scoped>\n",
       "    .dataframe tbody tr th:only-of-type {\n",
       "        vertical-align: middle;\n",
       "    }\n",
       "\n",
       "    .dataframe tbody tr th {\n",
       "        vertical-align: top;\n",
       "    }\n",
       "\n",
       "    .dataframe thead th {\n",
       "        text-align: right;\n",
       "    }\n",
       "</style>\n",
       "<table border=\"1\" class=\"dataframe\">\n",
       "  <thead>\n",
       "    <tr style=\"text-align: right;\">\n",
       "      <th>Response</th>\n",
       "      <th>0</th>\n",
       "      <th>1</th>\n",
       "      <th>PositiveRatio</th>\n",
       "    </tr>\n",
       "    <tr>\n",
       "      <th>Premium(bin)</th>\n",
       "      <th></th>\n",
       "      <th></th>\n",
       "      <th></th>\n",
       "    </tr>\n",
       "  </thead>\n",
       "  <tbody>\n",
       "    <tr>\n",
       "      <th>25000-29999</th>\n",
       "      <td>1824</td>\n",
       "      <td>602</td>\n",
       "      <td>0.248145</td>\n",
       "    </tr>\n",
       "    <tr>\n",
       "      <th>15000-19999</th>\n",
       "      <td>8420</td>\n",
       "      <td>2733</td>\n",
       "      <td>0.245046</td>\n",
       "    </tr>\n",
       "    <tr>\n",
       "      <th>30000+</th>\n",
       "      <td>931</td>\n",
       "      <td>300</td>\n",
       "      <td>0.243704</td>\n",
       "    </tr>\n",
       "    <tr>\n",
       "      <th>20000-24999</th>\n",
       "      <td>4188</td>\n",
       "      <td>1333</td>\n",
       "      <td>0.241442</td>\n",
       "    </tr>\n",
       "    <tr>\n",
       "      <th>0-9999</th>\n",
       "      <td>11638</td>\n",
       "      <td>3642</td>\n",
       "      <td>0.238351</td>\n",
       "    </tr>\n",
       "    <tr>\n",
       "      <th>10000-14999</th>\n",
       "      <td>11672</td>\n",
       "      <td>3599</td>\n",
       "      <td>0.235675</td>\n",
       "    </tr>\n",
       "  </tbody>\n",
       "</table>\n",
       "</div>"
      ],
      "text/plain": [
       "Response          0     1  PositiveRatio\n",
       "Premium(bin)                            \n",
       "25000-29999    1824   602       0.248145\n",
       "15000-19999    8420  2733       0.245046\n",
       "30000+          931   300       0.243704\n",
       "20000-24999    4188  1333       0.241442\n",
       "0-9999        11638  3642       0.238351\n",
       "10000-14999   11672  3599       0.235675"
      ]
     },
     "execution_count": 46,
     "metadata": {},
     "output_type": "execute_result"
    }
   ],
   "source": [
    "PRE = df.groupby(['Premium(bin)','Response'])['Response'].count().unstack()\n",
    "PRE['PositiveRatio'] = PRE[1] / (PRE[1] + PRE[0])\n",
    "PRE = PRE.sort_values(by='PositiveRatio', ascending=False)\n",
    "PRE"
   ]
  },
  {
   "cell_type": "code",
   "execution_count": 47,
   "metadata": {
    "ExecuteTime": {
     "end_time": "2021-04-01T19:39:16.623164Z",
     "start_time": "2021-04-01T19:39:16.320596Z"
    }
   },
   "outputs": [
    {
     "data": {
      "image/png": "[encoded data removed]",
      "text/plain": [
       "<Figure size 720x432 with 1 Axes>"
      ]
     },
     "metadata": {
      "needs_background": "light"
     },
     "output_type": "display_data"
    }
   ],
   "source": [
    "PRE = PRE.reset_index()\n",
    "fig, ax = plt.subplots(figsize=(10,6))\n",
    "plt.title('Top 5 Premium Bins', fontdict={'fontsize': 16})\n",
    "sns.barplot(data=PRE,x='Premium(bin)',y='PositiveRatio',palette='mako');\n",
    "fig.savefig('top5premiumbin.jpg',dpi=200,bbox_inches='tight')"
   ]
  },
  {
   "cell_type": "markdown",
   "metadata": {
    "ExecuteTime": {
     "end_time": "2021-04-01T17:38:21.060526Z",
     "start_time": "2021-04-01T17:38:07.611Z"
    }
   },
   "source": [
    "In this case, most of the ratios are extremely close so the recommendation would be to focus on individuals who pay an annual premium between 15,000 and 19,999 as they convert at approximately the same rate as the front runner but represent a much larger group of clients. The high conversion along with the larger client volume will lead to higher profit. "
   ]
  },
  {
   "cell_type": "markdown",
   "metadata": {},
   "source": [
    "### City Code"
   ]
  },
  {
   "cell_type": "code",
   "execution_count": 48,
   "metadata": {
    "ExecuteTime": {
     "end_time": "2021-04-01T19:39:17.486251Z",
     "start_time": "2021-04-01T19:39:16.624911Z"
    }
   },
   "outputs": [
    {
     "data": {
      "image/png": "[encoded data removed]",
      "text/plain": [
       "<Figure size 1080x432 with 1 Axes>"
      ]
     },
     "metadata": {
      "needs_background": "light"
     },
     "output_type": "display_data"
    }
   ],
   "source": [
    "fig, ax = plt.subplots(figsize=(15,6))\n",
    "sns.countplot(data=df,x='City_Code',hue='Response',palette='mako');\n",
    "fig.savefig('citycode.jpg',dpi=200,bbox_inches='tight')"
   ]
  },
  {
   "cell_type": "code",
   "execution_count": 49,
   "metadata": {
    "ExecuteTime": {
     "end_time": "2021-04-01T19:39:17.504119Z",
     "start_time": "2021-04-01T19:39:17.488478Z"
    }
   },
   "outputs": [
    {
     "data": {
      "text/html": [
       "<div>\n",
       "<style scoped>\n",
       "    .dataframe tbody tr th:only-of-type {\n",
       "        vertical-align: middle;\n",
       "    }\n",
       "\n",
       "    .dataframe tbody tr th {\n",
       "        vertical-align: top;\n",
       "    }\n",
       "\n",
       "    .dataframe thead th {\n",
       "        text-align: right;\n",
       "    }\n",
       "</style>\n",
       "<table border=\"1\" class=\"dataframe\">\n",
       "  <thead>\n",
       "    <tr style=\"text-align: right;\">\n",
       "      <th>Response</th>\n",
       "      <th>0</th>\n",
       "      <th>1</th>\n",
       "      <th>PositiveRatio</th>\n",
       "    </tr>\n",
       "    <tr>\n",
       "      <th>City_Code</th>\n",
       "      <th></th>\n",
       "      <th></th>\n",
       "      <th></th>\n",
       "    </tr>\n",
       "  </thead>\n",
       "  <tbody>\n",
       "    <tr>\n",
       "      <th>C30</th>\n",
       "      <td>40</td>\n",
       "      <td>18</td>\n",
       "      <td>0.310345</td>\n",
       "    </tr>\n",
       "    <tr>\n",
       "      <th>C32</th>\n",
       "      <td>114</td>\n",
       "      <td>46</td>\n",
       "      <td>0.287500</td>\n",
       "    </tr>\n",
       "    <tr>\n",
       "      <th>C35</th>\n",
       "      <td>40</td>\n",
       "      <td>16</td>\n",
       "      <td>0.285714</td>\n",
       "    </tr>\n",
       "    <tr>\n",
       "      <th>C34</th>\n",
       "      <td>94</td>\n",
       "      <td>36</td>\n",
       "      <td>0.276923</td>\n",
       "    </tr>\n",
       "    <tr>\n",
       "      <th>C23</th>\n",
       "      <td>431</td>\n",
       "      <td>156</td>\n",
       "      <td>0.265758</td>\n",
       "    </tr>\n",
       "    <tr>\n",
       "      <th>C27</th>\n",
       "      <td>219</td>\n",
       "      <td>76</td>\n",
       "      <td>0.257627</td>\n",
       "    </tr>\n",
       "    <tr>\n",
       "      <th>C13</th>\n",
       "      <td>750</td>\n",
       "      <td>255</td>\n",
       "      <td>0.253731</td>\n",
       "    </tr>\n",
       "    <tr>\n",
       "      <th>C7</th>\n",
       "      <td>1426</td>\n",
       "      <td>484</td>\n",
       "      <td>0.253403</td>\n",
       "    </tr>\n",
       "    <tr>\n",
       "      <th>C33</th>\n",
       "      <td>215</td>\n",
       "      <td>71</td>\n",
       "      <td>0.248252</td>\n",
       "    </tr>\n",
       "    <tr>\n",
       "      <th>C1</th>\n",
       "      <td>6765</td>\n",
       "      <td>2208</td>\n",
       "      <td>0.246072</td>\n",
       "    </tr>\n",
       "    <tr>\n",
       "      <th>C2</th>\n",
       "      <td>5854</td>\n",
       "      <td>1893</td>\n",
       "      <td>0.244353</td>\n",
       "    </tr>\n",
       "  </tbody>\n",
       "</table>\n",
       "</div>"
      ],
      "text/plain": [
       "Response      0     1  PositiveRatio\n",
       "City_Code                           \n",
       "C30          40    18       0.310345\n",
       "C32         114    46       0.287500\n",
       "C35          40    16       0.285714\n",
       "C34          94    36       0.276923\n",
       "C23         431   156       0.265758\n",
       "C27         219    76       0.257627\n",
       "C13         750   255       0.253731\n",
       "C7         1426   484       0.253403\n",
       "C33         215    71       0.248252\n",
       "C1         6765  2208       0.246072\n",
       "C2         5854  1893       0.244353"
      ]
     },
     "execution_count": 49,
     "metadata": {},
     "output_type": "execute_result"
    }
   ],
   "source": [
    "CITY = df.groupby(['City_Code','Response'])['Response'].count().unstack()\n",
    "CITY['PositiveRatio'] = CITY[1] / (CITY[1] + CITY[0])\n",
    "CITY = CITY.sort_values(by='PositiveRatio', ascending=False)[:11]\n",
    "CITY"
   ]
  },
  {
   "cell_type": "code",
   "execution_count": 50,
   "metadata": {
    "ExecuteTime": {
     "end_time": "2021-04-01T19:39:17.879528Z",
     "start_time": "2021-04-01T19:39:17.506013Z"
    }
   },
   "outputs": [
    {
     "data": {
      "image/png": "[encoded data removed]",
      "text/plain": [
       "<Figure size 720x432 with 1 Axes>"
      ]
     },
     "metadata": {
      "needs_background": "light"
     },
     "output_type": "display_data"
    }
   ],
   "source": [
    "CITY = CITY.reset_index()\n",
    "fig, ax = plt.subplots(figsize=(10,6))\n",
    "plt.title('Top 11 City Categories', fontdict={'fontsize': 16})\n",
    "sns.barplot(data=CITY,x='City_Code',y='PositiveRatio',palette='mako');\n",
    "fig.savefig('top11citycode.jpg',dpi=200,bbox_inches='tight')"
   ]
  },
  {
   "cell_type": "markdown",
   "metadata": {},
   "source": [
    "In this particular case I would recommend focusing on the top 11 scoring positive ratios. Ranks 10 and 11 are exponentially larger in volume than the first 9 and have the potential to yield high ROI with positive to total ratios close to 25%. "
   ]
  },
  {
   "cell_type": "markdown",
   "metadata": {},
   "source": [
    "### Submission"
   ]
  },
  {
   "cell_type": "code",
   "execution_count": 51,
   "metadata": {
    "ExecuteTime": {
     "end_time": "2021-04-01T19:39:17.883885Z",
     "start_time": "2021-04-01T19:39:17.881385Z"
    }
   },
   "outputs": [],
   "source": [
    "features = testdf.columns\n",
    "target = ['Response']"
   ]
  },
  {
   "cell_type": "code",
   "execution_count": 52,
   "metadata": {
    "ExecuteTime": {
     "end_time": "2021-04-01T19:39:25.821242Z",
     "start_time": "2021-04-01T19:39:17.885400Z"
    }
   },
   "outputs": [],
   "source": [
    "# preparing submission\n",
    "gbclf.fit(traindf[features], traindf[target].values.ravel())\n",
    "predictions = gbclf.predict_proba(testdf[features])[:,1]\n",
    "submission = pd.DataFrame({'ID': testdf2['ID'],'Response': predictions})"
   ]
  },
  {
   "cell_type": "code",
   "execution_count": 53,
   "metadata": {
    "ExecuteTime": {
     "end_time": "2021-04-01T19:39:25.830436Z",
     "start_time": "2021-04-01T19:39:25.822867Z"
    }
   },
   "outputs": [
    {
     "data": {
      "text/plain": [
       "count    21805.000000\n",
       "mean         0.233602\n",
       "std          0.089300\n",
       "min          0.006746\n",
       "25%          0.176038\n",
       "50%          0.232972\n",
       "75%          0.287697\n",
       "max          0.825420\n",
       "Name: Response, dtype: float64"
      ]
     },
     "execution_count": 53,
     "metadata": {},
     "output_type": "execute_result"
    }
   ],
   "source": [
    "submission['Response'].describe()"
   ]
  },
  {
   "cell_type": "code",
   "execution_count": 54,
   "metadata": {
    "ExecuteTime": {
     "end_time": "2021-04-01T19:39:25.840931Z",
     "start_time": "2021-04-01T19:39:25.832082Z"
    }
   },
   "outputs": [],
   "source": [
    "submission['Response'] = submission['Response'].apply(lambda x: 0 if x < 0.3 else 1)"
   ]
  },
  {
   "cell_type": "markdown",
   "metadata": {},
   "source": [
    "In following the theme of the test and train datasets as well as presenting a client list of a respectable size, the cut off for positive response predictions will be 30%. "
   ]
  },
  {
   "cell_type": "code",
   "execution_count": 55,
   "metadata": {
    "ExecuteTime": {
     "end_time": "2021-04-01T19:39:25.868111Z",
     "start_time": "2021-04-01T19:39:25.842475Z"
    }
   },
   "outputs": [],
   "source": [
    "submission.to_csv('submission.csv', index=False)"
   ]
  },
  {
   "cell_type": "markdown",
   "metadata": {},
   "source": [
    "## Recommendations\n",
    "The model's top 3 features were Reco Policy Category, Reco Policy Premium and City Code. Within those three categories, subcategories yielded the highest positive to total response ratios. It is recommended to focus on clients in/with:\n",
    "\n",
    "City Codes: C1, C2, C13, C23\n",
    "Reco Policy Categories: 15, 22\n",
    "Reco Policy Premiums between: 15,000 & 19,000.\n",
    "\n",
    "#### Limitations\n",
    "The project was limited by the anonymity of the data. Specifically the geographic data that could have been used for additional feature engineering leading to higher scores.\n",
    "\n",
    "#### Future Work\n",
    "Future models can be created using more complicated feature engineering and analysis such as clustering of the geographic features. For the purposes of this project, doing so would have complicated the output and made it difficult to implement within a real workplace."
   ]
  },
  {
   "cell_type": "markdown",
   "metadata": {},
   "source": [
    "For any additional questions, please reach out via email at santana2.miguel@gmail.com, on [LinkedIn](https://www.linkedin.com/in/miguel-angel-santana-ii-mba-51467276/) or on [Twitter.](https://twitter.com/msantana_ds)"
   ]
  },
  {
   "cell_type": "code",
   "execution_count": null,
   "metadata": {},
   "outputs": [],
   "source": []
  }
 ],
 "metadata": {
  "kernelspec": {
   "display_name": "Python [conda env:learn-env] *",
   "language": "python",
   "name": "conda-env-learn-env-py"
  },
  "language_info": {
   "codemirror_mode": {
    "name": "ipython",
    "version": 3
   },
   "file_extension": ".py",
   "mimetype": "text/x-python",
   "name": "python",
   "nbconvert_exporter": "python",
   "pygments_lexer": "ipython3",
   "version": "3.6.9"
  },
  "toc": {
   "base_numbering": 1,
   "nav_menu": {},
   "number_sections": true,
   "sideBar": true,
   "skip_h1_title": false,
   "title_cell": "Table of Contents",
   "title_sidebar": "Contents",
   "toc_cell": false,
   "toc_position": {
    "height": "calc(100% - 180px)",
    "left": "10px",
    "top": "150px",
    "width": "165px"
   },
   "toc_section_display": true,
   "toc_window_display": true
  }
 },
 "nbformat": 4,
 "nbformat_minor": 2
}
