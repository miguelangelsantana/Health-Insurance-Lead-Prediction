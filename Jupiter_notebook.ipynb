{
 "cells": [
  {
   "cell_type": "markdown",
   "metadata": {},
   "source": [
    "# Health Insurance | Job-A-Thon"
   ]
  },
  {
   "cell_type": "markdown",
   "metadata": {},
   "source": [
    "# plan\n",
    "\n",
    "run pycaret first, then go to next two using scikit learn, then neural net"
   ]
  },
  {
   "cell_type": "code",
   "execution_count": 1,
   "metadata": {
    "ExecuteTime": {
     "end_time": "2021-03-12T01:12:42.784192Z",
     "start_time": "2021-03-12T01:12:42.013580Z"
    }
   },
   "outputs": [],
   "source": [
    "import pandas as pd\n",
    "import matplotlib.pyplot as plt\n",
    "import seaborn as sns\n",
    "pd.set_option('display.max_columns',50)"
   ]
  },
  {
   "cell_type": "code",
   "execution_count": 2,
   "metadata": {
    "ExecuteTime": {
     "end_time": "2021-03-12T01:12:42.788802Z",
     "start_time": "2021-03-12T01:12:42.785949Z"
    }
   },
   "outputs": [],
   "source": [
    "import warnings\n",
    "warnings.filterwarnings('ignore')"
   ]
  },
  {
   "cell_type": "code",
   "execution_count": 3,
   "metadata": {
    "ExecuteTime": {
     "end_time": "2021-03-12T01:12:42.792854Z",
     "start_time": "2021-03-12T01:12:42.791042Z"
    }
   },
   "outputs": [],
   "source": [
    "# df = df[df['Reco_Insurance_Type']=='Individual']\n",
    "# df.drop(['ID','Region_Code','Reco_Insurance_Type','Lower_Age','Is_Spouse'],axis=1,inplace=True)"
   ]
  },
  {
   "cell_type": "code",
   "execution_count": 4,
   "metadata": {
    "ExecuteTime": {
     "end_time": "2021-03-12T01:12:42.856220Z",
     "start_time": "2021-03-12T01:12:42.794829Z"
    }
   },
   "outputs": [],
   "source": [
    "df = pd.read_csv('train.csv')"
   ]
  },
  {
   "cell_type": "code",
   "execution_count": 5,
   "metadata": {
    "ExecuteTime": {
     "end_time": "2021-03-12T01:12:42.864154Z",
     "start_time": "2021-03-12T01:12:42.857804Z"
    }
   },
   "outputs": [],
   "source": [
    "df.drop(['ID','Region_Code'],axis=1,inplace=True)"
   ]
  },
  {
   "cell_type": "code",
   "execution_count": 6,
   "metadata": {
    "ExecuteTime": {
     "end_time": "2021-03-12T01:12:42.924250Z",
     "start_time": "2021-03-12T01:12:42.865736Z"
    }
   },
   "outputs": [],
   "source": [
    "vals = {'Rented':1,'Owned':2,'Individual':1,'Joint':2,'No':0,'Yes':1}\n",
    "cols = ['Accomodation_Type','Reco_Insurance_Type','Is_Spouse']\n",
    "\n",
    "for col in cols:\n",
    "    df[col] = df[col].replace(vals)"
   ]
  },
  {
   "cell_type": "code",
   "execution_count": 7,
   "metadata": {
    "ExecuteTime": {
     "end_time": "2021-03-12T01:12:42.931203Z",
     "start_time": "2021-03-12T01:12:42.925909Z"
    }
   },
   "outputs": [],
   "source": [
    "df['Holding_Policy_Duration'] = df['Holding_Policy_Duration'].replace('14+',15)"
   ]
  },
  {
   "cell_type": "markdown",
   "metadata": {},
   "source": [
    "#### fill nulls"
   ]
  },
  {
   "cell_type": "code",
   "execution_count": 8,
   "metadata": {
    "ExecuteTime": {
     "end_time": "2021-03-12T01:12:42.940200Z",
     "start_time": "2021-03-12T01:12:42.934194Z"
    }
   },
   "outputs": [],
   "source": [
    "# duration actual zero\n",
    "# policy type zero for non existant even though itll be a category\n",
    "cats = ['Holding_Policy_Duration', 'Holding_Policy_Type']\n",
    "for cat in cats:\n",
    "    df[cat] = df[cat].fillna(0)"
   ]
  },
  {
   "cell_type": "markdown",
   "metadata": {},
   "source": [
    "#### feature type conversions"
   ]
  },
  {
   "cell_type": "code",
   "execution_count": 9,
   "metadata": {
    "ExecuteTime": {
     "end_time": "2021-03-12T01:12:42.949095Z",
     "start_time": "2021-03-12T01:12:42.942305Z"
    }
   },
   "outputs": [],
   "source": [
    "# convert to numerical \n",
    "df['Holding_Policy_Duration'] = df['Holding_Policy_Duration'].astype(float).astype(int)\n",
    "df['Reco_Policy_Premium'] = df['Reco_Policy_Premium'].astype(int)"
   ]
  },
  {
   "cell_type": "code",
   "execution_count": 10,
   "metadata": {
    "ExecuteTime": {
     "end_time": "2021-03-12T01:12:42.955569Z",
     "start_time": "2021-03-12T01:12:42.950515Z"
    }
   },
   "outputs": [],
   "source": [
    "# convert to category\n",
    "df['Holding_Policy_Type'] = df['Holding_Policy_Type'].astype('O')\n",
    "df['Reco_Policy_Cat'] = df['Reco_Policy_Cat'].astype('O')"
   ]
  },
  {
   "cell_type": "code",
   "execution_count": 11,
   "metadata": {
    "ExecuteTime": {
     "end_time": "2021-03-12T01:12:42.960045Z",
     "start_time": "2021-03-12T01:12:42.957008Z"
    }
   },
   "outputs": [],
   "source": [
    "# separate city for dummy variables\n",
    "citydf = df['City_Code']\n",
    "# citydf = pd.Dataframe(df['City_Code'])\n",
    "city = citydf.to_frame()"
   ]
  },
  {
   "cell_type": "code",
   "execution_count": 12,
   "metadata": {
    "ExecuteTime": {
     "end_time": "2021-03-12T01:12:42.971740Z",
     "start_time": "2021-03-12T01:12:42.961591Z"
    }
   },
   "outputs": [],
   "source": [
    "# drop city to do variable conversion then add back in\n",
    "df.drop(['City_Code'],axis=1,inplace=True)"
   ]
  },
  {
   "cell_type": "code",
   "execution_count": 13,
   "metadata": {
    "ExecuteTime": {
     "end_time": "2021-03-12T01:12:42.975961Z",
     "start_time": "2021-03-12T01:12:42.973054Z"
    }
   },
   "outputs": [],
   "source": [
    "df2 = df.copy()"
   ]
  },
  {
   "cell_type": "markdown",
   "metadata": {
    "ExecuteTime": {
     "end_time": "2021-03-12T01:00:37.351342Z",
     "start_time": "2021-03-12T01:00:37.340108Z"
    }
   },
   "source": [
    "#### variable conversion / premium"
   ]
  },
  {
   "cell_type": "code",
   "execution_count": 14,
   "metadata": {
    "ExecuteTime": {
     "end_time": "2021-03-12T01:12:42.980209Z",
     "start_time": "2021-03-12T01:12:42.977395Z"
    }
   },
   "outputs": [],
   "source": [
    "# let's capture the categorical variables in a list\n",
    "cat_vars = [var for var in df.columns if df[var].dtype == 'O']"
   ]
  },
  {
   "cell_type": "code",
   "execution_count": 15,
   "metadata": {
    "ExecuteTime": {
     "end_time": "2021-03-12T01:12:42.985017Z",
     "start_time": "2021-03-12T01:12:42.981782Z"
    }
   },
   "outputs": [],
   "source": [
    "def replace_categories(df, var, target):\n",
    "\n",
    "    # order the categories in a variable from that with the lowest\n",
    "    # to that with the highest\n",
    "    ordered_labels = df.groupby([var])[target].mean().sort_values().index\n",
    "\n",
    "    # create a dictionary of ordered categories to integer values\n",
    "    ordinal_label = {k: i for i, k in enumerate(ordered_labels, 0)}\n",
    "\n",
    "    # use the dictionary to replace the categorical strings by integers\n",
    "    df[var] = df[var].map(ordinal_label)"
   ]
  },
  {
   "cell_type": "code",
   "execution_count": 16,
   "metadata": {
    "ExecuteTime": {
     "end_time": "2021-03-12T01:12:43.014021Z",
     "start_time": "2021-03-12T01:12:42.986676Z"
    }
   },
   "outputs": [],
   "source": [
    "for var in cat_vars:\n",
    "    replace_categories(df, var, 'Reco_Policy_Premium')"
   ]
  },
  {
   "cell_type": "code",
   "execution_count": 17,
   "metadata": {
    "ExecuteTime": {
     "end_time": "2021-03-12T01:12:43.018561Z",
     "start_time": "2021-03-12T01:12:43.015524Z"
    }
   },
   "outputs": [],
   "source": [
    "# df['Health Indicator'].describe()\n",
    "df['Health Indicator'] = df['Health Indicator'].fillna(2)"
   ]
  },
  {
   "cell_type": "code",
   "execution_count": 18,
   "metadata": {
    "ExecuteTime": {
     "end_time": "2021-03-12T01:12:43.022926Z",
     "start_time": "2021-03-12T01:12:43.020013Z"
    }
   },
   "outputs": [],
   "source": [
    "df['Health Indicator'] = df['Health Indicator'].astype(int)"
   ]
  },
  {
   "cell_type": "markdown",
   "metadata": {
    "ExecuteTime": {
     "end_time": "2021-03-12T01:07:14.742426Z",
     "start_time": "2021-03-12T01:07:14.730866Z"
    }
   },
   "source": [
    "#### join tables"
   ]
  },
  {
   "cell_type": "code",
   "execution_count": 19,
   "metadata": {
    "ExecuteTime": {
     "end_time": "2021-03-12T01:12:43.035216Z",
     "start_time": "2021-03-12T01:12:43.024307Z"
    }
   },
   "outputs": [],
   "source": [
    "data = pd.concat([city,df],axis=1)"
   ]
  },
  {
   "cell_type": "markdown",
   "metadata": {},
   "source": [
    "#### one hot encode"
   ]
  },
  {
   "cell_type": "code",
   "execution_count": 20,
   "metadata": {
    "ExecuteTime": {
     "end_time": "2021-03-12T01:12:43.052522Z",
     "start_time": "2021-03-12T01:12:43.036822Z"
    }
   },
   "outputs": [],
   "source": [
    "# One Hot Encode\n",
    "data = pd.get_dummies(data,drop_first=True)"
   ]
  },
  {
   "cell_type": "code",
   "execution_count": 24,
   "metadata": {
    "ExecuteTime": {
     "end_time": "2021-03-12T01:20:06.351906Z",
     "start_time": "2021-03-12T01:20:06.308442Z"
    }
   },
   "outputs": [],
   "source": [
    "# Converting uint8 datatypes back to categorical variables \n",
    "for cat_cols in data.select_dtypes('uint8').columns:\n",
    "    data[cat_cols] = data[cat_cols].astype('category')"
   ]
  },
  {
   "cell_type": "markdown",
   "metadata": {},
   "source": [
    "#### Test-Train Split | Standardize"
   ]
  },
  {
   "cell_type": "code",
   "execution_count": 28,
   "metadata": {
    "ExecuteTime": {
     "end_time": "2021-03-12T01:22:03.285533Z",
     "start_time": "2021-03-12T01:22:03.276673Z"
    }
   },
   "outputs": [],
   "source": [
    "df = data.copy()"
   ]
  },
  {
   "cell_type": "code",
   "execution_count": 30,
   "metadata": {
    "ExecuteTime": {
     "end_time": "2021-03-12T01:22:30.396476Z",
     "start_time": "2021-03-12T01:22:30.389863Z"
    }
   },
   "outputs": [],
   "source": [
    "# Identify X, y\n",
    "y = df['Response']\n",
    "X = df.drop(['Response'], axis=1)"
   ]
  },
  {
   "cell_type": "code",
   "execution_count": 32,
   "metadata": {
    "ExecuteTime": {
     "end_time": "2021-03-12T01:24:02.376473Z",
     "start_time": "2021-03-12T01:24:01.920769Z"
    }
   },
   "outputs": [],
   "source": [
    "# Gradient Boosting Classifier\n",
    "from sklearn.ensemble import GradientBoostingClassifier\n",
    "import sklearn.metrics as metrics\n",
    "from sklearn.model_selection import train_test_split\n",
    "from sklearn.metrics import confusion_matrix, accuracy_score \n",
    "from sklearn import preprocessing\n",
    "from sklearn.metrics import classification_report\n",
    "from sklearn.metrics import f1_score\n",
    "from sklearn.preprocessing import StandardScaler"
   ]
  },
  {
   "cell_type": "code",
   "execution_count": 38,
   "metadata": {
    "ExecuteTime": {
     "end_time": "2021-03-12T01:39:29.375093Z",
     "start_time": "2021-03-12T01:39:29.368825Z"
    }
   },
   "outputs": [],
   "source": [
    "# Machine Learning\n",
    "from sklearn.linear_model import LogisticRegression\n",
    "from sklearn.svm import SVC, LinearSVC\n",
    "from sklearn.ensemble import RandomForestClassifier\n",
    "from sklearn.neighbors import KNeighborsClassifier\n",
    "from sklearn.naive_bayes import GaussianNB\n",
    "from sklearn.tree import DecisionTreeClassifier\n",
    "from sklearn.model_selection import GridSearchCV\n",
    "from sklearn.ensemble import AdaBoostClassifier"
   ]
  },
  {
   "cell_type": "code",
   "execution_count": 33,
   "metadata": {
    "ExecuteTime": {
     "end_time": "2021-03-12T01:24:04.671331Z",
     "start_time": "2021-03-12T01:24:04.665574Z"
    }
   },
   "outputs": [],
   "source": [
    "def model_visuals (model, X_test, y_test):\n",
    "    '''Plots the confusion matrix and ROC-AUC plot'''\n",
    "    fig, axes = plt.subplots(figsize = (12, 6), ncols = 2)  # confusion matrix\n",
    "    metrics.plot_confusion_matrix(model, X_test, y_test, normalize = 'true', \n",
    "                          cmap = 'Blues', ax = axes[0])\n",
    "    axes[0].set_title('Confusion Matrix');\n",
    "    # ROC-AUC Curve\n",
    "    roc_auc = metrics.plot_roc_curve(model, X_test, y_test,ax=axes[1])\n",
    "    axes[1].plot([0,1],[0,1],ls=':')\n",
    "    axes[1].set_title('ROC-AUC Plot')\n",
    "    axes[1].grid()\n",
    "    axes[1].legend()\n",
    "    fig.tight_layout()\n",
    "    plt.show()"
   ]
  },
  {
   "cell_type": "code",
   "execution_count": 34,
   "metadata": {
    "ExecuteTime": {
     "end_time": "2021-03-12T01:24:07.330548Z",
     "start_time": "2021-03-12T01:24:07.310324Z"
    }
   },
   "outputs": [],
   "source": [
    "# Test/Train split\n",
    "X_train, X_test, y_train, y_test = train_test_split(X, y, test_size=0.2, random_state=101)"
   ]
  },
  {
   "cell_type": "code",
   "execution_count": 35,
   "metadata": {
    "ExecuteTime": {
     "end_time": "2021-03-12T01:24:29.836211Z",
     "start_time": "2021-03-12T01:24:29.742619Z"
    }
   },
   "outputs": [],
   "source": [
    "# Standardize the data\n",
    "scaler = StandardScaler() # transform \"X\" features\n",
    "X_train = scaler.fit_transform(X_train)\n",
    "X_test = scaler.transform(X_test)"
   ]
  },
  {
   "cell_type": "code",
   "execution_count": 39,
   "metadata": {
    "ExecuteTime": {
     "end_time": "2021-03-12T01:39:43.356397Z",
     "start_time": "2021-03-12T01:39:39.832282Z"
    }
   },
   "outputs": [
    {
     "name": "stdout",
     "output_type": "stream",
     "text": [
      "Accuracy Percentage 76.59 \n",
      "\n",
      "              precision    recall  f1-score   support\n",
      "\n",
      "           0       0.77      1.00      0.87      7794\n",
      "           1       0.54      0.00      0.01      2383\n",
      "\n",
      "    accuracy                           0.77     10177\n",
      "   macro avg       0.65      0.50      0.44     10177\n",
      "weighted avg       0.71      0.77      0.67     10177\n",
      " \n",
      "\n",
      "\n"
     ]
    }
   ],
   "source": [
    "gb_clf = GradientBoostingClassifier()\n",
    "gb_clf.fit(X_train, y_train) # fit model\n",
    "gb_prediction = gb_clf.predict(X_test)\n",
    "gbclf_score = round(accuracy_score(y_test,gb_prediction)*100,2)\n",
    "print('Accuracy Percentage', gbclf_score, '\\n')\n",
    "print(classification_report(y_test, gb_prediction), '\\n\\n')\n",
    "# model_visuals (gb_clf, X_test, y_test) # class report / plots"
   ]
  },
  {
   "cell_type": "code",
   "execution_count": 40,
   "metadata": {
    "ExecuteTime": {
     "end_time": "2021-03-12T01:40:51.813149Z",
     "start_time": "2021-03-12T01:40:51.708826Z"
    }
   },
   "outputs": [
    {
     "name": "stdout",
     "output_type": "stream",
     "text": [
      "Accuracy Percentage 51.93 \n",
      "\n",
      "              precision    recall  f1-score   support\n",
      "\n",
      "           0       0.79      0.51      0.62      7794\n",
      "           1       0.26      0.55      0.35      2383\n",
      "\n",
      "    accuracy                           0.52     10177\n",
      "   macro avg       0.52      0.53      0.48     10177\n",
      "weighted avg       0.66      0.52      0.56     10177\n",
      " \n",
      "\n",
      "\n"
     ]
    }
   ],
   "source": [
    "logreg_clf = LogisticRegression(class_weight = 'balanced') # Logistic Regression\n",
    "logreg_clf.fit(X_train, y_train) # fit model\n",
    "logreg_prediction = logreg_clf.predict(X_test)\n",
    "lrs = round(accuracy_score(y_test,logreg_prediction)*100,2)\n",
    "print('Accuracy Percentage', lrs, '\\n')\n",
    "print(classification_report(y_test,logreg_prediction), '\\n\\n')\n",
    "# model_visuals (logreg_clf, X_test, y_test) # class report / plots"
   ]
  },
  {
   "cell_type": "code",
   "execution_count": 41,
   "metadata": {
    "ExecuteTime": {
     "end_time": "2021-03-12T01:41:39.617713Z",
     "start_time": "2021-03-12T01:41:35.111780Z"
    }
   },
   "outputs": [
    {
     "name": "stdout",
     "output_type": "stream",
     "text": [
      "Accuracy Percentage 75.62 \n",
      "\n",
      "              precision    recall  f1-score   support\n",
      "\n",
      "           0       0.77      0.97      0.86      7794\n",
      "           1       0.35      0.05      0.09      2383\n",
      "\n",
      "    accuracy                           0.76     10177\n",
      "   macro avg       0.56      0.51      0.47     10177\n",
      "weighted avg       0.67      0.76      0.68     10177\n",
      " \n",
      "\n",
      "\n"
     ]
    }
   ],
   "source": [
    "ranfor_clf = RandomForestClassifier(class_weight = 'balanced') # Random Forest \n",
    "ranfor_clf.fit(X_train, y_train) # fit model\n",
    "ranfor_prediction = ranfor_clf.predict(X_test)\n",
    "random_forest_score = round(accuracy_score(y_test,ranfor_prediction)*100,2)\n",
    "print('Accuracy Percentage', random_forest_score, '\\n')\n",
    "print(classification_report(y_test,ranfor_prediction), '\\n\\n')\n",
    "# model_visuals (ranfor_clf, X_test, y_test) # class report / plots"
   ]
  },
  {
   "cell_type": "code",
   "execution_count": 42,
   "metadata": {
    "ExecuteTime": {
     "end_time": "2021-03-12T01:45:33.546269Z",
     "start_time": "2021-03-12T01:43:13.247513Z"
    }
   },
   "outputs": [
    {
     "name": "stdout",
     "output_type": "stream",
     "text": [
      "Accuracy Percentage 51.18 \n",
      "\n",
      "              precision    recall  f1-score   support\n",
      "\n",
      "           0       0.80      0.49      0.60      7794\n",
      "           1       0.26      0.60      0.36      2383\n",
      "\n",
      "    accuracy                           0.51     10177\n",
      "   macro avg       0.53      0.54      0.48     10177\n",
      "weighted avg       0.67      0.51      0.55     10177\n",
      " \n",
      "\n",
      "\n"
     ]
    }
   ],
   "source": [
    "svm_clf = SVC(class_weight = 'balanced') # Support Vector Machine\n",
    "svm_clf.fit(X_train, y_train) # fit model\n",
    "svm_prediction = svm_clf.predict(X_test)\n",
    "svm_score = round(accuracy_score(y_test,svm_prediction)*100,2)\n",
    "print('Accuracy Percentage', svm_score, '\\n')\n",
    "print(classification_report(y_test,svm_prediction), '\\n\\n')\n",
    "# model_visuals (svm_clf, X_test, y_test) # class report / plots"
   ]
  },
  {
   "cell_type": "code",
   "execution_count": 43,
   "metadata": {
    "ExecuteTime": {
     "end_time": "2021-03-12T01:46:34.419147Z",
     "start_time": "2021-03-12T01:46:14.307685Z"
    }
   },
   "outputs": [
    {
     "name": "stdout",
     "output_type": "stream",
     "text": [
      "Accuracy Percentage 71.36 \n",
      "\n",
      "              precision    recall  f1-score   support\n",
      "\n",
      "           0       0.77      0.90      0.83      7794\n",
      "           1       0.26      0.12      0.16      2383\n",
      "\n",
      "    accuracy                           0.71     10177\n",
      "   macro avg       0.51      0.51      0.49     10177\n",
      "weighted avg       0.65      0.71      0.67     10177\n",
      " \n",
      "\n",
      "\n"
     ]
    }
   ],
   "source": [
    "knn_clf = KNeighborsClassifier() # K-Nearest Neighbors\n",
    "knn_clf.fit(X_train, y_train) # fit model\n",
    "knn_prediction = knn_clf.predict(X_test)\n",
    "knn_score = round(accuracy_score(y_test,knn_prediction)*100,2)\n",
    "print('Accuracy Percentage', knn_score, '\\n')\n",
    "print(classification_report(y_test,knn_prediction), '\\n\\n')\n",
    "# model_visuals (knn_clf, X_test, y_test) # class report / plots"
   ]
  },
  {
   "cell_type": "code",
   "execution_count": 44,
   "metadata": {
    "ExecuteTime": {
     "end_time": "2021-03-12T01:47:08.056109Z",
     "start_time": "2021-03-12T01:47:07.984757Z"
    }
   },
   "outputs": [
    {
     "name": "stdout",
     "output_type": "stream",
     "text": [
      "Accuracy Percentage 69.1 \n",
      "\n",
      "              precision    recall  f1-score   support\n",
      "\n",
      "           0       0.77      0.86      0.81      7794\n",
      "           1       0.24      0.14      0.18      2383\n",
      "\n",
      "    accuracy                           0.69     10177\n",
      "   macro avg       0.50      0.50      0.49     10177\n",
      "weighted avg       0.64      0.69      0.66     10177\n",
      " \n",
      "\n",
      "\n"
     ]
    }
   ],
   "source": [
    "gaussian_clf = GaussianNB() # Guassian Naive Bayes\n",
    "gaussian_clf.fit(X_train, y_train) # fit model\n",
    "gaussian_prediction = gaussian_clf.predict(X_test)\n",
    "gaussian_score = round(accuracy_score(y_test,gaussian_prediction)*100,2)\n",
    "print('Accuracy Percentage', gaussian_score, '\\n')\n",
    "print(classification_report(y_test,gaussian_prediction), '\\n\\n')\n",
    "# model_visuals (gaussian_clf, X_test, y_test) # class report / plots"
   ]
  },
  {
   "cell_type": "code",
   "execution_count": 45,
   "metadata": {
    "ExecuteTime": {
     "end_time": "2021-03-12T01:48:49.719387Z",
     "start_time": "2021-03-12T01:48:49.394269Z"
    }
   },
   "outputs": [
    {
     "name": "stdout",
     "output_type": "stream",
     "text": [
      "Accuracy Percentage 66.15 \n",
      "\n",
      "              precision    recall  f1-score   support\n",
      "\n",
      "           0       0.78      0.78      0.78      7794\n",
      "           1       0.28      0.29      0.29      2383\n",
      "\n",
      "    accuracy                           0.66     10177\n",
      "   macro avg       0.53      0.53      0.53     10177\n",
      "weighted avg       0.66      0.66      0.66     10177\n",
      " \n",
      "\n",
      "\n"
     ]
    }
   ],
   "source": [
    "dectree_clf = DecisionTreeClassifier(class_weight = 'balanced') # Decision Tree \n",
    "dectree_clf.fit(X_train, y_train)  # fit model\n",
    "dectree_prediction = dectree_clf.predict(X_test)\n",
    "decision_tree_score = round(accuracy_score(y_test,dectree_prediction)*100,2)\n",
    "print('Accuracy Percentage', decision_tree_score, '\\n')\n",
    "print(classification_report(y_test,dectree_prediction), '\\n\\n')\n",
    "# model_visuals (dectree_clf, X_test, y_test) # class report / plots"
   ]
  },
  {
   "cell_type": "code",
   "execution_count": 46,
   "metadata": {
    "ExecuteTime": {
     "end_time": "2021-03-12T01:49:39.795057Z",
     "start_time": "2021-03-12T01:49:38.602909Z"
    }
   },
   "outputs": [
    {
     "name": "stdout",
     "output_type": "stream",
     "text": [
      "Accuracy Percentage 76.58 \n",
      "\n",
      "              precision    recall  f1-score   support\n",
      "\n",
      "           0       0.77      1.00      0.87      7794\n",
      "           1       0.00      0.00      0.00      2383\n",
      "\n",
      "    accuracy                           0.77     10177\n",
      "   macro avg       0.38      0.50      0.43     10177\n",
      "weighted avg       0.59      0.77      0.66     10177\n",
      " \n",
      "\n",
      "\n"
     ]
    }
   ],
   "source": [
    "adabst_clf = AdaBoostClassifier() # AdaBoost\n",
    "adabst_clf.fit(X_train, y_train) # fit model\n",
    "adabst_prediction = adabst_clf.predict(X_test)\n",
    "adabst_score = round(accuracy_score(y_test,adabst_prediction)*100,2)\n",
    "print('Accuracy Percentage', adabst_score, '\\n')\n",
    "print(classification_report(y_test,adabst_prediction), '\\n\\n')\n",
    "# model_visuals (adabst_clf, X_test, y_test) # class report / plots"
   ]
  },
  {
   "cell_type": "markdown",
   "metadata": {},
   "source": [
    "#### interpret models"
   ]
  },
  {
   "cell_type": "code",
   "execution_count": 47,
   "metadata": {
    "ExecuteTime": {
     "end_time": "2021-03-12T01:50:07.516312Z",
     "start_time": "2021-03-12T01:50:07.504509Z"
    }
   },
   "outputs": [
    {
     "data": {
      "text/html": [
       "<div>\n",
       "<style scoped>\n",
       "    .dataframe tbody tr th:only-of-type {\n",
       "        vertical-align: middle;\n",
       "    }\n",
       "\n",
       "    .dataframe tbody tr th {\n",
       "        vertical-align: top;\n",
       "    }\n",
       "\n",
       "    .dataframe thead th {\n",
       "        text-align: right;\n",
       "    }\n",
       "</style>\n",
       "<table border=\"1\" class=\"dataframe\">\n",
       "  <thead>\n",
       "    <tr style=\"text-align: right;\">\n",
       "      <th></th>\n",
       "      <th>Model</th>\n",
       "      <th>Score</th>\n",
       "    </tr>\n",
       "  </thead>\n",
       "  <tbody>\n",
       "    <tr>\n",
       "      <th>7</th>\n",
       "      <td>Gradient Boosting Classifier</td>\n",
       "      <td>76.59</td>\n",
       "    </tr>\n",
       "    <tr>\n",
       "      <th>6</th>\n",
       "      <td>AdaBoost Classifier</td>\n",
       "      <td>76.58</td>\n",
       "    </tr>\n",
       "    <tr>\n",
       "      <th>2</th>\n",
       "      <td>Random Forest</td>\n",
       "      <td>75.62</td>\n",
       "    </tr>\n",
       "    <tr>\n",
       "      <th>1</th>\n",
       "      <td>KNN</td>\n",
       "      <td>71.36</td>\n",
       "    </tr>\n",
       "    <tr>\n",
       "      <th>3</th>\n",
       "      <td>Gaussian Naive Bayes</td>\n",
       "      <td>69.10</td>\n",
       "    </tr>\n",
       "    <tr>\n",
       "      <th>5</th>\n",
       "      <td>Decision Tree</td>\n",
       "      <td>66.15</td>\n",
       "    </tr>\n",
       "    <tr>\n",
       "      <th>0</th>\n",
       "      <td>Logistic Regression</td>\n",
       "      <td>51.93</td>\n",
       "    </tr>\n",
       "    <tr>\n",
       "      <th>4</th>\n",
       "      <td>Support Vector Machine (SVC)</td>\n",
       "      <td>51.18</td>\n",
       "    </tr>\n",
       "  </tbody>\n",
       "</table>\n",
       "</div>"
      ],
      "text/plain": [
       "                          Model  Score\n",
       "7  Gradient Boosting Classifier  76.59\n",
       "6           AdaBoost Classifier  76.58\n",
       "2                 Random Forest  75.62\n",
       "1                           KNN  71.36\n",
       "3          Gaussian Naive Bayes  69.10\n",
       "5                 Decision Tree  66.15\n",
       "0           Logistic Regression  51.93\n",
       "4  Support Vector Machine (SVC)  51.18"
      ]
     },
     "execution_count": 47,
     "metadata": {},
     "output_type": "execute_result"
    }
   ],
   "source": [
    "# Dataframe of Results\n",
    "models = pd.DataFrame({\n",
    "    'Model': ['Logistic Regression',\n",
    "              'KNN', \n",
    "              'Random Forest', \n",
    "              'Gaussian Naive Bayes',\n",
    "              'Support Vector Machine (SVC)', \n",
    "              'Decision Tree', \n",
    "              'AdaBoost Classifier', \n",
    "              'Gradient Boosting Classifier',\n",
    "             ],\n",
    "    'Score': [lrs, \n",
    "              knn_score, \n",
    "              random_forest_score, \n",
    "              gaussian_score,\n",
    "              svm_score, \n",
    "              decision_tree_score,\n",
    "              adabst_score, \n",
    "              gbclf_score, \n",
    "             ]})\n",
    "\n",
    "models.sort_values(by='Score', ascending=False) # Sorting by score"
   ]
  },
  {
   "cell_type": "markdown",
   "metadata": {},
   "source": [
    "#### Class Imbalance"
   ]
  },
  {
   "cell_type": "markdown",
   "metadata": {
    "ExecuteTime": {
     "end_time": "2021-03-10T22:37:25.632959Z",
     "start_time": "2021-03-10T22:37:25.623427Z"
    }
   },
   "source": [
    "#### Pycaret"
   ]
  },
  {
   "cell_type": "code",
   "execution_count": 49,
   "metadata": {
    "ExecuteTime": {
     "end_time": "2021-03-12T01:54:47.784606Z",
     "start_time": "2021-03-12T01:54:47.780232Z"
    }
   },
   "outputs": [],
   "source": [
    "dataset = df.copy()"
   ]
  },
  {
   "cell_type": "code",
   "execution_count": 50,
   "metadata": {
    "ExecuteTime": {
     "end_time": "2021-03-12T01:54:50.506547Z",
     "start_time": "2021-03-12T01:54:49.884745Z"
    }
   },
   "outputs": [],
   "source": [
    "import pycaret\n",
    "import pycaret.preprocess as preprocess\n",
    "from pycaret.datasets import get_data\n",
    "from pycaret.classification import *\n",
    "import pycaret.preprocess as preprocess"
   ]
  },
  {
   "cell_type": "code",
   "execution_count": 51,
   "metadata": {
    "ExecuteTime": {
     "end_time": "2021-03-12T01:54:54.582626Z",
     "start_time": "2021-03-12T01:54:54.552974Z"
    }
   },
   "outputs": [
    {
     "name": "stdout",
     "output_type": "stream",
     "text": [
      "Data for Modeling: (40706, 46)\n",
      "Unseen Data For Predictions: (10176, 46)\n"
     ]
    }
   ],
   "source": [
    "data = dataset.sample(frac=0.80, random_state=786)\n",
    "data_unseen = dataset.drop(data.index).reset_index(drop=True)\n",
    "\n",
    "print('Data for Modeling: ' + str(data.shape))\n",
    "print('Unseen Data For Predictions: ' + str(data_unseen.shape))"
   ]
  },
  {
   "cell_type": "code",
   "execution_count": 53,
   "metadata": {
    "ExecuteTime": {
     "end_time": "2021-03-12T02:00:48.817728Z",
     "start_time": "2021-03-12T02:00:31.519736Z"
    }
   },
   "outputs": [
    {
     "name": "stdout",
     "output_type": "stream",
     "text": [
      "Setup Succesfully Completed!\n"
     ]
    },
    {
     "data": {
      "text/html": [
       "<style  type=\"text/css\" >\n",
       "</style><table id=\"T_c3ff5564_82d6_11eb_ad6d_acde48001122\" ><thead>    <tr>        <th class=\"blank level0\" ></th>        <th class=\"col_heading level0 col0\" >Description</th>        <th class=\"col_heading level0 col1\" >Value</th>    </tr></thead><tbody>\n",
       "                <tr>\n",
       "                        <th id=\"T_c3ff5564_82d6_11eb_ad6d_acde48001122level0_row0\" class=\"row_heading level0 row0\" >0</th>\n",
       "                        <td id=\"T_c3ff5564_82d6_11eb_ad6d_acde48001122row0_col0\" class=\"data row0 col0\" >session_id</td>\n",
       "                        <td id=\"T_c3ff5564_82d6_11eb_ad6d_acde48001122row0_col1\" class=\"data row0 col1\" >123</td>\n",
       "            </tr>\n",
       "            <tr>\n",
       "                        <th id=\"T_c3ff5564_82d6_11eb_ad6d_acde48001122level0_row1\" class=\"row_heading level0 row1\" >1</th>\n",
       "                        <td id=\"T_c3ff5564_82d6_11eb_ad6d_acde48001122row1_col0\" class=\"data row1 col0\" >Target Type</td>\n",
       "                        <td id=\"T_c3ff5564_82d6_11eb_ad6d_acde48001122row1_col1\" class=\"data row1 col1\" >Binary</td>\n",
       "            </tr>\n",
       "            <tr>\n",
       "                        <th id=\"T_c3ff5564_82d6_11eb_ad6d_acde48001122level0_row2\" class=\"row_heading level0 row2\" >2</th>\n",
       "                        <td id=\"T_c3ff5564_82d6_11eb_ad6d_acde48001122row2_col0\" class=\"data row2 col0\" >Label Encoded</td>\n",
       "                        <td id=\"T_c3ff5564_82d6_11eb_ad6d_acde48001122row2_col1\" class=\"data row2 col1\" >0: 0, 1: 1</td>\n",
       "            </tr>\n",
       "            <tr>\n",
       "                        <th id=\"T_c3ff5564_82d6_11eb_ad6d_acde48001122level0_row3\" class=\"row_heading level0 row3\" >3</th>\n",
       "                        <td id=\"T_c3ff5564_82d6_11eb_ad6d_acde48001122row3_col0\" class=\"data row3 col0\" >Original Data</td>\n",
       "                        <td id=\"T_c3ff5564_82d6_11eb_ad6d_acde48001122row3_col1\" class=\"data row3 col1\" >(40706, 46)</td>\n",
       "            </tr>\n",
       "            <tr>\n",
       "                        <th id=\"T_c3ff5564_82d6_11eb_ad6d_acde48001122level0_row4\" class=\"row_heading level0 row4\" >4</th>\n",
       "                        <td id=\"T_c3ff5564_82d6_11eb_ad6d_acde48001122row4_col0\" class=\"data row4 col0\" >Missing Values </td>\n",
       "                        <td id=\"T_c3ff5564_82d6_11eb_ad6d_acde48001122row4_col1\" class=\"data row4 col1\" >False</td>\n",
       "            </tr>\n",
       "            <tr>\n",
       "                        <th id=\"T_c3ff5564_82d6_11eb_ad6d_acde48001122level0_row5\" class=\"row_heading level0 row5\" >5</th>\n",
       "                        <td id=\"T_c3ff5564_82d6_11eb_ad6d_acde48001122row5_col0\" class=\"data row5 col0\" >Numeric Features </td>\n",
       "                        <td id=\"T_c3ff5564_82d6_11eb_ad6d_acde48001122row5_col1\" class=\"data row5 col1\" >10</td>\n",
       "            </tr>\n",
       "            <tr>\n",
       "                        <th id=\"T_c3ff5564_82d6_11eb_ad6d_acde48001122level0_row6\" class=\"row_heading level0 row6\" >6</th>\n",
       "                        <td id=\"T_c3ff5564_82d6_11eb_ad6d_acde48001122row6_col0\" class=\"data row6 col0\" >Categorical Features </td>\n",
       "                        <td id=\"T_c3ff5564_82d6_11eb_ad6d_acde48001122row6_col1\" class=\"data row6 col1\" >35</td>\n",
       "            </tr>\n",
       "            <tr>\n",
       "                        <th id=\"T_c3ff5564_82d6_11eb_ad6d_acde48001122level0_row7\" class=\"row_heading level0 row7\" >7</th>\n",
       "                        <td id=\"T_c3ff5564_82d6_11eb_ad6d_acde48001122row7_col0\" class=\"data row7 col0\" >Ordinal Features </td>\n",
       "                        <td id=\"T_c3ff5564_82d6_11eb_ad6d_acde48001122row7_col1\" class=\"data row7 col1\" >False</td>\n",
       "            </tr>\n",
       "            <tr>\n",
       "                        <th id=\"T_c3ff5564_82d6_11eb_ad6d_acde48001122level0_row8\" class=\"row_heading level0 row8\" >8</th>\n",
       "                        <td id=\"T_c3ff5564_82d6_11eb_ad6d_acde48001122row8_col0\" class=\"data row8 col0\" >High Cardinality Features </td>\n",
       "                        <td id=\"T_c3ff5564_82d6_11eb_ad6d_acde48001122row8_col1\" class=\"data row8 col1\" >False</td>\n",
       "            </tr>\n",
       "            <tr>\n",
       "                        <th id=\"T_c3ff5564_82d6_11eb_ad6d_acde48001122level0_row9\" class=\"row_heading level0 row9\" >9</th>\n",
       "                        <td id=\"T_c3ff5564_82d6_11eb_ad6d_acde48001122row9_col0\" class=\"data row9 col0\" >High Cardinality Method </td>\n",
       "                        <td id=\"T_c3ff5564_82d6_11eb_ad6d_acde48001122row9_col1\" class=\"data row9 col1\" >None</td>\n",
       "            </tr>\n",
       "            <tr>\n",
       "                        <th id=\"T_c3ff5564_82d6_11eb_ad6d_acde48001122level0_row10\" class=\"row_heading level0 row10\" >10</th>\n",
       "                        <td id=\"T_c3ff5564_82d6_11eb_ad6d_acde48001122row10_col0\" class=\"data row10 col0\" >Sampled Data</td>\n",
       "                        <td id=\"T_c3ff5564_82d6_11eb_ad6d_acde48001122row10_col1\" class=\"data row10 col1\" >(40706, 46)</td>\n",
       "            </tr>\n",
       "            <tr>\n",
       "                        <th id=\"T_c3ff5564_82d6_11eb_ad6d_acde48001122level0_row11\" class=\"row_heading level0 row11\" >11</th>\n",
       "                        <td id=\"T_c3ff5564_82d6_11eb_ad6d_acde48001122row11_col0\" class=\"data row11 col0\" >Transformed Train Set</td>\n",
       "                        <td id=\"T_c3ff5564_82d6_11eb_ad6d_acde48001122row11_col1\" class=\"data row11 col1\" >(28494, 80)</td>\n",
       "            </tr>\n",
       "            <tr>\n",
       "                        <th id=\"T_c3ff5564_82d6_11eb_ad6d_acde48001122level0_row12\" class=\"row_heading level0 row12\" >12</th>\n",
       "                        <td id=\"T_c3ff5564_82d6_11eb_ad6d_acde48001122row12_col0\" class=\"data row12 col0\" >Transformed Test Set</td>\n",
       "                        <td id=\"T_c3ff5564_82d6_11eb_ad6d_acde48001122row12_col1\" class=\"data row12 col1\" >(12212, 80)</td>\n",
       "            </tr>\n",
       "            <tr>\n",
       "                        <th id=\"T_c3ff5564_82d6_11eb_ad6d_acde48001122level0_row13\" class=\"row_heading level0 row13\" >13</th>\n",
       "                        <td id=\"T_c3ff5564_82d6_11eb_ad6d_acde48001122row13_col0\" class=\"data row13 col0\" >Numeric Imputer </td>\n",
       "                        <td id=\"T_c3ff5564_82d6_11eb_ad6d_acde48001122row13_col1\" class=\"data row13 col1\" >mean</td>\n",
       "            </tr>\n",
       "            <tr>\n",
       "                        <th id=\"T_c3ff5564_82d6_11eb_ad6d_acde48001122level0_row14\" class=\"row_heading level0 row14\" >14</th>\n",
       "                        <td id=\"T_c3ff5564_82d6_11eb_ad6d_acde48001122row14_col0\" class=\"data row14 col0\" >Categorical Imputer </td>\n",
       "                        <td id=\"T_c3ff5564_82d6_11eb_ad6d_acde48001122row14_col1\" class=\"data row14 col1\" >constant</td>\n",
       "            </tr>\n",
       "            <tr>\n",
       "                        <th id=\"T_c3ff5564_82d6_11eb_ad6d_acde48001122level0_row15\" class=\"row_heading level0 row15\" >15</th>\n",
       "                        <td id=\"T_c3ff5564_82d6_11eb_ad6d_acde48001122row15_col0\" class=\"data row15 col0\" >Normalize </td>\n",
       "                        <td id=\"T_c3ff5564_82d6_11eb_ad6d_acde48001122row15_col1\" class=\"data row15 col1\" >False</td>\n",
       "            </tr>\n",
       "            <tr>\n",
       "                        <th id=\"T_c3ff5564_82d6_11eb_ad6d_acde48001122level0_row16\" class=\"row_heading level0 row16\" >16</th>\n",
       "                        <td id=\"T_c3ff5564_82d6_11eb_ad6d_acde48001122row16_col0\" class=\"data row16 col0\" >Normalize Method </td>\n",
       "                        <td id=\"T_c3ff5564_82d6_11eb_ad6d_acde48001122row16_col1\" class=\"data row16 col1\" >None</td>\n",
       "            </tr>\n",
       "            <tr>\n",
       "                        <th id=\"T_c3ff5564_82d6_11eb_ad6d_acde48001122level0_row17\" class=\"row_heading level0 row17\" >17</th>\n",
       "                        <td id=\"T_c3ff5564_82d6_11eb_ad6d_acde48001122row17_col0\" class=\"data row17 col0\" >Transformation </td>\n",
       "                        <td id=\"T_c3ff5564_82d6_11eb_ad6d_acde48001122row17_col1\" class=\"data row17 col1\" >False</td>\n",
       "            </tr>\n",
       "            <tr>\n",
       "                        <th id=\"T_c3ff5564_82d6_11eb_ad6d_acde48001122level0_row18\" class=\"row_heading level0 row18\" >18</th>\n",
       "                        <td id=\"T_c3ff5564_82d6_11eb_ad6d_acde48001122row18_col0\" class=\"data row18 col0\" >Transformation Method </td>\n",
       "                        <td id=\"T_c3ff5564_82d6_11eb_ad6d_acde48001122row18_col1\" class=\"data row18 col1\" >None</td>\n",
       "            </tr>\n",
       "            <tr>\n",
       "                        <th id=\"T_c3ff5564_82d6_11eb_ad6d_acde48001122level0_row19\" class=\"row_heading level0 row19\" >19</th>\n",
       "                        <td id=\"T_c3ff5564_82d6_11eb_ad6d_acde48001122row19_col0\" class=\"data row19 col0\" >PCA </td>\n",
       "                        <td id=\"T_c3ff5564_82d6_11eb_ad6d_acde48001122row19_col1\" class=\"data row19 col1\" >False</td>\n",
       "            </tr>\n",
       "            <tr>\n",
       "                        <th id=\"T_c3ff5564_82d6_11eb_ad6d_acde48001122level0_row20\" class=\"row_heading level0 row20\" >20</th>\n",
       "                        <td id=\"T_c3ff5564_82d6_11eb_ad6d_acde48001122row20_col0\" class=\"data row20 col0\" >PCA Method </td>\n",
       "                        <td id=\"T_c3ff5564_82d6_11eb_ad6d_acde48001122row20_col1\" class=\"data row20 col1\" >None</td>\n",
       "            </tr>\n",
       "            <tr>\n",
       "                        <th id=\"T_c3ff5564_82d6_11eb_ad6d_acde48001122level0_row21\" class=\"row_heading level0 row21\" >21</th>\n",
       "                        <td id=\"T_c3ff5564_82d6_11eb_ad6d_acde48001122row21_col0\" class=\"data row21 col0\" >PCA Components </td>\n",
       "                        <td id=\"T_c3ff5564_82d6_11eb_ad6d_acde48001122row21_col1\" class=\"data row21 col1\" >None</td>\n",
       "            </tr>\n",
       "            <tr>\n",
       "                        <th id=\"T_c3ff5564_82d6_11eb_ad6d_acde48001122level0_row22\" class=\"row_heading level0 row22\" >22</th>\n",
       "                        <td id=\"T_c3ff5564_82d6_11eb_ad6d_acde48001122row22_col0\" class=\"data row22 col0\" >Ignore Low Variance </td>\n",
       "                        <td id=\"T_c3ff5564_82d6_11eb_ad6d_acde48001122row22_col1\" class=\"data row22 col1\" >False</td>\n",
       "            </tr>\n",
       "            <tr>\n",
       "                        <th id=\"T_c3ff5564_82d6_11eb_ad6d_acde48001122level0_row23\" class=\"row_heading level0 row23\" >23</th>\n",
       "                        <td id=\"T_c3ff5564_82d6_11eb_ad6d_acde48001122row23_col0\" class=\"data row23 col0\" >Combine Rare Levels </td>\n",
       "                        <td id=\"T_c3ff5564_82d6_11eb_ad6d_acde48001122row23_col1\" class=\"data row23 col1\" >False</td>\n",
       "            </tr>\n",
       "            <tr>\n",
       "                        <th id=\"T_c3ff5564_82d6_11eb_ad6d_acde48001122level0_row24\" class=\"row_heading level0 row24\" >24</th>\n",
       "                        <td id=\"T_c3ff5564_82d6_11eb_ad6d_acde48001122row24_col0\" class=\"data row24 col0\" >Rare Level Threshold </td>\n",
       "                        <td id=\"T_c3ff5564_82d6_11eb_ad6d_acde48001122row24_col1\" class=\"data row24 col1\" >None</td>\n",
       "            </tr>\n",
       "            <tr>\n",
       "                        <th id=\"T_c3ff5564_82d6_11eb_ad6d_acde48001122level0_row25\" class=\"row_heading level0 row25\" >25</th>\n",
       "                        <td id=\"T_c3ff5564_82d6_11eb_ad6d_acde48001122row25_col0\" class=\"data row25 col0\" >Numeric Binning </td>\n",
       "                        <td id=\"T_c3ff5564_82d6_11eb_ad6d_acde48001122row25_col1\" class=\"data row25 col1\" >False</td>\n",
       "            </tr>\n",
       "            <tr>\n",
       "                        <th id=\"T_c3ff5564_82d6_11eb_ad6d_acde48001122level0_row26\" class=\"row_heading level0 row26\" >26</th>\n",
       "                        <td id=\"T_c3ff5564_82d6_11eb_ad6d_acde48001122row26_col0\" class=\"data row26 col0\" >Remove Outliers </td>\n",
       "                        <td id=\"T_c3ff5564_82d6_11eb_ad6d_acde48001122row26_col1\" class=\"data row26 col1\" >False</td>\n",
       "            </tr>\n",
       "            <tr>\n",
       "                        <th id=\"T_c3ff5564_82d6_11eb_ad6d_acde48001122level0_row27\" class=\"row_heading level0 row27\" >27</th>\n",
       "                        <td id=\"T_c3ff5564_82d6_11eb_ad6d_acde48001122row27_col0\" class=\"data row27 col0\" >Outliers Threshold </td>\n",
       "                        <td id=\"T_c3ff5564_82d6_11eb_ad6d_acde48001122row27_col1\" class=\"data row27 col1\" >None</td>\n",
       "            </tr>\n",
       "            <tr>\n",
       "                        <th id=\"T_c3ff5564_82d6_11eb_ad6d_acde48001122level0_row28\" class=\"row_heading level0 row28\" >28</th>\n",
       "                        <td id=\"T_c3ff5564_82d6_11eb_ad6d_acde48001122row28_col0\" class=\"data row28 col0\" >Remove Multicollinearity </td>\n",
       "                        <td id=\"T_c3ff5564_82d6_11eb_ad6d_acde48001122row28_col1\" class=\"data row28 col1\" >False</td>\n",
       "            </tr>\n",
       "            <tr>\n",
       "                        <th id=\"T_c3ff5564_82d6_11eb_ad6d_acde48001122level0_row29\" class=\"row_heading level0 row29\" >29</th>\n",
       "                        <td id=\"T_c3ff5564_82d6_11eb_ad6d_acde48001122row29_col0\" class=\"data row29 col0\" >Multicollinearity Threshold </td>\n",
       "                        <td id=\"T_c3ff5564_82d6_11eb_ad6d_acde48001122row29_col1\" class=\"data row29 col1\" >None</td>\n",
       "            </tr>\n",
       "            <tr>\n",
       "                        <th id=\"T_c3ff5564_82d6_11eb_ad6d_acde48001122level0_row30\" class=\"row_heading level0 row30\" >30</th>\n",
       "                        <td id=\"T_c3ff5564_82d6_11eb_ad6d_acde48001122row30_col0\" class=\"data row30 col0\" >Clustering </td>\n",
       "                        <td id=\"T_c3ff5564_82d6_11eb_ad6d_acde48001122row30_col1\" class=\"data row30 col1\" >False</td>\n",
       "            </tr>\n",
       "            <tr>\n",
       "                        <th id=\"T_c3ff5564_82d6_11eb_ad6d_acde48001122level0_row31\" class=\"row_heading level0 row31\" >31</th>\n",
       "                        <td id=\"T_c3ff5564_82d6_11eb_ad6d_acde48001122row31_col0\" class=\"data row31 col0\" >Clustering Iteration </td>\n",
       "                        <td id=\"T_c3ff5564_82d6_11eb_ad6d_acde48001122row31_col1\" class=\"data row31 col1\" >None</td>\n",
       "            </tr>\n",
       "            <tr>\n",
       "                        <th id=\"T_c3ff5564_82d6_11eb_ad6d_acde48001122level0_row32\" class=\"row_heading level0 row32\" >32</th>\n",
       "                        <td id=\"T_c3ff5564_82d6_11eb_ad6d_acde48001122row32_col0\" class=\"data row32 col0\" >Polynomial Features </td>\n",
       "                        <td id=\"T_c3ff5564_82d6_11eb_ad6d_acde48001122row32_col1\" class=\"data row32 col1\" >False</td>\n",
       "            </tr>\n",
       "            <tr>\n",
       "                        <th id=\"T_c3ff5564_82d6_11eb_ad6d_acde48001122level0_row33\" class=\"row_heading level0 row33\" >33</th>\n",
       "                        <td id=\"T_c3ff5564_82d6_11eb_ad6d_acde48001122row33_col0\" class=\"data row33 col0\" >Polynomial Degree </td>\n",
       "                        <td id=\"T_c3ff5564_82d6_11eb_ad6d_acde48001122row33_col1\" class=\"data row33 col1\" >None</td>\n",
       "            </tr>\n",
       "            <tr>\n",
       "                        <th id=\"T_c3ff5564_82d6_11eb_ad6d_acde48001122level0_row34\" class=\"row_heading level0 row34\" >34</th>\n",
       "                        <td id=\"T_c3ff5564_82d6_11eb_ad6d_acde48001122row34_col0\" class=\"data row34 col0\" >Trignometry Features </td>\n",
       "                        <td id=\"T_c3ff5564_82d6_11eb_ad6d_acde48001122row34_col1\" class=\"data row34 col1\" >False</td>\n",
       "            </tr>\n",
       "            <tr>\n",
       "                        <th id=\"T_c3ff5564_82d6_11eb_ad6d_acde48001122level0_row35\" class=\"row_heading level0 row35\" >35</th>\n",
       "                        <td id=\"T_c3ff5564_82d6_11eb_ad6d_acde48001122row35_col0\" class=\"data row35 col0\" >Polynomial Threshold </td>\n",
       "                        <td id=\"T_c3ff5564_82d6_11eb_ad6d_acde48001122row35_col1\" class=\"data row35 col1\" >None</td>\n",
       "            </tr>\n",
       "            <tr>\n",
       "                        <th id=\"T_c3ff5564_82d6_11eb_ad6d_acde48001122level0_row36\" class=\"row_heading level0 row36\" >36</th>\n",
       "                        <td id=\"T_c3ff5564_82d6_11eb_ad6d_acde48001122row36_col0\" class=\"data row36 col0\" >Group Features </td>\n",
       "                        <td id=\"T_c3ff5564_82d6_11eb_ad6d_acde48001122row36_col1\" class=\"data row36 col1\" >False</td>\n",
       "            </tr>\n",
       "            <tr>\n",
       "                        <th id=\"T_c3ff5564_82d6_11eb_ad6d_acde48001122level0_row37\" class=\"row_heading level0 row37\" >37</th>\n",
       "                        <td id=\"T_c3ff5564_82d6_11eb_ad6d_acde48001122row37_col0\" class=\"data row37 col0\" >Feature Selection </td>\n",
       "                        <td id=\"T_c3ff5564_82d6_11eb_ad6d_acde48001122row37_col1\" class=\"data row37 col1\" >False</td>\n",
       "            </tr>\n",
       "            <tr>\n",
       "                        <th id=\"T_c3ff5564_82d6_11eb_ad6d_acde48001122level0_row38\" class=\"row_heading level0 row38\" >38</th>\n",
       "                        <td id=\"T_c3ff5564_82d6_11eb_ad6d_acde48001122row38_col0\" class=\"data row38 col0\" >Features Selection Threshold </td>\n",
       "                        <td id=\"T_c3ff5564_82d6_11eb_ad6d_acde48001122row38_col1\" class=\"data row38 col1\" >None</td>\n",
       "            </tr>\n",
       "            <tr>\n",
       "                        <th id=\"T_c3ff5564_82d6_11eb_ad6d_acde48001122level0_row39\" class=\"row_heading level0 row39\" >39</th>\n",
       "                        <td id=\"T_c3ff5564_82d6_11eb_ad6d_acde48001122row39_col0\" class=\"data row39 col0\" >Feature Interaction </td>\n",
       "                        <td id=\"T_c3ff5564_82d6_11eb_ad6d_acde48001122row39_col1\" class=\"data row39 col1\" >False</td>\n",
       "            </tr>\n",
       "            <tr>\n",
       "                        <th id=\"T_c3ff5564_82d6_11eb_ad6d_acde48001122level0_row40\" class=\"row_heading level0 row40\" >40</th>\n",
       "                        <td id=\"T_c3ff5564_82d6_11eb_ad6d_acde48001122row40_col0\" class=\"data row40 col0\" >Feature Ratio </td>\n",
       "                        <td id=\"T_c3ff5564_82d6_11eb_ad6d_acde48001122row40_col1\" class=\"data row40 col1\" >False</td>\n",
       "            </tr>\n",
       "            <tr>\n",
       "                        <th id=\"T_c3ff5564_82d6_11eb_ad6d_acde48001122level0_row41\" class=\"row_heading level0 row41\" >41</th>\n",
       "                        <td id=\"T_c3ff5564_82d6_11eb_ad6d_acde48001122row41_col0\" class=\"data row41 col0\" >Interaction Threshold </td>\n",
       "                        <td id=\"T_c3ff5564_82d6_11eb_ad6d_acde48001122row41_col1\" class=\"data row41 col1\" >None</td>\n",
       "            </tr>\n",
       "            <tr>\n",
       "                        <th id=\"T_c3ff5564_82d6_11eb_ad6d_acde48001122level0_row42\" class=\"row_heading level0 row42\" >42</th>\n",
       "                        <td id=\"T_c3ff5564_82d6_11eb_ad6d_acde48001122row42_col0\" class=\"data row42 col0\" >Fix Imbalance</td>\n",
       "                        <td id=\"T_c3ff5564_82d6_11eb_ad6d_acde48001122row42_col1\" class=\"data row42 col1\" >False</td>\n",
       "            </tr>\n",
       "            <tr>\n",
       "                        <th id=\"T_c3ff5564_82d6_11eb_ad6d_acde48001122level0_row43\" class=\"row_heading level0 row43\" >43</th>\n",
       "                        <td id=\"T_c3ff5564_82d6_11eb_ad6d_acde48001122row43_col0\" class=\"data row43 col0\" >Fix Imbalance Method</td>\n",
       "                        <td id=\"T_c3ff5564_82d6_11eb_ad6d_acde48001122row43_col1\" class=\"data row43 col1\" >SMOTE</td>\n",
       "            </tr>\n",
       "    </tbody></table>"
      ],
      "text/plain": [
       "<pandas.io.formats.style.Styler at 0x7fd65373b3c8>"
      ]
     },
     "metadata": {},
     "output_type": "display_data"
    }
   ],
   "source": [
    "clf1 = setup(data=data,target='Response',session_id=123,numeric_features=['Accomodation_Type','Reco_Insurance_Type','Is_Spouse','Health Indicator','Holding_Policy_Duration','Holding_Policy_Type'])"
   ]
  },
  {
   "cell_type": "code",
   "execution_count": 54,
   "metadata": {
    "ExecuteTime": {
     "end_time": "2021-03-12T02:00:59.888195Z",
     "start_time": "2021-03-12T02:00:59.885683Z"
    }
   },
   "outputs": [],
   "source": [
    "# testpycar = setup(data=data,target='Response',fix_imbalance=True,session_id=123,normalize=True,n_jobs=-1,feature_ratio=False,use_gpu=True)"
   ]
  },
  {
   "cell_type": "code",
   "execution_count": 55,
   "metadata": {
    "ExecuteTime": {
     "end_time": "2021-03-12T02:04:57.806958Z",
     "start_time": "2021-03-12T02:01:02.760167Z"
    }
   },
   "outputs": [
    {
     "data": {
      "text/html": [
       "<style  type=\"text/css\" >\n",
       "    #T_5866471c_82d7_11eb_ab08_acde48001122 th {\n",
       "          text-align: left;\n",
       "    }#T_5866471c_82d7_11eb_ab08_acde48001122row0_col0,#T_5866471c_82d7_11eb_ab08_acde48001122row0_col2,#T_5866471c_82d7_11eb_ab08_acde48001122row0_col3,#T_5866471c_82d7_11eb_ab08_acde48001122row0_col4,#T_5866471c_82d7_11eb_ab08_acde48001122row0_col5,#T_5866471c_82d7_11eb_ab08_acde48001122row0_col6,#T_5866471c_82d7_11eb_ab08_acde48001122row0_col7,#T_5866471c_82d7_11eb_ab08_acde48001122row1_col0,#T_5866471c_82d7_11eb_ab08_acde48001122row1_col1,#T_5866471c_82d7_11eb_ab08_acde48001122row1_col2,#T_5866471c_82d7_11eb_ab08_acde48001122row1_col3,#T_5866471c_82d7_11eb_ab08_acde48001122row1_col4,#T_5866471c_82d7_11eb_ab08_acde48001122row1_col5,#T_5866471c_82d7_11eb_ab08_acde48001122row1_col6,#T_5866471c_82d7_11eb_ab08_acde48001122row1_col7,#T_5866471c_82d7_11eb_ab08_acde48001122row2_col0,#T_5866471c_82d7_11eb_ab08_acde48001122row2_col1,#T_5866471c_82d7_11eb_ab08_acde48001122row2_col2,#T_5866471c_82d7_11eb_ab08_acde48001122row2_col3,#T_5866471c_82d7_11eb_ab08_acde48001122row2_col4,#T_5866471c_82d7_11eb_ab08_acde48001122row2_col5,#T_5866471c_82d7_11eb_ab08_acde48001122row2_col6,#T_5866471c_82d7_11eb_ab08_acde48001122row2_col7,#T_5866471c_82d7_11eb_ab08_acde48001122row3_col0,#T_5866471c_82d7_11eb_ab08_acde48001122row3_col1,#T_5866471c_82d7_11eb_ab08_acde48001122row3_col2,#T_5866471c_82d7_11eb_ab08_acde48001122row3_col3,#T_5866471c_82d7_11eb_ab08_acde48001122row3_col4,#T_5866471c_82d7_11eb_ab08_acde48001122row3_col5,#T_5866471c_82d7_11eb_ab08_acde48001122row3_col6,#T_5866471c_82d7_11eb_ab08_acde48001122row3_col7,#T_5866471c_82d7_11eb_ab08_acde48001122row4_col0,#T_5866471c_82d7_11eb_ab08_acde48001122row4_col1,#T_5866471c_82d7_11eb_ab08_acde48001122row4_col2,#T_5866471c_82d7_11eb_ab08_acde48001122row4_col3,#T_5866471c_82d7_11eb_ab08_acde48001122row4_col5,#T_5866471c_82d7_11eb_ab08_acde48001122row4_col6,#T_5866471c_82d7_11eb_ab08_acde48001122row4_col7,#T_5866471c_82d7_11eb_ab08_acde48001122row5_col0,#T_5866471c_82d7_11eb_ab08_acde48001122row5_col1,#T_5866471c_82d7_11eb_ab08_acde48001122row5_col2,#T_5866471c_82d7_11eb_ab08_acde48001122row5_col3,#T_5866471c_82d7_11eb_ab08_acde48001122row5_col4,#T_5866471c_82d7_11eb_ab08_acde48001122row5_col5,#T_5866471c_82d7_11eb_ab08_acde48001122row5_col6,#T_5866471c_82d7_11eb_ab08_acde48001122row6_col0,#T_5866471c_82d7_11eb_ab08_acde48001122row6_col1,#T_5866471c_82d7_11eb_ab08_acde48001122row6_col3,#T_5866471c_82d7_11eb_ab08_acde48001122row6_col4,#T_5866471c_82d7_11eb_ab08_acde48001122row6_col5,#T_5866471c_82d7_11eb_ab08_acde48001122row6_col6,#T_5866471c_82d7_11eb_ab08_acde48001122row6_col7,#T_5866471c_82d7_11eb_ab08_acde48001122row7_col0,#T_5866471c_82d7_11eb_ab08_acde48001122row7_col1,#T_5866471c_82d7_11eb_ab08_acde48001122row7_col2,#T_5866471c_82d7_11eb_ab08_acde48001122row7_col3,#T_5866471c_82d7_11eb_ab08_acde48001122row7_col4,#T_5866471c_82d7_11eb_ab08_acde48001122row7_col5,#T_5866471c_82d7_11eb_ab08_acde48001122row7_col6,#T_5866471c_82d7_11eb_ab08_acde48001122row7_col7,#T_5866471c_82d7_11eb_ab08_acde48001122row8_col0,#T_5866471c_82d7_11eb_ab08_acde48001122row8_col1,#T_5866471c_82d7_11eb_ab08_acde48001122row8_col2,#T_5866471c_82d7_11eb_ab08_acde48001122row8_col3,#T_5866471c_82d7_11eb_ab08_acde48001122row8_col4,#T_5866471c_82d7_11eb_ab08_acde48001122row8_col5,#T_5866471c_82d7_11eb_ab08_acde48001122row8_col6,#T_5866471c_82d7_11eb_ab08_acde48001122row8_col7,#T_5866471c_82d7_11eb_ab08_acde48001122row9_col0,#T_5866471c_82d7_11eb_ab08_acde48001122row9_col1,#T_5866471c_82d7_11eb_ab08_acde48001122row9_col2,#T_5866471c_82d7_11eb_ab08_acde48001122row9_col3,#T_5866471c_82d7_11eb_ab08_acde48001122row9_col4,#T_5866471c_82d7_11eb_ab08_acde48001122row9_col5,#T_5866471c_82d7_11eb_ab08_acde48001122row9_col6,#T_5866471c_82d7_11eb_ab08_acde48001122row9_col7,#T_5866471c_82d7_11eb_ab08_acde48001122row10_col0,#T_5866471c_82d7_11eb_ab08_acde48001122row10_col1,#T_5866471c_82d7_11eb_ab08_acde48001122row10_col2,#T_5866471c_82d7_11eb_ab08_acde48001122row10_col3,#T_5866471c_82d7_11eb_ab08_acde48001122row10_col4,#T_5866471c_82d7_11eb_ab08_acde48001122row10_col5,#T_5866471c_82d7_11eb_ab08_acde48001122row10_col6,#T_5866471c_82d7_11eb_ab08_acde48001122row10_col7,#T_5866471c_82d7_11eb_ab08_acde48001122row11_col0,#T_5866471c_82d7_11eb_ab08_acde48001122row11_col1,#T_5866471c_82d7_11eb_ab08_acde48001122row11_col2,#T_5866471c_82d7_11eb_ab08_acde48001122row11_col3,#T_5866471c_82d7_11eb_ab08_acde48001122row11_col4,#T_5866471c_82d7_11eb_ab08_acde48001122row11_col5,#T_5866471c_82d7_11eb_ab08_acde48001122row11_col6,#T_5866471c_82d7_11eb_ab08_acde48001122row11_col7,#T_5866471c_82d7_11eb_ab08_acde48001122row12_col0,#T_5866471c_82d7_11eb_ab08_acde48001122row12_col1,#T_5866471c_82d7_11eb_ab08_acde48001122row12_col2,#T_5866471c_82d7_11eb_ab08_acde48001122row12_col3,#T_5866471c_82d7_11eb_ab08_acde48001122row12_col4,#T_5866471c_82d7_11eb_ab08_acde48001122row12_col5,#T_5866471c_82d7_11eb_ab08_acde48001122row12_col6,#T_5866471c_82d7_11eb_ab08_acde48001122row12_col7,#T_5866471c_82d7_11eb_ab08_acde48001122row13_col0,#T_5866471c_82d7_11eb_ab08_acde48001122row13_col1,#T_5866471c_82d7_11eb_ab08_acde48001122row13_col2,#T_5866471c_82d7_11eb_ab08_acde48001122row13_col3,#T_5866471c_82d7_11eb_ab08_acde48001122row13_col4,#T_5866471c_82d7_11eb_ab08_acde48001122row13_col5,#T_5866471c_82d7_11eb_ab08_acde48001122row13_col6,#T_5866471c_82d7_11eb_ab08_acde48001122row13_col7,#T_5866471c_82d7_11eb_ab08_acde48001122row14_col0,#T_5866471c_82d7_11eb_ab08_acde48001122row14_col1,#T_5866471c_82d7_11eb_ab08_acde48001122row14_col2,#T_5866471c_82d7_11eb_ab08_acde48001122row14_col4,#T_5866471c_82d7_11eb_ab08_acde48001122row14_col7{\n",
       "            text-align:  left;\n",
       "        }#T_5866471c_82d7_11eb_ab08_acde48001122row0_col1,#T_5866471c_82d7_11eb_ab08_acde48001122row4_col4,#T_5866471c_82d7_11eb_ab08_acde48001122row5_col7,#T_5866471c_82d7_11eb_ab08_acde48001122row6_col2,#T_5866471c_82d7_11eb_ab08_acde48001122row14_col3,#T_5866471c_82d7_11eb_ab08_acde48001122row14_col5,#T_5866471c_82d7_11eb_ab08_acde48001122row14_col6{\n",
       "            background-color:  yellow;\n",
       "            text-align:  left;\n",
       "        }#T_5866471c_82d7_11eb_ab08_acde48001122row0_col8,#T_5866471c_82d7_11eb_ab08_acde48001122row1_col8,#T_5866471c_82d7_11eb_ab08_acde48001122row2_col8,#T_5866471c_82d7_11eb_ab08_acde48001122row3_col8,#T_5866471c_82d7_11eb_ab08_acde48001122row4_col8,#T_5866471c_82d7_11eb_ab08_acde48001122row5_col8,#T_5866471c_82d7_11eb_ab08_acde48001122row6_col8,#T_5866471c_82d7_11eb_ab08_acde48001122row7_col8,#T_5866471c_82d7_11eb_ab08_acde48001122row8_col8,#T_5866471c_82d7_11eb_ab08_acde48001122row9_col8,#T_5866471c_82d7_11eb_ab08_acde48001122row10_col8,#T_5866471c_82d7_11eb_ab08_acde48001122row11_col8,#T_5866471c_82d7_11eb_ab08_acde48001122row12_col8,#T_5866471c_82d7_11eb_ab08_acde48001122row13_col8,#T_5866471c_82d7_11eb_ab08_acde48001122row14_col8{\n",
       "            background-color:  lightgrey;\n",
       "            text-align:  left;\n",
       "        }</style><table id=\"T_5866471c_82d7_11eb_ab08_acde48001122\" ><thead>    <tr>        <th class=\"blank level0\" ></th>        <th class=\"col_heading level0 col0\" >Model</th>        <th class=\"col_heading level0 col1\" >Accuracy</th>        <th class=\"col_heading level0 col2\" >AUC</th>        <th class=\"col_heading level0 col3\" >Recall</th>        <th class=\"col_heading level0 col4\" >Prec.</th>        <th class=\"col_heading level0 col5\" >F1</th>        <th class=\"col_heading level0 col6\" >Kappa</th>        <th class=\"col_heading level0 col7\" >MCC</th>        <th class=\"col_heading level0 col8\" >TT (Sec)</th>    </tr></thead><tbody>\n",
       "                <tr>\n",
       "                        <th id=\"T_5866471c_82d7_11eb_ab08_acde48001122level0_row0\" class=\"row_heading level0 row0\" >0</th>\n",
       "                        <td id=\"T_5866471c_82d7_11eb_ab08_acde48001122row0_col0\" class=\"data row0 col0\" >Ada Boost Classifier</td>\n",
       "                        <td id=\"T_5866471c_82d7_11eb_ab08_acde48001122row0_col1\" class=\"data row0 col1\" >0.7594</td>\n",
       "                        <td id=\"T_5866471c_82d7_11eb_ab08_acde48001122row0_col2\" class=\"data row0 col2\" >0.6109</td>\n",
       "                        <td id=\"T_5866471c_82d7_11eb_ab08_acde48001122row0_col3\" class=\"data row0 col3\" >0.0007</td>\n",
       "                        <td id=\"T_5866471c_82d7_11eb_ab08_acde48001122row0_col4\" class=\"data row0 col4\" >0.3500</td>\n",
       "                        <td id=\"T_5866471c_82d7_11eb_ab08_acde48001122row0_col5\" class=\"data row0 col5\" >0.0015</td>\n",
       "                        <td id=\"T_5866471c_82d7_11eb_ab08_acde48001122row0_col6\" class=\"data row0 col6\" >0.0010</td>\n",
       "                        <td id=\"T_5866471c_82d7_11eb_ab08_acde48001122row0_col7\" class=\"data row0 col7\" >0.0119</td>\n",
       "                        <td id=\"T_5866471c_82d7_11eb_ab08_acde48001122row0_col8\" class=\"data row0 col8\" >1.1612</td>\n",
       "            </tr>\n",
       "            <tr>\n",
       "                        <th id=\"T_5866471c_82d7_11eb_ab08_acde48001122level0_row1\" class=\"row_heading level0 row1\" >1</th>\n",
       "                        <td id=\"T_5866471c_82d7_11eb_ab08_acde48001122row1_col0\" class=\"data row1 col0\" >Logistic Regression</td>\n",
       "                        <td id=\"T_5866471c_82d7_11eb_ab08_acde48001122row1_col1\" class=\"data row1 col1\" >0.7593</td>\n",
       "                        <td id=\"T_5866471c_82d7_11eb_ab08_acde48001122row1_col2\" class=\"data row1 col2\" >0.5109</td>\n",
       "                        <td id=\"T_5866471c_82d7_11eb_ab08_acde48001122row1_col3\" class=\"data row1 col3\" >0.0000</td>\n",
       "                        <td id=\"T_5866471c_82d7_11eb_ab08_acde48001122row1_col4\" class=\"data row1 col4\" >0.0000</td>\n",
       "                        <td id=\"T_5866471c_82d7_11eb_ab08_acde48001122row1_col5\" class=\"data row1 col5\" >0.0000</td>\n",
       "                        <td id=\"T_5866471c_82d7_11eb_ab08_acde48001122row1_col6\" class=\"data row1 col6\" >0.0000</td>\n",
       "                        <td id=\"T_5866471c_82d7_11eb_ab08_acde48001122row1_col7\" class=\"data row1 col7\" >0.0000</td>\n",
       "                        <td id=\"T_5866471c_82d7_11eb_ab08_acde48001122row1_col8\" class=\"data row1 col8\" >0.2516</td>\n",
       "            </tr>\n",
       "            <tr>\n",
       "                        <th id=\"T_5866471c_82d7_11eb_ab08_acde48001122level0_row2\" class=\"row_heading level0 row2\" >2</th>\n",
       "                        <td id=\"T_5866471c_82d7_11eb_ab08_acde48001122row2_col0\" class=\"data row2 col0\" >Ridge Classifier</td>\n",
       "                        <td id=\"T_5866471c_82d7_11eb_ab08_acde48001122row2_col1\" class=\"data row2 col1\" >0.7593</td>\n",
       "                        <td id=\"T_5866471c_82d7_11eb_ab08_acde48001122row2_col2\" class=\"data row2 col2\" >0.0000</td>\n",
       "                        <td id=\"T_5866471c_82d7_11eb_ab08_acde48001122row2_col3\" class=\"data row2 col3\" >0.0000</td>\n",
       "                        <td id=\"T_5866471c_82d7_11eb_ab08_acde48001122row2_col4\" class=\"data row2 col4\" >0.0000</td>\n",
       "                        <td id=\"T_5866471c_82d7_11eb_ab08_acde48001122row2_col5\" class=\"data row2 col5\" >0.0000</td>\n",
       "                        <td id=\"T_5866471c_82d7_11eb_ab08_acde48001122row2_col6\" class=\"data row2 col6\" >0.0000</td>\n",
       "                        <td id=\"T_5866471c_82d7_11eb_ab08_acde48001122row2_col7\" class=\"data row2 col7\" >0.0000</td>\n",
       "                        <td id=\"T_5866471c_82d7_11eb_ab08_acde48001122row2_col8\" class=\"data row2 col8\" >0.0433</td>\n",
       "            </tr>\n",
       "            <tr>\n",
       "                        <th id=\"T_5866471c_82d7_11eb_ab08_acde48001122level0_row3\" class=\"row_heading level0 row3\" >3</th>\n",
       "                        <td id=\"T_5866471c_82d7_11eb_ab08_acde48001122row3_col0\" class=\"data row3 col0\" >Linear Discriminant Analysis</td>\n",
       "                        <td id=\"T_5866471c_82d7_11eb_ab08_acde48001122row3_col1\" class=\"data row3 col1\" >0.7593</td>\n",
       "                        <td id=\"T_5866471c_82d7_11eb_ab08_acde48001122row3_col2\" class=\"data row3 col2\" >0.5126</td>\n",
       "                        <td id=\"T_5866471c_82d7_11eb_ab08_acde48001122row3_col3\" class=\"data row3 col3\" >0.0000</td>\n",
       "                        <td id=\"T_5866471c_82d7_11eb_ab08_acde48001122row3_col4\" class=\"data row3 col4\" >0.0000</td>\n",
       "                        <td id=\"T_5866471c_82d7_11eb_ab08_acde48001122row3_col5\" class=\"data row3 col5\" >0.0000</td>\n",
       "                        <td id=\"T_5866471c_82d7_11eb_ab08_acde48001122row3_col6\" class=\"data row3 col6\" >0.0000</td>\n",
       "                        <td id=\"T_5866471c_82d7_11eb_ab08_acde48001122row3_col7\" class=\"data row3 col7\" >0.0000</td>\n",
       "                        <td id=\"T_5866471c_82d7_11eb_ab08_acde48001122row3_col8\" class=\"data row3 col8\" >0.2495</td>\n",
       "            </tr>\n",
       "            <tr>\n",
       "                        <th id=\"T_5866471c_82d7_11eb_ab08_acde48001122level0_row4\" class=\"row_heading level0 row4\" >4</th>\n",
       "                        <td id=\"T_5866471c_82d7_11eb_ab08_acde48001122row4_col0\" class=\"data row4 col0\" >Extreme Gradient Boosting</td>\n",
       "                        <td id=\"T_5866471c_82d7_11eb_ab08_acde48001122row4_col1\" class=\"data row4 col1\" >0.7592</td>\n",
       "                        <td id=\"T_5866471c_82d7_11eb_ab08_acde48001122row4_col2\" class=\"data row4 col2\" >0.6377</td>\n",
       "                        <td id=\"T_5866471c_82d7_11eb_ab08_acde48001122row4_col3\" class=\"data row4 col3\" >0.0023</td>\n",
       "                        <td id=\"T_5866471c_82d7_11eb_ab08_acde48001122row4_col4\" class=\"data row4 col4\" >0.5375</td>\n",
       "                        <td id=\"T_5866471c_82d7_11eb_ab08_acde48001122row4_col5\" class=\"data row4 col5\" >0.0046</td>\n",
       "                        <td id=\"T_5866471c_82d7_11eb_ab08_acde48001122row4_col6\" class=\"data row4 col6\" >0.0023</td>\n",
       "                        <td id=\"T_5866471c_82d7_11eb_ab08_acde48001122row4_col7\" class=\"data row4 col7\" >0.0206</td>\n",
       "                        <td id=\"T_5866471c_82d7_11eb_ab08_acde48001122row4_col8\" class=\"data row4 col8\" >1.2572</td>\n",
       "            </tr>\n",
       "            <tr>\n",
       "                        <th id=\"T_5866471c_82d7_11eb_ab08_acde48001122level0_row5\" class=\"row_heading level0 row5\" >5</th>\n",
       "                        <td id=\"T_5866471c_82d7_11eb_ab08_acde48001122row5_col0\" class=\"data row5 col0\" >CatBoost Classifier</td>\n",
       "                        <td id=\"T_5866471c_82d7_11eb_ab08_acde48001122row5_col1\" class=\"data row5 col1\" >0.7589</td>\n",
       "                        <td id=\"T_5866471c_82d7_11eb_ab08_acde48001122row5_col2\" class=\"data row5 col2\" >0.6491</td>\n",
       "                        <td id=\"T_5866471c_82d7_11eb_ab08_acde48001122row5_col3\" class=\"data row5 col3\" >0.0429</td>\n",
       "                        <td id=\"T_5866471c_82d7_11eb_ab08_acde48001122row5_col4\" class=\"data row5 col4\" >0.4913</td>\n",
       "                        <td id=\"T_5866471c_82d7_11eb_ab08_acde48001122row5_col5\" class=\"data row5 col5\" >0.0788</td>\n",
       "                        <td id=\"T_5866471c_82d7_11eb_ab08_acde48001122row5_col6\" class=\"data row5 col6\" >0.0418</td>\n",
       "                        <td id=\"T_5866471c_82d7_11eb_ab08_acde48001122row5_col7\" class=\"data row5 col7\" >0.0857</td>\n",
       "                        <td id=\"T_5866471c_82d7_11eb_ab08_acde48001122row5_col8\" class=\"data row5 col8\" >11.8974</td>\n",
       "            </tr>\n",
       "            <tr>\n",
       "                        <th id=\"T_5866471c_82d7_11eb_ab08_acde48001122level0_row6\" class=\"row_heading level0 row6\" >6</th>\n",
       "                        <td id=\"T_5866471c_82d7_11eb_ab08_acde48001122row6_col0\" class=\"data row6 col0\" >Light Gradient Boosting Machine</td>\n",
       "                        <td id=\"T_5866471c_82d7_11eb_ab08_acde48001122row6_col1\" class=\"data row6 col1\" >0.7587</td>\n",
       "                        <td id=\"T_5866471c_82d7_11eb_ab08_acde48001122row6_col2\" class=\"data row6 col2\" >0.6520</td>\n",
       "                        <td id=\"T_5866471c_82d7_11eb_ab08_acde48001122row6_col3\" class=\"data row6 col3\" >0.0296</td>\n",
       "                        <td id=\"T_5866471c_82d7_11eb_ab08_acde48001122row6_col4\" class=\"data row6 col4\" >0.4768</td>\n",
       "                        <td id=\"T_5866471c_82d7_11eb_ab08_acde48001122row6_col5\" class=\"data row6 col5\" >0.0557</td>\n",
       "                        <td id=\"T_5866471c_82d7_11eb_ab08_acde48001122row6_col6\" class=\"data row6 col6\" >0.0285</td>\n",
       "                        <td id=\"T_5866471c_82d7_11eb_ab08_acde48001122row6_col7\" class=\"data row6 col7\" >0.0680</td>\n",
       "                        <td id=\"T_5866471c_82d7_11eb_ab08_acde48001122row6_col8\" class=\"data row6 col8\" >0.4156</td>\n",
       "            </tr>\n",
       "            <tr>\n",
       "                        <th id=\"T_5866471c_82d7_11eb_ab08_acde48001122level0_row7\" class=\"row_heading level0 row7\" >7</th>\n",
       "                        <td id=\"T_5866471c_82d7_11eb_ab08_acde48001122row7_col0\" class=\"data row7 col0\" >Gradient Boosting Classifier</td>\n",
       "                        <td id=\"T_5866471c_82d7_11eb_ab08_acde48001122row7_col1\" class=\"data row7 col1\" >0.7586</td>\n",
       "                        <td id=\"T_5866471c_82d7_11eb_ab08_acde48001122row7_col2\" class=\"data row7 col2\" >0.6379</td>\n",
       "                        <td id=\"T_5866471c_82d7_11eb_ab08_acde48001122row7_col3\" class=\"data row7 col3\" >0.0019</td>\n",
       "                        <td id=\"T_5866471c_82d7_11eb_ab08_acde48001122row7_col4\" class=\"data row7 col4\" >0.2795</td>\n",
       "                        <td id=\"T_5866471c_82d7_11eb_ab08_acde48001122row7_col5\" class=\"data row7 col5\" >0.0038</td>\n",
       "                        <td id=\"T_5866471c_82d7_11eb_ab08_acde48001122row7_col6\" class=\"data row7 col6\" >0.0006</td>\n",
       "                        <td id=\"T_5866471c_82d7_11eb_ab08_acde48001122row7_col7\" class=\"data row7 col7\" >0.0041</td>\n",
       "                        <td id=\"T_5866471c_82d7_11eb_ab08_acde48001122row7_col8\" class=\"data row7 col8\" >2.9318</td>\n",
       "            </tr>\n",
       "            <tr>\n",
       "                        <th id=\"T_5866471c_82d7_11eb_ab08_acde48001122level0_row8\" class=\"row_heading level0 row8\" >8</th>\n",
       "                        <td id=\"T_5866471c_82d7_11eb_ab08_acde48001122row8_col0\" class=\"data row8 col0\" >Naive Bayes</td>\n",
       "                        <td id=\"T_5866471c_82d7_11eb_ab08_acde48001122row8_col1\" class=\"data row8 col1\" >0.7556</td>\n",
       "                        <td id=\"T_5866471c_82d7_11eb_ab08_acde48001122row8_col2\" class=\"data row8 col2\" >0.5114</td>\n",
       "                        <td id=\"T_5866471c_82d7_11eb_ab08_acde48001122row8_col3\" class=\"data row8 col3\" >0.0052</td>\n",
       "                        <td id=\"T_5866471c_82d7_11eb_ab08_acde48001122row8_col4\" class=\"data row8 col4\" >0.2505</td>\n",
       "                        <td id=\"T_5866471c_82d7_11eb_ab08_acde48001122row8_col5\" class=\"data row8 col5\" >0.0102</td>\n",
       "                        <td id=\"T_5866471c_82d7_11eb_ab08_acde48001122row8_col6\" class=\"data row8 col6\" >-0.0018</td>\n",
       "                        <td id=\"T_5866471c_82d7_11eb_ab08_acde48001122row8_col7\" class=\"data row8 col7\" >-0.0032</td>\n",
       "                        <td id=\"T_5866471c_82d7_11eb_ab08_acde48001122row8_col8\" class=\"data row8 col8\" >0.0281</td>\n",
       "            </tr>\n",
       "            <tr>\n",
       "                        <th id=\"T_5866471c_82d7_11eb_ab08_acde48001122level0_row9\" class=\"row_heading level0 row9\" >9</th>\n",
       "                        <td id=\"T_5866471c_82d7_11eb_ab08_acde48001122row9_col0\" class=\"data row9 col0\" >Random Forest Classifier</td>\n",
       "                        <td id=\"T_5866471c_82d7_11eb_ab08_acde48001122row9_col1\" class=\"data row9 col1\" >0.7362</td>\n",
       "                        <td id=\"T_5866471c_82d7_11eb_ab08_acde48001122row9_col2\" class=\"data row9 col2\" >0.5614</td>\n",
       "                        <td id=\"T_5866471c_82d7_11eb_ab08_acde48001122row9_col3\" class=\"data row9 col3\" >0.0800</td>\n",
       "                        <td id=\"T_5866471c_82d7_11eb_ab08_acde48001122row9_col4\" class=\"data row9 col4\" >0.3125</td>\n",
       "                        <td id=\"T_5866471c_82d7_11eb_ab08_acde48001122row9_col5\" class=\"data row9 col5\" >0.1273</td>\n",
       "                        <td id=\"T_5866471c_82d7_11eb_ab08_acde48001122row9_col6\" class=\"data row9 col6\" >0.0324</td>\n",
       "                        <td id=\"T_5866471c_82d7_11eb_ab08_acde48001122row9_col7\" class=\"data row9 col7\" >0.0430</td>\n",
       "                        <td id=\"T_5866471c_82d7_11eb_ab08_acde48001122row9_col8\" class=\"data row9 col8\" >0.1169</td>\n",
       "            </tr>\n",
       "            <tr>\n",
       "                        <th id=\"T_5866471c_82d7_11eb_ab08_acde48001122level0_row10\" class=\"row_heading level0 row10\" >10</th>\n",
       "                        <td id=\"T_5866471c_82d7_11eb_ab08_acde48001122row10_col0\" class=\"data row10 col0\" >Extra Trees Classifier</td>\n",
       "                        <td id=\"T_5866471c_82d7_11eb_ab08_acde48001122row10_col1\" class=\"data row10 col1\" >0.7300</td>\n",
       "                        <td id=\"T_5866471c_82d7_11eb_ab08_acde48001122row10_col2\" class=\"data row10 col2\" >0.5634</td>\n",
       "                        <td id=\"T_5866471c_82d7_11eb_ab08_acde48001122row10_col3\" class=\"data row10 col3\" >0.0888</td>\n",
       "                        <td id=\"T_5866471c_82d7_11eb_ab08_acde48001122row10_col4\" class=\"data row10 col4\" >0.2966</td>\n",
       "                        <td id=\"T_5866471c_82d7_11eb_ab08_acde48001122row10_col5\" class=\"data row10 col5\" >0.1366</td>\n",
       "                        <td id=\"T_5866471c_82d7_11eb_ab08_acde48001122row10_col6\" class=\"data row10 col6\" >0.0290</td>\n",
       "                        <td id=\"T_5866471c_82d7_11eb_ab08_acde48001122row10_col7\" class=\"data row10 col7\" >0.0364</td>\n",
       "                        <td id=\"T_5866471c_82d7_11eb_ab08_acde48001122row10_col8\" class=\"data row10 col8\" >0.5845</td>\n",
       "            </tr>\n",
       "            <tr>\n",
       "                        <th id=\"T_5866471c_82d7_11eb_ab08_acde48001122level0_row11\" class=\"row_heading level0 row11\" >11</th>\n",
       "                        <td id=\"T_5866471c_82d7_11eb_ab08_acde48001122row11_col0\" class=\"data row11 col0\" >K Neighbors Classifier</td>\n",
       "                        <td id=\"T_5866471c_82d7_11eb_ab08_acde48001122row11_col1\" class=\"data row11 col1\" >0.7105</td>\n",
       "                        <td id=\"T_5866471c_82d7_11eb_ab08_acde48001122row11_col2\" class=\"data row11 col2\" >0.5136</td>\n",
       "                        <td id=\"T_5866471c_82d7_11eb_ab08_acde48001122row11_col3\" class=\"data row11 col3\" >0.1073</td>\n",
       "                        <td id=\"T_5866471c_82d7_11eb_ab08_acde48001122row11_col4\" class=\"data row11 col4\" >0.2574</td>\n",
       "                        <td id=\"T_5866471c_82d7_11eb_ab08_acde48001122row11_col5\" class=\"data row11 col5\" >0.1513</td>\n",
       "                        <td id=\"T_5866471c_82d7_11eb_ab08_acde48001122row11_col6\" class=\"data row11 col6\" >0.0113</td>\n",
       "                        <td id=\"T_5866471c_82d7_11eb_ab08_acde48001122row11_col7\" class=\"data row11 col7\" >0.0129</td>\n",
       "                        <td id=\"T_5866471c_82d7_11eb_ab08_acde48001122row11_col8\" class=\"data row11 col8\" >0.1032</td>\n",
       "            </tr>\n",
       "            <tr>\n",
       "                        <th id=\"T_5866471c_82d7_11eb_ab08_acde48001122level0_row12\" class=\"row_heading level0 row12\" >12</th>\n",
       "                        <td id=\"T_5866471c_82d7_11eb_ab08_acde48001122row12_col0\" class=\"data row12 col0\" >SVM - Linear Kernel</td>\n",
       "                        <td id=\"T_5866471c_82d7_11eb_ab08_acde48001122row12_col1\" class=\"data row12 col1\" >0.7038</td>\n",
       "                        <td id=\"T_5866471c_82d7_11eb_ab08_acde48001122row12_col2\" class=\"data row12 col2\" >0.0000</td>\n",
       "                        <td id=\"T_5866471c_82d7_11eb_ab08_acde48001122row12_col3\" class=\"data row12 col3\" >0.1054</td>\n",
       "                        <td id=\"T_5866471c_82d7_11eb_ab08_acde48001122row12_col4\" class=\"data row12 col4\" >0.0450</td>\n",
       "                        <td id=\"T_5866471c_82d7_11eb_ab08_acde48001122row12_col5\" class=\"data row12 col5\" >0.0474</td>\n",
       "                        <td id=\"T_5866471c_82d7_11eb_ab08_acde48001122row12_col6\" class=\"data row12 col6\" >-0.0014</td>\n",
       "                        <td id=\"T_5866471c_82d7_11eb_ab08_acde48001122row12_col7\" class=\"data row12 col7\" >-0.0019</td>\n",
       "                        <td id=\"T_5866471c_82d7_11eb_ab08_acde48001122row12_col8\" class=\"data row12 col8\" >1.4906</td>\n",
       "            </tr>\n",
       "            <tr>\n",
       "                        <th id=\"T_5866471c_82d7_11eb_ab08_acde48001122level0_row13\" class=\"row_heading level0 row13\" >13</th>\n",
       "                        <td id=\"T_5866471c_82d7_11eb_ab08_acde48001122row13_col0\" class=\"data row13 col0\" >Quadratic Discriminant Analysis</td>\n",
       "                        <td id=\"T_5866471c_82d7_11eb_ab08_acde48001122row13_col1\" class=\"data row13 col1\" >0.6828</td>\n",
       "                        <td id=\"T_5866471c_82d7_11eb_ab08_acde48001122row13_col2\" class=\"data row13 col2\" >0.5180</td>\n",
       "                        <td id=\"T_5866471c_82d7_11eb_ab08_acde48001122row13_col3\" class=\"data row13 col3\" >0.1591</td>\n",
       "                        <td id=\"T_5866471c_82d7_11eb_ab08_acde48001122row13_col4\" class=\"data row13 col4\" >0.2541</td>\n",
       "                        <td id=\"T_5866471c_82d7_11eb_ab08_acde48001122row13_col5\" class=\"data row13 col5\" >0.1697</td>\n",
       "                        <td id=\"T_5866471c_82d7_11eb_ab08_acde48001122row13_col6\" class=\"data row13 col6\" >0.0083</td>\n",
       "                        <td id=\"T_5866471c_82d7_11eb_ab08_acde48001122row13_col7\" class=\"data row13 col7\" >0.0101</td>\n",
       "                        <td id=\"T_5866471c_82d7_11eb_ab08_acde48001122row13_col8\" class=\"data row13 col8\" >0.0900</td>\n",
       "            </tr>\n",
       "            <tr>\n",
       "                        <th id=\"T_5866471c_82d7_11eb_ab08_acde48001122level0_row14\" class=\"row_heading level0 row14\" >14</th>\n",
       "                        <td id=\"T_5866471c_82d7_11eb_ab08_acde48001122row14_col0\" class=\"data row14 col0\" >Decision Tree Classifier</td>\n",
       "                        <td id=\"T_5866471c_82d7_11eb_ab08_acde48001122row14_col1\" class=\"data row14 col1\" >0.6582</td>\n",
       "                        <td id=\"T_5866471c_82d7_11eb_ab08_acde48001122row14_col2\" class=\"data row14 col2\" >0.5402</td>\n",
       "                        <td id=\"T_5866471c_82d7_11eb_ab08_acde48001122row14_col3\" class=\"data row14 col3\" >0.3124</td>\n",
       "                        <td id=\"T_5866471c_82d7_11eb_ab08_acde48001122row14_col4\" class=\"data row14 col4\" >0.2992</td>\n",
       "                        <td id=\"T_5866471c_82d7_11eb_ab08_acde48001122row14_col5\" class=\"data row14 col5\" >0.3056</td>\n",
       "                        <td id=\"T_5866471c_82d7_11eb_ab08_acde48001122row14_col6\" class=\"data row14 col6\" >0.0791</td>\n",
       "                        <td id=\"T_5866471c_82d7_11eb_ab08_acde48001122row14_col7\" class=\"data row14 col7\" >0.0791</td>\n",
       "                        <td id=\"T_5866471c_82d7_11eb_ab08_acde48001122row14_col8\" class=\"data row14 col8\" >0.2211</td>\n",
       "            </tr>\n",
       "    </tbody></table>"
      ],
      "text/plain": [
       "<pandas.io.formats.style.Styler at 0x7fd6527b7dd8>"
      ]
     },
     "metadata": {},
     "output_type": "display_data"
    },
    {
     "data": {
      "text/plain": [
       "AdaBoostClassifier(algorithm='SAMME.R', base_estimator=None, learning_rate=1.0,\n",
       "                   n_estimators=50, random_state=123)"
      ]
     },
     "execution_count": 55,
     "metadata": {},
     "output_type": "execute_result"
    }
   ],
   "source": [
    "compare_models()"
   ]
  },
  {
   "cell_type": "code",
   "execution_count": null,
   "metadata": {},
   "outputs": [],
   "source": [
    "# GBC = create_model('gbc')\n",
    "# tuned_GBC = tune_model(GBC, optimize = 'AUC')\n",
    "# print(tuned_GBC)\n",
    "# plot_model(tuned_GBC, plot = 'auc')\n",
    "# plot_model(tuned_GBC, plot = 'confusion_matrix')\n",
    "# # Final check using the unseen data / test\n",
    "# predict_model(tuned_GBC);\n",
    "\n",
    "# # Final Model / trained on the complete dataset\n",
    "# final_GBC = finalize_model(tuned_GBC)\n",
    "\n",
    "# evaluate_model(final_GBC)\n",
    "\n",
    "# plot_model(final_GBC, plot='feature')\n",
    "\n",
    "# # Interpret model | SHAP\n",
    "# interpret_model(final_GBC)"
   ]
  },
  {
   "cell_type": "code",
   "execution_count": null,
   "metadata": {},
   "outputs": [],
   "source": [
    "#### neural network"
   ]
  },
  {
   "cell_type": "code",
   "execution_count": null,
   "metadata": {},
   "outputs": [],
   "source": [
    "# from tensorflow.keras.models import Sequential\n",
    "# from tensorflow.keras.layers import Dense,Dropout\n",
    "# from tensorflow.keras.callbacks import EarlyStopping"
   ]
  },
  {
   "cell_type": "code",
   "execution_count": null,
   "metadata": {},
   "outputs": [],
   "source": [
    "# early_stop = EarlyStopping(monitor='val_loss',mode='min',verbose=1,patience=25)"
   ]
  },
  {
   "cell_type": "code",
   "execution_count": null,
   "metadata": {},
   "outputs": [],
   "source": [
    "# model = Sequential()\n",
    "\n",
    "# model.add(Dense(21,activation='relu'))\n",
    "# model.add(Dropout(0.5))\n",
    "# model.add(Dense(18,activation='relu'))\n",
    "# model.add(Dropout(0.5))\n",
    "# model.add(Dense(15,activation='relu'))\n",
    "# model.add(Dropout(0.5))\n",
    "\n",
    "# # Binary Classification\n",
    "# model.add(Dense(1,activation='sigmoid'))\n",
    "\n",
    "# model.compile(loss='binary_crossentropy',optimizer='adam')"
   ]
  },
  {
   "cell_type": "code",
   "execution_count": null,
   "metadata": {},
   "outputs": [],
   "source": [
    "# model.fit(x=X_train,y=y_train,epochs=500,validation_data=(X_test,y_test),\n",
    "#           callbacks=[early_stop])"
   ]
  },
  {
   "cell_type": "code",
   "execution_count": null,
   "metadata": {},
   "outputs": [],
   "source": [
    "# model_loss = pd.DataFrame(model.history.history)\n",
    "# model_loss.plot(figsize=(10,6));"
   ]
  },
  {
   "cell_type": "code",
   "execution_count": null,
   "metadata": {},
   "outputs": [],
   "source": [
    "# model.summary()"
   ]
  },
  {
   "cell_type": "code",
   "execution_count": null,
   "metadata": {},
   "outputs": [],
   "source": [
    "# # model.predict_classes(X_test)\n",
    "# predictions = model.predict_classes(X_test)"
   ]
  },
  {
   "cell_type": "code",
   "execution_count": null,
   "metadata": {},
   "outputs": [],
   "source": [
    "# print(classification_report(y_test,predictions))"
   ]
  },
  {
   "cell_type": "code",
   "execution_count": null,
   "metadata": {},
   "outputs": [],
   "source": []
  },
  {
   "cell_type": "code",
   "execution_count": null,
   "metadata": {},
   "outputs": [],
   "source": []
  },
  {
   "cell_type": "code",
   "execution_count": null,
   "metadata": {},
   "outputs": [],
   "source": []
  },
  {
   "cell_type": "code",
   "execution_count": null,
   "metadata": {},
   "outputs": [],
   "source": []
  },
  {
   "cell_type": "code",
   "execution_count": null,
   "metadata": {},
   "outputs": [],
   "source": []
  }
 ],
 "metadata": {
  "kernelspec": {
   "display_name": "Python [conda env:learn-env] *",
   "language": "python",
   "name": "conda-env-learn-env-py"
  },
  "language_info": {
   "codemirror_mode": {
    "name": "ipython",
    "version": 3
   },
   "file_extension": ".py",
   "mimetype": "text/x-python",
   "name": "python",
   "nbconvert_exporter": "python",
   "pygments_lexer": "ipython3",
   "version": "3.6.9"
  },
  "toc": {
   "base_numbering": 1,
   "nav_menu": {},
   "number_sections": true,
   "sideBar": true,
   "skip_h1_title": false,
   "title_cell": "Table of Contents",
   "title_sidebar": "Contents",
   "toc_cell": false,
   "toc_position": {
    "height": "calc(100% - 180px)",
    "left": "10px",
    "top": "150px",
    "width": "165px"
   },
   "toc_section_display": true,
   "toc_window_display": true
  }
 },
 "nbformat": 4,
 "nbformat_minor": 2
}
